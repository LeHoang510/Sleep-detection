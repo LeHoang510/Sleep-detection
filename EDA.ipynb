{
 "cells": [
  {
   "cell_type": "code",
   "execution_count": 1,
   "id": "a589dbea",
   "metadata": {
    "_cell_guid": "b1076dfc-b9ad-4769-8c92-a6c4dae69d19",
    "_uuid": "8f2839f25d086af736a60e9eeb907d3b93b6e0e5",
    "execution": {
     "iopub.execute_input": "2023-10-29T15:30:40.505487Z",
     "iopub.status.busy": "2023-10-29T15:30:40.505165Z",
     "iopub.status.idle": "2023-10-29T15:30:41.320174Z",
     "shell.execute_reply": "2023-10-29T15:30:41.319113Z"
    },
    "papermill": {
     "duration": 0.83134,
     "end_time": "2023-10-29T15:30:41.322942",
     "exception": false,
     "start_time": "2023-10-29T15:30:40.491602",
     "status": "completed"
    },
    "tags": []
   },
   "outputs": [],
   "source": [
    "import numpy as np\n",
    "import pandas as pd\n",
    "import matplotlib.pyplot as plt\n",
    "import datetime as dt"
   ]
  },
  {
   "cell_type": "markdown",
   "id": "9beb2f1c",
   "metadata": {
    "papermill": {
     "duration": 0.012694,
     "end_time": "2023-10-29T15:30:41.348913",
     "exception": false,
     "start_time": "2023-10-29T15:30:41.336219",
     "status": "completed"
    },
    "tags": []
   },
   "source": [
    "# **1. Train Events Analyse**"
   ]
  },
  {
   "cell_type": "code",
   "execution_count": 2,
   "id": "02e788ba",
   "metadata": {
    "execution": {
     "iopub.execute_input": "2023-10-29T15:30:41.376178Z",
     "iopub.status.busy": "2023-10-29T15:30:41.375659Z",
     "iopub.status.idle": "2023-10-29T15:30:41.417306Z",
     "shell.execute_reply": "2023-10-29T15:30:41.416527Z"
    },
    "papermill": {
     "duration": 0.057883,
     "end_time": "2023-10-29T15:30:41.419427",
     "exception": false,
     "start_time": "2023-10-29T15:30:41.361544",
     "status": "completed"
    },
    "tags": []
   },
   "outputs": [],
   "source": [
    "# Load csv\n",
    "train_events = pd.read_csv(\"/kaggle/input/child-mind-institute-detect-sleep-states/train_events.csv\")"
   ]
  },
  {
   "cell_type": "code",
   "execution_count": 3,
   "id": "807f4a96",
   "metadata": {
    "execution": {
     "iopub.execute_input": "2023-10-29T15:30:41.445158Z",
     "iopub.status.busy": "2023-10-29T15:30:41.444574Z",
     "iopub.status.idle": "2023-10-29T15:30:41.463866Z",
     "shell.execute_reply": "2023-10-29T15:30:41.462990Z"
    },
    "papermill": {
     "duration": 0.034288,
     "end_time": "2023-10-29T15:30:41.465977",
     "exception": false,
     "start_time": "2023-10-29T15:30:41.431689",
     "status": "completed"
    },
    "tags": []
   },
   "outputs": [
    {
     "data": {
      "text/html": [
       "<div>\n",
       "<style scoped>\n",
       "    .dataframe tbody tr th:only-of-type {\n",
       "        vertical-align: middle;\n",
       "    }\n",
       "\n",
       "    .dataframe tbody tr th {\n",
       "        vertical-align: top;\n",
       "    }\n",
       "\n",
       "    .dataframe thead th {\n",
       "        text-align: right;\n",
       "    }\n",
       "</style>\n",
       "<table border=\"1\" class=\"dataframe\">\n",
       "  <thead>\n",
       "    <tr style=\"text-align: right;\">\n",
       "      <th></th>\n",
       "      <th>series_id</th>\n",
       "      <th>night</th>\n",
       "      <th>event</th>\n",
       "      <th>step</th>\n",
       "      <th>timestamp</th>\n",
       "    </tr>\n",
       "  </thead>\n",
       "  <tbody>\n",
       "    <tr>\n",
       "      <th>0</th>\n",
       "      <td>038441c925bb</td>\n",
       "      <td>1</td>\n",
       "      <td>onset</td>\n",
       "      <td>4992.0</td>\n",
       "      <td>2018-08-14T22:26:00-0400</td>\n",
       "    </tr>\n",
       "    <tr>\n",
       "      <th>1</th>\n",
       "      <td>038441c925bb</td>\n",
       "      <td>1</td>\n",
       "      <td>wakeup</td>\n",
       "      <td>10932.0</td>\n",
       "      <td>2018-08-15T06:41:00-0400</td>\n",
       "    </tr>\n",
       "    <tr>\n",
       "      <th>2</th>\n",
       "      <td>038441c925bb</td>\n",
       "      <td>2</td>\n",
       "      <td>onset</td>\n",
       "      <td>20244.0</td>\n",
       "      <td>2018-08-15T19:37:00-0400</td>\n",
       "    </tr>\n",
       "    <tr>\n",
       "      <th>3</th>\n",
       "      <td>038441c925bb</td>\n",
       "      <td>2</td>\n",
       "      <td>wakeup</td>\n",
       "      <td>27492.0</td>\n",
       "      <td>2018-08-16T05:41:00-0400</td>\n",
       "    </tr>\n",
       "    <tr>\n",
       "      <th>4</th>\n",
       "      <td>038441c925bb</td>\n",
       "      <td>3</td>\n",
       "      <td>onset</td>\n",
       "      <td>39996.0</td>\n",
       "      <td>2018-08-16T23:03:00-0400</td>\n",
       "    </tr>\n",
       "  </tbody>\n",
       "</table>\n",
       "</div>"
      ],
      "text/plain": [
       "      series_id  night   event     step                 timestamp\n",
       "0  038441c925bb      1   onset   4992.0  2018-08-14T22:26:00-0400\n",
       "1  038441c925bb      1  wakeup  10932.0  2018-08-15T06:41:00-0400\n",
       "2  038441c925bb      2   onset  20244.0  2018-08-15T19:37:00-0400\n",
       "3  038441c925bb      2  wakeup  27492.0  2018-08-16T05:41:00-0400\n",
       "4  038441c925bb      3   onset  39996.0  2018-08-16T23:03:00-0400"
      ]
     },
     "execution_count": 3,
     "metadata": {},
     "output_type": "execute_result"
    }
   ],
   "source": [
    "train_events.head()"
   ]
  },
  {
   "cell_type": "markdown",
   "id": "d8615bbe",
   "metadata": {
    "papermill": {
     "duration": 0.01227,
     "end_time": "2023-10-29T15:30:41.490777",
     "exception": false,
     "start_time": "2023-10-29T15:30:41.478507",
     "status": "completed"
    },
    "tags": []
   },
   "source": [
    "* => Note that the timestamp is hard to read\n",
    "* => Convert to day, hour, minute"
   ]
  },
  {
   "cell_type": "markdown",
   "id": "e9f74d78",
   "metadata": {
    "papermill": {
     "duration": 0.012373,
     "end_time": "2023-10-29T15:30:41.515582",
     "exception": false,
     "start_time": "2023-10-29T15:30:41.503209",
     "status": "completed"
    },
    "tags": []
   },
   "source": [
    "\n"
   ]
  },
  {
   "cell_type": "code",
   "execution_count": 4,
   "id": "af750c9b",
   "metadata": {
    "execution": {
     "iopub.execute_input": "2023-10-29T15:30:41.541554Z",
     "iopub.status.busy": "2023-10-29T15:30:41.541099Z",
     "iopub.status.idle": "2023-10-29T15:30:41.629134Z",
     "shell.execute_reply": "2023-10-29T15:30:41.628398Z"
    },
    "papermill": {
     "duration": 0.103385,
     "end_time": "2023-10-29T15:30:41.631178",
     "exception": false,
     "start_time": "2023-10-29T15:30:41.527793",
     "status": "completed"
    },
    "tags": []
   },
   "outputs": [],
   "source": [
    "train_events[\"timestamp\"]=pd.to_datetime(train_events[\"timestamp\"], utc=True)"
   ]
  },
  {
   "cell_type": "code",
   "execution_count": 5,
   "id": "15bb1922",
   "metadata": {
    "execution": {
     "iopub.execute_input": "2023-10-29T15:30:41.656902Z",
     "iopub.status.busy": "2023-10-29T15:30:41.656653Z",
     "iopub.status.idle": "2023-10-29T15:30:41.669553Z",
     "shell.execute_reply": "2023-10-29T15:30:41.668858Z"
    },
    "papermill": {
     "duration": 0.027876,
     "end_time": "2023-10-29T15:30:41.671463",
     "exception": false,
     "start_time": "2023-10-29T15:30:41.643587",
     "status": "completed"
    },
    "tags": []
   },
   "outputs": [],
   "source": [
    "train_events[\"year\"]=train_events[\"timestamp\"].dt.year\n",
    "train_events[\"month\"]=train_events[\"timestamp\"].dt.month\n",
    "train_events[\"day\"]=train_events[\"timestamp\"].dt.day\n",
    "train_events[\"hour\"]=train_events[\"timestamp\"].dt.hour\n",
    "train_events[\"minute\"]=train_events[\"timestamp\"].dt.minute"
   ]
  },
  {
   "cell_type": "code",
   "execution_count": 6,
   "id": "3735c4a7",
   "metadata": {
    "execution": {
     "iopub.execute_input": "2023-10-29T15:30:41.696610Z",
     "iopub.status.busy": "2023-10-29T15:30:41.696322Z",
     "iopub.status.idle": "2023-10-29T15:30:41.712986Z",
     "shell.execute_reply": "2023-10-29T15:30:41.712186Z"
    },
    "papermill": {
     "duration": 0.03144,
     "end_time": "2023-10-29T15:30:41.714945",
     "exception": false,
     "start_time": "2023-10-29T15:30:41.683505",
     "status": "completed"
    },
    "tags": []
   },
   "outputs": [
    {
     "data": {
      "text/html": [
       "<div>\n",
       "<style scoped>\n",
       "    .dataframe tbody tr th:only-of-type {\n",
       "        vertical-align: middle;\n",
       "    }\n",
       "\n",
       "    .dataframe tbody tr th {\n",
       "        vertical-align: top;\n",
       "    }\n",
       "\n",
       "    .dataframe thead th {\n",
       "        text-align: right;\n",
       "    }\n",
       "</style>\n",
       "<table border=\"1\" class=\"dataframe\">\n",
       "  <thead>\n",
       "    <tr style=\"text-align: right;\">\n",
       "      <th></th>\n",
       "      <th>series_id</th>\n",
       "      <th>night</th>\n",
       "      <th>event</th>\n",
       "      <th>step</th>\n",
       "      <th>timestamp</th>\n",
       "      <th>year</th>\n",
       "      <th>month</th>\n",
       "      <th>day</th>\n",
       "      <th>hour</th>\n",
       "      <th>minute</th>\n",
       "    </tr>\n",
       "  </thead>\n",
       "  <tbody>\n",
       "    <tr>\n",
       "      <th>0</th>\n",
       "      <td>038441c925bb</td>\n",
       "      <td>1</td>\n",
       "      <td>onset</td>\n",
       "      <td>4992.0</td>\n",
       "      <td>2018-08-15 02:26:00+00:00</td>\n",
       "      <td>2018.0</td>\n",
       "      <td>8.0</td>\n",
       "      <td>15.0</td>\n",
       "      <td>2.0</td>\n",
       "      <td>26.0</td>\n",
       "    </tr>\n",
       "    <tr>\n",
       "      <th>1</th>\n",
       "      <td>038441c925bb</td>\n",
       "      <td>1</td>\n",
       "      <td>wakeup</td>\n",
       "      <td>10932.0</td>\n",
       "      <td>2018-08-15 10:41:00+00:00</td>\n",
       "      <td>2018.0</td>\n",
       "      <td>8.0</td>\n",
       "      <td>15.0</td>\n",
       "      <td>10.0</td>\n",
       "      <td>41.0</td>\n",
       "    </tr>\n",
       "    <tr>\n",
       "      <th>2</th>\n",
       "      <td>038441c925bb</td>\n",
       "      <td>2</td>\n",
       "      <td>onset</td>\n",
       "      <td>20244.0</td>\n",
       "      <td>2018-08-15 23:37:00+00:00</td>\n",
       "      <td>2018.0</td>\n",
       "      <td>8.0</td>\n",
       "      <td>15.0</td>\n",
       "      <td>23.0</td>\n",
       "      <td>37.0</td>\n",
       "    </tr>\n",
       "    <tr>\n",
       "      <th>3</th>\n",
       "      <td>038441c925bb</td>\n",
       "      <td>2</td>\n",
       "      <td>wakeup</td>\n",
       "      <td>27492.0</td>\n",
       "      <td>2018-08-16 09:41:00+00:00</td>\n",
       "      <td>2018.0</td>\n",
       "      <td>8.0</td>\n",
       "      <td>16.0</td>\n",
       "      <td>9.0</td>\n",
       "      <td>41.0</td>\n",
       "    </tr>\n",
       "    <tr>\n",
       "      <th>4</th>\n",
       "      <td>038441c925bb</td>\n",
       "      <td>3</td>\n",
       "      <td>onset</td>\n",
       "      <td>39996.0</td>\n",
       "      <td>2018-08-17 03:03:00+00:00</td>\n",
       "      <td>2018.0</td>\n",
       "      <td>8.0</td>\n",
       "      <td>17.0</td>\n",
       "      <td>3.0</td>\n",
       "      <td>3.0</td>\n",
       "    </tr>\n",
       "  </tbody>\n",
       "</table>\n",
       "</div>"
      ],
      "text/plain": [
       "      series_id  night   event     step                 timestamp    year  \\\n",
       "0  038441c925bb      1   onset   4992.0 2018-08-15 02:26:00+00:00  2018.0   \n",
       "1  038441c925bb      1  wakeup  10932.0 2018-08-15 10:41:00+00:00  2018.0   \n",
       "2  038441c925bb      2   onset  20244.0 2018-08-15 23:37:00+00:00  2018.0   \n",
       "3  038441c925bb      2  wakeup  27492.0 2018-08-16 09:41:00+00:00  2018.0   \n",
       "4  038441c925bb      3   onset  39996.0 2018-08-17 03:03:00+00:00  2018.0   \n",
       "\n",
       "   month   day  hour  minute  \n",
       "0    8.0  15.0   2.0    26.0  \n",
       "1    8.0  15.0  10.0    41.0  \n",
       "2    8.0  15.0  23.0    37.0  \n",
       "3    8.0  16.0   9.0    41.0  \n",
       "4    8.0  17.0   3.0     3.0  "
      ]
     },
     "execution_count": 6,
     "metadata": {},
     "output_type": "execute_result"
    }
   ],
   "source": [
    "train_events.head()"
   ]
  },
  {
   "cell_type": "code",
   "execution_count": 7,
   "id": "4d9561e8",
   "metadata": {
    "execution": {
     "iopub.execute_input": "2023-10-29T15:30:41.741053Z",
     "iopub.status.busy": "2023-10-29T15:30:41.740794Z",
     "iopub.status.idle": "2023-10-29T15:30:41.762157Z",
     "shell.execute_reply": "2023-10-29T15:30:41.761158Z"
    },
    "papermill": {
     "duration": 0.036554,
     "end_time": "2023-10-29T15:30:41.764083",
     "exception": false,
     "start_time": "2023-10-29T15:30:41.727529",
     "status": "completed"
    },
    "tags": []
   },
   "outputs": [
    {
     "name": "stdout",
     "output_type": "stream",
     "text": [
      "<class 'pandas.core.frame.DataFrame'>\n",
      "RangeIndex: 14508 entries, 0 to 14507\n",
      "Data columns (total 10 columns):\n",
      " #   Column     Non-Null Count  Dtype              \n",
      "---  ------     --------------  -----              \n",
      " 0   series_id  14508 non-null  object             \n",
      " 1   night      14508 non-null  int64              \n",
      " 2   event      14508 non-null  object             \n",
      " 3   step       9585 non-null   float64            \n",
      " 4   timestamp  9585 non-null   datetime64[ns, UTC]\n",
      " 5   year       9585 non-null   float64            \n",
      " 6   month      9585 non-null   float64            \n",
      " 7   day        9585 non-null   float64            \n",
      " 8   hour       9585 non-null   float64            \n",
      " 9   minute     9585 non-null   float64            \n",
      "dtypes: datetime64[ns, UTC](1), float64(6), int64(1), object(2)\n",
      "memory usage: 1.1+ MB\n"
     ]
    }
   ],
   "source": [
    "train_events.info()"
   ]
  },
  {
   "cell_type": "code",
   "execution_count": 8,
   "id": "74f48de5",
   "metadata": {
    "execution": {
     "iopub.execute_input": "2023-10-29T15:30:41.789807Z",
     "iopub.status.busy": "2023-10-29T15:30:41.789546Z",
     "iopub.status.idle": "2023-10-29T15:30:41.836708Z",
     "shell.execute_reply": "2023-10-29T15:30:41.835894Z"
    },
    "papermill": {
     "duration": 0.062125,
     "end_time": "2023-10-29T15:30:41.838640",
     "exception": false,
     "start_time": "2023-10-29T15:30:41.776515",
     "status": "completed"
    },
    "tags": []
   },
   "outputs": [
    {
     "data": {
      "text/html": [
       "<div>\n",
       "<style scoped>\n",
       "    .dataframe tbody tr th:only-of-type {\n",
       "        vertical-align: middle;\n",
       "    }\n",
       "\n",
       "    .dataframe tbody tr th {\n",
       "        vertical-align: top;\n",
       "    }\n",
       "\n",
       "    .dataframe thead th {\n",
       "        text-align: right;\n",
       "    }\n",
       "</style>\n",
       "<table border=\"1\" class=\"dataframe\">\n",
       "  <thead>\n",
       "    <tr style=\"text-align: right;\">\n",
       "      <th></th>\n",
       "      <th>series_id</th>\n",
       "      <th>night</th>\n",
       "      <th>event</th>\n",
       "      <th>step</th>\n",
       "      <th>timestamp</th>\n",
       "      <th>year</th>\n",
       "      <th>month</th>\n",
       "      <th>day</th>\n",
       "      <th>hour</th>\n",
       "      <th>minute</th>\n",
       "    </tr>\n",
       "  </thead>\n",
       "  <tbody>\n",
       "    <tr>\n",
       "      <th>count</th>\n",
       "      <td>14508</td>\n",
       "      <td>14508.000000</td>\n",
       "      <td>14508</td>\n",
       "      <td>9585.000000</td>\n",
       "      <td>9585</td>\n",
       "      <td>9585.000000</td>\n",
       "      <td>9585.000000</td>\n",
       "      <td>9585.000000</td>\n",
       "      <td>9585.000000</td>\n",
       "      <td>9585.000000</td>\n",
       "    </tr>\n",
       "    <tr>\n",
       "      <th>unique</th>\n",
       "      <td>277</td>\n",
       "      <td>NaN</td>\n",
       "      <td>2</td>\n",
       "      <td>NaN</td>\n",
       "      <td>NaN</td>\n",
       "      <td>NaN</td>\n",
       "      <td>NaN</td>\n",
       "      <td>NaN</td>\n",
       "      <td>NaN</td>\n",
       "      <td>NaN</td>\n",
       "    </tr>\n",
       "    <tr>\n",
       "      <th>top</th>\n",
       "      <td>78569a801a38</td>\n",
       "      <td>NaN</td>\n",
       "      <td>onset</td>\n",
       "      <td>NaN</td>\n",
       "      <td>NaN</td>\n",
       "      <td>NaN</td>\n",
       "      <td>NaN</td>\n",
       "      <td>NaN</td>\n",
       "      <td>NaN</td>\n",
       "      <td>NaN</td>\n",
       "    </tr>\n",
       "    <tr>\n",
       "      <th>freq</th>\n",
       "      <td>168</td>\n",
       "      <td>NaN</td>\n",
       "      <td>7254</td>\n",
       "      <td>NaN</td>\n",
       "      <td>NaN</td>\n",
       "      <td>NaN</td>\n",
       "      <td>NaN</td>\n",
       "      <td>NaN</td>\n",
       "      <td>NaN</td>\n",
       "      <td>NaN</td>\n",
       "    </tr>\n",
       "    <tr>\n",
       "      <th>mean</th>\n",
       "      <td>NaN</td>\n",
       "      <td>15.120072</td>\n",
       "      <td>NaN</td>\n",
       "      <td>214352.123944</td>\n",
       "      <td>2018-07-01 09:56:50.948356864+00:00</td>\n",
       "      <td>2017.998435</td>\n",
       "      <td>6.501304</td>\n",
       "      <td>16.006886</td>\n",
       "      <td>7.182473</td>\n",
       "      <td>28.736463</td>\n",
       "    </tr>\n",
       "    <tr>\n",
       "      <th>min</th>\n",
       "      <td>NaN</td>\n",
       "      <td>1.000000</td>\n",
       "      <td>NaN</td>\n",
       "      <td>936.000000</td>\n",
       "      <td>2017-08-06 02:44:00+00:00</td>\n",
       "      <td>2017.000000</td>\n",
       "      <td>1.000000</td>\n",
       "      <td>1.000000</td>\n",
       "      <td>0.000000</td>\n",
       "      <td>0.000000</td>\n",
       "    </tr>\n",
       "    <tr>\n",
       "      <th>25%</th>\n",
       "      <td>NaN</td>\n",
       "      <td>7.000000</td>\n",
       "      <td>NaN</td>\n",
       "      <td>95436.000000</td>\n",
       "      <td>2018-01-26 03:09:00+00:00</td>\n",
       "      <td>2018.000000</td>\n",
       "      <td>3.000000</td>\n",
       "      <td>8.000000</td>\n",
       "      <td>2.000000</td>\n",
       "      <td>14.000000</td>\n",
       "    </tr>\n",
       "    <tr>\n",
       "      <th>50%</th>\n",
       "      <td>NaN</td>\n",
       "      <td>14.000000</td>\n",
       "      <td>NaN</td>\n",
       "      <td>200604.000000</td>\n",
       "      <td>2018-06-17 03:05:00+00:00</td>\n",
       "      <td>2018.000000</td>\n",
       "      <td>6.000000</td>\n",
       "      <td>16.000000</td>\n",
       "      <td>9.000000</td>\n",
       "      <td>29.000000</td>\n",
       "    </tr>\n",
       "    <tr>\n",
       "      <th>75%</th>\n",
       "      <td>NaN</td>\n",
       "      <td>21.000000</td>\n",
       "      <td>NaN</td>\n",
       "      <td>317520.000000</td>\n",
       "      <td>2018-12-17 11:36:00+00:00</td>\n",
       "      <td>2018.000000</td>\n",
       "      <td>10.000000</td>\n",
       "      <td>24.000000</td>\n",
       "      <td>11.000000</td>\n",
       "      <td>44.000000</td>\n",
       "    </tr>\n",
       "    <tr>\n",
       "      <th>max</th>\n",
       "      <td>NaN</td>\n",
       "      <td>84.000000</td>\n",
       "      <td>NaN</td>\n",
       "      <td>739392.000000</td>\n",
       "      <td>2019-07-05 09:33:00+00:00</td>\n",
       "      <td>2019.000000</td>\n",
       "      <td>12.000000</td>\n",
       "      <td>31.000000</td>\n",
       "      <td>23.000000</td>\n",
       "      <td>59.000000</td>\n",
       "    </tr>\n",
       "    <tr>\n",
       "      <th>std</th>\n",
       "      <td>NaN</td>\n",
       "      <td>10.286758</td>\n",
       "      <td>NaN</td>\n",
       "      <td>141268.408192</td>\n",
       "      <td>NaN</td>\n",
       "      <td>0.660489</td>\n",
       "      <td>3.667644</td>\n",
       "      <td>8.829950</td>\n",
       "      <td>4.889363</td>\n",
       "      <td>17.405290</td>\n",
       "    </tr>\n",
       "  </tbody>\n",
       "</table>\n",
       "</div>"
      ],
      "text/plain": [
       "           series_id         night  event           step  \\\n",
       "count          14508  14508.000000  14508    9585.000000   \n",
       "unique           277           NaN      2            NaN   \n",
       "top     78569a801a38           NaN  onset            NaN   \n",
       "freq             168           NaN   7254            NaN   \n",
       "mean             NaN     15.120072    NaN  214352.123944   \n",
       "min              NaN      1.000000    NaN     936.000000   \n",
       "25%              NaN      7.000000    NaN   95436.000000   \n",
       "50%              NaN     14.000000    NaN  200604.000000   \n",
       "75%              NaN     21.000000    NaN  317520.000000   \n",
       "max              NaN     84.000000    NaN  739392.000000   \n",
       "std              NaN     10.286758    NaN  141268.408192   \n",
       "\n",
       "                                  timestamp         year        month  \\\n",
       "count                                  9585  9585.000000  9585.000000   \n",
       "unique                                  NaN          NaN          NaN   \n",
       "top                                     NaN          NaN          NaN   \n",
       "freq                                    NaN          NaN          NaN   \n",
       "mean    2018-07-01 09:56:50.948356864+00:00  2017.998435     6.501304   \n",
       "min               2017-08-06 02:44:00+00:00  2017.000000     1.000000   \n",
       "25%               2018-01-26 03:09:00+00:00  2018.000000     3.000000   \n",
       "50%               2018-06-17 03:05:00+00:00  2018.000000     6.000000   \n",
       "75%               2018-12-17 11:36:00+00:00  2018.000000    10.000000   \n",
       "max               2019-07-05 09:33:00+00:00  2019.000000    12.000000   \n",
       "std                                     NaN     0.660489     3.667644   \n",
       "\n",
       "                day         hour       minute  \n",
       "count   9585.000000  9585.000000  9585.000000  \n",
       "unique          NaN          NaN          NaN  \n",
       "top             NaN          NaN          NaN  \n",
       "freq            NaN          NaN          NaN  \n",
       "mean      16.006886     7.182473    28.736463  \n",
       "min        1.000000     0.000000     0.000000  \n",
       "25%        8.000000     2.000000    14.000000  \n",
       "50%       16.000000     9.000000    29.000000  \n",
       "75%       24.000000    11.000000    44.000000  \n",
       "max       31.000000    23.000000    59.000000  \n",
       "std        8.829950     4.889363    17.405290  "
      ]
     },
     "execution_count": 8,
     "metadata": {},
     "output_type": "execute_result"
    }
   ],
   "source": [
    "train_events.describe(include=\"all\")"
   ]
  },
  {
   "cell_type": "markdown",
   "id": "23936c4c",
   "metadata": {
    "papermill": {
     "duration": 0.01249,
     "end_time": "2023-10-29T15:30:41.864616",
     "exception": false,
     "start_time": "2023-10-29T15:30:41.852126",
     "status": "completed"
    },
    "tags": []
   },
   "source": [
    "## Analyse\n",
    "\n",
    "## series_id \n",
    "* 14508 records\n",
    "* 277 unique series_id\n",
    "* series_id is used the most = 78569a801a38 with 168 \n",
    "\n",
    "## night\n",
    "* 14508 records\n",
    "* mean is 15\n",
    "* range from 1 to 84\n",
    "* median is 14\n",
    "\n",
    "## step\n",
    "* don't have unique step => cannot use it to predict? how about a range?\n",
    "\n",
    "## time\n",
    "* from 2017 to 2019\n",
    "* how to fix utc?"
   ]
  },
  {
   "cell_type": "code",
   "execution_count": 9,
   "id": "7c369492",
   "metadata": {
    "execution": {
     "iopub.execute_input": "2023-10-29T15:30:41.933125Z",
     "iopub.status.busy": "2023-10-29T15:30:41.932295Z",
     "iopub.status.idle": "2023-10-29T15:30:43.283253Z",
     "shell.execute_reply": "2023-10-29T15:30:43.282410Z"
    },
    "papermill": {
     "duration": 1.367967,
     "end_time": "2023-10-29T15:30:43.285958",
     "exception": false,
     "start_time": "2023-10-29T15:30:41.917991",
     "status": "completed"
    },
    "tags": []
   },
   "outputs": [
    {
     "name": "stderr",
     "output_type": "stream",
     "text": [
      "/opt/conda/lib/python3.10/site-packages/scipy/__init__.py:146: UserWarning: A NumPy version >=1.16.5 and <1.23.0 is required for this version of SciPy (detected version 1.23.5\n",
      "  warnings.warn(f\"A NumPy version >={np_minversion} and <{np_maxversion}\"\n"
     ]
    }
   ],
   "source": [
    "import missingno as msno"
   ]
  },
  {
   "cell_type": "code",
   "execution_count": 10,
   "id": "11c0d27a",
   "metadata": {
    "execution": {
     "iopub.execute_input": "2023-10-29T15:30:43.321542Z",
     "iopub.status.busy": "2023-10-29T15:30:43.320759Z",
     "iopub.status.idle": "2023-10-29T15:30:44.894543Z",
     "shell.execute_reply": "2023-10-29T15:30:44.893582Z"
    },
    "papermill": {
     "duration": 1.59392,
     "end_time": "2023-10-29T15:30:44.897122",
     "exception": false,
     "start_time": "2023-10-29T15:30:43.303202",
     "status": "completed"
    },
    "tags": []
   },
   "outputs": [
    {
     "data": {
      "text/plain": [
       "<Axes: >"
      ]
     },
     "execution_count": 10,
     "metadata": {},
     "output_type": "execute_result"
    },
    {
     "data": {
      "image/png": "[encoded data removed]",
      "text/plain": [
       "<Figure size 2500x1000 with 3 Axes>"
      ]
     },
     "metadata": {},
     "output_type": "display_data"
    }
   ],
   "source": [
    "msno.bar(train_events, color=(0.3,0.5,0.3))"
   ]
  },
  {
   "cell_type": "markdown",
   "id": "e96143f8",
   "metadata": {
    "papermill": {
     "duration": 0.014188,
     "end_time": "2023-10-29T15:30:44.925900",
     "exception": false,
     "start_time": "2023-10-29T15:30:44.911712",
     "status": "completed"
    },
    "tags": []
   },
   "source": [
    "## Number of Missing data"
   ]
  },
  {
   "cell_type": "code",
   "execution_count": 11,
   "id": "5720a6f6",
   "metadata": {
    "execution": {
     "iopub.execute_input": "2023-10-29T15:30:44.955012Z",
     "iopub.status.busy": "2023-10-29T15:30:44.954694Z",
     "iopub.status.idle": "2023-10-29T15:30:44.960312Z",
     "shell.execute_reply": "2023-10-29T15:30:44.959296Z"
    },
    "papermill": {
     "duration": 0.022435,
     "end_time": "2023-10-29T15:30:44.962317",
     "exception": false,
     "start_time": "2023-10-29T15:30:44.939882",
     "status": "completed"
    },
    "tags": []
   },
   "outputs": [
    {
     "name": "stdout",
     "output_type": "stream",
     "text": [
      "4923\n"
     ]
    }
   ],
   "source": [
    "print(train_events[\"step\"].isna().sum())"
   ]
  },
  {
   "cell_type": "markdown",
   "id": "bc48e2bc",
   "metadata": {
    "papermill": {
     "duration": 0.013681,
     "end_time": "2023-10-29T15:30:44.990332",
     "exception": false,
     "start_time": "2023-10-29T15:30:44.976651",
     "status": "completed"
    },
    "tags": []
   },
   "source": [
    "## Missing data is ~ 33% \n",
    "* the missing data is scatter \n",
    "* each id has a series of data => each series may has missing record "
   ]
  },
  {
   "cell_type": "markdown",
   "id": "7ef04c03",
   "metadata": {
    "papermill": {
     "duration": 0.013754,
     "end_time": "2023-10-29T15:30:45.018162",
     "exception": false,
     "start_time": "2023-10-29T15:30:45.004408",
     "status": "completed"
    },
    "tags": []
   },
   "source": [
    "## Example how data is missing"
   ]
  },
  {
   "cell_type": "code",
   "execution_count": 12,
   "id": "5e66c066",
   "metadata": {
    "execution": {
     "iopub.execute_input": "2023-10-29T15:30:45.047000Z",
     "iopub.status.busy": "2023-10-29T15:30:45.046736Z",
     "iopub.status.idle": "2023-10-29T15:30:45.060280Z",
     "shell.execute_reply": "2023-10-29T15:30:45.059263Z"
    },
    "papermill": {
     "duration": 0.030203,
     "end_time": "2023-10-29T15:30:45.062276",
     "exception": false,
     "start_time": "2023-10-29T15:30:45.032073",
     "status": "completed"
    },
    "tags": []
   },
   "outputs": [
    {
     "name": "stdout",
     "output_type": "stream",
     "text": [
      "          series_id  night   event  step timestamp  year  month  day  hour  \\\n",
      "8      038441c925bb      5   onset   NaN       NaT   NaN    NaN  NaN   NaN   \n",
      "9      038441c925bb      5  wakeup   NaN       NaT   NaN    NaN  NaN   NaN   \n",
      "16     038441c925bb      9   onset   NaN       NaT   NaN    NaN  NaN   NaN   \n",
      "17     038441c925bb      9  wakeup   NaN       NaT   NaN    NaN  NaN   NaN   \n",
      "26     038441c925bb     14   onset   NaN       NaT   NaN    NaN  NaN   NaN   \n",
      "...             ...    ...     ...   ...       ...   ...    ...  ...   ...   \n",
      "14437  fcca183903b7     36  wakeup   NaN       NaT   NaN    NaN  NaN   NaN   \n",
      "14438  fe90110788d2      1   onset   NaN       NaT   NaN    NaN  NaN   NaN   \n",
      "14439  fe90110788d2      1  wakeup   NaN       NaT   NaN    NaN  NaN   NaN   \n",
      "14506  fe90110788d2     35   onset   NaN       NaT   NaN    NaN  NaN   NaN   \n",
      "14507  fe90110788d2     35  wakeup   NaN       NaT   NaN    NaN  NaN   NaN   \n",
      "\n",
      "       minute  \n",
      "8         NaN  \n",
      "9         NaN  \n",
      "16        NaN  \n",
      "17        NaN  \n",
      "26        NaN  \n",
      "...       ...  \n",
      "14437     NaN  \n",
      "14438     NaN  \n",
      "14439     NaN  \n",
      "14506     NaN  \n",
      "14507     NaN  \n",
      "\n",
      "[4923 rows x 10 columns]\n"
     ]
    }
   ],
   "source": [
    "print(train_events[train_events[\"step\"].isnull()])"
   ]
  },
  {
   "cell_type": "code",
   "execution_count": 13,
   "id": "1b1e40bc",
   "metadata": {
    "execution": {
     "iopub.execute_input": "2023-10-29T15:30:45.092024Z",
     "iopub.status.busy": "2023-10-29T15:30:45.091741Z",
     "iopub.status.idle": "2023-10-29T15:30:45.975847Z",
     "shell.execute_reply": "2023-10-29T15:30:45.974875Z"
    },
    "papermill": {
     "duration": 0.902185,
     "end_time": "2023-10-29T15:30:45.978515",
     "exception": false,
     "start_time": "2023-10-29T15:30:45.076330",
     "status": "completed"
    },
    "tags": []
   },
   "outputs": [
    {
     "data": {
      "text/plain": [
       "<Axes: >"
      ]
     },
     "execution_count": 13,
     "metadata": {},
     "output_type": "execute_result"
    },
    {
     "data": {
      "image/png": "[encoded data removed]",
      "text/plain": [
       "<Figure size 2500x1000 with 2 Axes>"
      ]
     },
     "metadata": {},
     "output_type": "display_data"
    }
   ],
   "source": [
    "msno.matrix(train_events, color=(0.3,0.5,0.3))"
   ]
  },
  {
   "cell_type": "code",
   "execution_count": 14,
   "id": "435c91ac",
   "metadata": {
    "execution": {
     "iopub.execute_input": "2023-10-29T15:30:46.011413Z",
     "iopub.status.busy": "2023-10-29T15:30:46.010797Z",
     "iopub.status.idle": "2023-10-29T15:30:46.020336Z",
     "shell.execute_reply": "2023-10-29T15:30:46.019491Z"
    },
    "papermill": {
     "duration": 0.027949,
     "end_time": "2023-10-29T15:30:46.022217",
     "exception": false,
     "start_time": "2023-10-29T15:30:45.994268",
     "status": "completed"
    },
    "tags": []
   },
   "outputs": [
    {
     "data": {
      "text/plain": [
       "series_id\n",
       "038441c925bb     46\n",
       "03d92c9f6f8a     74\n",
       "0402a003dae9     48\n",
       "04f547b8017d     74\n",
       "05e1944c3818     16\n",
       "               ... \n",
       "fa149c3c4bde     48\n",
       "fb223ed2278c    106\n",
       "fbf33b1a2c10     48\n",
       "fcca183903b7     72\n",
       "fe90110788d2     70\n",
       "Length: 277, dtype: int64"
      ]
     },
     "execution_count": 14,
     "metadata": {},
     "output_type": "execute_result"
    }
   ],
   "source": [
    "train_events.groupby('series_id').size()"
   ]
  },
  {
   "cell_type": "code",
   "execution_count": 15,
   "id": "7bff7f91",
   "metadata": {
    "execution": {
     "iopub.execute_input": "2023-10-29T15:30:46.054560Z",
     "iopub.status.busy": "2023-10-29T15:30:46.054200Z",
     "iopub.status.idle": "2023-10-29T15:30:46.104178Z",
     "shell.execute_reply": "2023-10-29T15:30:46.103200Z"
    },
    "papermill": {
     "duration": 0.068368,
     "end_time": "2023-10-29T15:30:46.106445",
     "exception": false,
     "start_time": "2023-10-29T15:30:46.038077",
     "status": "completed"
    },
    "tags": []
   },
   "outputs": [
    {
     "data": {
      "text/plain": [
       "series_id\n",
       "038441c925bb    True\n",
       "03d92c9f6f8a    True\n",
       "0402a003dae9    True\n",
       "04f547b8017d    True\n",
       "05e1944c3818    True\n",
       "                ... \n",
       "fa149c3c4bde    True\n",
       "fb223ed2278c    True\n",
       "fbf33b1a2c10    True\n",
       "fcca183903b7    True\n",
       "fe90110788d2    True\n",
       "Name: step, Length: 277, dtype: bool"
      ]
     },
     "execution_count": 15,
     "metadata": {},
     "output_type": "execute_result"
    }
   ],
   "source": [
    "nb_missing = train_events.groupby('series_id')['step'].apply(lambda x: x.isnull().any())\n",
    "nb_missing"
   ]
  },
  {
   "cell_type": "code",
   "execution_count": 16,
   "id": "b1fcc2f2",
   "metadata": {
    "execution": {
     "iopub.execute_input": "2023-10-29T15:30:46.140868Z",
     "iopub.status.busy": "2023-10-29T15:30:46.140589Z",
     "iopub.status.idle": "2023-10-29T15:30:46.149035Z",
     "shell.execute_reply": "2023-10-29T15:30:46.148182Z"
    },
    "papermill": {
     "duration": 0.028559,
     "end_time": "2023-10-29T15:30:46.150970",
     "exception": false,
     "start_time": "2023-10-29T15:30:46.122411",
     "status": "completed"
    },
    "tags": []
   },
   "outputs": [
    {
     "data": {
      "text/plain": [
       "step\n",
       "True     240\n",
       "False     37\n",
       "Name: count, dtype: int64"
      ]
     },
     "execution_count": 16,
     "metadata": {},
     "output_type": "execute_result"
    }
   ],
   "source": [
    "nb_missing.value_counts()"
   ]
  },
  {
   "cell_type": "code",
   "execution_count": 17,
   "id": "e30658d9",
   "metadata": {
    "execution": {
     "iopub.execute_input": "2023-10-29T15:30:46.186973Z",
     "iopub.status.busy": "2023-10-29T15:30:46.186703Z",
     "iopub.status.idle": "2023-10-29T15:30:46.194256Z",
     "shell.execute_reply": "2023-10-29T15:30:46.193349Z"
    },
    "papermill": {
     "duration": 0.028151,
     "end_time": "2023-10-29T15:30:46.196498",
     "exception": false,
     "start_time": "2023-10-29T15:30:46.168347",
     "status": "completed"
    },
    "tags": []
   },
   "outputs": [
    {
     "data": {
      "text/plain": [
       "['08db4255286f',\n",
       " '0a96f4993bd7',\n",
       " '0cfc06c129cc',\n",
       " '1087d7b0ff2e',\n",
       " '10f8bc1f7b07',\n",
       " '18b61dd5aae8',\n",
       " '29c75c018220',\n",
       " '31011ade7c0a',\n",
       " '3452b878e596',\n",
       " '349c5562ee2c',\n",
       " '3664fe9233f9',\n",
       " '483d6545417f',\n",
       " '55a47ff9dc8a',\n",
       " '5acc9d63b5fd',\n",
       " '5f94bb3e1bed',\n",
       " '655f19eabf1e',\n",
       " '67f5fc60e494',\n",
       " '72bbd1ac3edf',\n",
       " '76237b9406d5',\n",
       " '7822ee8fe3ec',\n",
       " '89bd631d1769',\n",
       " '8e32047cbc1f',\n",
       " '939932f1822d',\n",
       " '9ee455e4770d',\n",
       " 'a596ad0b82aa',\n",
       " 'a9a2f7fac455',\n",
       " 'a9e5f5314bcb',\n",
       " 'af91d9a50547',\n",
       " 'b364205aba43',\n",
       " 'c535634d7dcd',\n",
       " 'c6788e579967',\n",
       " 'c68260cc9e8f',\n",
       " 'ca730dbf521d',\n",
       " 'd150801f3145',\n",
       " 'd25e479ecbb7',\n",
       " 'd515236bdeec',\n",
       " 'd5e47b94477e']"
      ]
     },
     "execution_count": 17,
     "metadata": {},
     "output_type": "execute_result"
    }
   ],
   "source": [
    "no_missing = nb_missing[~nb_missing].index.to_list()\n",
    "no_missing"
   ]
  },
  {
   "cell_type": "markdown",
   "id": "c21a1653",
   "metadata": {
    "papermill": {
     "duration": 0.016907,
     "end_time": "2023-10-29T15:30:46.230498",
     "exception": false,
     "start_time": "2023-10-29T15:30:46.213591",
     "status": "completed"
    },
    "tags": []
   },
   "source": [
    "## Density of night"
   ]
  },
  {
   "cell_type": "code",
   "execution_count": 18,
   "id": "08348344",
   "metadata": {
    "execution": {
     "iopub.execute_input": "2023-10-29T15:30:46.265287Z",
     "iopub.status.busy": "2023-10-29T15:30:46.264986Z",
     "iopub.status.idle": "2023-10-29T15:30:46.275617Z",
     "shell.execute_reply": "2023-10-29T15:30:46.274651Z"
    },
    "papermill": {
     "duration": 0.030139,
     "end_time": "2023-10-29T15:30:46.277728",
     "exception": false,
     "start_time": "2023-10-29T15:30:46.247589",
     "status": "completed"
    },
    "tags": []
   },
   "outputs": [
    {
     "data": {
      "text/plain": [
       "series_id\n",
       "038441c925bb    23\n",
       "03d92c9f6f8a    37\n",
       "0402a003dae9    24\n",
       "04f547b8017d    37\n",
       "05e1944c3818     8\n",
       "                ..\n",
       "fa149c3c4bde    24\n",
       "fb223ed2278c    53\n",
       "fbf33b1a2c10    24\n",
       "fcca183903b7    36\n",
       "fe90110788d2    35\n",
       "Name: night, Length: 277, dtype: int64"
      ]
     },
     "execution_count": 18,
     "metadata": {},
     "output_type": "execute_result"
    }
   ],
   "source": [
    "nb_nights = train_events.groupby('series_id')['night'].max()\n",
    "nb_nights"
   ]
  },
  {
   "cell_type": "code",
   "execution_count": 19,
   "id": "c3de3a01",
   "metadata": {
    "execution": {
     "iopub.execute_input": "2023-10-29T15:30:46.312644Z",
     "iopub.status.busy": "2023-10-29T15:30:46.312356Z",
     "iopub.status.idle": "2023-10-29T15:30:46.597147Z",
     "shell.execute_reply": "2023-10-29T15:30:46.596278Z"
    },
    "papermill": {
     "duration": 0.304851,
     "end_time": "2023-10-29T15:30:46.599356",
     "exception": false,
     "start_time": "2023-10-29T15:30:46.294505",
     "status": "completed"
    },
    "tags": []
   },
   "outputs": [
    {
     "data": {
      "image/png": "[encoded data removed]",
      "text/plain": [
       "<Figure size 640x480 with 1 Axes>"
      ]
     },
     "metadata": {},
     "output_type": "display_data"
    }
   ],
   "source": [
    "plt.hist(x=nb_nights, bins = [t for t in range(84)])\n",
    "plt.show()"
   ]
  },
  {
   "cell_type": "code",
   "execution_count": 20,
   "id": "482263a3",
   "metadata": {
    "execution": {
     "iopub.execute_input": "2023-10-29T15:30:46.634176Z",
     "iopub.status.busy": "2023-10-29T15:30:46.633900Z",
     "iopub.status.idle": "2023-10-29T15:30:46.746730Z",
     "shell.execute_reply": "2023-10-29T15:30:46.745808Z"
    },
    "papermill": {
     "duration": 0.132783,
     "end_time": "2023-10-29T15:30:46.749080",
     "exception": false,
     "start_time": "2023-10-29T15:30:46.616297",
     "status": "completed"
    },
    "tags": []
   },
   "outputs": [],
   "source": [
    "from plotly.subplots import make_subplots\n",
    "import plotly.graph_objects as go"
   ]
  },
  {
   "cell_type": "markdown",
   "id": "993440ac",
   "metadata": {
    "papermill": {
     "duration": 0.017695,
     "end_time": "2023-10-29T15:30:46.784997",
     "exception": false,
     "start_time": "2023-10-29T15:30:46.767302",
     "status": "completed"
    },
    "tags": []
   },
   "source": [
    "## Density of data by hour"
   ]
  },
  {
   "cell_type": "code",
   "execution_count": 21,
   "id": "790ca7fd",
   "metadata": {
    "execution": {
     "iopub.execute_input": "2023-10-29T15:30:46.824300Z",
     "iopub.status.busy": "2023-10-29T15:30:46.823921Z",
     "iopub.status.idle": "2023-10-29T15:30:47.376344Z",
     "shell.execute_reply": "2023-10-29T15:30:47.375276Z"
    },
    "papermill": {
     "duration": 0.575166,
     "end_time": "2023-10-29T15:30:47.378700",
     "exception": false,
     "start_time": "2023-10-29T15:30:46.803534",
     "status": "completed"
    },
    "tags": []
   },
   "outputs": [
    {
     "data": {
      "text/html": [
       "        <script type=\"text/javascript\">\n",
       "        window.PlotlyConfig = {MathJaxConfig: 'local'};\n",
       "        if (window.MathJax && window.MathJax.Hub && window.MathJax.Hub.Config) {window.MathJax.Hub.Config({SVG: {font: \"STIX-Web\"}});}\n",
       "        if (typeof require !== 'undefined') {\n",
       "        require.undef(\"plotly\");\n",
       "        requirejs.config({\n",
       "            paths: {\n",
       "                'plotly': ['https://cdn.plot.ly/plotly-2.24.1.min']\n",
       "            }\n",
       "        });\n",
       "        require(['plotly'], function(Plotly) {\n",
       "            window._Plotly = Plotly;\n",
       "        });\n",
       "        }\n",
       "        </script>\n",
       "        "
      ]
     },
     "metadata": {},
     "output_type": "display_data"
    },
    {
     "data": {
      "text/html": [
       "<div>                            <div id=\"d120642b-0345-4fac-9dfc-5ced3f7a8569\" class=\"plotly-graph-div\" style=\"height:525px; width:100%;\"></div>            <script type=\"text/javascript\">                require([\"plotly\"], function(Plotly) {                    window.PLOTLYENV=window.PLOTLYENV || {};                                    if (document.getElementById(\"d120642b-0345-4fac-9dfc-5ced3f7a8569\")) {                    Plotly.newPlot(                        \"d120642b-0345-4fac-9dfc-5ced3f7a8569\",                        [{\"nbinsx\":24,\"x\":[2.0,23.0,3.0,3.0,2.0,3.0,4.0,1.0,1.0,1.0,2.0,1.0,2.0,2.0,0.0,2.0,2.0,1.0,1.0,0.0,0.0,0.0,1.0,23.0,0.0,0.0,0.0,5.0,3.0,4.0,6.0,3.0,0.0,3.0,3.0,2.0,4.0,6.0,3.0,5.0,4.0,11.0,7.0,8.0,10.0,1.0,0.0,1.0,2.0,2.0,2.0,3.0,2.0,2.0,1.0,2.0,2.0,3.0,2.0,2.0,2.0,2.0,3.0,2.0,2.0,1.0,3.0,4.0,3.0,6.0,5.0,3.0,3.0,5.0,5.0,3.0,3.0,4.0,3.0,3.0,3.0,3.0,4.0,0.0,4.0,2.0,3.0,4.0,3.0,3.0,6.0,5.0,3.0,1.0,3.0,7.0,4.0,3.0,2.0,4.0,3.0,8.0,6.0,9.0,6.0,4.0,4.0,4.0,7.0,7.0,6.0,4.0,5.0,11.0,10.0,1.0,3.0,5.0,2.0,1.0,2.0,2.0,2.0,4.0,6.0,4.0,2.0,2.0,1.0,1.0,3.0,4.0,0.0,2.0,3.0,2.0,3.0,3.0,2.0,3.0,3.0,1.0,2.0,1.0,2.0,2.0,2.0,3.0,1.0,2.0,2.0,2.0,3.0,3.0,3.0,2.0,2.0,1.0,1.0,0.0,1.0,2.0,2.0,1.0,0.0,1.0,3.0,1.0,2.0,2.0,2.0,3.0,3.0,4.0,1.0,2.0,2.0,2.0,3.0,3.0,2.0,2.0,2.0,3.0,3.0,3.0,2.0,3.0,2.0,3.0,2.0,2.0,4.0,3.0,3.0,3.0,4.0,5.0,3.0,2.0,3.0,6.0,3.0,3.0,4.0,4.0,3.0,1.0,3.0,3.0,6.0,6.0,10.0,6.0,4.0,4.0,3.0,4.0,2.0,2.0,6.0,3.0,5.0,3.0,4.0,3.0,3.0,9.0,8.0,2.0,6.0,3.0,1.0,1.0,0.0,0.0,1.0,0.0,2.0,1.0,0.0,0.0,23.0,1.0,1.0,1.0,2.0,0.0,0.0,1.0,1.0,1.0,1.0,0.0,1.0,23.0,2.0,2.0,2.0,3.0,2.0,0.0,1.0,2.0,1.0,1.0,4.0,3.0,2.0,1.0,1.0,2.0,7.0,4.0,2.0,1.0,1.0,6.0,3.0,5.0,1.0,0.0,1.0,1.0,0.0,1.0,2.0,1.0,1.0,3.0,1.0,2.0,2.0,1.0,8.0,1.0,0.0,1.0,23.0,2.0,4.0,2.0,22.0,4.0,22.0,4.0,6.0,6.0,4.0,5.0,2.0,5.0,6.0,7.0,4.0,5.0,2.0,6.0,4.0,3.0,5.0,6.0,5.0,3.0,2.0,3.0,3.0,2.0,3.0,1.0,2.0,1.0,4.0,2.0,0.0,2.0,2.0,1.0,1.0,1.0,1.0,0.0,2.0,2.0,0.0,0.0,1.0,1.0,2.0,2.0,1.0,1.0,2.0,3.0,1.0,1.0,3.0,0.0,1.0,2.0,1.0,1.0,1.0,1.0,1.0,2.0,3.0,2.0,1.0,1.0,3.0,2.0,4.0,2.0,1.0,3.0,1.0,0.0,1.0,1.0,1.0,3.0,0.0,1.0,1.0,5.0,0.0,1.0,1.0,1.0,1.0,3.0,0.0,0.0,1.0,0.0,1.0,0.0,0.0,0.0,0.0,1.0,0.0,1.0,0.0,1.0,0.0,1.0,0.0,3.0,5.0,3.0,4.0,5.0,5.0,3.0,4.0,7.0,6.0,2.0,4.0,8.0,23.0,6.0,5.0,7.0,9.0,2.0,5.0,7.0,21.0,4.0,5.0,4.0,5.0,5.0,7.0,22.0,5.0,6.0,5.0,6.0,9.0,23.0,10.0,7.0,9.0,7.0,9.0,7.0,3.0,5.0,4.0,4.0,5.0,3.0,4.0,6.0,5.0,4.0,2.0,5.0,4.0,4.0,7.0,5.0,3.0,2.0,4.0,3.0,4.0,5.0,4.0,4.0,5.0,3.0,4.0,5.0,6.0,4.0,3.0,3.0,3.0,3.0,4.0,4.0,4.0,5.0,4.0,5.0,6.0,5.0,4.0,5.0,2.0,3.0,1.0,1.0,1.0,1.0,1.0,2.0,2.0,1.0,1.0,0.0,2.0,2.0,3.0,0.0,1.0,0.0,1.0,1.0,0.0,2.0,2.0,22.0,1.0,3.0,1.0,3.0,3.0,0.0,2.0,3.0,1.0,3.0,3.0,2.0,2.0,1.0,1.0,4.0,3.0,1.0,1.0,3.0,1.0,2.0,1.0,3.0,3.0,3.0,1.0,1.0,3.0,3.0,2.0,3.0,1.0,2.0,2.0,1.0,2.0,1.0,2.0,2.0,3.0,0.0,1.0,1.0,2.0,3.0,1.0,1.0,0.0,5.0,2.0,0.0,2.0,2.0,1.0,1.0,2.0,2.0,1.0,0.0,1.0,0.0,0.0,1.0,0.0,23.0,0.0,23.0,0.0,3.0,3.0,3.0,1.0,4.0,4.0,5.0,3.0,5.0,5.0,5.0,3.0,3.0,3.0,4.0,3.0,3.0,6.0,3.0,3.0,4.0,2.0,3.0,1.0,1.0,2.0,2.0,4.0,4.0,5.0,3.0,1.0,1.0,1.0,2.0,1.0,1.0,1.0,2.0,1.0,1.0,1.0,1.0,1.0,1.0,1.0,1.0,1.0,2.0,1.0,2.0,2.0,2.0,2.0,2.0,2.0,2.0,3.0,2.0,23.0,22.0,2.0,4.0,3.0,4.0,3.0,2.0,1.0,2.0,4.0,21.0,1.0,3.0,5.0,3.0,2.0,7.0,4.0,4.0,1.0,7.0,5.0,9.0,5.0,6.0,4.0,4.0,7.0,7.0,4.0,4.0,6.0,5.0,3.0,6.0,6.0,2.0,3.0,4.0,3.0,2.0,3.0,22.0,2.0,2.0,4.0,0.0,0.0,0.0,23.0,0.0,0.0,0.0,0.0,0.0,0.0,0.0,3.0,1.0,1.0,1.0,2.0,4.0,4.0,2.0,1.0,1.0,1.0,2.0,3.0,2.0,2.0,2.0,1.0,2.0,5.0,4.0,3.0,3.0,4.0,3.0,4.0,2.0,4.0,3.0,2.0,3.0,2.0,3.0,3.0,2.0,2.0,3.0,4.0,4.0,4.0,4.0,3.0,6.0,3.0,3.0,2.0,4.0,5.0,3.0,2.0,2.0,2.0,3.0,0.0,1.0,1.0,3.0,5.0,7.0,7.0,2.0,3.0,5.0,5.0,5.0,3.0,5.0,5.0,5.0,5.0,6.0,10.0,4.0,5.0,5.0,3.0,2.0,4.0,4.0,3.0,4.0,4.0,0.0,0.0,3.0,4.0,1.0,2.0,4.0,2.0,1.0,1.0,1.0,3.0,4.0,0.0,0.0,4.0,0.0,1.0,0.0,7.0,0.0,4.0,1.0,1.0,0.0,5.0,0.0,1.0,0.0,2.0,4.0,2.0,2.0,1.0,2.0,1.0,1.0,3.0,1.0,1.0,1.0,3.0,6.0,2.0,3.0,3.0,3.0,4.0,4.0,1.0,4.0,3.0,4.0,2.0,5.0,4.0,3.0,2.0,5.0,2.0,5.0,5.0,4.0,2.0,3.0,3.0,6.0,3.0,3.0,3.0,1.0,2.0,1.0,2.0,2.0,2.0,2.0,3.0,3.0,2.0,2.0,2.0,2.0,2.0,2.0,3.0,1.0,2.0,1.0,7.0,2.0,2.0,2.0,2.0,1.0,2.0,4.0,3.0,4.0,2.0,3.0,1.0,1.0,1.0,2.0,2.0,2.0,3.0,4.0,8.0,5.0,3.0,3.0,3.0,4.0,3.0,5.0,3.0,4.0,4.0,4.0,5.0,9.0,4.0,4.0,4.0,5.0,14.0,2.0,4.0,4.0,5.0,6.0,6.0,6.0,5.0,4.0,7.0,7.0,10.0,9.0,15.0,8.0,9.0,10.0,10.0,6.0,9.0,2.0,6.0,4.0,2.0,5.0,1.0,4.0,4.0,3.0,3.0,2.0,5.0,1.0,2.0,2.0,3.0,4.0,2.0,2.0,2.0,2.0,1.0,4.0,0.0,1.0,1.0,0.0,1.0,3.0,1.0,1.0,1.0,1.0,3.0,2.0,2.0,2.0,2.0,2.0,1.0,3.0,2.0,1.0,2.0,2.0,1.0,1.0,1.0,1.0,2.0,2.0,1.0,0.0,2.0,1.0,2.0,0.0,1.0,1.0,2.0,2.0,1.0,1.0,22.0,0.0,0.0,0.0,1.0,1.0,0.0,0.0,0.0,0.0,0.0,23.0,1.0,1.0,0.0,0.0,0.0,0.0,0.0,0.0,0.0,0.0,0.0,0.0,1.0,0.0,0.0,0.0,0.0,0.0,1.0,1.0,0.0,0.0,1.0,1.0,1.0,2.0,1.0,1.0,1.0,2.0,3.0,1.0,1.0,1.0,1.0,2.0,2.0,1.0,0.0,1.0,4.0,6.0,3.0,2.0,3.0,4.0,2.0,1.0,1.0,3.0,3.0,3.0,0.0,2.0,3.0,3.0,4.0,2.0,4.0,3.0,3.0,6.0,3.0,2.0,2.0,8.0,6.0,3.0,3.0,2.0,3.0,3.0,3.0,2.0,1.0,3.0,7.0,3.0,2.0,2.0,2.0,2.0,3.0,5.0,2.0,3.0,3.0,3.0,4.0,2.0,2.0,3.0,2.0,2.0,3.0,2.0,2.0,2.0,2.0,2.0,6.0,2.0,2.0,2.0,3.0,2.0,3.0,7.0,4.0,3.0,3.0,2.0,1.0,2.0,2.0,5.0,4.0,8.0,1.0,2.0,2.0,3.0,10.0,5.0,7.0,6.0,6.0,4.0,3.0,6.0,5.0,4.0,2.0,3.0,4.0,4.0,7.0,3.0,3.0,3.0,4.0,5.0,6.0,4.0,4.0,2.0,4.0,3.0,2.0,2.0,2.0,3.0,1.0,3.0,3.0,2.0,3.0,2.0,3.0,4.0,2.0,2.0,3.0,3.0,4.0,3.0,2.0,3.0,3.0,2.0,1.0,2.0,1.0,2.0,3.0,3.0,2.0,3.0,2.0,2.0,2.0,3.0,1.0,4.0,1.0,3.0,2.0,19.0,3.0,3.0,4.0,1.0,3.0,3.0,2.0,3.0,1.0,2.0,5.0,2.0,1.0,4.0,2.0,5.0,4.0,3.0,3.0,6.0,5.0,4.0,3.0,3.0,11.0,2.0,3.0,5.0,5.0,6.0,3.0,5.0,4.0,7.0,2.0,3.0,2.0,3.0,3.0,2.0,2.0,2.0,2.0,2.0,3.0,1.0,4.0,0.0,0.0,0.0,2.0,2.0,2.0,1.0,0.0,5.0,4.0,4.0,5.0,2.0,3.0,4.0,4.0,3.0,3.0,3.0,6.0,2.0,2.0,3.0,3.0,4.0,2.0,6.0,9.0,4.0,4.0,3.0,2.0,2.0,4.0,1.0,3.0,3.0,22.0,2.0,1.0,2.0,3.0,3.0,3.0,2.0,2.0,3.0,4.0,5.0,3.0,3.0,3.0,3.0,3.0,3.0,3.0,2.0,3.0,3.0,5.0,4.0,3.0,4.0,8.0,13.0,7.0,6.0,5.0,4.0,6.0,7.0,5.0,5.0,6.0,4.0,3.0,6.0,8.0,5.0,4.0,5.0,9.0,2.0,7.0,5.0,8.0,11.0,11.0,7.0,7.0,8.0,0.0,5.0,0.0,4.0,5.0,8.0,5.0,8.0,5.0,5.0,4.0,6.0,8.0,8.0,10.0,5.0,4.0,4.0,6.0,3.0,5.0,5.0,7.0,6.0,8.0,7.0,6.0,6.0,6.0,3.0,8.0,5.0,7.0,8.0,9.0,3.0,4.0,2.0,3.0,1.0,2.0,2.0,2.0,2.0,3.0,2.0,2.0,3.0,3.0,3.0,3.0,2.0,2.0,2.0,0.0,0.0,1.0,1.0,0.0,23.0,1.0,0.0,2.0,1.0,1.0,1.0,2.0,5.0,1.0,2.0,2.0,0.0,1.0,1.0,1.0,0.0,1.0,3.0,2.0,2.0,1.0,5.0,5.0,4.0,4.0,7.0,3.0,5.0,2.0,4.0,2.0,6.0,6.0,7.0,4.0,5.0,9.0,8.0,11.0,6.0,5.0,7.0,5.0,3.0,4.0,23.0,5.0,2.0,4.0,23.0,3.0,1.0,3.0,2.0,23.0,6.0,0.0,23.0,4.0,3.0,23.0,22.0,1.0,4.0,3.0,1.0,1.0,0.0,1.0,1.0,4.0,1.0,0.0,0.0,2.0,0.0,23.0,4.0,3.0,0.0,1.0,0.0,0.0,1.0,1.0,0.0,3.0,1.0,4.0,4.0,1.0,1.0,4.0,4.0,1.0,4.0,1.0,3.0,3.0,3.0,3.0,4.0,5.0,4.0,2.0,5.0,5.0,10.0,3.0,8.0,3.0,3.0,3.0,4.0,5.0,3.0,4.0,1.0,2.0,2.0,5.0,3.0,3.0,3.0,1.0,5.0,3.0,4.0,3.0,3.0,3.0,3.0,3.0,3.0,5.0,7.0,5.0,3.0,3.0,6.0,6.0,4.0,7.0,5.0,4.0,7.0,6.0,5.0,5.0,4.0,1.0,0.0,2.0,1.0,0.0,0.0,0.0,1.0,0.0,2.0,1.0,2.0,8.0,2.0,3.0,1.0,2.0,1.0,1.0,1.0,3.0,2.0,2.0,0.0,1.0,4.0,2.0,1.0,1.0,2.0,2.0,1.0,2.0,5.0,4.0,3.0,2.0,1.0,0.0,4.0,1.0,2.0,2.0,1.0,1.0,1.0,2.0,2.0,2.0,2.0,2.0,2.0,3.0,6.0,1.0,1.0,2.0,1.0,2.0,2.0,2.0,1.0,4.0,4.0,3.0,2.0,2.0,3.0,4.0,3.0,23.0,2.0,2.0,4.0,2.0,4.0,3.0,2.0,3.0,1.0,4.0,3.0,2.0,0.0,0.0,1.0,0.0,0.0,4.0,3.0,2.0,0.0,0.0,2.0,1.0,1.0,4.0,2.0,0.0,2.0,3.0,2.0,2.0,2.0,3.0,0.0,0.0,2.0,1.0,9.0,2.0,23.0,1.0,2.0,4.0,4.0,4.0,3.0,5.0,4.0,4.0,4.0,5.0,4.0,4.0,4.0,3.0,4.0,5.0,6.0,21.0,5.0,4.0,4.0,3.0,3.0,3.0,6.0,3.0,4.0,4.0,3.0,4.0,3.0,2.0,3.0,2.0,2.0,3.0,4.0,3.0,3.0,5.0,4.0,3.0,2.0,3.0,9.0,3.0,2.0,2.0,3.0,2.0,3.0,3.0,3.0,2.0,2.0,3.0,3.0,3.0,3.0,2.0,2.0,3.0,5.0,6.0,3.0,2.0,4.0,4.0,4.0,3.0,3.0,4.0,6.0,4.0,4.0,3.0,4.0,12.0,4.0,4.0,3.0,3.0,2.0,3.0,3.0,1.0,4.0,2.0,2.0,2.0,2.0,3.0,3.0,3.0,3.0,2.0,2.0,2.0,3.0,3.0,2.0,2.0,3.0,3.0,4.0,4.0,3.0,4.0,4.0,4.0,3.0,3.0,3.0,4.0,4.0,3.0,4.0,8.0,6.0,4.0,6.0,6.0,6.0,6.0,7.0,6.0,0.0,2.0,3.0,2.0,3.0,3.0,3.0,2.0,3.0,3.0,2.0,3.0,2.0,3.0,3.0,4.0,3.0,3.0,3.0,2.0,3.0,4.0,2.0,4.0,3.0,3.0,3.0,3.0,4.0,2.0,5.0,0.0,1.0,3.0,3.0,1.0,0.0,2.0,2.0,1.0,1.0,0.0,3.0,1.0,2.0,0.0,0.0,1.0,0.0,1.0,2.0,0.0,2.0,2.0,3.0,2.0,3.0,1.0,0.0,0.0,1.0,0.0,2.0,3.0,3.0,5.0,5.0,3.0,4.0,5.0,4.0,5.0,4.0,3.0,5.0,2.0,2.0,3.0,5.0,3.0,3.0,4.0,4.0,3.0,3.0,5.0,5.0,4.0,5.0,6.0,2.0,8.0,7.0,8.0,2.0,1.0,1.0,1.0,7.0,7.0,4.0,4.0,1.0,0.0,2.0,4.0,3.0,3.0,1.0,2.0,1.0,1.0,2.0,3.0,6.0,6.0,4.0,4.0,7.0,7.0,9.0,1.0,2.0,4.0,5.0,2.0,2.0,4.0,3.0,4.0,3.0,3.0,1.0,3.0,3.0,3.0,3.0,4.0,4.0,2.0,3.0,2.0,3.0,4.0,1.0,1.0,2.0,2.0,1.0,1.0,2.0,1.0,1.0,2.0,2.0,1.0,1.0,2.0,2.0,2.0,3.0,1.0,2.0,2.0,2.0,2.0,2.0,4.0,3.0,0.0,4.0,2.0,3.0,2.0,2.0,5.0,4.0,1.0,2.0,1.0,1.0,4.0,4.0,1.0,1.0,2.0,4.0,3.0,3.0,2.0,2.0,2.0,2.0,1.0,22.0,1.0,1.0,2.0,2.0,4.0,3.0,3.0,2.0,5.0,2.0,1.0,2.0,3.0,0.0,0.0,23.0,0.0,23.0,0.0,0.0,23.0,1.0,1.0,23.0,1.0,23.0,0.0,1.0,2.0,1.0,4.0,3.0,2.0,2.0,4.0,3.0,3.0,2.0,2.0,3.0,3.0,2.0,6.0,7.0,2.0,4.0,3.0,3.0,2.0,2.0,3.0,3.0,3.0,3.0,8.0,3.0,2.0,1.0,0.0,0.0,1.0,1.0,2.0,0.0,0.0,0.0,0.0,1.0,0.0,1.0,0.0,0.0,0.0,0.0,1.0,0.0,1.0,0.0,0.0,0.0,1.0,3.0,23.0,23.0,0.0,0.0,1.0,1.0,2.0,1.0,1.0,1.0,1.0,1.0,2.0,1.0,2.0,1.0,2.0,2.0,1.0,1.0,1.0,3.0,2.0,2.0,2.0,1.0,1.0,2.0,1.0,1.0,1.0,1.0,0.0,1.0,23.0,1.0,0.0,23.0,1.0,0.0,2.0,1.0,0.0,0.0,1.0,2.0,4.0,4.0,4.0,3.0,2.0,3.0,2.0,4.0,4.0,3.0,3.0,3.0,2.0,2.0,3.0,2.0,2.0,2.0,3.0,3.0,0.0,0.0,0.0,3.0,1.0,23.0,23.0,0.0,1.0,1.0,1.0,23.0,23.0,0.0,0.0,0.0,1.0,2.0,0.0,1.0,0.0,1.0,2.0,1.0,2.0,2.0,2.0,2.0,2.0,3.0,2.0,1.0,3.0,3.0,2.0,1.0,2.0,1.0,2.0,3.0,3.0,5.0,2.0,2.0,3.0,3.0,2.0,2.0,1.0,2.0,3.0,1.0,3.0,1.0,2.0,2.0,3.0,4.0,4.0,0.0,1.0,1.0,0.0,3.0,0.0,0.0,1.0,1.0,2.0,3.0,2.0,1.0,0.0,2.0,1.0,1.0,2.0,1.0,1.0,0.0,1.0,2.0,3.0,3.0,5.0,3.0,2.0,2.0,2.0,3.0,3.0,4.0,2.0,2.0,2.0,2.0,2.0,3.0,3.0,3.0,1.0,5.0,6.0,5.0,5.0,4.0,5.0,5.0,4.0,5.0,5.0,4.0,5.0,5.0,5.0,4.0,5.0,6.0,5.0,4.0,6.0,5.0,5.0,5.0,4.0,5.0,2.0,2.0,2.0,3.0,1.0,2.0,3.0,3.0,4.0,3.0,3.0,2.0,2.0,2.0,3.0,2.0,6.0,2.0,5.0,1.0,4.0,3.0,3.0,2.0,5.0,5.0,7.0,2.0,3.0,2.0,4.0,4.0,3.0,4.0,2.0,2.0,1.0,1.0,4.0,3.0,7.0,5.0,4.0,4.0,4.0,3.0,3.0,3.0,3.0,2.0,2.0,4.0,5.0,2.0,2.0,2.0,3.0,2.0,2.0,2.0,3.0,5.0,2.0,2.0,2.0,5.0,4.0,2.0,1.0,2.0,3.0,2.0,2.0,2.0,2.0,3.0,4.0,4.0,4.0,3.0,3.0,2.0,3.0,4.0,4.0,4.0,5.0,1.0,3.0,2.0,2.0,3.0,4.0,3.0,3.0,5.0,4.0,3.0,2.0,3.0,2.0,5.0,8.0,4.0,3.0,2.0,3.0,2.0,2.0,2.0,2.0,2.0,3.0,2.0,2.0,2.0,2.0,3.0,3.0,2.0,4.0,2.0,2.0,2.0,3.0,3.0,2.0,3.0,3.0,3.0,4.0,3.0,1.0,1.0,1.0,1.0,1.0,2.0,3.0,1.0,1.0,1.0,1.0,1.0,2.0,1.0,1.0,3.0,1.0,1.0,2.0,2.0,1.0,2.0,1.0,1.0,2.0,1.0,5.0,4.0,4.0,4.0,4.0,3.0,5.0,5.0,6.0,9.0,4.0,2.0,9.0,4.0,5.0,6.0,1.0,5.0,5.0,3.0,6.0,23.0,1.0,2.0,2.0,2.0,3.0,2.0,3.0,3.0,3.0,3.0,1.0,3.0,3.0,3.0,4.0,4.0,5.0,2.0,3.0,3.0,2.0,4.0,3.0,3.0,4.0,4.0,5.0,5.0,5.0,5.0,3.0,1.0,3.0,1.0,3.0,0.0,6.0,2.0,6.0,4.0,3.0,4.0,4.0,3.0,3.0,3.0,4.0,5.0,6.0,3.0,3.0,2.0,3.0,5.0,7.0,4.0,6.0,5.0,6.0,4.0,6.0,6.0,5.0,3.0,3.0,3.0,3.0,5.0,2.0,1.0,1.0,1.0,2.0,2.0,2.0,2.0,2.0,2.0,2.0,1.0,1.0,2.0,1.0,0.0,1.0,1.0,2.0,1.0,2.0,2.0,1.0,3.0,2.0,2.0,2.0,1.0,1.0,2.0,2.0,6.0,4.0,2.0,2.0,2.0,1.0,1.0,3.0,5.0,2.0,3.0,3.0,3.0,2.0,5.0,6.0,2.0,3.0,2.0,5.0,1.0,2.0,1.0,2.0,3.0,0.0,2.0,2.0,2.0,1.0,2.0,2.0,2.0,3.0,2.0,1.0,2.0,3.0,4.0,2.0,2.0,5.0,2.0,2.0,3.0,2.0,4.0,4.0,5.0,5.0,4.0,5.0,5.0,3.0,4.0,2.0,2.0,2.0,2.0,2.0,3.0,3.0,2.0,2.0,2.0,3.0,3.0,3.0,5.0,4.0,4.0,0.0,1.0,1.0,2.0,4.0,5.0,0.0,0.0,2.0,0.0,0.0,3.0,4.0,0.0,1.0,0.0,2.0,2.0,5.0,5.0,1.0,0.0,1.0,1.0,0.0,1.0,1.0,1.0,1.0,1.0,1.0,1.0,3.0,2.0,3.0,2.0,2.0,1.0,2.0,2.0,2.0,2.0,4.0,3.0,2.0,2.0,1.0,2.0,3.0,3.0,4.0,2.0,1.0,1.0,1.0,1.0,1.0,1.0,3.0,2.0,2.0,2.0,2.0,1.0,3.0,2.0,23.0,0.0,0.0,0.0,0.0,2.0,2.0,2.0,0.0,0.0,0.0,2.0,1.0,3.0,1.0,0.0,0.0,1.0,1.0,4.0,1.0,8.0,1.0,1.0,6.0,1.0,1.0,1.0,1.0,1.0,1.0,1.0,2.0,1.0,1.0,3.0,1.0,1.0,2.0,1.0,4.0,3.0,2.0,2.0,0.0,2.0,0.0,1.0,2.0,0.0,1.0,1.0,0.0,1.0,2.0,1.0,1.0,1.0,1.0,1.0,0.0,0.0,0.0,0.0,3.0,3.0,4.0,2.0,5.0,4.0,4.0,3.0,4.0,2.0,3.0,4.0,3.0,4.0,5.0,3.0,3.0,5.0,4.0,4.0,4.0,3.0,3.0,5.0,5.0,4.0,4.0,4.0,4.0,3.0,3.0,3.0,4.0,3.0,3.0,3.0,2.0,2.0,3.0,3.0,4.0,7.0,3.0,3.0,3.0,3.0,2.0,3.0,6.0,3.0,3.0,3.0,3.0,3.0,3.0,3.0,4.0,4.0,4.0,4.0,3.0,3.0,3.0,4.0,1.0,0.0,0.0,1.0,0.0,1.0,0.0,23.0,1.0,0.0,0.0,2.0,1.0,0.0,0.0,1.0,23.0,0.0,0.0,22.0,0.0,0.0,0.0,0.0,2.0,2.0,2.0,0.0,0.0,1.0,0.0,0.0,0.0,1.0,1.0,7.0,4.0,2.0,6.0,5.0,4.0,4.0,3.0,3.0,2.0,5.0,4.0,5.0,6.0,7.0,5.0,4.0,4.0,6.0,5.0,5.0,6.0,5.0,6.0,5.0,4.0,5.0,4.0,0.0,3.0,0.0,1.0,0.0,0.0,1.0,2.0,1.0,0.0,0.0,0.0,1.0,1.0,1.0,0.0,0.0,0.0,4.0,3.0,1.0,2.0,2.0,1.0,2.0,1.0,2.0,1.0,2.0,1.0,0.0,2.0,3.0,2.0,2.0,1.0,1.0,1.0,2.0,3.0,3.0,3.0,3.0,2.0,3.0,2.0,1.0,2.0,3.0,5.0,3.0,2.0,2.0,1.0,2.0,3.0,3.0,1.0,3.0,2.0,2.0,0.0,4.0,3.0,3.0,2.0,4.0,4.0,4.0,3.0,4.0,5.0,4.0,3.0,5.0,4.0,6.0,3.0,4.0,4.0,4.0,3.0,3.0,2.0,2.0,3.0,23.0,4.0,5.0,23.0,4.0,4.0,4.0,4.0,4.0,4.0,2.0,5.0,4.0,2.0,3.0,5.0,1.0,1.0,0.0,1.0,1.0,1.0,1.0,4.0,2.0,0.0,0.0,2.0,2.0,1.0,1.0,1.0,0.0,1.0,0.0,1.0,2.0,3.0,2.0,2.0,6.0,6.0,3.0,3.0,2.0,2.0,2.0,6.0,7.0,4.0,2.0,4.0,3.0,4.0,4.0,5.0,6.0,6.0,5.0,6.0,2.0,2.0,5.0,3.0,1.0,2.0,2.0,5.0,4.0,2.0,3.0,3.0,2.0,3.0,2.0,2.0,2.0,3.0,2.0,1.0,3.0,2.0,2.0,6.0,3.0,3.0,2.0,3.0,2.0,2.0,1.0,2.0,2.0,1.0,1.0,2.0,1.0,1.0,1.0,1.0,1.0,2.0,2.0,1.0,1.0,1.0,1.0,0.0,2.0,2.0,1.0,2.0,2.0,2.0,2.0,3.0,3.0,2.0,2.0,2.0,2.0,2.0,4.0,4.0,2.0,2.0,2.0,3.0,3.0,2.0,1.0,1.0,3.0,1.0,3.0,2.0,2.0,2.0,5.0,4.0,4.0,2.0,6.0,3.0,3.0,2.0,5.0,4.0,3.0,3.0,4.0,3.0,1.0,2.0,3.0,3.0,1.0,0.0,1.0,3.0,0.0,1.0,3.0,3.0,6.0,2.0,3.0,4.0,0.0,1.0,2.0,2.0,1.0,5.0,2.0,2.0,2.0,2.0,3.0,3.0,7.0,1.0,3.0,2.0,2.0,2.0,4.0,1.0,1.0,2.0,0.0,0.0,1.0,2.0,1.0,2.0,1.0,2.0,0.0,2.0,2.0,0.0,0.0,22.0,0.0,2.0,0.0,1.0,1.0,0.0,1.0,0.0,0.0,1.0,1.0,1.0,1.0,2.0,1.0,1.0,1.0,1.0,1.0,6.0,4.0,4.0,3.0,1.0,1.0,1.0,4.0,5.0,0.0,1.0,0.0,4.0,0.0,7.0,5.0,3.0,2.0,0.0,1.0,2.0,5.0,5.0,0.0,0.0,1.0,0.0,0.0,0.0,2.0,4.0,1.0,1.0,0.0,3.0,0.0,23.0,0.0,0.0,0.0,0.0,23.0,0.0,0.0,23.0,1.0,1.0,1.0,1.0,1.0,3.0,1.0,2.0,2.0,3.0,1.0,1.0,1.0,4.0,6.0,5.0,4.0,3.0,4.0,4.0,2.0,7.0,4.0,2.0,2.0,5.0,5.0,3.0,5.0,5.0,3.0,0.0,2.0,4.0,5.0,3.0,3.0,4.0,6.0,7.0,5.0,6.0,8.0,5.0,7.0,8.0,8.0,9.0,10.0,8.0,7.0,10.0,22.0,1.0,3.0,2.0,2.0,3.0,4.0,3.0,2.0,2.0,4.0,6.0,5.0,3.0,7.0,6.0,1.0,4.0,0.0,0.0,0.0,2.0,1.0,1.0,0.0,1.0,2.0,2.0,1.0,4.0,3.0,2.0,2.0,3.0,7.0,3.0,2.0,3.0,2.0,2.0,0.0,2.0,0.0,23.0,1.0,2.0,1.0,1.0,5.0,4.0,4.0,4.0,5.0,4.0,3.0,3.0,3.0,3.0,5.0,6.0,3.0,5.0,5.0,7.0,5.0,6.0,6.0,6.0,4.0,3.0,1.0,1.0,3.0,1.0,23.0,22.0,1.0,2.0,0.0,1.0,1.0,0.0,0.0,1.0,1.0,0.0,0.0,1.0,1.0,1.0,0.0,0.0,0.0,0.0,0.0,1.0,1.0,0.0,1.0,1.0,2.0,2.0,1.0,2.0,2.0,1.0,3.0,3.0,3.0,1.0,3.0,2.0,2.0,1.0,2.0,3.0,2.0,2.0,1.0,2.0,2.0,2.0,1.0,1.0,7.0,23.0,2.0,1.0,1.0,1.0,1.0,2.0,1.0,1.0,1.0,0.0,0.0,0.0,2.0,0.0,1.0,0.0,3.0,1.0,2.0,2.0,2.0,3.0,2.0,3.0,2.0,3.0,3.0,2.0,4.0,4.0,3.0,0.0,3.0,2.0,3.0,2.0,5.0,5.0,1.0,3.0,2.0,2.0,2.0,4.0,5.0,3.0,0.0,4.0,1.0,3.0,4.0,1.0,7.0,2.0,2.0,2.0,1.0,2.0,4.0,4.0,2.0,1.0,2.0,3.0,8.0,7.0,3.0,1.0,4.0,2.0,5.0,9.0,3.0,2.0,1.0,2.0,2.0,2.0,3.0,1.0,2.0,2.0,1.0,5.0,3.0,2.0,1.0,2.0,23.0,22.0,2.0,3.0,1.0,4.0,1.0,1.0,1.0,1.0,4.0,5.0,1.0,1.0,1.0,1.0,0.0,4.0,5.0,2.0,1.0,2.0,1.0,1.0,5.0,5.0,3.0,2.0,2.0,4.0,3.0,2.0,5.0,4.0,3.0,4.0,2.0,4.0,5.0,6.0,4.0,4.0,4.0,4.0,4.0,0.0,7.0,1.0,2.0,2.0,2.0,1.0,1.0,1.0,2.0,3.0,2.0,1.0,1.0,1.0,0.0,3.0,1.0,2.0,1.0,2.0,0.0,1.0,0.0,2.0,2.0,20.0,20.0,20.0,19.0,20.0,20.0,20.0,3.0,1.0,0.0,2.0,2.0,2.0,1.0,2.0,0.0,1.0,3.0,3.0,2.0,3.0,3.0,3.0,3.0,3.0,3.0,3.0,3.0,3.0,3.0,3.0,1.0,2.0,0.0,2.0,2.0,3.0,2.0,2.0,2.0,1.0,2.0,4.0,5.0,4.0,4.0,3.0,4.0,4.0,6.0,5.0,4.0,4.0,4.0,4.0,3.0,4.0,4.0,5.0,10.0,5.0,5.0,5.0,5.0,4.0,9.0,5.0,4.0,5.0,5.0,5.0,3.0,7.0,5.0,4.0,9.0,4.0,4.0,5.0,4.0,5.0,9.0,9.0,7.0,8.0,7.0,8.0,10.0,10.0,9.0,1.0,3.0,3.0,2.0,23.0,5.0,0.0,1.0,1.0,1.0,1.0,1.0,1.0,1.0,5.0,1.0,23.0,1.0,1.0,1.0,1.0,2.0,1.0,1.0,2.0,5.0,2.0,6.0,2.0,1.0,2.0,3.0,3.0,3.0,1.0,4.0,3.0,6.0,0.0,2.0,2.0,3.0,1.0,1.0,19.0,23.0,1.0,4.0,2.0,3.0,4.0,2.0,2.0,3.0,2.0,2.0,5.0,3.0,3.0,2.0,5.0,2.0,3.0,2.0,1.0,2.0,2.0,2.0,4.0,4.0,2.0,6.0,1.0,3.0,2.0,3.0,2.0,3.0,4.0,2.0,3.0,3.0,3.0,2.0,2.0,4.0,2.0,2.0,3.0,3.0,2.0,0.0,1.0,3.0,4.0,3.0,2.0,2.0,2.0,2.0,3.0,2.0,2.0,3.0,3.0,2.0,2.0,2.0,3.0,3.0,6.0,5.0,3.0,1.0,2.0,3.0,6.0,2.0,1.0,4.0,5.0,7.0,3.0,1.0,3.0,5.0,3.0,3.0,2.0,8.0,23.0,2.0,5.0,3.0,0.0,1.0,1.0,1.0,1.0,3.0,3.0,1.0,1.0,2.0,4.0,1.0,2.0,2.0,3.0,3.0,3.0,3.0,2.0,2.0,3.0,3.0,2.0,3.0,2.0,2.0,2.0,2.0,2.0,2.0,2.0,2.0,3.0,2.0,5.0,4.0,7.0,3.0,4.0,3.0,5.0,2.0,3.0,11.0,6.0,4.0,2.0,3.0,3.0,2.0,3.0,6.0,2.0,9.0,4.0,3.0,2.0,3.0,3.0,2.0,5.0,8.0,4.0,3.0,2.0,3.0,3.0,4.0,1.0,2.0,4.0,4.0,1.0,1.0,0.0,0.0,0.0,2.0,2.0,0.0,2.0,1.0,3.0,4.0,3.0,3.0,4.0,6.0,5.0,4.0,3.0,3.0,3.0,4.0,6.0,5.0,5.0,4.0,6.0,6.0,4.0,4.0,2.0,1.0,1.0,1.0,4.0,3.0,3.0,2.0,1.0,1.0,23.0,0.0,0.0,0.0,0.0,2.0,2.0,2.0,2.0,3.0,2.0,3.0,3.0,3.0,3.0,3.0,3.0,3.0,3.0,2.0,3.0,3.0,4.0,4.0,3.0,3.0,4.0,3.0,3.0,2.0,2.0,4.0,3.0,2.0,4.0,3.0,3.0,4.0,4.0,4.0,5.0,5.0,6.0,6.0,5.0,5.0,5.0,5.0,8.0,7.0,7.0,5.0,6.0,10.0,6.0,7.0,5.0,8.0,5.0,8.0,6.0,8.0,11.0,3.0,6.0,7.0,6.0,4.0,6.0,4.0,4.0,2.0,2.0,3.0,0.0,4.0,3.0,3.0,4.0,3.0,4.0,3.0,4.0,4.0,5.0,4.0,6.0,4.0,5.0,4.0,4.0,3.0,3.0,1.0,4.0,1.0,0.0,3.0,2.0,1.0,1.0,1.0,2.0,2.0,4.0,1.0,1.0,1.0,1.0,1.0,3.0,1.0,1.0,1.0,1.0,5.0,1.0,0.0,0.0,23.0,0.0,1.0,1.0,0.0,0.0,0.0,0.0,0.0,1.0,3.0,1.0,1.0,1.0,6.0,1.0,1.0,1.0,1.0,2.0,1.0,2.0,2.0,3.0,0.0,0.0,1.0,1.0,3.0,1.0,1.0,1.0,0.0,2.0,1.0,4.0,4.0,1.0,1.0,1.0,2.0,1.0,5.0,1.0,1.0,1.0,2.0,2.0,1.0,2.0,1.0,2.0,1.0,2.0,2.0,3.0,3.0,3.0,2.0,2.0,2.0,3.0,0.0,3.0,2.0,23.0,3.0,3.0,3.0,2.0,4.0,1.0,1.0,2.0,3.0,4.0,3.0,1.0,1.0,0.0,0.0,1.0,2.0,1.0,1.0,1.0,1.0,1.0,2.0,3.0,0.0,0.0,1.0,2.0,1.0,0.0,1.0,1.0,1.0,2.0,1.0,3.0,3.0,3.0,3.0,3.0,3.0,2.0,3.0,2.0,2.0,3.0,2.0,2.0,2.0,2.0,3.0,3.0,3.0,3.0,2.0,2.0,2.0,2.0,1.0,4.0,2.0,1.0,1.0,2.0,1.0,2.0,2.0,2.0,1.0,2.0,2.0,6.0,2.0,3.0,3.0,1.0,2.0,1.0,0.0,3.0,4.0,1.0,1.0,1.0,0.0,1.0,2.0,4.0,1.0,1.0,5.0,4.0,2.0,2.0,1.0,2.0,3.0,2.0,6.0,2.0,1.0,1.0,0.0,2.0,4.0,4.0,2.0,2.0,1.0,2.0,1.0,3.0,3.0,1.0,1.0,1.0,1.0,2.0,3.0,1.0,2.0,2.0,4.0,4.0,3.0,3.0,3.0,3.0,3.0,2.0,3.0,2.0,2.0,3.0,3.0,3.0,4.0,4.0,2.0,2.0,2.0,3.0,4.0,1.0,1.0,1.0,1.0,1.0,0.0,2.0,1.0,1.0,2.0,2.0,0.0,1.0,1.0,2.0,0.0,1.0,2.0,1.0,2.0,3.0,4.0,2.0,0.0,2.0,1.0,3.0,5.0,2.0,1.0,2.0,1.0,2.0,3.0,5.0,2.0,2.0,2.0,2.0,2.0,5.0,23.0,0.0,0.0,0.0,0.0,0.0,1.0,1.0,1.0,0.0,0.0,1.0,2.0,0.0,1.0,2.0,1.0,2.0,2.0,2.0,4.0,3.0,4.0,4.0,4.0,6.0,6.0,2.0,2.0,2.0,1.0,1.0,3.0,4.0,2.0,1.0,4.0,3.0,2.0,3.0,4.0,3.0,3.0,7.0,3.0,4.0,4.0,3.0,9.0,7.0,2.0,3.0,5.0,3.0,2.0,2.0,0.0,23.0,1.0,0.0,0.0,0.0,23.0,1.0,23.0,0.0,0.0,23.0,0.0,23.0,1.0,23.0,1.0,23.0,0.0,0.0,23.0,1.0,23.0,0.0,0.0,0.0,23.0,1.0,23.0,1.0,0.0,0.0,23.0,1.0,1.0,1.0,1.0,2.0,1.0,3.0,1.0,1.0,2.0,4.0,2.0,2.0,2.0,3.0,4.0,3.0,3.0,3.0,3.0,2.0,1.0,1.0,1.0,1.0,2.0,4.0,3.0,6.0,2.0,2.0,2.0,5.0,4.0,5.0,1.0,3.0,2.0,3.0,4.0,3.0,3.0,3.0,3.0,5.0,3.0,3.0,2.0,3.0,4.0,3.0,3.0,1.0,2.0,2.0,2.0,2.0,3.0,2.0,2.0,2.0,3.0,2.0,2.0,4.0,3.0,2.0,2.0,2.0,2.0,2.0,1.0,3.0,4.0,5.0,3.0,3.0,2.0,2.0,3.0,4.0,2.0,2.0,2.0,3.0,3.0,2.0,2.0,2.0,2.0,2.0,2.0,2.0,1.0,1.0,2.0,1.0,1.0,1.0,0.0,1.0,1.0,2.0,1.0,22.0,1.0,1.0,1.0,3.0,2.0,5.0,4.0,2.0,2.0,2.0,2.0,3.0,1.0,3.0,4.0,3.0,3.0,3.0,3.0,3.0,2.0,2.0,3.0,5.0,4.0,4.0,4.0,5.0,5.0,9.0,3.0,3.0,3.0,3.0,2.0,3.0,3.0,4.0,4.0,1.0,2.0,2.0,2.0,2.0,2.0,6.0,5.0,4.0,2.0,2.0,2.0,5.0,3.0,3.0,3.0,2.0,4.0,7.0,3.0,1.0,1.0,7.0,2.0,1.0,2.0,2.0,2.0,4.0,2.0,2.0,2.0,1.0,3.0,2.0,3.0,3.0,3.0,4.0,3.0,2.0,3.0,4.0,3.0,5.0,3.0,4.0,5.0,1.0,3.0,2.0,4.0,5.0,6.0,7.0,9.0,10.0,8.0,7.0,7.0,7.0,1.0,2.0,2.0,2.0,0.0,2.0,1.0,2.0,1.0,2.0,1.0,2.0,2.0,3.0,3.0,2.0,2.0,1.0,2.0,4.0,2.0,1.0,1.0,3.0,1.0,1.0,1.0,3.0,1.0,1.0,3.0,3.0,3.0,6.0,5.0,1.0,1.0,1.0,2.0,5.0,4.0,2.0,1.0,3.0,2.0,2.0,3.0,3.0,2.0,3.0,1.0,3.0,5.0,1.0,4.0,4.0,3.0,3.0,3.0,3.0,3.0,2.0,5.0,2.0,3.0,4.0,4.0,1.0,2.0,2.0,2.0,3.0,8.0,2.0,1.0,7.0,2.0,3.0,3.0,3.0,5.0,3.0,3.0,4.0,2.0,4.0,4.0,7.0,2.0,1.0,23.0,1.0,1.0,0.0,1.0,1.0,1.0,0.0,1.0,1.0,1.0,0.0,3.0,0.0,1.0,4.0,1.0,2.0,3.0,2.0,3.0,6.0,9.0,3.0,3.0,2.0,5.0,5.0,6.0,6.0,5.0,2.0,4.0,3.0,3.0,6.0,5.0,3.0,1.0,1.0,2.0,2.0,1.0,3.0,2.0,1.0,1.0,2.0,0.0,0.0,1.0,0.0,0.0,0.0,0.0,1.0,23.0,0.0,2.0,3.0,4.0,2.0,2.0,4.0,4.0,5.0,2.0,3.0,5.0,3.0,4.0,4.0,3.0,2.0,3.0,4.0,4.0,7.0,5.0,1.0,3.0,2.0,3.0,5.0,1.0,2.0,2.0,3.0,2.0,2.0,2.0,1.0,2.0,2.0,3.0,3.0,2.0,2.0,3.0,2.0,2.0,2.0,2.0,6.0,2.0,2.0,2.0,2.0,3.0,2.0,4.0,2.0,2.0,2.0,3.0,3.0,2.0,2.0,3.0,2.0,2.0,0.0,2.0,0.0,3.0,2.0,2.0,2.0,1.0,2.0,1.0,3.0,1.0,4.0,3.0,2.0,1.0,2.0,7.0,1.0,2.0,3.0,3.0,3.0,2.0,2.0,3.0,3.0,3.0,2.0,2.0,3.0],\"type\":\"histogram\",\"xaxis\":\"x\",\"yaxis\":\"y\"},{\"nbinsx\":24,\"x\":[10.0,9.0,9.0,10.0,11.0,16.0,12.0,12.0,6.0,12.0,12.0,11.0,10.0,11.0,11.0,11.0,10.0,9.0,5.0,10.0,10.0,10.0,11.0,11.0,11.0,15.0,10.0,11.0,11.0,7.0,11.0,11.0,6.0,11.0,11.0,14.0,12.0,12.0,10.0,12.0,14.0,15.0,14.0,12.0,13.0,11.0,8.0,11.0,11.0,12.0,11.0,11.0,13.0,12.0,12.0,11.0,13.0,12.0,12.0,13.0,13.0,13.0,13.0,12.0,13.0,13.0,13.0,14.0,12.0,12.0,12.0,12.0,13.0,16.0,13.0,12.0,12.0,15.0,11.0,13.0,13.0,12.0,12.0,12.0,12.0,12.0,13.0,13.0,13.0,13.0,9.0,9.0,10.0,10.0,12.0,14.0,11.0,11.0,11.0,11.0,15.0,13.0,16.0,16.0,11.0,10.0,11.0,13.0,16.0,9.0,11.0,10.0,17.0,17.0,18.0,11.0,13.0,13.0,11.0,11.0,10.0,11.0,11.0,14.0,13.0,11.0,12.0,11.0,11.0,10.0,9.0,13.0,10.0,11.0,11.0,11.0,10.0,11.0,11.0,11.0,10.0,10.0,11.0,11.0,11.0,10.0,11.0,11.0,10.0,11.0,11.0,12.0,11.0,10.0,10.0,12.0,10.0,10.0,10.0,9.0,11.0,10.0,10.0,9.0,10.0,10.0,8.0,12.0,11.0,11.0,11.0,11.0,11.0,11.0,11.0,10.0,11.0,10.0,11.0,10.0,11.0,11.0,11.0,11.0,12.0,11.0,12.0,12.0,12.0,11.0,11.0,12.0,12.0,12.0,12.0,11.0,11.0,11.0,11.0,11.0,12.0,12.0,12.0,12.0,12.0,12.0,12.0,11.0,12.0,13.0,14.0,16.0,11.0,10.0,10.0,9.0,14.0,9.0,8.0,11.0,9.0,10.0,11.0,10.0,10.0,9.0,14.0,12.0,10.0,10.0,11.0,11.0,8.0,9.0,10.0,9.0,11.0,11.0,10.0,10.0,7.0,10.0,10.0,9.0,10.0,10.0,9.0,9.0,10.0,10.0,10.0,10.0,10.0,7.0,10.0,11.0,11.0,11.0,12.0,12.0,11.0,11.0,10.0,10.0,10.0,11.0,11.0,11.0,10.0,10.0,10.0,10.0,11.0,11.0,11.0,11.0,10.0,10.0,6.0,10.0,11.0,11.0,11.0,11.0,10.0,11.0,10.0,11.0,11.0,11.0,10.0,10.0,10.0,11.0,10.0,12.0,11.0,12.0,11.0,12.0,10.0,10.0,12.0,11.0,11.0,13.0,17.0,11.0,10.0,7.0,16.0,15.0,14.0,14.0,10.0,11.0,14.0,10.0,9.0,11.0,17.0,11.0,11.0,10.0,10.0,12.0,11.0,13.0,11.0,11.0,10.0,10.0,10.0,10.0,11.0,10.0,10.0,10.0,10.0,10.0,10.0,9.0,11.0,10.0,10.0,10.0,10.0,10.0,9.0,11.0,11.0,11.0,12.0,11.0,11.0,11.0,11.0,11.0,13.0,11.0,11.0,11.0,11.0,10.0,13.0,12.0,12.0,11.0,11.0,11.0,11.0,11.0,11.0,11.0,11.0,11.0,11.0,11.0,12.0,10.0,12.0,11.0,11.0,11.0,12.0,12.0,11.0,10.0,11.0,11.0,12.0,10.0,12.0,10.0,11.0,10.0,11.0,10.0,10.0,11.0,11.0,11.0,11.0,11.0,10.0,10.0,11.0,11.0,14.0,16.0,10.0,12.0,16.0,14.0,11.0,14.0,11.0,9.0,14.0,15.0,11.0,5.0,15.0,8.0,16.0,20.0,10.0,11.0,15.0,14.0,13.0,13.0,14.0,13.0,11.0,18.0,11.0,11.0,21.0,16.0,16.0,13.0,18.0,19.0,17.0,13.0,19.0,18.0,11.0,13.0,14.0,11.0,11.0,11.0,11.0,14.0,14.0,12.0,11.0,14.0,11.0,11.0,11.0,17.0,11.0,15.0,11.0,12.0,12.0,13.0,16.0,11.0,11.0,11.0,11.0,12.0,14.0,14.0,14.0,14.0,10.0,12.0,10.0,10.0,10.0,15.0,11.0,12.0,11.0,14.0,15.0,11.0,11.0,11.0,12.0,13.0,11.0,11.0,10.0,10.0,11.0,10.0,11.0,11.0,11.0,10.0,10.0,10.0,11.0,11.0,10.0,11.0,10.0,10.0,10.0,10.0,12.0,10.0,10.0,11.0,11.0,11.0,11.0,11.0,10.0,12.0,13.0,12.0,11.0,11.0,11.0,11.0,15.0,13.0,11.0,11.0,11.0,11.0,10.0,9.0,10.0,11.0,11.0,12.0,12.0,11.0,11.0,11.0,11.0,11.0,12.0,11.0,11.0,12.0,11.0,11.0,12.0,11.0,11.0,11.0,11.0,11.0,11.0,11.0,11.0,10.0,11.0,11.0,12.0,11.0,11.0,11.0,10.0,12.0,10.0,11.0,11.0,11.0,10.0,10.0,7.0,10.0,9.0,10.0,10.0,10.0,10.0,10.0,14.0,13.0,10.0,9.0,9.0,9.0,9.0,15.0,11.0,13.0,12.0,14.0,14.0,13.0,14.0,12.0,14.0,9.0,9.0,10.0,12.0,12.0,12.0,9.0,9.0,9.0,9.0,9.0,13.0,12.0,9.0,11.0,10.0,10.0,10.0,10.0,12.0,11.0,11.0,12.0,11.0,11.0,11.0,10.0,10.0,7.0,11.0,10.0,7.0,10.0,12.0,12.0,12.0,12.0,12.0,12.0,12.0,12.0,5.0,10.0,10.0,11.0,12.0,13.0,11.0,11.0,11.0,11.0,13.0,6.0,11.0,11.0,14.0,11.0,13.0,14.0,14.0,11.0,11.0,13.0,11.0,13.0,14.0,12.0,10.0,11.0,15.0,15.0,12.0,12.0,15.0,14.0,11.0,12.0,14.0,12.0,12.0,12.0,12.0,11.0,11.0,10.0,9.0,6.0,12.0,11.0,11.0,10.0,10.0,10.0,10.0,10.0,11.0,7.0,10.0,10.0,14.0,12.0,12.0,11.0,12.0,13.0,12.0,12.0,12.0,12.0,11.0,12.0,11.0,11.0,11.0,11.0,11.0,12.0,15.0,15.0,11.0,11.0,11.0,11.0,11.0,15.0,14.0,11.0,11.0,12.0,11.0,11.0,11.0,12.0,12.0,13.0,14.0,15.0,15.0,14.0,16.0,15.0,11.0,11.0,11.0,15.0,14.0,11.0,11.0,11.0,11.0,13.0,10.0,11.0,11.0,11.0,11.0,14.0,10.0,6.0,15.0,13.0,14.0,12.0,14.0,14.0,15.0,14.0,10.0,11.0,13.0,16.0,15.0,15.0,13.0,7.0,13.0,13.0,11.0,14.0,12.0,10.0,10.0,10.0,13.0,11.0,11.0,13.0,13.0,10.0,10.0,10.0,11.0,11.0,11.0,9.0,13.0,10.0,11.0,11.0,13.0,11.0,10.0,9.0,10.0,9.0,13.0,9.0,10.0,10.0,11.0,11.0,11.0,10.0,10.0,9.0,9.0,10.0,10.0,9.0,10.0,10.0,12.0,14.0,10.0,11.0,11.0,10.0,11.0,12.0,10.0,11.0,11.0,10.0,11.0,10.0,11.0,11.0,11.0,11.0,10.0,10.0,10.0,11.0,11.0,11.0,11.0,11.0,11.0,11.0,11.0,10.0,9.0,10.0,10.0,10.0,10.0,11.0,12.0,10.0,10.0,10.0,10.0,10.0,10.0,11.0,11.0,12.0,12.0,10.0,13.0,12.0,12.0,11.0,12.0,9.0,11.0,11.0,13.0,12.0,12.0,12.0,12.0,11.0,11.0,12.0,12.0,11.0,5.0,13.0,12.0,9.0,10.0,11.0,11.0,13.0,13.0,12.0,12.0,12.0,12.0,12.0,14.0,14.0,12.0,7.0,13.0,13.0,17.0,11.0,11.0,12.0,14.0,10.0,14.0,14.0,9.0,8.0,11.0,18.0,17.0,19.0,20.0,17.0,17.0,18.0,17.0,17.0,13.0,12.0,13.0,13.0,12.0,12.0,10.0,11.0,12.0,12.0,12.0,10.0,11.0,11.0,11.0,11.0,11.0,13.0,11.0,11.0,12.0,11.0,11.0,11.0,12.0,11.0,8.0,10.0,10.0,10.0,10.0,10.0,11.0,11.0,12.0,11.0,12.0,11.0,12.0,11.0,11.0,12.0,11.0,11.0,10.0,11.0,11.0,11.0,10.0,11.0,10.0,11.0,10.0,10.0,12.0,11.0,10.0,11.0,11.0,11.0,12.0,11.0,12.0,10.0,10.0,10.0,9.0,10.0,10.0,9.0,10.0,10.0,10.0,9.0,9.0,10.0,11.0,10.0,11.0,10.0,10.0,9.0,9.0,10.0,9.0,10.0,10.0,10.0,10.0,9.0,10.0,11.0,10.0,9.0,10.0,10.0,10.0,10.0,11.0,11.0,11.0,12.0,11.0,11.0,11.0,11.0,12.0,11.0,11.0,11.0,11.0,11.0,10.0,11.0,11.0,11.0,13.0,11.0,10.0,10.0,11.0,12.0,12.0,6.0,5.0,10.0,11.0,11.0,11.0,9.0,11.0,11.0,10.0,10.0,13.0,12.0,11.0,13.0,11.0,11.0,10.0,12.0,13.0,11.0,11.0,11.0,10.0,10.0,8.0,9.0,6.0,12.0,13.0,10.0,10.0,11.0,11.0,11.0,14.0,12.0,10.0,11.0,12.0,13.0,13.0,12.0,12.0,12.0,12.0,11.0,12.0,12.0,11.0,12.0,11.0,12.0,12.0,12.0,12.0,12.0,11.0,11.0,11.0,11.0,13.0,12.0,11.0,11.0,11.0,11.0,11.0,13.0,13.0,11.0,11.0,11.0,11.0,12.0,16.0,13.0,15.0,14.0,12.0,11.0,13.0,12.0,16.0,13.0,15.0,14.0,13.0,14.0,13.0,13.0,14.0,13.0,14.0,14.0,16.0,14.0,12.0,12.0,11.0,11.0,10.0,10.0,10.0,11.0,8.0,10.0,12.0,12.0,11.0,5.0,9.0,11.0,8.0,11.0,12.0,11.0,11.0,12.0,11.0,11.0,12.0,11.0,9.0,12.0,11.0,9.0,10.0,10.0,12.0,12.0,12.0,12.0,12.0,11.0,11.0,13.0,12.0,12.0,11.0,12.0,12.0,13.0,13.0,11.0,12.0,12.0,12.0,15.0,11.0,13.0,15.0,13.0,11.0,11.0,15.0,12.0,14.0,12.0,12.0,14.0,11.0,12.0,12.0,15.0,17.0,11.0,11.0,12.0,11.0,12.0,13.0,13.0,13.0,11.0,13.0,11.0,11.0,11.0,11.0,12.0,11.0,7.0,11.0,11.0,11.0,10.0,12.0,11.0,11.0,11.0,11.0,11.0,11.0,11.0,11.0,11.0,12.0,14.0,12.0,10.0,14.0,13.0,14.0,10.0,10.0,14.0,14.0,10.0,10.0,10.0,10.0,10.0,14.0,13.0,12.0,10.0,10.0,10.0,10.0,11.0,12.0,10.0,12.0,12.0,10.0,11.0,10.0,10.0,12.0,11.0,12.0,11.0,11.0,11.0,14.0,13.0,11.0,12.0,12.0,12.0,12.0,12.0,11.0,11.0,11.0,12.0,13.0,10.0,15.0,13.0,18.0,16.0,11.0,11.0,11.0,17.0,13.0,11.0,16.0,11.0,11.0,16.0,13.0,11.0,11.0,11.0,11.0,13.0,14.0,13.0,16.0,14.0,17.0,16.0,17.0,14.0,15.0,18.0,13.0,11.0,13.0,11.0,15.0,12.0,13.0,13.0,13.0,13.0,14.0,14.0,15.0,15.0,14.0,15.0,15.0,12.0,12.0,11.0,13.0,13.0,10.0,14.0,13.0,13.0,14.0,16.0,14.0,12.0,12.0,15.0,12.0,18.0,17.0,12.0,9.0,10.0,10.0,11.0,11.0,11.0,11.0,11.0,11.0,11.0,11.0,11.0,14.0,12.0,12.0,5.0,11.0,11.0,6.0,10.0,10.0,10.0,11.0,11.0,10.0,9.0,11.0,7.0,11.0,10.0,11.0,11.0,11.0,10.0,11.0,10.0,11.0,10.0,7.0,10.0,10.0,10.0,11.0,12.0,11.0,11.0,11.0,14.0,12.0,12.0,13.0,14.0,9.0,14.0,9.0,14.0,12.0,15.0,14.0,16.0,14.0,13.0,16.0,16.0,13.0,10.0,12.0,11.0,11.0,15.0,11.0,11.0,11.0,9.0,11.0,10.0,11.0,12.0,11.0,11.0,12.0,11.0,9.0,10.0,10.0,11.0,7.0,10.0,12.0,12.0,10.0,10.0,10.0,10.0,9.0,12.0,12.0,9.0,10.0,10.0,9.0,7.0,12.0,13.0,10.0,10.0,10.0,10.0,10.0,10.0,9.0,10.0,10.0,8.0,8.0,10.0,11.0,8.0,8.0,4.0,10.0,10.0,11.0,12.0,12.0,12.0,13.0,13.0,16.0,12.0,15.0,14.0,14.0,14.0,15.0,11.0,11.0,11.0,12.0,12.0,11.0,11.0,10.0,10.0,10.0,12.0,13.0,11.0,10.0,10.0,10.0,13.0,12.0,12.0,11.0,11.0,11.0,11.0,11.0,12.0,15.0,11.0,11.0,11.0,11.0,11.0,16.0,16.0,15.0,14.0,16.0,15.0,11.0,12.0,11.0,10.0,10.0,10.0,11.0,10.0,10.0,10.0,10.0,10.0,10.0,11.0,11.0,11.0,12.0,11.0,11.0,11.0,10.0,10.0,11.0,11.0,11.0,11.0,10.0,10.0,11.0,11.0,10.0,7.0,11.0,10.0,11.0,11.0,13.0,11.0,11.0,10.0,10.0,12.0,12.0,12.0,12.0,12.0,11.0,11.0,11.0,10.0,11.0,12.0,12.0,12.0,12.0,8.0,12.0,12.0,12.0,12.0,12.0,11.0,12.0,11.0,11.0,11.0,11.0,12.0,11.0,12.0,12.0,12.0,12.0,10.0,11.0,8.0,13.0,12.0,12.0,12.0,11.0,12.0,11.0,13.0,12.0,12.0,11.0,9.0,12.0,12.0,12.0,11.0,12.0,12.0,11.0,11.0,11.0,10.0,10.0,11.0,11.0,10.0,13.0,11.0,11.0,12.0,12.0,11.0,11.0,11.0,12.0,11.0,12.0,12.0,12.0,11.0,11.0,16.0,13.0,14.0,11.0,12.0,12.0,12.0,12.0,13.0,16.0,12.0,12.0,12.0,13.0,15.0,13.0,14.0,12.0,11.0,12.0,12.0,11.0,15.0,11.0,12.0,12.0,13.0,12.0,13.0,12.0,12.0,13.0,12.0,12.0,12.0,12.0,11.0,14.0,12.0,14.0,12.0,11.0,11.0,15.0,11.0,12.0,12.0,12.0,11.0,12.0,12.0,11.0,12.0,11.0,11.0,12.0,9.0,12.0,11.0,12.0,12.0,14.0,15.0,11.0,12.0,12.0,13.0,13.0,12.0,13.0,13.0,10.0,13.0,15.0,12.0,13.0,18.0,12.0,13.0,12.0,10.0,12.0,11.0,12.0,11.0,12.0,12.0,12.0,11.0,12.0,11.0,12.0,12.0,12.0,11.0,11.0,12.0,12.0,12.0,11.0,12.0,11.0,11.0,12.0,13.0,12.0,13.0,12.0,12.0,12.0,11.0,12.0,13.0,13.0,13.0,13.0,13.0,13.0,13.0,13.0,14.0,15.0,14.0,14.0,13.0,12.0,11.0,11.0,11.0,12.0,11.0,8.0,12.0,11.0,11.0,11.0,12.0,12.0,12.0,12.0,11.0,13.0,12.0,12.0,12.0,12.0,12.0,13.0,12.0,12.0,12.0,11.0,12.0,13.0,12.0,12.0,13.0,10.0,10.0,9.0,10.0,11.0,11.0,12.0,12.0,11.0,11.0,11.0,11.0,11.0,9.0,11.0,10.0,11.0,10.0,9.0,11.0,11.0,12.0,11.0,11.0,12.0,11.0,12.0,10.0,11.0,10.0,13.0,9.0,11.0,11.0,11.0,13.0,13.0,11.0,12.0,14.0,13.0,11.0,13.0,11.0,11.0,11.0,16.0,13.0,13.0,14.0,13.0,8.0,14.0,14.0,15.0,11.0,13.0,15.0,10.0,13.0,14.0,16.0,9.0,10.0,8.0,10.0,15.0,15.0,9.0,10.0,10.0,9.0,9.0,11.0,14.0,9.0,9.0,9.0,9.0,9.0,12.0,13.0,15.0,15.0,14.0,16.0,15.0,14.0,12.0,9.0,10.0,10.0,11.0,11.0,11.0,12.0,12.0,12.0,11.0,15.0,12.0,11.0,12.0,12.0,11.0,12.0,12.0,12.0,12.0,11.0,12.0,12.0,11.0,11.0,11.0,12.0,12.0,11.0,11.0,12.0,11.0,11.0,12.0,12.0,12.0,12.0,13.0,12.0,12.0,12.0,13.0,12.0,11.0,11.0,11.0,13.0,12.0,11.0,11.0,11.0,11.0,11.0,12.0,13.0,14.0,11.0,11.0,11.0,11.0,12.0,12.0,11.0,11.0,12.0,13.0,11.0,13.0,11.0,12.0,10.0,10.0,10.0,5.0,10.0,9.0,10.0,11.0,11.0,11.0,10.0,10.0,12.0,11.0,11.0,7.0,11.0,11.0,10.0,9.0,9.0,9.0,9.0,9.0,11.0,9.0,10.0,9.0,12.0,10.0,11.0,11.0,12.0,11.0,13.0,9.0,12.0,13.0,9.0,8.0,12.0,12.0,11.0,9.0,9.0,11.0,12.0,12.0,12.0,7.0,9.0,12.0,11.0,11.0,11.0,12.0,11.0,12.0,13.0,12.0,8.0,10.0,10.0,9.0,9.0,9.0,13.0,9.0,9.0,9.0,9.0,9.0,11.0,10.0,9.0,9.0,9.0,9.0,9.0,10.0,11.0,10.0,10.0,9.0,10.0,11.0,10.0,10.0,9.0,10.0,11.0,10.0,11.0,11.0,11.0,11.0,11.0,11.0,11.0,11.0,10.0,11.0,11.0,11.0,10.0,11.0,12.0,12.0,12.0,12.0,11.0,11.0,11.0,11.0,11.0,11.0,10.0,11.0,11.0,11.0,11.0,11.0,11.0,11.0,11.0,11.0,11.0,11.0,11.0,10.0,11.0,14.0,13.0,12.0,12.0,14.0,12.0,11.0,11.0,13.0,12.0,11.0,13.0,11.0,11.0,12.0,12.0,11.0,10.0,10.0,10.0,11.0,10.0,11.0,10.0,11.0,10.0,10.0,7.0,10.0,11.0,11.0,9.0,11.0,10.0,10.0,10.0,10.0,9.0,8.0,11.0,10.0,8.0,10.0,9.0,10.0,10.0,12.0,12.0,10.0,10.0,10.0,11.0,8.0,12.0,13.0,10.0,9.0,10.0,10.0,10.0,12.0,13.0,11.0,10.0,10.0,10.0,10.0,14.0,12.0,10.0,13.0,10.0,12.0,12.0,13.0,9.0,12.0,15.0,12.0,6.0,10.0,9.0,10.0,11.0,10.0,11.0,11.0,10.0,11.0,10.0,10.0,10.0,10.0,10.0,10.0,11.0,10.0,10.0,10.0,10.0,10.0,10.0,11.0,11.0,11.0,12.0,11.0,11.0,11.0,11.0,9.0,11.0,11.0,10.0,11.0,11.0,11.0,11.0,11.0,11.0,11.0,11.0,10.0,12.0,12.0,12.0,13.0,12.0,12.0,12.0,11.0,11.0,11.0,14.0,13.0,11.0,12.0,12.0,12.0,14.0,13.0,13.0,13.0,12.0,11.0,12.0,12.0,10.0,10.0,14.0,7.0,8.0,7.0,14.0,11.0,12.0,15.0,10.0,10.0,9.0,9.0,13.0,11.0,13.0,13.0,11.0,12.0,11.0,11.0,11.0,11.0,13.0,12.0,13.0,12.0,10.0,11.0,12.0,13.0,13.0,12.0,11.0,11.0,8.0,10.0,14.0,13.0,14.0,14.0,13.0,12.0,14.0,13.0,12.0,12.0,12.0,9.0,10.0,14.0,14.0,11.0,13.0,10.0,11.0,11.0,11.0,11.0,11.0,13.0,11.0,10.0,11.0,12.0,8.0,8.0,8.0,9.0,14.0,13.0,9.0,10.0,9.0,9.0,12.0,13.0,14.0,9.0,9.0,13.0,13.0,13.0,15.0,13.0,11.0,9.0,10.0,10.0,11.0,15.0,13.0,9.0,10.0,13.0,13.0,10.0,10.0,10.0,10.0,13.0,13.0,14.0,10.0,10.0,10.0,12.0,11.0,11.0,12.0,12.0,12.0,12.0,12.0,11.0,11.0,12.0,12.0,12.0,12.0,11.0,12.0,12.0,12.0,12.0,11.0,13.0,12.0,12.0,12.0,11.0,11.0,11.0,11.0,11.0,11.0,10.0,11.0,11.0,11.0,10.0,10.0,11.0,11.0,11.0,11.0,11.0,11.0,10.0,10.0,11.0,10.0,10.0,10.0,10.0,10.0,10.0,11.0,12.0,13.0,11.0,11.0,11.0,11.0,13.0,13.0,11.0,11.0,11.0,11.0,11.0,11.0,14.0,11.0,14.0,11.0,11.0,14.0,10.0,11.0,10.0,12.0,12.0,12.0,13.0,13.0,11.0,14.0,12.0,12.0,14.0,13.0,14.0,14.0,15.0,14.0,13.0,13.0,14.0,14.0,13.0,14.0,12.0,13.0,14.0,15.0,15.0,14.0,11.0,13.0,12.0,12.0,12.0,13.0,11.0,12.0,13.0,12.0,12.0,12.0,13.0,13.0,7.0,10.0,10.0,11.0,11.0,12.0,10.0,10.0,10.0,10.0,11.0,13.0,11.0,12.0,13.0,11.0,12.0,14.0,13.0,13.0,8.0,10.0,10.0,10.0,12.0,10.0,10.0,9.0,10.0,9.0,9.0,11.0,11.0,10.0,10.0,10.0,10.0,10.0,10.0,10.0,10.0,11.0,10.0,10.0,10.0,10.0,9.0,10.0,10.0,11.0,11.0,10.0,10.0,9.0,10.0,10.0,11.0,13.0,10.0,11.0,10.0,10.0,10.0,11.0,13.0,11.0,13.0,11.0,11.0,11.0,12.0,12.0,11.0,11.0,11.0,11.0,11.0,10.0,10.0,11.0,10.0,11.0,11.0,9.0,10.0,12.0,10.0,11.0,11.0,11.0,11.0,11.0,12.0,11.0,12.0,11.0,12.0,11.0,11.0,12.0,11.0,12.0,11.0,12.0,14.0,16.0,11.0,16.0,13.0,13.0,12.0,12.0,12.0,12.0,12.0,12.0,12.0,12.0,12.0,12.0,12.0,12.0,13.0,13.0,11.0,12.0,8.0,8.0,8.0,8.0,8.0,10.0,11.0,8.0,8.0,8.0,8.0,8.0,10.0,10.0,8.0,8.0,8.0,8.0,9.0,11.0,12.0,9.0,10.0,10.0,9.0,10.0,10.0,9.0,9.0,9.0,9.0,9.0,9.0,10.0,10.0,11.0,12.0,9.0,9.0,10.0,9.0,9.0,10.0,12.0,9.0,10.0,9.0,9.0,11.0,12.0,12.0,13.0,9.0,6.0,11.0,11.0,11.0,11.0,11.0,11.0,11.0,12.0,12.0,11.0,11.0,12.0,12.0,10.0,10.0,10.0,10.0,10.0,12.0,10.0,11.0,11.0,10.0,10.0,10.0,10.0,12.0,11.0,10.0,10.0,11.0,11.0,12.0,12.0,11.0,11.0,11.0,11.0,11.0,10.0,12.0,11.0,11.0,12.0,12.0,11.0,11.0,10.0,11.0,11.0,11.0,12.0,10.0,12.0,11.0,12.0,11.0,10.0,10.0,10.0,10.0,11.0,11.0,9.0,11.0,11.0,12.0,11.0,11.0,10.0,10.0,10.0,10.0,10.0,9.0,10.0,10.0,11.0,10.0,11.0,11.0,12.0,13.0,13.0,11.0,11.0,10.0,11.0,13.0,11.0,12.0,11.0,11.0,12.0,11.0,13.0,12.0,13.0,11.0,10.0,12.0,9.0,11.0,13.0,12.0,12.0,11.0,12.0,12.0,12.0,12.0,11.0,12.0,12.0,11.0,12.0,13.0,13.0,13.0,11.0,10.0,10.0,10.0,10.0,10.0,12.0,12.0,11.0,10.0,10.0,10.0,10.0,11.0,13.0,11.0,11.0,10.0,10.0,11.0,12.0,13.0,11.0,10.0,10.0,10.0,10.0,10.0,10.0,11.0,10.0,10.0,10.0,11.0,10.0,11.0,10.0,10.0,10.0,9.0,10.0,11.0,10.0,11.0,11.0,11.0,11.0,11.0,11.0,5.0,11.0,10.0,10.0,10.0,11.0,10.0,11.0,10.0,10.0,13.0,15.0,15.0,16.0,15.0,15.0,7.0,13.0,11.0,11.0,12.0,15.0,14.0,11.0,11.0,11.0,13.0,12.0,12.0,13.0,13.0,15.0,13.0,9.0,13.0,10.0,9.0,9.0,9.0,10.0,9.0,10.0,9.0,10.0,11.0,10.0,9.0,10.0,9.0,10.0,11.0,9.0,9.0,9.0,16.0,13.0,11.0,11.0,10.0,11.0,9.0,12.0,11.0,11.0,11.0,11.0,11.0,10.0,11.0,13.0,11.0,11.0,11.0,11.0,12.0,12.0,12.0,12.0,11.0,13.0,12.0,12.0,10.0,11.0,12.0,12.0,12.0,12.0,12.0,12.0,11.0,12.0,12.0,12.0,12.0,12.0,12.0,10.0,12.0,12.0,11.0,11.0,13.0,12.0,11.0,11.0,11.0,11.0,11.0,10.0,11.0,11.0,9.0,12.0,14.0,13.0,10.0,10.0,10.0,10.0,11.0,10.0,9.0,10.0,13.0,11.0,12.0,12.0,12.0,12.0,11.0,12.0,12.0,13.0,11.0,13.0,11.0,11.0,10.0,10.0,10.0,11.0,11.0,11.0,10.0,11.0,10.0,11.0,10.0,11.0,11.0,11.0,11.0,12.0,11.0,11.0,10.0,11.0,11.0,11.0,11.0,11.0,15.0,14.0,11.0,11.0,11.0,10.0,11.0,15.0,15.0,12.0,11.0,13.0,11.0,12.0,14.0,13.0,14.0,14.0,13.0,15.0,11.0,11.0,15.0,14.0,11.0,12.0,12.0,12.0,15.0,12.0,14.0,11.0,10.0,10.0,11.0,11.0,11.0,11.0,11.0,12.0,12.0,11.0,12.0,11.0,13.0,12.0,11.0,11.0,11.0,10.0,10.0,11.0,10.0,11.0,12.0,11.0,4.0,8.0,6.0,11.0,10.0,12.0,11.0,11.0,10.0,10.0,11.0,4.0,11.0,7.0,12.0,11.0,6.0,12.0,6.0,12.0,12.0,12.0,12.0,12.0,12.0,12.0,13.0,12.0,12.0,12.0,12.0,12.0,10.0,12.0,11.0,13.0,13.0,12.0,13.0,13.0,12.0,12.0,13.0,13.0,13.0,13.0,14.0,12.0,12.0,12.0,12.0,13.0,13.0,12.0,13.0,11.0,5.0,11.0,12.0,13.0,12.0,11.0,11.0,12.0,12.0,12.0,13.0,12.0,13.0,14.0,13.0,13.0,11.0,12.0,11.0,13.0,12.0,11.0,12.0,11.0,11.0,11.0,11.0,12.0,12.0,12.0,12.0,9.0,10.0,11.0,12.0,12.0,11.0,11.0,10.0,11.0,11.0,12.0,11.0,11.0,11.0,11.0,10.0,10.0,8.0,9.0,9.0,9.0,9.0,9.0,9.0,10.0,11.0,10.0,8.0,9.0,9.0,10.0,10.0,9.0,8.0,9.0,9.0,8.0,10.0,10.0,10.0,11.0,12.0,8.0,8.0,8.0,8.0,8.0,10.0,10.0,8.0,8.0,8.0,8.0,8.0,9.0,9.0,8.0,8.0,8.0,8.0,9.0,11.0,13.0,11.0,11.0,11.0,11.0,10.0,11.0,11.0,11.0,10.0,11.0,10.0,12.0,11.0,11.0,10.0,9.0,10.0,10.0,10.0,10.0,10.0,6.0,10.0,10.0,11.0,10.0,10.0,9.0,10.0,10.0,10.0,10.0,10.0,9.0,10.0,13.0,14.0,11.0,11.0,11.0,11.0,11.0,14.0,14.0,11.0,11.0,11.0,11.0,11.0,14.0,14.0,10.0,10.0,10.0,10.0,12.0,12.0,10.0,10.0,13.0,12.0,11.0,12.0,17.0,15.0,12.0,17.0,18.0,18.0,18.0,18.0,12.0,12.0,12.0,1.0,11.0,11.0,12.0,12.0,12.0,12.0,12.0,11.0,11.0,11.0,12.0,10.0,13.0,11.0,11.0,10.0,11.0,11.0,11.0,10.0,12.0,11.0,11.0,10.0,11.0,10.0,10.0,10.0,10.0,10.0,11.0,11.0,11.0,11.0,11.0,7.0,10.0,10.0,9.0,9.0,11.0,11.0,13.0,10.0,10.0,10.0,9.0,8.0,8.0,10.0,11.0,11.0,12.0,10.0,10.0,9.0,10.0,11.0,12.0,11.0,11.0,13.0,12.0,12.0,14.0,13.0,14.0,9.0,10.0,10.0,10.0,11.0,11.0,10.0,10.0,10.0,10.0,11.0,11.0,10.0,12.0,10.0,11.0,10.0,10.0,10.0,11.0,11.0,10.0,11.0,11.0,11.0,11.0,10.0,10.0,10.0,10.0,11.0,12.0,13.0,12.0,12.0,12.0,11.0,12.0,12.0,13.0,12.0,12.0,11.0,12.0,12.0,12.0,12.0,12.0,12.0,12.0,11.0,12.0,11.0,11.0,11.0,14.0,13.0,11.0,11.0,10.0,10.0,11.0,12.0,12.0,10.0,10.0,10.0,10.0,10.0,11.0,11.0,10.0,10.0,12.0,12.0,11.0,12.0,11.0,10.0,10.0,10.0,11.0,12.0,12.0,11.0,10.0,11.0,11.0,13.0,12.0,11.0,11.0,11.0,11.0,11.0,12.0,12.0,9.0,13.0,12.0,12.0,11.0,13.0,12.0,12.0,13.0,12.0,12.0,12.0,13.0,14.0,11.0,12.0,13.0,11.0,12.0,13.0,13.0,12.0,11.0,11.0,13.0,18.0,15.0,13.0,11.0,11.0,13.0,15.0,15.0,13.0,11.0,11.0,11.0,12.0,12.0,13.0,12.0,11.0,11.0,12.0,13.0,14.0,12.0,6.0,12.0,10.0,11.0,11.0,11.0,9.0,11.0,10.0,10.0,10.0,9.0,15.0,14.0,10.0,10.0,10.0,9.0,12.0,13.0,14.0,10.0,10.0,10.0,10.0,12.0,12.0,13.0,11.0,11.0,13.0,9.0,9.0,11.0,14.0,14.0,9.0,10.0,9.0,9.0,10.0,13.0,14.0,9.0,9.0,10.0,9.0,10.0,13.0,11.0,11.0,11.0,11.0,11.0,10.0,11.0,11.0,11.0,10.0,10.0,11.0,10.0,10.0,10.0,5.0,11.0,10.0,10.0,10.0,10.0,11.0,10.0,5.0,9.0,6.0,9.0,7.0,7.0,7.0,5.0,12.0,11.0,11.0,11.0,12.0,12.0,12.0,13.0,11.0,12.0,13.0,11.0,13.0,11.0,12.0,12.0,11.0,11.0,10.0,10.0,10.0,12.0,11.0,13.0,12.0,11.0,11.0,12.0,11.0,12.0,11.0,6.0,11.0,11.0,12.0,12.0,18.0,11.0,10.0,10.0,11.0,11.0,13.0,13.0,11.0,11.0,11.0,10.0,12.0,11.0,11.0,13.0,16.0,12.0,12.0,11.0,12.0,12.0,16.0,13.0,12.0,13.0,13.0,13.0,12.0,13.0,13.0,12.0,12.0,12.0,13.0,14.0,14.0,14.0,17.0,16.0,17.0,18.0,15.0,19.0,14.0,21.0,20.0,17.0,11.0,11.0,11.0,11.0,16.0,11.0,10.0,11.0,10.0,14.0,11.0,11.0,11.0,11.0,10.0,10.0,10.0,13.0,11.0,10.0,13.0,10.0,10.0,10.0,12.0,12.0,11.0,9.0,10.0,11.0,10.0,9.0,11.0,9.0,10.0,12.0,10.0,10.0,9.0,9.0,10.0,11.0,10.0,5.0,5.0,14.0,11.0,11.0,12.0,12.0,11.0,11.0,11.0,11.0,11.0,12.0,13.0,11.0,11.0,11.0,11.0,12.0,13.0,11.0,11.0,11.0,11.0,12.0,11.0,11.0,11.0,12.0,11.0,11.0,10.0,11.0,12.0,11.0,11.0,11.0,12.0,11.0,12.0,11.0,12.0,12.0,11.0,13.0,11.0,11.0,11.0,11.0,11.0,11.0,11.0,11.0,11.0,11.0,11.0,12.0,11.0,11.0,12.0,12.0,11.0,13.0,11.0,11.0,11.0,11.0,10.0,9.0,10.0,9.0,10.0,9.0,10.0,10.0,13.0,12.0,12.0,11.0,13.0,13.0,13.0,14.0,11.0,10.0,11.0,11.0,10.0,13.0,12.0,11.0,10.0,10.0,10.0,10.0,11.0,12.0,10.0,10.0,11.0,10.0,12.0,12.0,13.0,13.0,12.0,11.0,12.0,12.0,12.0,13.0,12.0,12.0,13.0,8.0,11.0,11.0,11.0,12.0,11.0,10.0,11.0,12.0,12.0,13.0,12.0,14.0,14.0,13.0,13.0,12.0,12.0,12.0,17.0,15.0,11.0,13.0,11.0,12.0,8.0,12.0,13.0,12.0,12.0,13.0,11.0,11.0,10.0,11.0,10.0,12.0,13.0,12.0,10.0,10.0,11.0,12.0,13.0,10.0,12.0,11.0,12.0,10.0,10.0,10.0,7.0,10.0,11.0,11.0,10.0,10.0,10.0,11.0,11.0,11.0,12.0,12.0,17.0,14.0,12.0,11.0,11.0,11.0,15.0,16.0,14.0,16.0,11.0,14.0,14.0,13.0,11.0,12.0,10.0,6.0,10.0,13.0,14.0,12.0,11.0,10.0,10.0,9.0,10.0,10.0,10.0,11.0,10.0,11.0,11.0,11.0,11.0,11.0,11.0,11.0,11.0,12.0,11.0,11.0,11.0,11.0,11.0,11.0,13.0,11.0,11.0,13.0,13.0,13.0,12.0,10.0,10.0,10.0,12.0,12.0,9.0,10.0,12.0,14.0,13.0,14.0,12.0,14.0,15.0,15.0,14.0,14.0,14.0,15.0,12.0,15.0,13.0,13.0,12.0,13.0,13.0,13.0,15.0,7.0,15.0,13.0,14.0,15.0,13.0,14.0,7.0,13.0,13.0,12.0,7.0,12.0,12.0,11.0,11.0,11.0,15.0,13.0,12.0,12.0,12.0,12.0,12.0,11.0,11.0,12.0,15.0,15.0,11.0,11.0,11.0,13.0,12.0,11.0,10.0,11.0,10.0,12.0,9.0,6.0,11.0,10.0,10.0,9.0,10.0,9.0,8.0,11.0,9.0,10.0,10.0,13.0,11.0,13.0,11.0,8.0,10.0,10.0,11.0,11.0,10.0,10.0,10.0,10.0,11.0,11.0,10.0,11.0,10.0,10.0,10.0,11.0,13.0,11.0,12.0,11.0,11.0,9.0,12.0,11.0,11.0,11.0,11.0,11.0,11.0,12.0,11.0,11.0,10.0,11.0,10.0,11.0,12.0,11.0,11.0,10.0,11.0,12.0,11.0,11.0,12.0,11.0,11.0,11.0,12.0,12.0,11.0,11.0,11.0,11.0,10.0,10.0,10.0,5.0,5.0,5.0,4.0,10.0,4.0,12.0,11.0,10.0,8.0,10.0,10.0,10.0,11.0,10.0,9.0,10.0,11.0,11.0,11.0,11.0,10.0,9.0,10.0,9.0,11.0,13.0,10.0,11.0,11.0,12.0,11.0,11.0,11.0,11.0,11.0,11.0,12.0,12.0,11.0,12.0,11.0,11.0,12.0,11.0,11.0,10.0,10.0,11.0,12.0,13.0,12.0,14.0,12.0,13.0,12.0,12.0,12.0,12.0,12.0,13.0,12.0,12.0,12.0,13.0,13.0,14.0,13.0,12.0,11.0,11.0,11.0,10.0,11.0,11.0,12.0,12.0,11.0,11.0,11.0,11.0,11.0,11.0,11.0,11.0,11.0,9.0,12.0,11.0,10.0,11.0,10.0,10.0,10.0,12.0,14.0,10.0,10.0,10.0,10.0,10.0,11.0,12.0,10.0,10.0,11.0,13.0,13.0,12.0,12.0,11.0,12.0,6.0,14.0,10.0,11.0,12.0,10.0,10.0,12.0,12.0,10.0,10.0,10.0,13.0,10.0,11.0,12.0,10.0,10.0,10.0,12.0,11.0,12.0,10.0,10.0,13.0,10.0,10.0,10.0,9.0,10.0,10.0,9.0,10.0,10.0,11.0,6.0,11.0,10.0,9.0,10.0,10.0,10.0,10.0,9.0,9.0,10.0,10.0,10.0,11.0,11.0,6.0,10.0,10.0,10.0,10.0,10.0,10.0,10.0,10.0,10.0,10.0,10.0,10.0,10.0,10.0,10.0,12.0,11.0,10.0,10.0,10.0,10.0,11.0,12.0,10.0,10.0,10.0,10.0,10.0,12.0,13.0,10.0,10.0,10.0,10.0,10.0,12.0,10.0,10.0,10.0,10.0,9.0,9.0,9.0,11.0,9.0,10.0,9.0,9.0,10.0,10.0,9.0,10.0,14.0,10.0,10.0,13.0,13.0,11.0,14.0,15.0,15.0,16.0,14.0,10.0,9.0,10.0,10.0,10.0,13.0,13.0,10.0,10.0,10.0,9.0,10.0,12.0,13.0,10.0,11.0,13.0,10.0,10.0,11.0,11.0,13.0,11.0,12.0,10.0,15.0,12.0,12.0,12.0,10.0,10.0,10.0,10.0,10.0,11.0,10.0,11.0,11.0,10.0,11.0,10.0,10.0,11.0,11.0,11.0,11.0,11.0,11.0,9.0,10.0,10.0,10.0,10.0,10.0,11.0,10.0,11.0,11.0,11.0,10.0,10.0,11.0,10.0,10.0,10.0,10.0,10.0,13.0,10.0,10.0,10.0,13.0,13.0,10.0,10.0,13.0,13.0,11.0,11.0,11.0,11.0,10.0,12.0,11.0,10.0,11.0,10.0,10.0,11.0,13.0,13.0,11.0,11.0,11.0,12.0,12.0,13.0,12.0,11.0,11.0,11.0,12.0,12.0,11.0,12.0,13.0,14.0,12.0,12.0,13.0,13.0,12.0,12.0,13.0,11.0,11.0,10.0,11.0,10.0,11.0,9.0,11.0,11.0,11.0,11.0,10.0,12.0,13.0,11.0,11.0,10.0,11.0,10.0,9.0,11.0,12.0,11.0,9.0,9.0,9.0,9.0,9.0,12.0,9.0,9.0,9.0,9.0,9.0,7.0,12.0,9.0,7.0,9.0,10.0,10.0,11.0,11.0,10.0,11.0,10.0,10.0,10.0,11.0,11.0,11.0,10.0,9.0,10.0,11.0,11.0,12.0,11.0,13.0,12.0,12.0,11.0,12.0,12.0,12.0,11.0,12.0,12.0,12.0,14.0,12.0,12.0,11.0,11.0,11.0,11.0,12.0,14.0,13.0,13.0,9.0,14.0,13.0,12.0,11.0,13.0,13.0,8.0,14.0,11.0,14.0,9.0,13.0,11.0,12.0,13.0,10.0,10.0,10.0,16.0,15.0,10.0,12.0,10.0,14.0,14.0,10.0,10.0,10.0,13.0,15.0,10.0,9.0,7.0,14.0,10.0,10.0,10.0,10.0,10.0,11.0,11.0,10.0,10.0,10.0,10.0,10.0,12.0,12.0,11.0,13.0,11.0,11.0,10.0,11.0,11.0,16.0,12.0,14.0,11.0,11.0,11.0,11.0,14.0,14.0,13.0,15.0,15.0,19.0,15.0,14.0,15.0,11.0,12.0,11.0,10.0,10.0,11.0,10.0,11.0,11.0,10.0,11.0,11.0,11.0,11.0,10.0,12.0,14.0,12.0,12.0,11.0,11.0,13.0,11.0,11.0,9.0,11.0,11.0,9.0,11.0,11.0,11.0,11.0,14.0,10.0,13.0,15.0,15.0,9.0,9.0,9.0,9.0,11.0,12.0,10.0,10.0,10.0,11.0,11.0,11.0,11.0,13.0,12.0,11.0,12.0,11.0,12.0,11.0,12.0,11.0,12.0,12.0,9.0,11.0,11.0,11.0,11.0,13.0,13.0,13.0,11.0,11.0,11.0,11.0,9.0,12.0,11.0,7.0,11.0,11.0,11.0,11.0,13.0,15.0,10.0,11.0,9.0,11.0,13.0,12.0,11.0,8.0,11.0,9.0,9.0,9.0,9.0,9.0,9.0,9.0,9.0,9.0,9.0,9.0,9.0,9.0,9.0,8.0,9.0,9.0,9.0,9.0,11.0,11.0,15.0,16.0,11.0,11.0,11.0,14.0,16.0,16.0,16.0,11.0,11.0,11.0,11.0,11.0,16.0,17.0,12.0,11.0,12.0,11.0,11.0,12.0,12.0,11.0,11.0,11.0,11.0,12.0,11.0,11.0,12.0,10.0,10.0,9.0,9.0,10.0,9.0,10.0,11.0,13.0,13.0,12.0,12.0,14.0,11.0,11.0,11.0,11.0,11.0,11.0,10.0,11.0,10.0,12.0,11.0,11.0,12.0,13.0,13.0,11.0,11.0,10.0,11.0,12.0,9.0,11.0,11.0,11.0,12.0,12.0,10.0,10.0,11.0,11.0,11.0,12.0,11.0,10.0,11.0,11.0,11.0,9.0,10.0,13.0,11.0,11.0,11.0,10.0,12.0,11.0,11.0,10.0,8.0,11.0,12.0,11.0,10.0,12.0,13.0,12.0,8.0,12.0,11.0,9.0,11.0,12.0,12.0,11.0,11.0,12.0,12.0,12.0,12.0,12.0,12.0,12.0,5.0,11.0,12.0,11.0,12.0,12.0,11.0,12.0,12.0,12.0,12.0,11.0,12.0,13.0,8.0,13.0],\"type\":\"histogram\",\"xaxis\":\"x2\",\"yaxis\":\"y2\"}],                        {\"template\":{\"data\":{\"histogram2dcontour\":[{\"type\":\"histogram2dcontour\",\"colorbar\":{\"outlinewidth\":0,\"ticks\":\"\"},\"colorscale\":[[0.0,\"#0d0887\"],[0.1111111111111111,\"#46039f\"],[0.2222222222222222,\"#7201a8\"],[0.3333333333333333,\"#9c179e\"],[0.4444444444444444,\"#bd3786\"],[0.5555555555555556,\"#d8576b\"],[0.6666666666666666,\"#ed7953\"],[0.7777777777777778,\"#fb9f3a\"],[0.8888888888888888,\"#fdca26\"],[1.0,\"#f0f921\"]]}],\"choropleth\":[{\"type\":\"choropleth\",\"colorbar\":{\"outlinewidth\":0,\"ticks\":\"\"}}],\"histogram2d\":[{\"type\":\"histogram2d\",\"colorbar\":{\"outlinewidth\":0,\"ticks\":\"\"},\"colorscale\":[[0.0,\"#0d0887\"],[0.1111111111111111,\"#46039f\"],[0.2222222222222222,\"#7201a8\"],[0.3333333333333333,\"#9c179e\"],[0.4444444444444444,\"#bd3786\"],[0.5555555555555556,\"#d8576b\"],[0.6666666666666666,\"#ed7953\"],[0.7777777777777778,\"#fb9f3a\"],[0.8888888888888888,\"#fdca26\"],[1.0,\"#f0f921\"]]}],\"heatmap\":[{\"type\":\"heatmap\",\"colorbar\":{\"outlinewidth\":0,\"ticks\":\"\"},\"colorscale\":[[0.0,\"#0d0887\"],[0.1111111111111111,\"#46039f\"],[0.2222222222222222,\"#7201a8\"],[0.3333333333333333,\"#9c179e\"],[0.4444444444444444,\"#bd3786\"],[0.5555555555555556,\"#d8576b\"],[0.6666666666666666,\"#ed7953\"],[0.7777777777777778,\"#fb9f3a\"],[0.8888888888888888,\"#fdca26\"],[1.0,\"#f0f921\"]]}],\"heatmapgl\":[{\"type\":\"heatmapgl\",\"colorbar\":{\"outlinewidth\":0,\"ticks\":\"\"},\"colorscale\":[[0.0,\"#0d0887\"],[0.1111111111111111,\"#46039f\"],[0.2222222222222222,\"#7201a8\"],[0.3333333333333333,\"#9c179e\"],[0.4444444444444444,\"#bd3786\"],[0.5555555555555556,\"#d8576b\"],[0.6666666666666666,\"#ed7953\"],[0.7777777777777778,\"#fb9f3a\"],[0.8888888888888888,\"#fdca26\"],[1.0,\"#f0f921\"]]}],\"contourcarpet\":[{\"type\":\"contourcarpet\",\"colorbar\":{\"outlinewidth\":0,\"ticks\":\"\"}}],\"contour\":[{\"type\":\"contour\",\"colorbar\":{\"outlinewidth\":0,\"ticks\":\"\"},\"colorscale\":[[0.0,\"#0d0887\"],[0.1111111111111111,\"#46039f\"],[0.2222222222222222,\"#7201a8\"],[0.3333333333333333,\"#9c179e\"],[0.4444444444444444,\"#bd3786\"],[0.5555555555555556,\"#d8576b\"],[0.6666666666666666,\"#ed7953\"],[0.7777777777777778,\"#fb9f3a\"],[0.8888888888888888,\"#fdca26\"],[1.0,\"#f0f921\"]]}],\"surface\":[{\"type\":\"surface\",\"colorbar\":{\"outlinewidth\":0,\"ticks\":\"\"},\"colorscale\":[[0.0,\"#0d0887\"],[0.1111111111111111,\"#46039f\"],[0.2222222222222222,\"#7201a8\"],[0.3333333333333333,\"#9c179e\"],[0.4444444444444444,\"#bd3786\"],[0.5555555555555556,\"#d8576b\"],[0.6666666666666666,\"#ed7953\"],[0.7777777777777778,\"#fb9f3a\"],[0.8888888888888888,\"#fdca26\"],[1.0,\"#f0f921\"]]}],\"mesh3d\":[{\"type\":\"mesh3d\",\"colorbar\":{\"outlinewidth\":0,\"ticks\":\"\"}}],\"scatter\":[{\"fillpattern\":{\"fillmode\":\"overlay\",\"size\":10,\"solidity\":0.2},\"type\":\"scatter\"}],\"parcoords\":[{\"type\":\"parcoords\",\"line\":{\"colorbar\":{\"outlinewidth\":0,\"ticks\":\"\"}}}],\"scatterpolargl\":[{\"type\":\"scatterpolargl\",\"marker\":{\"colorbar\":{\"outlinewidth\":0,\"ticks\":\"\"}}}],\"bar\":[{\"error_x\":{\"color\":\"#2a3f5f\"},\"error_y\":{\"color\":\"#2a3f5f\"},\"marker\":{\"line\":{\"color\":\"#E5ECF6\",\"width\":0.5},\"pattern\":{\"fillmode\":\"overlay\",\"size\":10,\"solidity\":0.2}},\"type\":\"bar\"}],\"scattergeo\":[{\"type\":\"scattergeo\",\"marker\":{\"colorbar\":{\"outlinewidth\":0,\"ticks\":\"\"}}}],\"scatterpolar\":[{\"type\":\"scatterpolar\",\"marker\":{\"colorbar\":{\"outlinewidth\":0,\"ticks\":\"\"}}}],\"histogram\":[{\"marker\":{\"pattern\":{\"fillmode\":\"overlay\",\"size\":10,\"solidity\":0.2}},\"type\":\"histogram\"}],\"scattergl\":[{\"type\":\"scattergl\",\"marker\":{\"colorbar\":{\"outlinewidth\":0,\"ticks\":\"\"}}}],\"scatter3d\":[{\"type\":\"scatter3d\",\"line\":{\"colorbar\":{\"outlinewidth\":0,\"ticks\":\"\"}},\"marker\":{\"colorbar\":{\"outlinewidth\":0,\"ticks\":\"\"}}}],\"scattermapbox\":[{\"type\":\"scattermapbox\",\"marker\":{\"colorbar\":{\"outlinewidth\":0,\"ticks\":\"\"}}}],\"scatterternary\":[{\"type\":\"scatterternary\",\"marker\":{\"colorbar\":{\"outlinewidth\":0,\"ticks\":\"\"}}}],\"scattercarpet\":[{\"type\":\"scattercarpet\",\"marker\":{\"colorbar\":{\"outlinewidth\":0,\"ticks\":\"\"}}}],\"carpet\":[{\"aaxis\":{\"endlinecolor\":\"#2a3f5f\",\"gridcolor\":\"white\",\"linecolor\":\"white\",\"minorgridcolor\":\"white\",\"startlinecolor\":\"#2a3f5f\"},\"baxis\":{\"endlinecolor\":\"#2a3f5f\",\"gridcolor\":\"white\",\"linecolor\":\"white\",\"minorgridcolor\":\"white\",\"startlinecolor\":\"#2a3f5f\"},\"type\":\"carpet\"}],\"table\":[{\"cells\":{\"fill\":{\"color\":\"#EBF0F8\"},\"line\":{\"color\":\"white\"}},\"header\":{\"fill\":{\"color\":\"#C8D4E3\"},\"line\":{\"color\":\"white\"}},\"type\":\"table\"}],\"barpolar\":[{\"marker\":{\"line\":{\"color\":\"#E5ECF6\",\"width\":0.5},\"pattern\":{\"fillmode\":\"overlay\",\"size\":10,\"solidity\":0.2}},\"type\":\"barpolar\"}],\"pie\":[{\"automargin\":true,\"type\":\"pie\"}]},\"layout\":{\"autotypenumbers\":\"strict\",\"colorway\":[\"#636efa\",\"#EF553B\",\"#00cc96\",\"#ab63fa\",\"#FFA15A\",\"#19d3f3\",\"#FF6692\",\"#B6E880\",\"#FF97FF\",\"#FECB52\"],\"font\":{\"color\":\"#2a3f5f\"},\"hovermode\":\"closest\",\"hoverlabel\":{\"align\":\"left\"},\"paper_bgcolor\":\"white\",\"plot_bgcolor\":\"#E5ECF6\",\"polar\":{\"bgcolor\":\"#E5ECF6\",\"angularaxis\":{\"gridcolor\":\"white\",\"linecolor\":\"white\",\"ticks\":\"\"},\"radialaxis\":{\"gridcolor\":\"white\",\"linecolor\":\"white\",\"ticks\":\"\"}},\"ternary\":{\"bgcolor\":\"#E5ECF6\",\"aaxis\":{\"gridcolor\":\"white\",\"linecolor\":\"white\",\"ticks\":\"\"},\"baxis\":{\"gridcolor\":\"white\",\"linecolor\":\"white\",\"ticks\":\"\"},\"caxis\":{\"gridcolor\":\"white\",\"linecolor\":\"white\",\"ticks\":\"\"}},\"coloraxis\":{\"colorbar\":{\"outlinewidth\":0,\"ticks\":\"\"}},\"colorscale\":{\"sequential\":[[0.0,\"#0d0887\"],[0.1111111111111111,\"#46039f\"],[0.2222222222222222,\"#7201a8\"],[0.3333333333333333,\"#9c179e\"],[0.4444444444444444,\"#bd3786\"],[0.5555555555555556,\"#d8576b\"],[0.6666666666666666,\"#ed7953\"],[0.7777777777777778,\"#fb9f3a\"],[0.8888888888888888,\"#fdca26\"],[1.0,\"#f0f921\"]],\"sequentialminus\":[[0.0,\"#0d0887\"],[0.1111111111111111,\"#46039f\"],[0.2222222222222222,\"#7201a8\"],[0.3333333333333333,\"#9c179e\"],[0.4444444444444444,\"#bd3786\"],[0.5555555555555556,\"#d8576b\"],[0.6666666666666666,\"#ed7953\"],[0.7777777777777778,\"#fb9f3a\"],[0.8888888888888888,\"#fdca26\"],[1.0,\"#f0f921\"]],\"diverging\":[[0,\"#8e0152\"],[0.1,\"#c51b7d\"],[0.2,\"#de77ae\"],[0.3,\"#f1b6da\"],[0.4,\"#fde0ef\"],[0.5,\"#f7f7f7\"],[0.6,\"#e6f5d0\"],[0.7,\"#b8e186\"],[0.8,\"#7fbc41\"],[0.9,\"#4d9221\"],[1,\"#276419\"]]},\"xaxis\":{\"gridcolor\":\"white\",\"linecolor\":\"white\",\"ticks\":\"\",\"title\":{\"standoff\":15},\"zerolinecolor\":\"white\",\"automargin\":true,\"zerolinewidth\":2},\"yaxis\":{\"gridcolor\":\"white\",\"linecolor\":\"white\",\"ticks\":\"\",\"title\":{\"standoff\":15},\"zerolinecolor\":\"white\",\"automargin\":true,\"zerolinewidth\":2},\"scene\":{\"xaxis\":{\"backgroundcolor\":\"#E5ECF6\",\"gridcolor\":\"white\",\"linecolor\":\"white\",\"showbackground\":true,\"ticks\":\"\",\"zerolinecolor\":\"white\",\"gridwidth\":2},\"yaxis\":{\"backgroundcolor\":\"#E5ECF6\",\"gridcolor\":\"white\",\"linecolor\":\"white\",\"showbackground\":true,\"ticks\":\"\",\"zerolinecolor\":\"white\",\"gridwidth\":2},\"zaxis\":{\"backgroundcolor\":\"#E5ECF6\",\"gridcolor\":\"white\",\"linecolor\":\"white\",\"showbackground\":true,\"ticks\":\"\",\"zerolinecolor\":\"white\",\"gridwidth\":2}},\"shapedefaults\":{\"line\":{\"color\":\"#2a3f5f\"}},\"annotationdefaults\":{\"arrowcolor\":\"#2a3f5f\",\"arrowhead\":0,\"arrowwidth\":1},\"geo\":{\"bgcolor\":\"white\",\"landcolor\":\"#E5ECF6\",\"subunitcolor\":\"white\",\"showland\":true,\"showlakes\":true,\"lakecolor\":\"white\"},\"title\":{\"x\":0.05},\"mapbox\":{\"style\":\"light\"}}},\"xaxis\":{\"anchor\":\"y\",\"domain\":[0.0,0.45]},\"yaxis\":{\"anchor\":\"x\",\"domain\":[0.0,1.0]},\"xaxis2\":{\"anchor\":\"y2\",\"domain\":[0.55,1.0]},\"yaxis2\":{\"anchor\":\"x2\",\"domain\":[0.0,1.0]},\"annotations\":[{\"font\":{\"size\":16},\"showarrow\":false,\"text\":\"Onset\",\"x\":0.225,\"xanchor\":\"center\",\"xref\":\"paper\",\"y\":1.0,\"yanchor\":\"bottom\",\"yref\":\"paper\"},{\"font\":{\"size\":16},\"showarrow\":false,\"text\":\"Wakeup\",\"x\":0.775,\"xanchor\":\"center\",\"xref\":\"paper\",\"y\":1.0,\"yanchor\":\"bottom\",\"yref\":\"paper\"}]},                        {\"responsive\": true}                    ).then(function(){\n",
       "                            \n",
       "var gd = document.getElementById('d120642b-0345-4fac-9dfc-5ced3f7a8569');\n",
       "var x = new MutationObserver(function (mutations, observer) {{\n",
       "        var display = window.getComputedStyle(gd).display;\n",
       "        if (!display || display === 'none') {{\n",
       "            console.log([gd, 'removed!']);\n",
       "            Plotly.purge(gd);\n",
       "            observer.disconnect();\n",
       "        }}\n",
       "}});\n",
       "\n",
       "// Listen for the removal of the full notebook cells\n",
       "var notebookContainer = gd.closest('#notebook-container');\n",
       "if (notebookContainer) {{\n",
       "    x.observe(notebookContainer, {childList: true});\n",
       "}}\n",
       "\n",
       "// Listen for the clearing of the current output cell\n",
       "var outputEl = gd.closest('.output');\n",
       "if (outputEl) {{\n",
       "    x.observe(outputEl, {childList: true});\n",
       "}}\n",
       "\n",
       "                        })                };                });            </script>        </div>"
      ]
     },
     "metadata": {},
     "output_type": "display_data"
    }
   ],
   "source": [
    "onset_df=train_events[train_events[\"event\"]==\"onset\"]\n",
    "wakeup_df=train_events[train_events[\"event\"]==\"wakeup\"]\n",
    "\n",
    "fig = make_subplots(rows=1, cols=2,  subplot_titles=(\"Onset\", \"Wakeup\"))\n",
    "fig.add_trace(go.Histogram(x=onset_df[\"hour\"].dropna(), nbinsx=24), row=1, col=1)\n",
    "fig.add_trace(go.Histogram(x=wakeup_df[\"hour\"].dropna(), nbinsx=24), row=1, col=2)\n",
    "fig.show()"
   ]
  },
  {
   "cell_type": "markdown",
   "id": "f562e603",
   "metadata": {
    "papermill": {
     "duration": 0.016633,
     "end_time": "2023-10-29T15:30:47.413381",
     "exception": false,
     "start_time": "2023-10-29T15:30:47.396748",
     "status": "completed"
    },
    "tags": []
   },
   "source": [
    "* 0h->10h (0h->15h) = onset\n",
    "* 8h->16h (4h->19h) = wakeup"
   ]
  },
  {
   "cell_type": "code",
   "execution_count": 22,
   "id": "d0f1f1a7",
   "metadata": {
    "execution": {
     "iopub.execute_input": "2023-10-29T15:30:47.448391Z",
     "iopub.status.busy": "2023-10-29T15:30:47.447948Z",
     "iopub.status.idle": "2023-10-29T15:30:47.484599Z",
     "shell.execute_reply": "2023-10-29T15:30:47.483709Z"
    },
    "papermill": {
     "duration": 0.056169,
     "end_time": "2023-10-29T15:30:47.486591",
     "exception": false,
     "start_time": "2023-10-29T15:30:47.430422",
     "status": "completed"
    },
    "tags": []
   },
   "outputs": [
    {
     "data": {
      "text/plain": [
       "series_id     night  event   step      timestamp                  year    month  day   hour  minute\n",
       "038441c925bb  1      onset   4992.0    2018-08-15 02:26:00+00:00  2018.0  8.0    15.0  2.0   26.0      1\n",
       "b4b75225b224  2      onset   23172.0   2018-03-08 00:56:00+00:00  2018.0  3.0    8.0   0.0   56.0      1\n",
       "              3      onset   40536.0   2018-03-09 01:03:00+00:00  2018.0  3.0    9.0   1.0   3.0       1\n",
       "                     wakeup  47880.0   2018-03-09 11:15:00+00:00  2018.0  3.0    9.0   11.0  15.0      1\n",
       "              4      onset   57732.0   2018-03-10 00:56:00+00:00  2018.0  3.0    10.0  0.0   56.0      1\n",
       "                                                                                                      ..\n",
       "55a47ff9dc8a  16     onset   268416.0  2018-03-03 06:48:00+00:00  2018.0  3.0    3.0   6.0   48.0      1\n",
       "                     wakeup  272184.0  2018-03-03 12:02:00+00:00  2018.0  3.0    3.0   12.0  2.0       1\n",
       "              17     onset   282036.0  2018-03-04 01:43:00+00:00  2018.0  3.0    4.0   1.0   43.0      1\n",
       "                     wakeup  289620.0  2018-03-04 12:15:00+00:00  2018.0  3.0    4.0   12.0  15.0      1\n",
       "fe90110788d2  34     wakeup  581604.0  2017-09-07 13:17:00+00:00  2017.0  9.0    7.0   13.0  17.0      1\n",
       "Name: count, Length: 9585, dtype: int64"
      ]
     },
     "execution_count": 22,
     "metadata": {},
     "output_type": "execute_result"
    }
   ],
   "source": [
    "train_events_nonull = train_events.dropna(axis=0)\n",
    "train_events_nonull.value_counts()"
   ]
  },
  {
   "cell_type": "code",
   "execution_count": 23,
   "id": "54289f8e",
   "metadata": {
    "execution": {
     "iopub.execute_input": "2023-10-29T15:30:47.521654Z",
     "iopub.status.busy": "2023-10-29T15:30:47.521326Z",
     "iopub.status.idle": "2023-10-29T15:30:47.540618Z",
     "shell.execute_reply": "2023-10-29T15:30:47.539746Z"
    },
    "papermill": {
     "duration": 0.038934,
     "end_time": "2023-10-29T15:30:47.542530",
     "exception": false,
     "start_time": "2023-10-29T15:30:47.503596",
     "status": "completed"
    },
    "tags": []
   },
   "outputs": [
    {
     "data": {
      "text/html": [
       "<div>\n",
       "<style scoped>\n",
       "    .dataframe tbody tr th:only-of-type {\n",
       "        vertical-align: middle;\n",
       "    }\n",
       "\n",
       "    .dataframe tbody tr th {\n",
       "        vertical-align: top;\n",
       "    }\n",
       "\n",
       "    .dataframe thead th {\n",
       "        text-align: right;\n",
       "    }\n",
       "</style>\n",
       "<table border=\"1\" class=\"dataframe\">\n",
       "  <thead>\n",
       "    <tr style=\"text-align: right;\">\n",
       "      <th></th>\n",
       "      <th></th>\n",
       "      <th>min</th>\n",
       "      <th>max</th>\n",
       "    </tr>\n",
       "    <tr>\n",
       "      <th>series_id</th>\n",
       "      <th>night</th>\n",
       "      <th></th>\n",
       "      <th></th>\n",
       "    </tr>\n",
       "  </thead>\n",
       "  <tbody>\n",
       "    <tr>\n",
       "      <th rowspan=\"5\" valign=\"top\">038441c925bb</th>\n",
       "      <th>1</th>\n",
       "      <td>2018-08-15 02:26:00+00:00</td>\n",
       "      <td>2018-08-15 10:41:00+00:00</td>\n",
       "    </tr>\n",
       "    <tr>\n",
       "      <th>2</th>\n",
       "      <td>2018-08-15 23:37:00+00:00</td>\n",
       "      <td>2018-08-16 09:41:00+00:00</td>\n",
       "    </tr>\n",
       "    <tr>\n",
       "      <th>3</th>\n",
       "      <td>2018-08-17 03:03:00+00:00</td>\n",
       "      <td>2018-08-17 09:10:00+00:00</td>\n",
       "    </tr>\n",
       "    <tr>\n",
       "      <th>4</th>\n",
       "      <td>2018-08-18 03:00:00+00:00</td>\n",
       "      <td>2018-08-18 10:48:00+00:00</td>\n",
       "    </tr>\n",
       "    <tr>\n",
       "      <th>6</th>\n",
       "      <td>2018-08-20 02:18:00+00:00</td>\n",
       "      <td>2018-08-20 11:25:00+00:00</td>\n",
       "    </tr>\n",
       "    <tr>\n",
       "      <th>...</th>\n",
       "      <th>...</th>\n",
       "      <td>...</td>\n",
       "      <td>...</td>\n",
       "    </tr>\n",
       "    <tr>\n",
       "      <th rowspan=\"5\" valign=\"top\">fe90110788d2</th>\n",
       "      <th>30</th>\n",
       "      <td>2017-09-03 03:03:00+00:00</td>\n",
       "      <td>2017-09-03 11:37:00+00:00</td>\n",
       "    </tr>\n",
       "    <tr>\n",
       "      <th>31</th>\n",
       "      <td>2017-09-04 03:41:00+00:00</td>\n",
       "      <td>2017-09-04 12:22:00+00:00</td>\n",
       "    </tr>\n",
       "    <tr>\n",
       "      <th>32</th>\n",
       "      <td>2017-09-05 02:03:00+00:00</td>\n",
       "      <td>2017-09-05 13:26:00+00:00</td>\n",
       "    </tr>\n",
       "    <tr>\n",
       "      <th>33</th>\n",
       "      <td>2017-09-06 02:30:00+00:00</td>\n",
       "      <td>2017-09-06 08:07:00+00:00</td>\n",
       "    </tr>\n",
       "    <tr>\n",
       "      <th>34</th>\n",
       "      <td>2017-09-07 03:35:00+00:00</td>\n",
       "      <td>2017-09-07 13:17:00+00:00</td>\n",
       "    </tr>\n",
       "  </tbody>\n",
       "</table>\n",
       "<p>4795 rows × 2 columns</p>\n",
       "</div>"
      ],
      "text/plain": [
       "                                         min                       max\n",
       "series_id    night                                                    \n",
       "038441c925bb 1     2018-08-15 02:26:00+00:00 2018-08-15 10:41:00+00:00\n",
       "             2     2018-08-15 23:37:00+00:00 2018-08-16 09:41:00+00:00\n",
       "             3     2018-08-17 03:03:00+00:00 2018-08-17 09:10:00+00:00\n",
       "             4     2018-08-18 03:00:00+00:00 2018-08-18 10:48:00+00:00\n",
       "             6     2018-08-20 02:18:00+00:00 2018-08-20 11:25:00+00:00\n",
       "...                                      ...                       ...\n",
       "fe90110788d2 30    2017-09-03 03:03:00+00:00 2017-09-03 11:37:00+00:00\n",
       "             31    2017-09-04 03:41:00+00:00 2017-09-04 12:22:00+00:00\n",
       "             32    2017-09-05 02:03:00+00:00 2017-09-05 13:26:00+00:00\n",
       "             33    2017-09-06 02:30:00+00:00 2017-09-06 08:07:00+00:00\n",
       "             34    2017-09-07 03:35:00+00:00 2017-09-07 13:17:00+00:00\n",
       "\n",
       "[4795 rows x 2 columns]"
      ]
     },
     "execution_count": 23,
     "metadata": {},
     "output_type": "execute_result"
    }
   ],
   "source": [
    "sleep_duration = train_events_nonull.groupby([train_events_nonull['series_id'], train_events_nonull['night']])['timestamp'].agg(['min', 'max'])\n",
    "sleep_duration"
   ]
  },
  {
   "cell_type": "code",
   "execution_count": 24,
   "id": "0da6bb89",
   "metadata": {
    "execution": {
     "iopub.execute_input": "2023-10-29T15:30:47.578321Z",
     "iopub.status.busy": "2023-10-29T15:30:47.578075Z",
     "iopub.status.idle": "2023-10-29T15:30:47.595395Z",
     "shell.execute_reply": "2023-10-29T15:30:47.594498Z"
    },
    "papermill": {
     "duration": 0.03744,
     "end_time": "2023-10-29T15:30:47.597487",
     "exception": false,
     "start_time": "2023-10-29T15:30:47.560047",
     "status": "completed"
    },
    "tags": []
   },
   "outputs": [
    {
     "data": {
      "text/html": [
       "<div>\n",
       "<style scoped>\n",
       "    .dataframe tbody tr th:only-of-type {\n",
       "        vertical-align: middle;\n",
       "    }\n",
       "\n",
       "    .dataframe tbody tr th {\n",
       "        vertical-align: top;\n",
       "    }\n",
       "\n",
       "    .dataframe thead th {\n",
       "        text-align: right;\n",
       "    }\n",
       "</style>\n",
       "<table border=\"1\" class=\"dataframe\">\n",
       "  <thead>\n",
       "    <tr style=\"text-align: right;\">\n",
       "      <th></th>\n",
       "      <th></th>\n",
       "      <th>min</th>\n",
       "      <th>max</th>\n",
       "      <th>duration</th>\n",
       "    </tr>\n",
       "    <tr>\n",
       "      <th>series_id</th>\n",
       "      <th>night</th>\n",
       "      <th></th>\n",
       "      <th></th>\n",
       "      <th></th>\n",
       "    </tr>\n",
       "  </thead>\n",
       "  <tbody>\n",
       "    <tr>\n",
       "      <th rowspan=\"5\" valign=\"top\">038441c925bb</th>\n",
       "      <th>1</th>\n",
       "      <td>2018-08-15 02:26:00+00:00</td>\n",
       "      <td>2018-08-15 10:41:00+00:00</td>\n",
       "      <td>8.250000</td>\n",
       "    </tr>\n",
       "    <tr>\n",
       "      <th>2</th>\n",
       "      <td>2018-08-15 23:37:00+00:00</td>\n",
       "      <td>2018-08-16 09:41:00+00:00</td>\n",
       "      <td>10.066667</td>\n",
       "    </tr>\n",
       "    <tr>\n",
       "      <th>3</th>\n",
       "      <td>2018-08-17 03:03:00+00:00</td>\n",
       "      <td>2018-08-17 09:10:00+00:00</td>\n",
       "      <td>6.116667</td>\n",
       "    </tr>\n",
       "    <tr>\n",
       "      <th>4</th>\n",
       "      <td>2018-08-18 03:00:00+00:00</td>\n",
       "      <td>2018-08-18 10:48:00+00:00</td>\n",
       "      <td>7.800000</td>\n",
       "    </tr>\n",
       "    <tr>\n",
       "      <th>6</th>\n",
       "      <td>2018-08-20 02:18:00+00:00</td>\n",
       "      <td>2018-08-20 11:25:00+00:00</td>\n",
       "      <td>9.116667</td>\n",
       "    </tr>\n",
       "    <tr>\n",
       "      <th>...</th>\n",
       "      <th>...</th>\n",
       "      <td>...</td>\n",
       "      <td>...</td>\n",
       "      <td>...</td>\n",
       "    </tr>\n",
       "    <tr>\n",
       "      <th rowspan=\"5\" valign=\"top\">fe90110788d2</th>\n",
       "      <th>30</th>\n",
       "      <td>2017-09-03 03:03:00+00:00</td>\n",
       "      <td>2017-09-03 11:37:00+00:00</td>\n",
       "      <td>8.566667</td>\n",
       "    </tr>\n",
       "    <tr>\n",
       "      <th>31</th>\n",
       "      <td>2017-09-04 03:41:00+00:00</td>\n",
       "      <td>2017-09-04 12:22:00+00:00</td>\n",
       "      <td>8.683333</td>\n",
       "    </tr>\n",
       "    <tr>\n",
       "      <th>32</th>\n",
       "      <td>2017-09-05 02:03:00+00:00</td>\n",
       "      <td>2017-09-05 13:26:00+00:00</td>\n",
       "      <td>11.383333</td>\n",
       "    </tr>\n",
       "    <tr>\n",
       "      <th>33</th>\n",
       "      <td>2017-09-06 02:30:00+00:00</td>\n",
       "      <td>2017-09-06 08:07:00+00:00</td>\n",
       "      <td>5.616667</td>\n",
       "    </tr>\n",
       "    <tr>\n",
       "      <th>34</th>\n",
       "      <td>2017-09-07 03:35:00+00:00</td>\n",
       "      <td>2017-09-07 13:17:00+00:00</td>\n",
       "      <td>9.700000</td>\n",
       "    </tr>\n",
       "  </tbody>\n",
       "</table>\n",
       "<p>4795 rows × 3 columns</p>\n",
       "</div>"
      ],
      "text/plain": [
       "                                         min                       max  \\\n",
       "series_id    night                                                       \n",
       "038441c925bb 1     2018-08-15 02:26:00+00:00 2018-08-15 10:41:00+00:00   \n",
       "             2     2018-08-15 23:37:00+00:00 2018-08-16 09:41:00+00:00   \n",
       "             3     2018-08-17 03:03:00+00:00 2018-08-17 09:10:00+00:00   \n",
       "             4     2018-08-18 03:00:00+00:00 2018-08-18 10:48:00+00:00   \n",
       "             6     2018-08-20 02:18:00+00:00 2018-08-20 11:25:00+00:00   \n",
       "...                                      ...                       ...   \n",
       "fe90110788d2 30    2017-09-03 03:03:00+00:00 2017-09-03 11:37:00+00:00   \n",
       "             31    2017-09-04 03:41:00+00:00 2017-09-04 12:22:00+00:00   \n",
       "             32    2017-09-05 02:03:00+00:00 2017-09-05 13:26:00+00:00   \n",
       "             33    2017-09-06 02:30:00+00:00 2017-09-06 08:07:00+00:00   \n",
       "             34    2017-09-07 03:35:00+00:00 2017-09-07 13:17:00+00:00   \n",
       "\n",
       "                     duration  \n",
       "series_id    night             \n",
       "038441c925bb 1       8.250000  \n",
       "             2      10.066667  \n",
       "             3       6.116667  \n",
       "             4       7.800000  \n",
       "             6       9.116667  \n",
       "...                       ...  \n",
       "fe90110788d2 30      8.566667  \n",
       "             31      8.683333  \n",
       "             32     11.383333  \n",
       "             33      5.616667  \n",
       "             34      9.700000  \n",
       "\n",
       "[4795 rows x 3 columns]"
      ]
     },
     "execution_count": 24,
     "metadata": {},
     "output_type": "execute_result"
    }
   ],
   "source": [
    "sleep_duration['duration'] = ((sleep_duration['max'] - sleep_duration['min']).dt.seconds/3600)\n",
    "sleep_duration"
   ]
  },
  {
   "cell_type": "code",
   "execution_count": 25,
   "id": "84d2c803",
   "metadata": {
    "execution": {
     "iopub.execute_input": "2023-10-29T15:30:47.634953Z",
     "iopub.status.busy": "2023-10-29T15:30:47.634642Z",
     "iopub.status.idle": "2023-10-29T15:30:47.955705Z",
     "shell.execute_reply": "2023-10-29T15:30:47.954737Z"
    },
    "papermill": {
     "duration": 0.342767,
     "end_time": "2023-10-29T15:30:47.958958",
     "exception": false,
     "start_time": "2023-10-29T15:30:47.616191",
     "status": "completed"
    },
    "tags": []
   },
   "outputs": [
    {
     "data": {
      "image/png": "[encoded data removed]",
      "text/plain": [
       "<Figure size 640x480 with 1 Axes>"
      ]
     },
     "metadata": {},
     "output_type": "display_data"
    }
   ],
   "source": [
    "plt.hist(x=sleep_duration['duration'], bins=[t for t in range(24)])\n",
    "plt.show()"
   ]
  },
  {
   "cell_type": "code",
   "execution_count": 26,
   "id": "f621d041",
   "metadata": {
    "execution": {
     "iopub.execute_input": "2023-10-29T15:30:47.996839Z",
     "iopub.status.busy": "2023-10-29T15:30:47.996576Z",
     "iopub.status.idle": "2023-10-29T15:30:48.659431Z",
     "shell.execute_reply": "2023-10-29T15:30:48.658600Z"
    },
    "papermill": {
     "duration": 0.68427,
     "end_time": "2023-10-29T15:30:48.661967",
     "exception": false,
     "start_time": "2023-10-29T15:30:47.977697",
     "status": "completed"
    },
    "tags": []
   },
   "outputs": [],
   "source": [
    "import plotly.express as px"
   ]
  },
  {
   "cell_type": "markdown",
   "id": "4fdc3f0c",
   "metadata": {
    "papermill": {
     "duration": 0.018555,
     "end_time": "2023-10-29T15:30:48.699986",
     "exception": false,
     "start_time": "2023-10-29T15:30:48.681431",
     "status": "completed"
    },
    "tags": []
   },
   "source": [
    "## Step size in each Series"
   ]
  },
  {
   "cell_type": "markdown",
   "id": "ce3ace93",
   "metadata": {
    "papermill": {
     "duration": 0.018486,
     "end_time": "2023-10-29T15:30:48.737105",
     "exception": false,
     "start_time": "2023-10-29T15:30:48.718619",
     "status": "completed"
    },
    "tags": []
   },
   "source": [
    "* Don't show the step between each step, because of missing value"
   ]
  },
  {
   "cell_type": "code",
   "execution_count": 27,
   "id": "c1f9c3ff",
   "metadata": {
    "execution": {
     "iopub.execute_input": "2023-10-29T15:30:48.776729Z",
     "iopub.status.busy": "2023-10-29T15:30:48.775923Z",
     "iopub.status.idle": "2023-10-29T15:30:48.794812Z",
     "shell.execute_reply": "2023-10-29T15:30:48.793779Z"
    },
    "papermill": {
     "duration": 0.040816,
     "end_time": "2023-10-29T15:30:48.796847",
     "exception": false,
     "start_time": "2023-10-29T15:30:48.756031",
     "status": "completed"
    },
    "tags": []
   },
   "outputs": [
    {
     "data": {
      "text/html": [
       "<div>\n",
       "<style scoped>\n",
       "    .dataframe tbody tr th:only-of-type {\n",
       "        vertical-align: middle;\n",
       "    }\n",
       "\n",
       "    .dataframe tbody tr th {\n",
       "        vertical-align: top;\n",
       "    }\n",
       "\n",
       "    .dataframe thead th {\n",
       "        text-align: right;\n",
       "    }\n",
       "</style>\n",
       "<table border=\"1\" class=\"dataframe\">\n",
       "  <thead>\n",
       "    <tr style=\"text-align: right;\">\n",
       "      <th></th>\n",
       "      <th>min</th>\n",
       "      <th>max</th>\n",
       "    </tr>\n",
       "    <tr>\n",
       "      <th>series_id</th>\n",
       "      <th></th>\n",
       "      <th></th>\n",
       "    </tr>\n",
       "  </thead>\n",
       "  <tbody>\n",
       "    <tr>\n",
       "      <th>038441c925bb</th>\n",
       "      <td>4992.0</td>\n",
       "      <td>369912.0</td>\n",
       "    </tr>\n",
       "    <tr>\n",
       "      <th>03d92c9f6f8a</th>\n",
       "      <td>5928.0</td>\n",
       "      <td>255060.0</td>\n",
       "    </tr>\n",
       "    <tr>\n",
       "      <th>0402a003dae9</th>\n",
       "      <td>8364.0</td>\n",
       "      <td>376920.0</td>\n",
       "    </tr>\n",
       "    <tr>\n",
       "      <th>04f547b8017d</th>\n",
       "      <td>23484.0</td>\n",
       "      <td>446400.0</td>\n",
       "    </tr>\n",
       "    <tr>\n",
       "      <th>05e1944c3818</th>\n",
       "      <td>20520.0</td>\n",
       "      <td>131352.0</td>\n",
       "    </tr>\n",
       "    <tr>\n",
       "      <th>...</th>\n",
       "      <td>...</td>\n",
       "      <td>...</td>\n",
       "    </tr>\n",
       "    <tr>\n",
       "      <th>fa149c3c4bde</th>\n",
       "      <td>3012.0</td>\n",
       "      <td>406080.0</td>\n",
       "    </tr>\n",
       "    <tr>\n",
       "      <th>fb223ed2278c</th>\n",
       "      <td>7536.0</td>\n",
       "      <td>153564.0</td>\n",
       "    </tr>\n",
       "    <tr>\n",
       "      <th>fbf33b1a2c10</th>\n",
       "      <td>23412.0</td>\n",
       "      <td>409044.0</td>\n",
       "    </tr>\n",
       "    <tr>\n",
       "      <th>fcca183903b7</th>\n",
       "      <td>6300.0</td>\n",
       "      <td>602136.0</td>\n",
       "    </tr>\n",
       "    <tr>\n",
       "      <th>fe90110788d2</th>\n",
       "      <td>21048.0</td>\n",
       "      <td>581604.0</td>\n",
       "    </tr>\n",
       "  </tbody>\n",
       "</table>\n",
       "<p>277 rows × 2 columns</p>\n",
       "</div>"
      ],
      "text/plain": [
       "                  min       max\n",
       "series_id                      \n",
       "038441c925bb   4992.0  369912.0\n",
       "03d92c9f6f8a   5928.0  255060.0\n",
       "0402a003dae9   8364.0  376920.0\n",
       "04f547b8017d  23484.0  446400.0\n",
       "05e1944c3818  20520.0  131352.0\n",
       "...               ...       ...\n",
       "fa149c3c4bde   3012.0  406080.0\n",
       "fb223ed2278c   7536.0  153564.0\n",
       "fbf33b1a2c10  23412.0  409044.0\n",
       "fcca183903b7   6300.0  602136.0\n",
       "fe90110788d2  21048.0  581604.0\n",
       "\n",
       "[277 rows x 2 columns]"
      ]
     },
     "execution_count": 27,
     "metadata": {},
     "output_type": "execute_result"
    }
   ],
   "source": [
    "step_duration = train_events.groupby('series_id')['step'].agg(['min','max'])\n",
    "step_duration"
   ]
  },
  {
   "cell_type": "code",
   "execution_count": 28,
   "id": "24efb02a",
   "metadata": {
    "execution": {
     "iopub.execute_input": "2023-10-29T15:30:48.836586Z",
     "iopub.status.busy": "2023-10-29T15:30:48.835938Z",
     "iopub.status.idle": "2023-10-29T15:30:48.845843Z",
     "shell.execute_reply": "2023-10-29T15:30:48.844605Z"
    },
    "papermill": {
     "duration": 0.032347,
     "end_time": "2023-10-29T15:30:48.848259",
     "exception": false,
     "start_time": "2023-10-29T15:30:48.815912",
     "status": "completed"
    },
    "tags": []
   },
   "outputs": [
    {
     "data": {
      "text/plain": [
       "series_id\n",
       "038441c925bb    364920.0\n",
       "03d92c9f6f8a    249132.0\n",
       "0402a003dae9    368556.0\n",
       "04f547b8017d    422916.0\n",
       "05e1944c3818    110832.0\n",
       "                  ...   \n",
       "fa149c3c4bde    403068.0\n",
       "fb223ed2278c    146028.0\n",
       "fbf33b1a2c10    385632.0\n",
       "fcca183903b7    595836.0\n",
       "fe90110788d2    560556.0\n",
       "Length: 277, dtype: float64"
      ]
     },
     "execution_count": 28,
     "metadata": {},
     "output_type": "execute_result"
    }
   ],
   "source": [
    "step_by_series = step_duration['max'] - step_duration['min']\n",
    "step_by_series"
   ]
  },
  {
   "cell_type": "code",
   "execution_count": 29,
   "id": "28717da2",
   "metadata": {
    "execution": {
     "iopub.execute_input": "2023-10-29T15:30:48.890189Z",
     "iopub.status.busy": "2023-10-29T15:30:48.889798Z",
     "iopub.status.idle": "2023-10-29T15:30:50.041266Z",
     "shell.execute_reply": "2023-10-29T15:30:50.040324Z"
    },
    "papermill": {
     "duration": 1.175026,
     "end_time": "2023-10-29T15:30:50.043319",
     "exception": false,
     "start_time": "2023-10-29T15:30:48.868293",
     "status": "completed"
    },
    "tags": []
   },
   "outputs": [
    {
     "data": {
      "text/html": [
       "<div>                            <div id=\"822e25d4-3dd0-49d9-8573-f3f6d498d46e\" class=\"plotly-graph-div\" style=\"height:525px; width:100%;\"></div>            <script type=\"text/javascript\">                require([\"plotly\"], function(Plotly) {                    window.PLOTLYENV=window.PLOTLYENV || {};                                    if (document.getElementById(\"822e25d4-3dd0-49d9-8573-f3f6d498d46e\")) {                    Plotly.newPlot(                        \"822e25d4-3dd0-49d9-8573-f3f6d498d46e\",                        [{\"alignmentgroup\":\"True\",\"bingroup\":\"x\",\"hovertemplate\":\"variable=0\\u003cbr\\u003evalue=%{x}\\u003cbr\\u003ecount=%{y}\\u003cextra\\u003e\\u003c\\u002fextra\\u003e\",\"legendgroup\":\"0\",\"marker\":{\"color\":\"#636efa\",\"pattern\":{\"shape\":\"\"}},\"name\":\"0\",\"offsetgroup\":\"0\",\"orientation\":\"v\",\"showlegend\":true,\"x\":[364920.0,249132.0,368556.0,422916.0,110832.0,212376.0,456372.0,423336.0,248004.0,213288.0,539232.0,352560.0,386184.0,404028.0,559296.0,347940.0,473856.0,null,55608.0,403356.0,385044.0,473544.0,559788.0,57708.0,472752.0,58296.0,436248.0,526608.0,368592.0,420252.0,351192.0,370680.0,508440.0,490776.0,490788.0,371748.0,106104.0,525984.0,144696.0,457740.0,351852.0,611172.0,125004.0,369108.0,595512.0,539976.0,437340.0,386892.0,437544.0,539508.0,229392.0,231576.0,317124.0,369684.0,null,180540.0,576648.0,404544.0,522636.0,20880.0,231396.0,334548.0,370836.0,334296.0,null,92076.0,574440.0,389496.0,284604.0,374040.0,386412.0,266172.0,40044.0,386400.0,591924.0,387324.0,244956.0,387720.0,367296.0,279768.0,491712.0,404220.0,336468.0,332640.0,560148.0,369360.0,505332.0,367680.0,370092.0,386784.0,387852.0,543060.0,560664.0,6156.0,402516.0,319032.0,351816.0,108132.0,350760.0,370032.0,387348.0,579828.0,544428.0,249120.0,57708.0,231348.0,558216.0,370416.0,370344.0,473712.0,559704.0,388308.0,678336.0,646956.0,387084.0,387540.0,129588.0,369504.0,370440.0,508164.0,164796.0,19008.0,387360.0,351804.0,401796.0,540804.0,402396.0,194052.0,402120.0,368100.0,368448.0,387396.0,367200.0,179100.0,386832.0,267096.0,267696.0,351852.0,130320.0,421116.0,null,540756.0,387180.0,439296.0,178560.0,214992.0,385536.0,213528.0,366792.0,214836.0,454368.0,386592.0,91212.0,352680.0,404124.0,420132.0,384480.0,179304.0,491316.0,159948.0,366852.0,356748.0,352380.0,367908.0,352572.0,300480.0,320172.0,4656.0,null,387132.0,213804.0,406740.0,385488.0,40992.0,594036.0,145812.0,367440.0,473352.0,5016.0,404304.0,421572.0,384852.0,383976.0,248076.0,437784.0,376632.0,59280.0,317652.0,90180.0,317460.0,365844.0,367020.0,525108.0,352992.0,370680.0,6216.0,543264.0,353880.0,561600.0,126396.0,5088.0,null,388860.0,300504.0,455700.0,null,388296.0,230916.0,351660.0,298524.0,386088.0,264648.0,369528.0,558948.0,48384.0,403116.0,4692.0,507984.0,732360.0,591480.0,386760.0,351456.0,244968.0,404472.0,247224.0,227256.0,232980.0,387876.0,404472.0,366252.0,230352.0,264444.0,421260.0,404280.0,508152.0,577716.0,335640.0,439392.0,386820.0,299184.0,558132.0,349560.0,null,384456.0,421932.0,387420.0,386340.0,332688.0,371256.0,127404.0,612000.0,351996.0,195528.0,386232.0,541272.0,348852.0,576672.0,368280.0,522648.0,350964.0,352404.0,443172.0,106728.0,265956.0,369720.0,336756.0,231672.0,351444.0,369768.0,388836.0,368580.0,24708.0,403068.0,146028.0,385632.0,595836.0,560556.0],\"xaxis\":\"x\",\"yaxis\":\"y\",\"type\":\"histogram\"}],                        {\"template\":{\"data\":{\"histogram2dcontour\":[{\"type\":\"histogram2dcontour\",\"colorbar\":{\"outlinewidth\":0,\"ticks\":\"\"},\"colorscale\":[[0.0,\"#0d0887\"],[0.1111111111111111,\"#46039f\"],[0.2222222222222222,\"#7201a8\"],[0.3333333333333333,\"#9c179e\"],[0.4444444444444444,\"#bd3786\"],[0.5555555555555556,\"#d8576b\"],[0.6666666666666666,\"#ed7953\"],[0.7777777777777778,\"#fb9f3a\"],[0.8888888888888888,\"#fdca26\"],[1.0,\"#f0f921\"]]}],\"choropleth\":[{\"type\":\"choropleth\",\"colorbar\":{\"outlinewidth\":0,\"ticks\":\"\"}}],\"histogram2d\":[{\"type\":\"histogram2d\",\"colorbar\":{\"outlinewidth\":0,\"ticks\":\"\"},\"colorscale\":[[0.0,\"#0d0887\"],[0.1111111111111111,\"#46039f\"],[0.2222222222222222,\"#7201a8\"],[0.3333333333333333,\"#9c179e\"],[0.4444444444444444,\"#bd3786\"],[0.5555555555555556,\"#d8576b\"],[0.6666666666666666,\"#ed7953\"],[0.7777777777777778,\"#fb9f3a\"],[0.8888888888888888,\"#fdca26\"],[1.0,\"#f0f921\"]]}],\"heatmap\":[{\"type\":\"heatmap\",\"colorbar\":{\"outlinewidth\":0,\"ticks\":\"\"},\"colorscale\":[[0.0,\"#0d0887\"],[0.1111111111111111,\"#46039f\"],[0.2222222222222222,\"#7201a8\"],[0.3333333333333333,\"#9c179e\"],[0.4444444444444444,\"#bd3786\"],[0.5555555555555556,\"#d8576b\"],[0.6666666666666666,\"#ed7953\"],[0.7777777777777778,\"#fb9f3a\"],[0.8888888888888888,\"#fdca26\"],[1.0,\"#f0f921\"]]}],\"heatmapgl\":[{\"type\":\"heatmapgl\",\"colorbar\":{\"outlinewidth\":0,\"ticks\":\"\"},\"colorscale\":[[0.0,\"#0d0887\"],[0.1111111111111111,\"#46039f\"],[0.2222222222222222,\"#7201a8\"],[0.3333333333333333,\"#9c179e\"],[0.4444444444444444,\"#bd3786\"],[0.5555555555555556,\"#d8576b\"],[0.6666666666666666,\"#ed7953\"],[0.7777777777777778,\"#fb9f3a\"],[0.8888888888888888,\"#fdca26\"],[1.0,\"#f0f921\"]]}],\"contourcarpet\":[{\"type\":\"contourcarpet\",\"colorbar\":{\"outlinewidth\":0,\"ticks\":\"\"}}],\"contour\":[{\"type\":\"contour\",\"colorbar\":{\"outlinewidth\":0,\"ticks\":\"\"},\"colorscale\":[[0.0,\"#0d0887\"],[0.1111111111111111,\"#46039f\"],[0.2222222222222222,\"#7201a8\"],[0.3333333333333333,\"#9c179e\"],[0.4444444444444444,\"#bd3786\"],[0.5555555555555556,\"#d8576b\"],[0.6666666666666666,\"#ed7953\"],[0.7777777777777778,\"#fb9f3a\"],[0.8888888888888888,\"#fdca26\"],[1.0,\"#f0f921\"]]}],\"surface\":[{\"type\":\"surface\",\"colorbar\":{\"outlinewidth\":0,\"ticks\":\"\"},\"colorscale\":[[0.0,\"#0d0887\"],[0.1111111111111111,\"#46039f\"],[0.2222222222222222,\"#7201a8\"],[0.3333333333333333,\"#9c179e\"],[0.4444444444444444,\"#bd3786\"],[0.5555555555555556,\"#d8576b\"],[0.6666666666666666,\"#ed7953\"],[0.7777777777777778,\"#fb9f3a\"],[0.8888888888888888,\"#fdca26\"],[1.0,\"#f0f921\"]]}],\"mesh3d\":[{\"type\":\"mesh3d\",\"colorbar\":{\"outlinewidth\":0,\"ticks\":\"\"}}],\"scatter\":[{\"fillpattern\":{\"fillmode\":\"overlay\",\"size\":10,\"solidity\":0.2},\"type\":\"scatter\"}],\"parcoords\":[{\"type\":\"parcoords\",\"line\":{\"colorbar\":{\"outlinewidth\":0,\"ticks\":\"\"}}}],\"scatterpolargl\":[{\"type\":\"scatterpolargl\",\"marker\":{\"colorbar\":{\"outlinewidth\":0,\"ticks\":\"\"}}}],\"bar\":[{\"error_x\":{\"color\":\"#2a3f5f\"},\"error_y\":{\"color\":\"#2a3f5f\"},\"marker\":{\"line\":{\"color\":\"#E5ECF6\",\"width\":0.5},\"pattern\":{\"fillmode\":\"overlay\",\"size\":10,\"solidity\":0.2}},\"type\":\"bar\"}],\"scattergeo\":[{\"type\":\"scattergeo\",\"marker\":{\"colorbar\":{\"outlinewidth\":0,\"ticks\":\"\"}}}],\"scatterpolar\":[{\"type\":\"scatterpolar\",\"marker\":{\"colorbar\":{\"outlinewidth\":0,\"ticks\":\"\"}}}],\"histogram\":[{\"marker\":{\"pattern\":{\"fillmode\":\"overlay\",\"size\":10,\"solidity\":0.2}},\"type\":\"histogram\"}],\"scattergl\":[{\"type\":\"scattergl\",\"marker\":{\"colorbar\":{\"outlinewidth\":0,\"ticks\":\"\"}}}],\"scatter3d\":[{\"type\":\"scatter3d\",\"line\":{\"colorbar\":{\"outlinewidth\":0,\"ticks\":\"\"}},\"marker\":{\"colorbar\":{\"outlinewidth\":0,\"ticks\":\"\"}}}],\"scattermapbox\":[{\"type\":\"scattermapbox\",\"marker\":{\"colorbar\":{\"outlinewidth\":0,\"ticks\":\"\"}}}],\"scatterternary\":[{\"type\":\"scatterternary\",\"marker\":{\"colorbar\":{\"outlinewidth\":0,\"ticks\":\"\"}}}],\"scattercarpet\":[{\"type\":\"scattercarpet\",\"marker\":{\"colorbar\":{\"outlinewidth\":0,\"ticks\":\"\"}}}],\"carpet\":[{\"aaxis\":{\"endlinecolor\":\"#2a3f5f\",\"gridcolor\":\"white\",\"linecolor\":\"white\",\"minorgridcolor\":\"white\",\"startlinecolor\":\"#2a3f5f\"},\"baxis\":{\"endlinecolor\":\"#2a3f5f\",\"gridcolor\":\"white\",\"linecolor\":\"white\",\"minorgridcolor\":\"white\",\"startlinecolor\":\"#2a3f5f\"},\"type\":\"carpet\"}],\"table\":[{\"cells\":{\"fill\":{\"color\":\"#EBF0F8\"},\"line\":{\"color\":\"white\"}},\"header\":{\"fill\":{\"color\":\"#C8D4E3\"},\"line\":{\"color\":\"white\"}},\"type\":\"table\"}],\"barpolar\":[{\"marker\":{\"line\":{\"color\":\"#E5ECF6\",\"width\":0.5},\"pattern\":{\"fillmode\":\"overlay\",\"size\":10,\"solidity\":0.2}},\"type\":\"barpolar\"}],\"pie\":[{\"automargin\":true,\"type\":\"pie\"}]},\"layout\":{\"autotypenumbers\":\"strict\",\"colorway\":[\"#636efa\",\"#EF553B\",\"#00cc96\",\"#ab63fa\",\"#FFA15A\",\"#19d3f3\",\"#FF6692\",\"#B6E880\",\"#FF97FF\",\"#FECB52\"],\"font\":{\"color\":\"#2a3f5f\"},\"hovermode\":\"closest\",\"hoverlabel\":{\"align\":\"left\"},\"paper_bgcolor\":\"white\",\"plot_bgcolor\":\"#E5ECF6\",\"polar\":{\"bgcolor\":\"#E5ECF6\",\"angularaxis\":{\"gridcolor\":\"white\",\"linecolor\":\"white\",\"ticks\":\"\"},\"radialaxis\":{\"gridcolor\":\"white\",\"linecolor\":\"white\",\"ticks\":\"\"}},\"ternary\":{\"bgcolor\":\"#E5ECF6\",\"aaxis\":{\"gridcolor\":\"white\",\"linecolor\":\"white\",\"ticks\":\"\"},\"baxis\":{\"gridcolor\":\"white\",\"linecolor\":\"white\",\"ticks\":\"\"},\"caxis\":{\"gridcolor\":\"white\",\"linecolor\":\"white\",\"ticks\":\"\"}},\"coloraxis\":{\"colorbar\":{\"outlinewidth\":0,\"ticks\":\"\"}},\"colorscale\":{\"sequential\":[[0.0,\"#0d0887\"],[0.1111111111111111,\"#46039f\"],[0.2222222222222222,\"#7201a8\"],[0.3333333333333333,\"#9c179e\"],[0.4444444444444444,\"#bd3786\"],[0.5555555555555556,\"#d8576b\"],[0.6666666666666666,\"#ed7953\"],[0.7777777777777778,\"#fb9f3a\"],[0.8888888888888888,\"#fdca26\"],[1.0,\"#f0f921\"]],\"sequentialminus\":[[0.0,\"#0d0887\"],[0.1111111111111111,\"#46039f\"],[0.2222222222222222,\"#7201a8\"],[0.3333333333333333,\"#9c179e\"],[0.4444444444444444,\"#bd3786\"],[0.5555555555555556,\"#d8576b\"],[0.6666666666666666,\"#ed7953\"],[0.7777777777777778,\"#fb9f3a\"],[0.8888888888888888,\"#fdca26\"],[1.0,\"#f0f921\"]],\"diverging\":[[0,\"#8e0152\"],[0.1,\"#c51b7d\"],[0.2,\"#de77ae\"],[0.3,\"#f1b6da\"],[0.4,\"#fde0ef\"],[0.5,\"#f7f7f7\"],[0.6,\"#e6f5d0\"],[0.7,\"#b8e186\"],[0.8,\"#7fbc41\"],[0.9,\"#4d9221\"],[1,\"#276419\"]]},\"xaxis\":{\"gridcolor\":\"white\",\"linecolor\":\"white\",\"ticks\":\"\",\"title\":{\"standoff\":15},\"zerolinecolor\":\"white\",\"automargin\":true,\"zerolinewidth\":2},\"yaxis\":{\"gridcolor\":\"white\",\"linecolor\":\"white\",\"ticks\":\"\",\"title\":{\"standoff\":15},\"zerolinecolor\":\"white\",\"automargin\":true,\"zerolinewidth\":2},\"scene\":{\"xaxis\":{\"backgroundcolor\":\"#E5ECF6\",\"gridcolor\":\"white\",\"linecolor\":\"white\",\"showbackground\":true,\"ticks\":\"\",\"zerolinecolor\":\"white\",\"gridwidth\":2},\"yaxis\":{\"backgroundcolor\":\"#E5ECF6\",\"gridcolor\":\"white\",\"linecolor\":\"white\",\"showbackground\":true,\"ticks\":\"\",\"zerolinecolor\":\"white\",\"gridwidth\":2},\"zaxis\":{\"backgroundcolor\":\"#E5ECF6\",\"gridcolor\":\"white\",\"linecolor\":\"white\",\"showbackground\":true,\"ticks\":\"\",\"zerolinecolor\":\"white\",\"gridwidth\":2}},\"shapedefaults\":{\"line\":{\"color\":\"#2a3f5f\"}},\"annotationdefaults\":{\"arrowcolor\":\"#2a3f5f\",\"arrowhead\":0,\"arrowwidth\":1},\"geo\":{\"bgcolor\":\"white\",\"landcolor\":\"#E5ECF6\",\"subunitcolor\":\"white\",\"showland\":true,\"showlakes\":true,\"lakecolor\":\"white\"},\"title\":{\"x\":0.05},\"mapbox\":{\"style\":\"light\"}}},\"xaxis\":{\"anchor\":\"y\",\"domain\":[0.0,1.0],\"title\":{\"text\":\"value\"}},\"yaxis\":{\"anchor\":\"x\",\"domain\":[0.0,1.0],\"title\":{\"text\":\"count\"}},\"legend\":{\"title\":{\"text\":\"variable\"},\"tracegroupgap\":0},\"margin\":{\"t\":60},\"barmode\":\"relative\"},                        {\"responsive\": true}                    ).then(function(){\n",
       "                            \n",
       "var gd = document.getElementById('822e25d4-3dd0-49d9-8573-f3f6d498d46e');\n",
       "var x = new MutationObserver(function (mutations, observer) {{\n",
       "        var display = window.getComputedStyle(gd).display;\n",
       "        if (!display || display === 'none') {{\n",
       "            console.log([gd, 'removed!']);\n",
       "            Plotly.purge(gd);\n",
       "            observer.disconnect();\n",
       "        }}\n",
       "}});\n",
       "\n",
       "// Listen for the removal of the full notebook cells\n",
       "var notebookContainer = gd.closest('#notebook-container');\n",
       "if (notebookContainer) {{\n",
       "    x.observe(notebookContainer, {childList: true});\n",
       "}}\n",
       "\n",
       "// Listen for the clearing of the current output cell\n",
       "var outputEl = gd.closest('.output');\n",
       "if (outputEl) {{\n",
       "    x.observe(outputEl, {childList: true});\n",
       "}}\n",
       "\n",
       "                        })                };                });            </script>        </div>"
      ]
     },
     "metadata": {},
     "output_type": "display_data"
    }
   ],
   "source": [
    "step_histo = px.histogram(step_by_series)\n",
    "step_histo.show()"
   ]
  },
  {
   "cell_type": "markdown",
   "id": "5a1e412f",
   "metadata": {
    "papermill": {
     "duration": 0.018992,
     "end_time": "2023-10-29T15:30:50.081878",
     "exception": false,
     "start_time": "2023-10-29T15:30:50.062886",
     "status": "completed"
    },
    "tags": []
   },
   "source": [
    "# **2. Train Series Analyse**"
   ]
  },
  {
   "cell_type": "code",
   "execution_count": 30,
   "id": "4e215f74",
   "metadata": {
    "execution": {
     "iopub.execute_input": "2023-10-29T15:30:50.124107Z",
     "iopub.status.busy": "2023-10-29T15:30:50.123716Z",
     "iopub.status.idle": "2023-10-29T15:31:39.835056Z",
     "shell.execute_reply": "2023-10-29T15:31:39.833974Z"
    },
    "papermill": {
     "duration": 49.73596,
     "end_time": "2023-10-29T15:31:39.838119",
     "exception": false,
     "start_time": "2023-10-29T15:30:50.102159",
     "status": "completed"
    },
    "tags": []
   },
   "outputs": [],
   "source": [
    "train_series = pd.read_parquet('/kaggle/input/child-mind-institute-detect-sleep-states/train_series.parquet')"
   ]
  },
  {
   "cell_type": "code",
   "execution_count": 31,
   "id": "e99f9023",
   "metadata": {
    "execution": {
     "iopub.execute_input": "2023-10-29T15:31:39.886300Z",
     "iopub.status.busy": "2023-10-29T15:31:39.885669Z",
     "iopub.status.idle": "2023-10-29T15:31:39.894823Z",
     "shell.execute_reply": "2023-10-29T15:31:39.893945Z"
    },
    "papermill": {
     "duration": 0.031328,
     "end_time": "2023-10-29T15:31:39.897120",
     "exception": false,
     "start_time": "2023-10-29T15:31:39.865792",
     "status": "completed"
    },
    "tags": []
   },
   "outputs": [
    {
     "name": "stdout",
     "output_type": "stream",
     "text": [
      "<class 'pandas.core.frame.DataFrame'>\n",
      "RangeIndex: 127946340 entries, 0 to 127946339\n",
      "Data columns (total 5 columns):\n",
      " #   Column     Dtype  \n",
      "---  ------     -----  \n",
      " 0   series_id  object \n",
      " 1   step       uint32 \n",
      " 2   timestamp  object \n",
      " 3   anglez     float32\n",
      " 4   enmo       float32\n",
      "dtypes: float32(2), object(2), uint32(1)\n",
      "memory usage: 3.3+ GB\n"
     ]
    }
   ],
   "source": [
    "train_series.info()"
   ]
  },
  {
   "cell_type": "code",
   "execution_count": 32,
   "id": "478afab4",
   "metadata": {
    "execution": {
     "iopub.execute_input": "2023-10-29T15:31:39.936393Z",
     "iopub.status.busy": "2023-10-29T15:31:39.935844Z",
     "iopub.status.idle": "2023-10-29T15:31:39.946540Z",
     "shell.execute_reply": "2023-10-29T15:31:39.945641Z"
    },
    "papermill": {
     "duration": 0.032395,
     "end_time": "2023-10-29T15:31:39.948717",
     "exception": false,
     "start_time": "2023-10-29T15:31:39.916322",
     "status": "completed"
    },
    "tags": []
   },
   "outputs": [
    {
     "data": {
      "text/html": [
       "<div>\n",
       "<style scoped>\n",
       "    .dataframe tbody tr th:only-of-type {\n",
       "        vertical-align: middle;\n",
       "    }\n",
       "\n",
       "    .dataframe tbody tr th {\n",
       "        vertical-align: top;\n",
       "    }\n",
       "\n",
       "    .dataframe thead th {\n",
       "        text-align: right;\n",
       "    }\n",
       "</style>\n",
       "<table border=\"1\" class=\"dataframe\">\n",
       "  <thead>\n",
       "    <tr style=\"text-align: right;\">\n",
       "      <th></th>\n",
       "      <th>series_id</th>\n",
       "      <th>step</th>\n",
       "      <th>timestamp</th>\n",
       "      <th>anglez</th>\n",
       "      <th>enmo</th>\n",
       "    </tr>\n",
       "  </thead>\n",
       "  <tbody>\n",
       "    <tr>\n",
       "      <th>0</th>\n",
       "      <td>038441c925bb</td>\n",
       "      <td>0</td>\n",
       "      <td>2018-08-14T15:30:00-0400</td>\n",
       "      <td>2.6367</td>\n",
       "      <td>0.0217</td>\n",
       "    </tr>\n",
       "    <tr>\n",
       "      <th>1</th>\n",
       "      <td>038441c925bb</td>\n",
       "      <td>1</td>\n",
       "      <td>2018-08-14T15:30:05-0400</td>\n",
       "      <td>2.6368</td>\n",
       "      <td>0.0215</td>\n",
       "    </tr>\n",
       "    <tr>\n",
       "      <th>2</th>\n",
       "      <td>038441c925bb</td>\n",
       "      <td>2</td>\n",
       "      <td>2018-08-14T15:30:10-0400</td>\n",
       "      <td>2.6370</td>\n",
       "      <td>0.0216</td>\n",
       "    </tr>\n",
       "    <tr>\n",
       "      <th>3</th>\n",
       "      <td>038441c925bb</td>\n",
       "      <td>3</td>\n",
       "      <td>2018-08-14T15:30:15-0400</td>\n",
       "      <td>2.6368</td>\n",
       "      <td>0.0213</td>\n",
       "    </tr>\n",
       "    <tr>\n",
       "      <th>4</th>\n",
       "      <td>038441c925bb</td>\n",
       "      <td>4</td>\n",
       "      <td>2018-08-14T15:30:20-0400</td>\n",
       "      <td>2.6368</td>\n",
       "      <td>0.0215</td>\n",
       "    </tr>\n",
       "  </tbody>\n",
       "</table>\n",
       "</div>"
      ],
      "text/plain": [
       "      series_id  step                 timestamp  anglez    enmo\n",
       "0  038441c925bb     0  2018-08-14T15:30:00-0400  2.6367  0.0217\n",
       "1  038441c925bb     1  2018-08-14T15:30:05-0400  2.6368  0.0215\n",
       "2  038441c925bb     2  2018-08-14T15:30:10-0400  2.6370  0.0216\n",
       "3  038441c925bb     3  2018-08-14T15:30:15-0400  2.6368  0.0213\n",
       "4  038441c925bb     4  2018-08-14T15:30:20-0400  2.6368  0.0215"
      ]
     },
     "execution_count": 32,
     "metadata": {},
     "output_type": "execute_result"
    }
   ],
   "source": [
    "train_series.head()"
   ]
  },
  {
   "cell_type": "code",
   "execution_count": 33,
   "id": "9b0364e6",
   "metadata": {
    "execution": {
     "iopub.execute_input": "2023-10-29T15:31:39.988791Z",
     "iopub.status.busy": "2023-10-29T15:31:39.988437Z",
     "iopub.status.idle": "2023-10-29T15:33:30.110921Z",
     "shell.execute_reply": "2023-10-29T15:33:30.109808Z"
    },
    "papermill": {
     "duration": 110.165259,
     "end_time": "2023-10-29T15:33:30.133969",
     "exception": false,
     "start_time": "2023-10-29T15:31:39.968710",
     "status": "completed"
    },
    "tags": []
   },
   "outputs": [
    {
     "data": {
      "text/html": [
       "<div>\n",
       "<style scoped>\n",
       "    .dataframe tbody tr th:only-of-type {\n",
       "        vertical-align: middle;\n",
       "    }\n",
       "\n",
       "    .dataframe tbody tr th {\n",
       "        vertical-align: top;\n",
       "    }\n",
       "\n",
       "    .dataframe thead th {\n",
       "        text-align: right;\n",
       "    }\n",
       "</style>\n",
       "<table border=\"1\" class=\"dataframe\">\n",
       "  <thead>\n",
       "    <tr style=\"text-align: right;\">\n",
       "      <th></th>\n",
       "      <th>series_id</th>\n",
       "      <th>step</th>\n",
       "      <th>timestamp</th>\n",
       "      <th>anglez</th>\n",
       "      <th>enmo</th>\n",
       "    </tr>\n",
       "  </thead>\n",
       "  <tbody>\n",
       "    <tr>\n",
       "      <th>count</th>\n",
       "      <td>127946340</td>\n",
       "      <td>1.279463e+08</td>\n",
       "      <td>127946340</td>\n",
       "      <td>1.279463e+08</td>\n",
       "      <td>1.279463e+08</td>\n",
       "    </tr>\n",
       "    <tr>\n",
       "      <th>unique</th>\n",
       "      <td>277</td>\n",
       "      <td>NaN</td>\n",
       "      <td>12159540</td>\n",
       "      <td>NaN</td>\n",
       "      <td>NaN</td>\n",
       "    </tr>\n",
       "    <tr>\n",
       "      <th>top</th>\n",
       "      <td>78569a801a38</td>\n",
       "      <td>NaN</td>\n",
       "      <td>2018-12-27T10:03:30-0500</td>\n",
       "      <td>NaN</td>\n",
       "      <td>NaN</td>\n",
       "    </tr>\n",
       "    <tr>\n",
       "      <th>freq</th>\n",
       "      <td>1433880</td>\n",
       "      <td>NaN</td>\n",
       "      <td>19</td>\n",
       "      <td>NaN</td>\n",
       "      <td>NaN</td>\n",
       "    </tr>\n",
       "    <tr>\n",
       "      <th>mean</th>\n",
       "      <td>NaN</td>\n",
       "      <td>2.548048e+05</td>\n",
       "      <td>NaN</td>\n",
       "      <td>-8.810453e+00</td>\n",
       "      <td>4.131503e-02</td>\n",
       "    </tr>\n",
       "    <tr>\n",
       "      <th>std</th>\n",
       "      <td>NaN</td>\n",
       "      <td>1.778930e+05</td>\n",
       "      <td>NaN</td>\n",
       "      <td>3.552188e+01</td>\n",
       "      <td>1.018289e-01</td>\n",
       "    </tr>\n",
       "    <tr>\n",
       "      <th>min</th>\n",
       "      <td>NaN</td>\n",
       "      <td>0.000000e+00</td>\n",
       "      <td>NaN</td>\n",
       "      <td>-9.000000e+01</td>\n",
       "      <td>0.000000e+00</td>\n",
       "    </tr>\n",
       "    <tr>\n",
       "      <th>25%</th>\n",
       "      <td>NaN</td>\n",
       "      <td>1.158120e+05</td>\n",
       "      <td>NaN</td>\n",
       "      <td>-3.185890e+01</td>\n",
       "      <td>1.300000e-03</td>\n",
       "    </tr>\n",
       "    <tr>\n",
       "      <th>50%</th>\n",
       "      <td>NaN</td>\n",
       "      <td>2.345190e+05</td>\n",
       "      <td>NaN</td>\n",
       "      <td>-9.597900e+00</td>\n",
       "      <td>1.720000e-02</td>\n",
       "    </tr>\n",
       "    <tr>\n",
       "      <th>75%</th>\n",
       "      <td>NaN</td>\n",
       "      <td>3.571960e+05</td>\n",
       "      <td>NaN</td>\n",
       "      <td>1.130020e+01</td>\n",
       "      <td>4.370000e-02</td>\n",
       "    </tr>\n",
       "    <tr>\n",
       "      <th>max</th>\n",
       "      <td>NaN</td>\n",
       "      <td>1.433879e+06</td>\n",
       "      <td>NaN</td>\n",
       "      <td>9.000000e+01</td>\n",
       "      <td>1.143370e+01</td>\n",
       "    </tr>\n",
       "  </tbody>\n",
       "</table>\n",
       "</div>"
      ],
      "text/plain": [
       "           series_id          step                 timestamp        anglez  \\\n",
       "count      127946340  1.279463e+08                 127946340  1.279463e+08   \n",
       "unique           277           NaN                  12159540           NaN   \n",
       "top     78569a801a38           NaN  2018-12-27T10:03:30-0500           NaN   \n",
       "freq         1433880           NaN                        19           NaN   \n",
       "mean             NaN  2.548048e+05                       NaN -8.810453e+00   \n",
       "std              NaN  1.778930e+05                       NaN  3.552188e+01   \n",
       "min              NaN  0.000000e+00                       NaN -9.000000e+01   \n",
       "25%              NaN  1.158120e+05                       NaN -3.185890e+01   \n",
       "50%              NaN  2.345190e+05                       NaN -9.597900e+00   \n",
       "75%              NaN  3.571960e+05                       NaN  1.130020e+01   \n",
       "max              NaN  1.433879e+06                       NaN  9.000000e+01   \n",
       "\n",
       "                enmo  \n",
       "count   1.279463e+08  \n",
       "unique           NaN  \n",
       "top              NaN  \n",
       "freq             NaN  \n",
       "mean    4.131503e-02  \n",
       "std     1.018289e-01  \n",
       "min     0.000000e+00  \n",
       "25%     1.300000e-03  \n",
       "50%     1.720000e-02  \n",
       "75%     4.370000e-02  \n",
       "max     1.143370e+01  "
      ]
     },
     "execution_count": 33,
     "metadata": {},
     "output_type": "execute_result"
    }
   ],
   "source": [
    "train_series.describe(include='all')"
   ]
  },
  {
   "cell_type": "markdown",
   "id": "4104c708",
   "metadata": {
    "papermill": {
     "duration": 0.019702,
     "end_time": "2023-10-29T15:33:30.173831",
     "exception": false,
     "start_time": "2023-10-29T15:33:30.154129",
     "status": "completed"
    },
    "tags": []
   },
   "source": [
    "## Series_id\n",
    "* 277 unique series_id => no series has no data\n",
    "\n",
    "## anglez\n",
    "* anglez max: 90\n",
    "* anglez min: -90\n",
    "* anglez mean: -88\n",
    "* anglez std: 35.5\n",
    "\n",
    "## enmo\n",
    "* enmo max: 11.4\n",
    "* enmo min: 0\n",
    "* enmo mean: 0.04\n",
    "* enmo std: 0.1"
   ]
  },
  {
   "cell_type": "code",
   "execution_count": 34,
   "id": "08f33133",
   "metadata": {
    "execution": {
     "iopub.execute_input": "2023-10-29T15:33:30.218060Z",
     "iopub.status.busy": "2023-10-29T15:33:30.217604Z",
     "iopub.status.idle": "2023-10-29T15:33:54.733766Z",
     "shell.execute_reply": "2023-10-29T15:33:54.732752Z"
    },
    "papermill": {
     "duration": 24.54178,
     "end_time": "2023-10-29T15:33:54.736227",
     "exception": false,
     "start_time": "2023-10-29T15:33:30.194447",
     "status": "completed"
    },
    "tags": []
   },
   "outputs": [
    {
     "data": {
      "text/plain": [
       "<Axes: >"
      ]
     },
     "execution_count": 34,
     "metadata": {},
     "output_type": "execute_result"
    },
    {
     "data": {
      "image/png": "[encoded data removed]",
      "text/plain": [
       "<Figure size 2500x1000 with 3 Axes>"
      ]
     },
     "metadata": {},
     "output_type": "display_data"
    }
   ],
   "source": [
    "msno.bar(train_series, color=(0.3,0.5,0.3))"
   ]
  },
  {
   "cell_type": "code",
   "execution_count": 35,
   "id": "b44ef903",
   "metadata": {
    "execution": {
     "iopub.execute_input": "2023-10-29T15:33:54.782341Z",
     "iopub.status.busy": "2023-10-29T15:33:54.781339Z"
    },
    "papermill": {
     "duration": 1306.6553,
     "end_time": "2023-10-29T15:55:41.413288",
     "exception": false,
     "start_time": "2023-10-29T15:33:54.757988",
     "status": "completed"
    },
    "tags": []
   },
   "outputs": [],
   "source": [
    "msno.matrix(train_series, color=(0.3,0.5,0.3))"
   ]
  },
  {
   "cell_type": "markdown",
   "id": "accd2361",
   "metadata": {
    "papermill": {
     "duration": null,
     "end_time": null,
     "exception": null,
     "start_time": null,
     "status": "completed"
    },
    "tags": []
   },
   "source": [
    "# anglez"
   ]
  },
  {
   "cell_type": "code",
   "execution_count": null,
   "id": "7676ca9a",
   "metadata": {
    "papermill": {
     "duration": null,
     "end_time": null,
     "exception": null,
     "start_time": null,
     "status": "completed"
    },
    "tags": []
   },
   "outputs": [],
   "source": [
    "anglez_histo = px.histogram(train_series, x='anglez')\n",
    "anglez_histo.show()"
   ]
  },
  {
   "cell_type": "code",
   "execution_count": null,
   "id": "5e80585b",
   "metadata": {
    "papermill": {
     "duration": null,
     "end_time": null,
     "exception": null,
     "start_time": null,
     "status": "completed"
    },
    "tags": []
   },
   "outputs": [],
   "source": [
    "anglez_histo.show()"
   ]
  },
  {
   "cell_type": "code",
   "execution_count": null,
   "id": "32608561",
   "metadata": {
    "papermill": {
     "duration": null,
     "end_time": null,
     "exception": null,
     "start_time": null,
     "status": "completed"
    },
    "tags": []
   },
   "outputs": [],
   "source": []
  }
 ],
 "metadata": {
  "kernelspec": {
   "display_name": "Python 3",
   "language": "python",
   "name": "python3"
  },
  "language_info": {
   "codemirror_mode": {
    "name": "ipython",
    "version": 3
   },
   "file_extension": ".py",
   "mimetype": "text/x-python",
   "name": "python",
   "nbconvert_exporter": "python",
   "pygments_lexer": "ipython3",
   "version": "3.6.4"
  },
  "papermill": {
   "default_parameters": {},
   "duration": 1505.598441,
   "end_time": "2023-10-29T15:55:42.439869",
   "environment_variables": {},
   "exception": null,
   "input_path": "__notebook__.ipynb",
   "output_path": "__notebook__.ipynb",
   "parameters": {},
   "start_time": "2023-10-29T15:30:36.841428",
   "version": "2.4.0"
  }
 },
 "nbformat": 4,
 "nbformat_minor": 5
}
