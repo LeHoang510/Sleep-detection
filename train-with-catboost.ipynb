{
 "cells": [
  {
   "cell_type": "code",
   "execution_count": 1,
   "id": "bf6d5858",
   "metadata": {
    "execution": {
     "iopub.execute_input": "2023-11-30T15:43:24.924597Z",
     "iopub.status.busy": "2023-11-30T15:43:24.924205Z",
     "iopub.status.idle": "2023-11-30T15:43:26.046399Z",
     "shell.execute_reply": "2023-11-30T15:43:26.045455Z"
    },
    "papermill": {
     "duration": 1.136578,
     "end_time": "2023-11-30T15:43:26.048883",
     "exception": false,
     "start_time": "2023-11-30T15:43:24.912305",
     "status": "completed"
    },
    "tags": []
   },
   "outputs": [
    {
     "name": "stdout",
     "output_type": "stream",
     "text": [
      "/kaggle/input/child-mind-institute-detect-sleep-states/train_series.parquet\n",
      "/kaggle/input/child-mind-institute-detect-sleep-states/sample_submission.csv\n",
      "/kaggle/input/child-mind-institute-detect-sleep-states/train_events.csv\n",
      "/kaggle/input/child-mind-institute-detect-sleep-states/test_series.parquet\n",
      "/kaggle/input/zzzs-lightweight-training-dataset-target/Zzzs_train.parquet\n",
      "/kaggle/input/zzzs-lightweight-training-dataset-target/Zzzs_train_multi.parquet\n"
     ]
    }
   ],
   "source": [
    "# This Python 3 environment comes with many helpful analytics libraries installed\n",
    "# It is defined by the kaggle/python Docker image: https://github.com/kaggle/docker-python\n",
    "# For example, here's several helpful packages to load\n",
    "\n",
    "import numpy as np # linear algebra\n",
    "import pandas as pd # data processing, CSV file I/O (e.g. pd.read_csv)\n",
    "import polars as pl\n",
    "import gc\n",
    "from tqdm.auto import tqdm \n",
    "import joblib\n",
    "from datetime import timedelta, date\n",
    "\n",
    "\n",
    "\n",
    "# Input data files are available in the read-only \"../input/\" directory\n",
    "# For example, running this (by clicking run or pressing Shift+Enter) will list all files under the input directory\n",
    "\n",
    "import os\n",
    "for dirname, _, filenames in os.walk('/kaggle/input'):\n",
    "    for filename in filenames:\n",
    "        print(os.path.join(dirname, filename))\n",
    "\n",
    "# You can write up to 20GB to the current directory (/kaggle/working/) that gets preserved as output when you create a version using \"Save & Run All\" \n",
    "# You can also write temporary files to /kaggle/temp/, but they won't be saved outside of the current session"
   ]
  },
  {
   "cell_type": "code",
   "execution_count": 2,
   "id": "2fcb523b",
   "metadata": {
    "execution": {
     "iopub.execute_input": "2023-11-30T15:43:26.069919Z",
     "iopub.status.busy": "2023-11-30T15:43:26.068885Z",
     "iopub.status.idle": "2023-11-30T15:43:26.075569Z",
     "shell.execute_reply": "2023-11-30T15:43:26.074451Z"
    },
    "papermill": {
     "duration": 0.019341,
     "end_time": "2023-11-30T15:43:26.077858",
     "exception": false,
     "start_time": "2023-11-30T15:43:26.058517",
     "status": "completed"
    },
    "tags": []
   },
   "outputs": [],
   "source": [
    "# def feature_extraction(df, istrain = True, step_rolling = 5):\n",
    "#     ids = df['series_id'].unique(maintain_order = True)\n",
    "    \n",
    "#     if (istrain):\n",
    "#         df = df.with_columns(\n",
    "#             awake = df[\"awake\"].cast(pl.Int8)\n",
    "#         )\n",
    "\n",
    "    \n",
    "#     df = df.with_columns(        \n",
    "#         year = (df[\"timestamp\"].str.slice(0,4).cast(pl.Int16) - 2000).cast(pl.UInt8),\n",
    "#         month = df[\"timestamp\"].str.slice(5,2).cast(pl.Int8),\n",
    "#         day = df[\"timestamp\"].str.slice(8,2).cast(pl.Int8),\n",
    "#         hour = df[\"timestamp\"].str.slice(11,2).cast(pl.Int8),\n",
    "#         minute = df[\"timestamp\"].str.slice(14,2).cast(pl.Int8),\n",
    "# #         second = df[\"timestamp\"].str.slice(17,2).cast(pl.Int8),\n",
    "#         time_zone = df[\"timestamp\"].str.slice(-5,3).cast(pl.Int32),\n",
    "        \n",
    "#         enmo =  (pl.col('enmo')*1000).cast(pl.UInt16),\n",
    "        \n",
    "#         weekday = train[\"timestamp\"].str.slice(0,10).str.to_date().dt.weekday()\n",
    "        \n",
    "#     )\n",
    "    \n",
    "#     signal_awake = dict(zip(range(1440), np.sin(np.linspace(0, np.pi, 1440) + 0.208 * np.pi) ** 24))\n",
    "#     signal_onset = dict(zip(range(1440), np.sin(np.linspace(0, np.pi, 1440) + 0.555 * np.pi) ** 24))\n",
    "#     df = df.with_columns(\n",
    "#         (pl.col(\"hour\").cast(pl.Int32)*60 + pl.col(\"minute\").cast(pl.Int32))\n",
    "#         .apply(signal_onset.get, return_dtype=pl.Float32)\n",
    "#         .alias(\"signal_onset\")\n",
    "#     )    \n",
    "#     df = df.with_columns(\n",
    "#         (pl.col(\"hour\").cast(pl.Int32)*60 + pl.col(\"minute\").cast(pl.Int32))\n",
    "#         .apply(signal_awake.get, return_dtype=pl.Float32)\n",
    "#         .alias(\"signal_awake\")\n",
    "#     )\n",
    "\n",
    "#     df = df.with_columns(lids = np.maximum(0., tmp['enmo'] - 0.02))\n",
    "#     df = df.with_columns(\n",
    "#         lids = pl.col('lids').rolling_sum(121, center=True, min_periods=1)\n",
    "#     )\n",
    "#     df = df.with_columns(lids = 100 / (pl.col('lids') + 1))\n",
    "#     df = df.with_columns(\n",
    "#         lids = pl.col('lids').rolling_mean(361, center=True, min_periods=1).cast(pl.Float32)\n",
    "#     )\n",
    "#     gc.collect()\n",
    "#     return df\n",
    "\n",
    "# train = feature_extraction(train)\n",
    "# train\n",
    "# # list(train['signal_onset'][:10])"
   ]
  },
  {
   "cell_type": "code",
   "execution_count": 3,
   "id": "a83c5be3",
   "metadata": {
    "execution": {
     "iopub.execute_input": "2023-11-30T15:43:26.098820Z",
     "iopub.status.busy": "2023-11-30T15:43:26.098514Z",
     "iopub.status.idle": "2023-11-30T15:43:26.134450Z",
     "shell.execute_reply": "2023-11-30T15:43:26.133476Z"
    },
    "papermill": {
     "duration": 0.049399,
     "end_time": "2023-11-30T15:43:26.136807",
     "exception": false,
     "start_time": "2023-11-30T15:43:26.087408",
     "status": "completed"
    },
    "tags": []
   },
   "outputs": [],
   "source": [
    "def feature_extraction(df, istrain = True, step_rolling = 5):    \n",
    "    ids = df['series_id'].unique(maintain_order = True)\n",
    "    \n",
    "    if (istrain):\n",
    "        df = df.with_columns(\n",
    "            awake = df[\"awake\"].cast(pl.Int8)\n",
    "        )\n",
    "\n",
    "    df = df.with_columns(\n",
    "        lids = np.maximum(0., df['enmo'] - 0.02),\n",
    "        year = (df[\"timestamp\"].str.slice(0,4).cast(pl.Int16) - 2000).cast(pl.UInt8),\n",
    "        month = df[\"timestamp\"].str.slice(5,2).cast(pl.Int8),\n",
    "        day = df[\"timestamp\"].str.slice(8,2).cast(pl.Int8),\n",
    "        hour = df[\"timestamp\"].str.slice(11,2).cast(pl.Int8),\n",
    "        minute = df[\"timestamp\"].str.slice(14,2).cast(pl.Int8),\n",
    "        second = df[\"timestamp\"].str.slice(17,2).cast(pl.Int8),\n",
    "        time_zone = df[\"timestamp\"].str.slice(-5,3).cast(pl.Int32),\n",
    "        weekday = df[\"timestamp\"].str.slice(0,10).str.to_date().dt.weekday(),\n",
    "\n",
    "        enmo =  (pl.col('enmo')*1000).cast(pl.UInt16),\n",
    "        )\n",
    "    \n",
    "    signal_awake = dict(zip(range(1440), np.sin(np.linspace(0, np.pi, 1440) + 0.208 * np.pi) ** 24))\n",
    "    signal_onset = dict(zip(range(1440), np.sin(np.linspace(0, np.pi, 1440) + 0.555 * np.pi) ** 24))\n",
    "    df = df.with_columns(\n",
    "        (pl.col(\"hour\").cast(pl.Int32)*60 + pl.col(\"minute\").cast(pl.Int32))\n",
    "        .apply(signal_onset.get, return_dtype=pl.Float32)\n",
    "        .alias(\"signal_onset\"),\n",
    "        (pl.col(\"hour\").cast(pl.Int32)*60 + pl.col(\"minute\").cast(pl.Int32))\n",
    "        .apply(signal_awake.get, return_dtype=pl.Float32)\n",
    "        .alias(\"signal_awake\"),\n",
    "        df[\"hour\"].cast(pl.Int32)*60 + df[\"minute\"].cast(pl.Int32).alias('hour_minute')\n",
    "    )\n",
    "    \n",
    "    features, feature_cols = [], []\n",
    "\n",
    "    for mins in [1, 3, 5, 30, 60*2, 60*8] :\n",
    "        for var in ['enmo', 'anglez'] :\n",
    "            features += [\n",
    "                pl.col(var).rolling_mean(12 * mins, center=True, min_periods=1).abs().cast(pl.UInt16).alias(f'{var}_{mins}m_mean'),\n",
    "                pl.col(var).rolling_max(12 * mins, center=True, min_periods=1).abs().cast(pl.UInt16).alias(f'{var}_{mins}m_max'),\n",
    "                pl.col(var).rolling_std(12 * mins, center=True, min_periods=1).abs().cast(pl.UInt16).alias(f'{var}_{mins}m_std')\n",
    "            ]\n",
    "            feature_cols += [ \n",
    "                f'{var}_{mins}m_mean', f'{var}_{mins}m_max', f'{var}_{mins}m_std'\n",
    "            ]\n",
    "            # Getting first variations\n",
    "            features += [\n",
    "                (pl.col(var).diff().abs().rolling_mean(12 * mins, center=True, min_periods=1)*10).abs().cast(pl.UInt32).alias(f'{var}_1v_{mins}m_mean'),\n",
    "                (pl.col(var).diff().abs().rolling_max(12 * mins, center=True, min_periods=1)*10).abs().cast(pl.UInt32).alias(f'{var}_1v_{mins}m_max'),\n",
    "                (pl.col(var).diff().abs().rolling_std(12 * mins, center=True, min_periods=1)*10).abs().cast(pl.UInt32).alias(f'{var}_1v_{mins}m_std')\n",
    "            ]\n",
    "            feature_cols += [ \n",
    "                f'{var}_1v_{mins}m_mean', f'{var}_1v_{mins}m_max', f'{var}_1v_{mins}m_std'\n",
    "            ]\n",
    "    # id_cols = ['series_id', 'step', 'timestamp']\n",
    "\n",
    "    dict_ids2data = {}    \n",
    "    for i in tqdm(range(len(ids))):\n",
    "    # for i in range(2):\n",
    "        print (i,': ', ids[i])\n",
    "        dict_ids2data[ids[i]] = df.filter(pl.col(\"series_id\") == ids[i])\n",
    "        dict_ids2data[ids[i]] = dict_ids2data[ids[i]].with_columns(\n",
    "            features,\n",
    "            lids = pl.col('lids').rolling_sum(121, center=True, min_periods=1)\n",
    "        )\n",
    "                \n",
    "        dict_ids2data[ids[i]] = dict_ids2data[ids[i]].with_columns(\n",
    "            (100 / (pl.col('lids') + 1)).alias('lids'),\n",
    "            pl.col(\"anglez\").rolling_mean(window_size = step_rolling, center = True).cast(pl.Float32).alias(f'anglez_{step_rolling*5}s_smooth'),\n",
    "            pl.col(\"enmo\").rolling_mean(window_size = step_rolling, center = True).cast(pl.Float32).alias(f'enmo_{step_rolling*5}s_smooth')\n",
    "        )\n",
    "        \n",
    "        dict_ids2data[ids[i]] = dict_ids2data[ids[i]].fill_null(strategy=\"forward\").fill_null(strategy=\"backward\")\n",
    "        \n",
    "        dict_ids2data[ids[i]] = dict_ids2data[ids[i]].with_columns(\n",
    "            lids = pl.col('lids').rolling_mean(361, center=True, min_periods=1).cast(pl.Float32),\n",
    "            anglez_lag_5s = dict_ids2data[ids[i]]['anglez'].shift(periods=1),\n",
    "            anglez_lag_10s = dict_ids2data[ids[i]]['anglez'].shift(periods=2),\n",
    "            anglez_lag_15s = dict_ids2data[ids[i]]['anglez'].shift(periods=3),\n",
    "            anglez_lag_30s = dict_ids2data[ids[i]]['anglez'].shift(periods=6),\n",
    "            anglez_lag_60s = dict_ids2data[ids[i]]['anglez'].shift(periods=12),\n",
    "            anglez_smooth_lag_30s = dict_ids2data[ids[i]][f'anglez_{step_rolling*5}s_smooth'].cast(pl.Float32).shift(periods=6),\n",
    "            anglez_smooth_lag_60s = dict_ids2data[ids[i]][f'anglez_{step_rolling*5}s_smooth'].cast(pl.Float32).shift(periods=12),\n",
    "\n",
    "            enmo_lag_5s = dict_ids2data[ids[i]]['enmo'].shift(periods=1),\n",
    "            enmo_lag_10s = dict_ids2data[ids[i]]['enmo'].shift(periods=2),\n",
    "            enmo_lag_15s = dict_ids2data[ids[i]]['enmo'].shift(periods=3),\n",
    "            enmo_lag_30s = dict_ids2data[ids[i]]['enmo'].shift(periods=6),\n",
    "            enmo_lag_60s = dict_ids2data[ids[i]]['enmo'].shift(periods=12),\n",
    "            enmo_smooth_lag_30s = dict_ids2data[ids[i]][f'enmo_{step_rolling*5}s_smooth'].cast(pl.Float32).shift(periods=6),\n",
    "            enmo_smooth_lag_60s = dict_ids2data[ids[i]][f'enmo_{step_rolling*5}s_smooth'].cast(pl.Float32).shift(periods=12)\n",
    "        )\n",
    "        \n",
    "        dict_ids2data[ids[i]] = dict_ids2data[ids[i]].fill_null(strategy=\"forward\").fill_null(strategy=\"backward\")\n",
    "\n",
    "        \n",
    "    df = pl.concat([i for i in dict_ids2data.values()], rechunk=True)\n",
    "\n",
    "    del dict_ids2data\n",
    "    gc.collect()\n",
    "\n",
    "    return df\n",
    "\n"
   ]
  },
  {
   "cell_type": "code",
   "execution_count": 4,
   "id": "7f8b310f",
   "metadata": {
    "execution": {
     "iopub.execute_input": "2023-11-30T15:43:26.158018Z",
     "iopub.status.busy": "2023-11-30T15:43:26.157683Z",
     "iopub.status.idle": "2023-11-30T15:43:27.974156Z",
     "shell.execute_reply": "2023-11-30T15:43:27.972955Z"
    },
    "papermill": {
     "duration": 1.831378,
     "end_time": "2023-11-30T15:43:27.978213",
     "exception": false,
     "start_time": "2023-11-30T15:43:26.146835",
     "status": "completed"
    },
    "tags": []
   },
   "outputs": [
    {
     "name": "stdout",
     "output_type": "stream",
     "text": [
      "CPU times: user 1.82 s, sys: 649 ms, total: 2.47 s\n",
      "Wall time: 1.79 s\n"
     ]
    },
    {
     "data": {
      "text/html": [
       "<div><style>\n",
       ".dataframe > thead > tr > th,\n",
       ".dataframe > tbody > tr > td {\n",
       "  text-align: right;\n",
       "  white-space: pre-wrap;\n",
       "}\n",
       "</style>\n",
       "<small>shape: (5, 6)</small><table border=\"1\" class=\"dataframe\"><thead><tr><th>series_id</th><th>step</th><th>timestamp</th><th>anglez</th><th>enmo</th><th>awake</th></tr><tr><td>str</td><td>u32</td><td>str</td><td>f32</td><td>f32</td><td>i64</td></tr></thead><tbody><tr><td>&quot;08db4255286f&quot;</td><td>0</td><td>&quot;2018-11-05T10:…</td><td>-30.845301</td><td>0.0447</td><td>1</td></tr><tr><td>&quot;08db4255286f&quot;</td><td>1</td><td>&quot;2018-11-05T10:…</td><td>-34.181801</td><td>0.0443</td><td>1</td></tr><tr><td>&quot;08db4255286f&quot;</td><td>2</td><td>&quot;2018-11-05T10:…</td><td>-33.877102</td><td>0.0483</td><td>1</td></tr><tr><td>&quot;08db4255286f&quot;</td><td>3</td><td>&quot;2018-11-05T10:…</td><td>-34.282101</td><td>0.068</td><td>1</td></tr><tr><td>&quot;08db4255286f&quot;</td><td>4</td><td>&quot;2018-11-05T10:…</td><td>-34.385799</td><td>0.0768</td><td>1</td></tr></tbody></table></div>"
      ],
      "text/plain": [
       "shape: (5, 6)\n",
       "┌──────────────┬──────┬──────────────────────────┬────────────┬────────┬───────┐\n",
       "│ series_id    ┆ step ┆ timestamp                ┆ anglez     ┆ enmo   ┆ awake │\n",
       "│ ---          ┆ ---  ┆ ---                      ┆ ---        ┆ ---    ┆ ---   │\n",
       "│ str          ┆ u32  ┆ str                      ┆ f32        ┆ f32    ┆ i64   │\n",
       "╞══════════════╪══════╪══════════════════════════╪════════════╪════════╪═══════╡\n",
       "│ 08db4255286f ┆ 0    ┆ 2018-11-05T10:00:00-0400 ┆ -30.845301 ┆ 0.0447 ┆ 1     │\n",
       "│ 08db4255286f ┆ 1    ┆ 2018-11-05T10:00:05-0400 ┆ -34.181801 ┆ 0.0443 ┆ 1     │\n",
       "│ 08db4255286f ┆ 2    ┆ 2018-11-05T10:00:10-0400 ┆ -33.877102 ┆ 0.0483 ┆ 1     │\n",
       "│ 08db4255286f ┆ 3    ┆ 2018-11-05T10:00:15-0400 ┆ -34.282101 ┆ 0.068  ┆ 1     │\n",
       "│ 08db4255286f ┆ 4    ┆ 2018-11-05T10:00:20-0400 ┆ -34.385799 ┆ 0.0768 ┆ 1     │\n",
       "└──────────────┴──────┴──────────────────────────┴────────────┴────────┴───────┘"
      ]
     },
     "execution_count": 4,
     "metadata": {},
     "output_type": "execute_result"
    }
   ],
   "source": [
    "%%time\n",
    "train = pl.read_parquet('/kaggle/input/zzzs-lightweight-training-dataset-target/Zzzs_train.parquet')\n",
    "train.head()"
   ]
  },
  {
   "cell_type": "code",
   "execution_count": 5,
   "id": "c79747e7",
   "metadata": {
    "execution": {
     "iopub.execute_input": "2023-11-30T15:43:28.000804Z",
     "iopub.status.busy": "2023-11-30T15:43:28.000388Z",
     "iopub.status.idle": "2023-11-30T15:44:10.510997Z",
     "shell.execute_reply": "2023-11-30T15:44:10.510027Z"
    },
    "papermill": {
     "duration": 42.524513,
     "end_time": "2023-11-30T15:44:10.513588",
     "exception": false,
     "start_time": "2023-11-30T15:43:27.989075",
     "status": "completed"
    },
    "tags": []
   },
   "outputs": [
    {
     "name": "stderr",
     "output_type": "stream",
     "text": [
      "/tmp/ipykernel_26/2147898270.py:26: DeprecationWarning: `apply` is deprecated. It has been renamed to `map_elements`.\n",
      "  (pl.col(\"hour\").cast(pl.Int32)*60 + pl.col(\"minute\").cast(pl.Int32))\n",
      "/tmp/ipykernel_26/2147898270.py:29: DeprecationWarning: `apply` is deprecated. It has been renamed to `map_elements`.\n",
      "  (pl.col(\"hour\").cast(pl.Int32)*60 + pl.col(\"minute\").cast(pl.Int32))\n"
     ]
    },
    {
     "data": {
      "application/vnd.jupyter.widget-view+json": {
       "model_id": "f5d43d0a4d314245a88d15baae47923a",
       "version_major": 2,
       "version_minor": 0
      },
      "text/plain": [
       "  0%|          | 0/35 [00:00<?, ?it/s]"
      ]
     },
     "metadata": {},
     "output_type": "display_data"
    },
    {
     "name": "stdout",
     "output_type": "stream",
     "text": [
      "0 :  08db4255286f\n",
      "1 :  0a96f4993bd7\n",
      "2 :  0cfc06c129cc\n",
      "3 :  1087d7b0ff2e\n",
      "4 :  10f8bc1f7b07\n",
      "5 :  18b61dd5aae8\n",
      "6 :  29c75c018220\n",
      "7 :  3452b878e596\n",
      "8 :  349c5562ee2c\n",
      "9 :  3664fe9233f9\n",
      "10 :  483d6545417f\n",
      "11 :  55a47ff9dc8a\n",
      "12 :  5acc9d63b5fd\n",
      "13 :  5f94bb3e1bed\n",
      "14 :  655f19eabf1e\n",
      "15 :  67f5fc60e494\n",
      "16 :  72bbd1ac3edf\n",
      "17 :  76237b9406d5\n",
      "18 :  7822ee8fe3ec\n",
      "19 :  89bd631d1769\n",
      "20 :  8e32047cbc1f\n",
      "21 :  939932f1822d\n",
      "22 :  9ee455e4770d\n",
      "23 :  a9a2f7fac455\n",
      "24 :  a9e5f5314bcb\n",
      "25 :  af91d9a50547\n",
      "26 :  b364205aba43\n",
      "27 :  c535634d7dcd\n",
      "28 :  c6788e579967\n",
      "29 :  c68260cc9e8f\n",
      "30 :  ca730dbf521d\n",
      "31 :  d150801f3145\n",
      "32 :  d25e479ecbb7\n",
      "33 :  d515236bdeec\n",
      "34 :  d5e47b94477e\n"
     ]
    },
    {
     "data": {
      "text/html": [
       "<div><style>\n",
       ".dataframe > thead > tr > th,\n",
       ".dataframe > tbody > tr > td {\n",
       "  text-align: right;\n",
       "  white-space: pre-wrap;\n",
       "}\n",
       "</style>\n",
       "<small>shape: (13_165_560, 105)</small><table border=\"1\" class=\"dataframe\"><thead><tr><th>series_id</th><th>step</th><th>timestamp</th><th>anglez</th><th>enmo</th><th>awake</th><th>lids</th><th>year</th><th>month</th><th>day</th><th>hour</th><th>minute</th><th>second</th><th>time_zone</th><th>weekday</th><th>signal_onset</th><th>signal_awake</th><th>enmo_1m_mean</th><th>enmo_1m_max</th><th>enmo_1m_std</th><th>enmo_1v_1m_mean</th><th>enmo_1v_1m_max</th><th>enmo_1v_1m_std</th><th>anglez_1m_mean</th><th>anglez_1m_max</th><th>anglez_1m_std</th><th>anglez_1v_1m_mean</th><th>anglez_1v_1m_max</th><th>anglez_1v_1m_std</th><th>enmo_3m_mean</th><th>enmo_3m_max</th><th>enmo_3m_std</th><th>enmo_1v_3m_mean</th><th>enmo_1v_3m_max</th><th>enmo_1v_3m_std</th><th>anglez_3m_mean</th><th>anglez_3m_max</th><th>&hellip;</th><th>enmo_1v_120m_mean</th><th>enmo_1v_120m_max</th><th>enmo_1v_120m_std</th><th>anglez_120m_mean</th><th>anglez_120m_max</th><th>anglez_120m_std</th><th>anglez_1v_120m_mean</th><th>anglez_1v_120m_max</th><th>anglez_1v_120m_std</th><th>enmo_480m_mean</th><th>enmo_480m_max</th><th>enmo_480m_std</th><th>enmo_1v_480m_mean</th><th>enmo_1v_480m_max</th><th>enmo_1v_480m_std</th><th>anglez_480m_mean</th><th>anglez_480m_max</th><th>anglez_480m_std</th><th>anglez_1v_480m_mean</th><th>anglez_1v_480m_max</th><th>anglez_1v_480m_std</th><th>anglez_25s_smooth</th><th>enmo_25s_smooth</th><th>anglez_lag_5s</th><th>anglez_lag_10s</th><th>anglez_lag_15s</th><th>anglez_lag_30s</th><th>anglez_lag_60s</th><th>anglez_smooth_lag_30s</th><th>anglez_smooth_lag_60s</th><th>enmo_lag_5s</th><th>enmo_lag_10s</th><th>enmo_lag_15s</th><th>enmo_lag_30s</th><th>enmo_lag_60s</th><th>enmo_smooth_lag_30s</th><th>enmo_smooth_lag_60s</th></tr><tr><td>str</td><td>u32</td><td>str</td><td>f32</td><td>u16</td><td>i8</td><td>f32</td><td>u8</td><td>i8</td><td>i8</td><td>i32</td><td>i8</td><td>i8</td><td>i32</td><td>u32</td><td>f32</td><td>f32</td><td>u16</td><td>u16</td><td>u16</td><td>u32</td><td>u32</td><td>u32</td><td>u16</td><td>u16</td><td>u16</td><td>u32</td><td>u32</td><td>u32</td><td>u16</td><td>u16</td><td>u16</td><td>u32</td><td>u32</td><td>u32</td><td>u16</td><td>u16</td><td>&hellip;</td><td>u32</td><td>u32</td><td>u32</td><td>u16</td><td>u16</td><td>u16</td><td>u32</td><td>u32</td><td>u32</td><td>u16</td><td>u16</td><td>u16</td><td>u32</td><td>u32</td><td>u32</td><td>u16</td><td>u16</td><td>u16</td><td>u32</td><td>u32</td><td>u32</td><td>f32</td><td>f32</td><td>f32</td><td>f32</td><td>f32</td><td>f32</td><td>f32</td><td>f32</td><td>f32</td><td>u16</td><td>u16</td><td>u16</td><td>u16</td><td>u16</td><td>f32</td><td>f32</td></tr></thead><tbody><tr><td>&quot;08db4255286f&quot;</td><td>0</td><td>&quot;2018-11-05T10:…</td><td>-30.845301</td><td>44</td><td>1</td><td>14.129221</td><td>18</td><td>11</td><td>5</td><td>600</td><td>0</td><td>0</td><td>-4</td><td>1</td><td>4.6365e-26</td><td>0.149748</td><td>55</td><td>76</td><td>13</td><td>114</td><td>250</td><td>106</td><td>33</td><td>30</td><td>1</td><td>9</td><td>33</td><td>13</td><td>57</td><td>107</td><td>17</td><td>150</td><td>560</td><td>158</td><td>31</td><td>24</td><td>&hellip;</td><td>207</td><td>1230</td><td>194</td><td>27</td><td>16</td><td>3</td><td>18</td><td>96</td><td>15</td><td>75</td><td>992</td><td>85</td><td>263</td><td>7160</td><td>451</td><td>21</td><td>89</td><td>43</td><td>42</td><td>1315</td><td>94</td><td>-33.514423</td><td>56.0</td><td>-30.845301</td><td>-30.845301</td><td>-30.845301</td><td>-30.845301</td><td>-30.845301</td><td>-33.514423</td><td>-33.514423</td><td>44</td><td>44</td><td>44</td><td>44</td><td>44</td><td>56.0</td><td>56.0</td></tr><tr><td>&quot;08db4255286f&quot;</td><td>1</td><td>&quot;2018-11-05T10:…</td><td>-34.181801</td><td>44</td><td>1</td><td>14.119147</td><td>18</td><td>11</td><td>5</td><td>600</td><td>0</td><td>5</td><td>-4</td><td>1</td><td>4.6365e-26</td><td>0.149748</td><td>62</td><td>107</td><td>23</td><td>188</td><td>560</td><td>205</td><td>33</td><td>30</td><td>1</td><td>15</td><td>44</td><td>18</td><td>57</td><td>107</td><td>17</td><td>154</td><td>560</td><td>154</td><td>30</td><td>24</td><td>&hellip;</td><td>207</td><td>1230</td><td>194</td><td>27</td><td>16</td><td>3</td><td>18</td><td>96</td><td>15</td><td>75</td><td>992</td><td>85</td><td>263</td><td>7160</td><td>451</td><td>21</td><td>89</td><td>43</td><td>42</td><td>1315</td><td>94</td><td>-33.514423</td><td>56.0</td><td>-30.845301</td><td>-30.845301</td><td>-30.845301</td><td>-30.845301</td><td>-30.845301</td><td>-33.514423</td><td>-33.514423</td><td>44</td><td>44</td><td>44</td><td>44</td><td>44</td><td>56.0</td><td>56.0</td></tr><tr><td>&quot;08db4255286f&quot;</td><td>2</td><td>&quot;2018-11-05T10:…</td><td>-33.877102</td><td>48</td><td>1</td><td>14.109452</td><td>18</td><td>11</td><td>5</td><td>600</td><td>0</td><td>10</td><td>-4</td><td>1</td><td>4.6365e-26</td><td>0.149748</td><td>62</td><td>107</td><td>21</td><td>222</td><td>560</td><td>208</td><td>32</td><td>30</td><td>1</td><td>13</td><td>44</td><td>17</td><td>58</td><td>107</td><td>16</td><td>147</td><td>560</td><td>153</td><td>30</td><td>24</td><td>&hellip;</td><td>206</td><td>1230</td><td>194</td><td>27</td><td>16</td><td>3</td><td>18</td><td>96</td><td>15</td><td>75</td><td>992</td><td>85</td><td>263</td><td>7160</td><td>451</td><td>21</td><td>89</td><td>43</td><td>42</td><td>1315</td><td>94</td><td>-33.514423</td><td>56.0</td><td>-34.181801</td><td>-30.845301</td><td>-30.845301</td><td>-30.845301</td><td>-30.845301</td><td>-33.514423</td><td>-33.514423</td><td>44</td><td>44</td><td>44</td><td>44</td><td>44</td><td>56.0</td><td>56.0</td></tr><tr><td>&quot;08db4255286f&quot;</td><td>3</td><td>&quot;2018-11-05T10:…</td><td>-34.282101</td><td>68</td><td>1</td><td>14.09982</td><td>18</td><td>11</td><td>5</td><td>600</td><td>0</td><td>15</td><td>-4</td><td>1</td><td>4.6365e-26</td><td>0.149748</td><td>61</td><td>107</td><td>20</td><td>215</td><td>560</td><td>194</td><td>32</td><td>30</td><td>1</td><td>14</td><td>44</td><td>17</td><td>58</td><td>107</td><td>16</td><td>140</td><td>560</td><td>152</td><td>30</td><td>24</td><td>&hellip;</td><td>207</td><td>1230</td><td>194</td><td>27</td><td>16</td><td>3</td><td>18</td><td>96</td><td>15</td><td>74</td><td>992</td><td>85</td><td>263</td><td>7160</td><td>451</td><td>21</td><td>89</td><td>43</td><td>42</td><td>1315</td><td>94</td><td>-34.330482</td><td>57.400002</td><td>-33.877102</td><td>-34.181801</td><td>-30.845301</td><td>-30.845301</td><td>-30.845301</td><td>-33.514423</td><td>-33.514423</td><td>48</td><td>44</td><td>44</td><td>44</td><td>44</td><td>56.0</td><td>56.0</td></tr><tr><td>&quot;08db4255286f&quot;</td><td>4</td><td>&quot;2018-11-05T10:…</td><td>-34.385799</td><td>76</td><td>1</td><td>14.090398</td><td>18</td><td>11</td><td>5</td><td>600</td><td>0</td><td>20</td><td>-4</td><td>1</td><td>4.6365e-26</td><td>0.149748</td><td>59</td><td>107</td><td>20</td><td>193</td><td>560</td><td>193</td><td>33</td><td>30</td><td>1</td><td>14</td><td>44</td><td>15</td><td>58</td><td>107</td><td>15</td><td>137</td><td>560</td><td>149</td><td>30</td><td>24</td><td>&hellip;</td><td>207</td><td>1230</td><td>194</td><td>27</td><td>16</td><td>3</td><td>18</td><td>96</td><td>15</td><td>74</td><td>992</td><td>85</td><td>263</td><td>7160</td><td>451</td><td>21</td><td>89</td><td>43</td><td>42</td><td>1315</td><td>93</td><td>-33.596802</td><td>70.0</td><td>-34.282101</td><td>-33.877102</td><td>-34.181801</td><td>-30.845301</td><td>-30.845301</td><td>-33.514423</td><td>-33.514423</td><td>68</td><td>48</td><td>44</td><td>44</td><td>44</td><td>56.0</td><td>56.0</td></tr><tr><td>&quot;08db4255286f&quot;</td><td>5</td><td>&quot;2018-11-05T10:…</td><td>-34.925598</td><td>51</td><td>1</td><td>14.081073</td><td>18</td><td>11</td><td>5</td><td>600</td><td>0</td><td>25</td><td>-4</td><td>1</td><td>4.6365e-26</td><td>0.149748</td><td>61</td><td>107</td><td>19</td><td>207</td><td>560</td><td>187</td><td>33</td><td>30</td><td>1</td><td>15</td><td>44</td><td>15</td><td>58</td><td>107</td><td>15</td><td>135</td><td>560</td><td>146</td><td>30</td><td>24</td><td>&hellip;</td><td>207</td><td>1230</td><td>194</td><td>27</td><td>16</td><td>3</td><td>18</td><td>96</td><td>15</td><td>74</td><td>992</td><td>85</td><td>262</td><td>7160</td><td>451</td><td>21</td><td>89</td><td>43</td><td>42</td><td>1315</td><td>93</td><td>-32.92326</td><td>73.199997</td><td>-34.385799</td><td>-34.282101</td><td>-33.877102</td><td>-30.845301</td><td>-30.845301</td><td>-33.514423</td><td>-33.514423</td><td>76</td><td>68</td><td>48</td><td>44</td><td>44</td><td>56.0</td><td>56.0</td></tr><tr><td>&quot;08db4255286f&quot;</td><td>6</td><td>&quot;2018-11-05T10:…</td><td>-30.513399</td><td>107</td><td>1</td><td>14.071533</td><td>18</td><td>11</td><td>5</td><td>600</td><td>0</td><td>30</td><td>-4</td><td>1</td><td>4.6365e-26</td><td>0.149748</td><td>62</td><td>107</td><td>19</td><td>195</td><td>560</td><td>181</td><td>32</td><td>30</td><td>1</td><td>15</td><td>44</td><td>14</td><td>57</td><td>107</td><td>15</td><td>140</td><td>560</td><td>144</td><td>29</td><td>24</td><td>&hellip;</td><td>207</td><td>1230</td><td>194</td><td>27</td><td>16</td><td>3</td><td>18</td><td>96</td><td>15</td><td>74</td><td>992</td><td>85</td><td>263</td><td>7160</td><td>451</td><td>21</td><td>89</td><td>43</td><td>42</td><td>1315</td><td>93</td><td>-32.64296</td><td>69.199997</td><td>-34.925598</td><td>-34.385799</td><td>-34.282101</td><td>-30.845301</td><td>-30.845301</td><td>-33.514423</td><td>-33.514423</td><td>51</td><td>76</td><td>68</td><td>44</td><td>44</td><td>56.0</td><td>56.0</td></tr><tr><td>&quot;08db4255286f&quot;</td><td>7</td><td>&quot;2018-11-05T10:…</td><td>-30.509399</td><td>64</td><td>1</td><td>14.06176</td><td>18</td><td>11</td><td>5</td><td>600</td><td>0</td><td>35</td><td>-4</td><td>1</td><td>4.6365e-26</td><td>0.149748</td><td>63</td><td>107</td><td>18</td><td>190</td><td>560</td><td>174</td><td>32</td><td>29</td><td>1</td><td>15</td><td>44</td><td>14</td><td>57</td><td>107</td><td>15</td><td>140</td><td>560</td><td>141</td><td>29</td><td>18</td><td>&hellip;</td><td>207</td><td>1230</td><td>194</td><td>27</td><td>16</td><td>3</td><td>18</td><td>96</td><td>15</td><td>74</td><td>992</td><td>85</td><td>263</td><td>7160</td><td>451</td><td>21</td><td>89</td><td>43</td><td>42</td><td>1315</td><td>93</td><td>-32.700798</td><td>63.200001</td><td>-30.513399</td><td>-34.925598</td><td>-34.385799</td><td>-34.181801</td><td>-30.845301</td><td>-33.514423</td><td>-33.514423</td><td>107</td><td>51</td><td>76</td><td>44</td><td>44</td><td>56.0</td><td>56.0</td></tr><tr><td>&quot;08db4255286f&quot;</td><td>8</td><td>&quot;2018-11-05T10:…</td><td>-32.8806</td><td>48</td><td>1</td><td>14.052229</td><td>18</td><td>11</td><td>5</td><td>600</td><td>0</td><td>40</td><td>-4</td><td>1</td><td>4.6365e-26</td><td>0.149748</td><td>64</td><td>107</td><td>17</td><td>190</td><td>560</td><td>174</td><td>32</td><td>28</td><td>2</td><td>13</td><td>44</td><td>13</td><td>57</td><td>107</td><td>15</td><td>138</td><td>560</td><td>138</td><td>29</td><td>18</td><td>&hellip;</td><td>207</td><td>1230</td><td>194</td><td>27</td><td>16</td><td>3</td><td>18</td><td>96</td><td>15</td><td>74</td><td>992</td><td>85</td><td>263</td><td>7160</td><td>451</td><td>21</td><td>89</td><td>43</td><td>42</td><td>1315</td><td>93</td><td>-32.18298</td><td>68.800003</td><td>-30.509399</td><td>-30.513399</td><td>-34.925598</td><td>-33.877102</td><td>-30.845301</td><td>-33.514423</td><td>-33.514423</td><td>64</td><td>107</td><td>51</td><td>48</td><td>44</td><td>56.0</td><td>56.0</td></tr><tr><td>&quot;08db4255286f&quot;</td><td>9</td><td>&quot;2018-11-05T10:…</td><td>-34.674999</td><td>46</td><td>1</td><td>14.042868</td><td>18</td><td>11</td><td>5</td><td>600</td><td>0</td><td>45</td><td>-4</td><td>1</td><td>4.6365e-26</td><td>0.149748</td><td>64</td><td>107</td><td>17</td><td>195</td><td>560</td><td>169</td><td>31</td><td>28</td><td>2</td><td>14</td><td>44</td><td>12</td><td>56</td><td>107</td><td>15</td><td>136</td><td>560</td><td>136</td><td>28</td><td>18</td><td>&hellip;</td><td>207</td><td>1230</td><td>194</td><td>27</td><td>16</td><td>3</td><td>18</td><td>96</td><td>15</td><td>74</td><td>992</td><td>85</td><td>262</td><td>7160</td><td>451</td><td>21</td><td>89</td><td>43</td><td>42</td><td>1315</td><td>93</td><td>-32.34034</td><td>61.599998</td><td>-32.8806</td><td>-30.509399</td><td>-30.513399</td><td>-34.282101</td><td>-30.845301</td><td>-34.330482</td><td>-33.514423</td><td>48</td><td>64</td><td>107</td><td>68</td><td>44</td><td>57.400002</td><td>56.0</td></tr><tr><td>&quot;08db4255286f&quot;</td><td>10</td><td>&quot;2018-11-05T10:…</td><td>-32.336498</td><td>79</td><td>1</td><td>14.03346</td><td>18</td><td>11</td><td>5</td><td>600</td><td>0</td><td>50</td><td>-4</td><td>1</td><td>4.6365e-26</td><td>0.149748</td><td>62</td><td>107</td><td>18</td><td>185</td><td>560</td><td>173</td><td>31</td><td>24</td><td>3</td><td>18</td><td>50</td><td>15</td><td>57</td><td>107</td><td>14</td><td>138</td><td>560</td><td>134</td><td>28</td><td>18</td><td>&hellip;</td><td>207</td><td>1230</td><td>194</td><td>27</td><td>16</td><td>3</td><td>18</td><td>96</td><td>15</td><td>74</td><td>992</td><td>85</td><td>262</td><td>7160</td><td>451</td><td>21</td><td>89</td><td>43</td><td>42</td><td>1315</td><td>93</td><td>-32.05024</td><td>60.400002</td><td>-34.674999</td><td>-32.8806</td><td>-30.509399</td><td>-34.385799</td><td>-30.845301</td><td>-33.596802</td><td>-33.514423</td><td>46</td><td>48</td><td>64</td><td>76</td><td>44</td><td>70.0</td><td>56.0</td></tr><tr><td>&quot;08db4255286f&quot;</td><td>11</td><td>&quot;2018-11-05T10:…</td><td>-31.3002</td><td>71</td><td>1</td><td>14.024265</td><td>18</td><td>11</td><td>5</td><td>600</td><td>0</td><td>55</td><td>-4</td><td>1</td><td>4.6365e-26</td><td>0.149748</td><td>59</td><td>107</td><td>18</td><td>182</td><td>560</td><td>175</td><td>30</td><td>24</td><td>3</td><td>20</td><td>50</td><td>15</td><td>57</td><td>107</td><td>14</td><td>134</td><td>560</td><td>133</td><td>28</td><td>18</td><td>&hellip;</td><td>207</td><td>1230</td><td>194</td><td>27</td><td>16</td><td>3</td><td>18</td><td>96</td><td>15</td><td>74</td><td>992</td><td>85</td><td>262</td><td>7160</td><td>451</td><td>21</td><td>89</td><td>43</td><td>42</td><td>1315</td><td>93</td><td>-31.127502</td><td>62.400002</td><td>-32.336498</td><td>-34.674999</td><td>-32.8806</td><td>-34.925598</td><td>-30.845301</td><td>-32.92326</td><td>-33.514423</td><td>79</td><td>46</td><td>48</td><td>51</td><td>44</td><td>73.199997</td><td>56.0</td></tr><tr><td>&hellip;</td><td>&hellip;</td><td>&hellip;</td><td>&hellip;</td><td>&hellip;</td><td>&hellip;</td><td>&hellip;</td><td>&hellip;</td><td>&hellip;</td><td>&hellip;</td><td>&hellip;</td><td>&hellip;</td><td>&hellip;</td><td>&hellip;</td><td>&hellip;</td><td>&hellip;</td><td>&hellip;</td><td>&hellip;</td><td>&hellip;</td><td>&hellip;</td><td>&hellip;</td><td>&hellip;</td><td>&hellip;</td><td>&hellip;</td><td>&hellip;</td><td>&hellip;</td><td>&hellip;</td><td>&hellip;</td><td>&hellip;</td><td>&hellip;</td><td>&hellip;</td><td>&hellip;</td><td>&hellip;</td><td>&hellip;</td><td>&hellip;</td><td>&hellip;</td><td>&hellip;</td><td>&hellip;</td><td>&hellip;</td><td>&hellip;</td><td>&hellip;</td><td>&hellip;</td><td>&hellip;</td><td>&hellip;</td><td>&hellip;</td><td>&hellip;</td><td>&hellip;</td><td>&hellip;</td><td>&hellip;</td><td>&hellip;</td><td>&hellip;</td><td>&hellip;</td><td>&hellip;</td><td>&hellip;</td><td>&hellip;</td><td>&hellip;</td><td>&hellip;</td><td>&hellip;</td><td>&hellip;</td><td>&hellip;</td><td>&hellip;</td><td>&hellip;</td><td>&hellip;</td><td>&hellip;</td><td>&hellip;</td><td>&hellip;</td><td>&hellip;</td><td>&hellip;</td><td>&hellip;</td><td>&hellip;</td><td>&hellip;</td><td>&hellip;</td><td>&hellip;</td><td>&hellip;</td><td>&hellip;</td></tr><tr><td>&quot;d5e47b94477e&quot;</td><td>395808</td><td>&quot;2017-12-02T15:…</td><td>-13.6955</td><td>70</td><td>1</td><td>13.33963</td><td>17</td><td>12</td><td>2</td><td>944</td><td>44</td><td>0</td><td>-5</td><td>6</td><td>0.000009</td><td>6.5563e-10</td><td>94</td><td>152</td><td>26</td><td>238</td><td>830</td><td>265</td><td>13</td><td>4</td><td>5</td><td>30</td><td>61</td><td>22</td><td>101</td><td>157</td><td>31</td><td>239</td><td>830</td><td>221</td><td>12</td><td>3</td><td>&hellip;</td><td>210</td><td>1690</td><td>226</td><td>7</td><td>13</td><td>6</td><td>30</td><td>113</td><td>24</td><td>88</td><td>440</td><td>57</td><td>222</td><td>2520</td><td>282</td><td>8</td><td>13</td><td>6</td><td>29</td><td>160</td><td>22</td><td>-15.417564</td><td>88.599998</td><td>-13.5582</td><td>-11.9372</td><td>-5.7375</td><td>-14.4213</td><td>-17.0909</td><td>-11.329245</td><td>-16.064943</td><td>69</td><td>152</td><td>97</td><td>100</td><td>44</td><td>95.0</td><td>80.199997</td></tr><tr><td>&quot;d5e47b94477e&quot;</td><td>395809</td><td>&quot;2017-12-02T15:…</td><td>-18.6215</td><td>95</td><td>1</td><td>13.31701</td><td>17</td><td>12</td><td>2</td><td>944</td><td>44</td><td>5</td><td>-5</td><td>6</td><td>0.000009</td><td>6.5563e-10</td><td>99</td><td>157</td><td>31</td><td>270</td><td>830</td><td>264</td><td>13</td><td>4</td><td>5</td><td>37</td><td>96</td><td>28</td><td>99</td><td>157</td><td>31</td><td>247</td><td>830</td><td>221</td><td>12</td><td>3</td><td>&hellip;</td><td>210</td><td>1690</td><td>226</td><td>7</td><td>13</td><td>6</td><td>30</td><td>113</td><td>24</td><td>88</td><td>440</td><td>57</td><td>222</td><td>2520</td><td>282</td><td>8</td><td>13</td><td>6</td><td>29</td><td>160</td><td>22</td><td>-16.019804</td><td>71.400002</td><td>-13.6955</td><td>-13.5582</td><td>-11.9372</td><td>-9.9833</td><td>-14.379</td><td>-9.609185</td><td>-16.026983</td><td>70</td><td>69</td><td>152</td><td>97</td><td>97</td><td>101.0</td><td>72.199997</td></tr><tr><td>&quot;d5e47b94477e&quot;</td><td>395810</td><td>&quot;2017-12-02T15:…</td><td>-19.273701</td><td>57</td><td>1</td><td>13.294665</td><td>17</td><td>12</td><td>2</td><td>944</td><td>44</td><td>10</td><td>-5</td><td>6</td><td>0.000009</td><td>6.5563e-10</td><td>104</td><td>157</td><td>35</td><td>270</td><td>830</td><td>264</td><td>13</td><td>4</td><td>5</td><td>35</td><td>96</td><td>28</td><td>98</td><td>157</td><td>30</td><td>254</td><td>830</td><td>222</td><td>12</td><td>3</td><td>&hellip;</td><td>211</td><td>1690</td><td>226</td><td>7</td><td>13</td><td>6</td><td>30</td><td>113</td><td>23</td><td>88</td><td>440</td><td>57</td><td>222</td><td>2520</td><td>282</td><td>8</td><td>13</td><td>6</td><td>29</td><td>160</td><td>22</td><td>-17.234705</td><td>80.400002</td><td>-18.6215</td><td>-13.6955</td><td>-13.5582</td><td>-4.2815</td><td>-15.8569</td><td>-9.272505</td><td>-15.437464</td><td>95</td><td>70</td><td>69</td><td>106</td><td>108</td><td>110.400002</td><td>75.400002</td></tr><tr><td>&quot;d5e47b94477e&quot;</td><td>395811</td><td>&quot;2017-12-02T15:…</td><td>-14.9484</td><td>66</td><td>1</td><td>13.272404</td><td>17</td><td>12</td><td>2</td><td>944</td><td>44</td><td>15</td><td>-5</td><td>6</td><td>0.000009</td><td>6.5563e-10</td><td>104</td><td>157</td><td>35</td><td>297</td><td>830</td><td>261</td><td>13</td><td>5</td><td>4</td><td>30</td><td>96</td><td>29</td><td>98</td><td>157</td><td>30</td><td>246</td><td>830</td><td>222</td><td>12</td><td>3</td><td>&hellip;</td><td>211</td><td>1690</td><td>226</td><td>7</td><td>13</td><td>6</td><td>30</td><td>113</td><td>23</td><td>88</td><td>440</td><td>56</td><td>222</td><td>2520</td><td>282</td><td>8</td><td>13</td><td>6</td><td>29</td><td>160</td><td>22</td><td>-18.157644</td><td>89.0</td><td>-19.273701</td><td>-18.6215</td><td>-13.6955</td><td>-5.7375</td><td>-15.521</td><td>-9.099885</td><td>-14.743403</td><td>57</td><td>95</td><td>70</td><td>97</td><td>61</td><td>104.199997</td><td>87.599998</td></tr><tr><td>&quot;d5e47b94477e&quot;</td><td>395812</td><td>&quot;2017-12-02T15:…</td><td>-19.6327</td><td>114</td><td>1</td><td>13.250174</td><td>17</td><td>12</td><td>2</td><td>944</td><td>44</td><td>20</td><td>-5</td><td>6</td><td>0.000009</td><td>6.5563e-10</td><td>107</td><td>157</td><td>36</td><td>299</td><td>830</td><td>260</td><td>13</td><td>3</td><td>5</td><td>34</td><td>96</td><td>30</td><td>98</td><td>157</td><td>31</td><td>251</td><td>830</td><td>224</td><td>12</td><td>3</td><td>&hellip;</td><td>211</td><td>1690</td><td>226</td><td>7</td><td>13</td><td>6</td><td>30</td><td>113</td><td>23</td><td>88</td><td>440</td><td>56</td><td>222</td><td>2520</td><td>282</td><td>8</td><td>13</td><td>6</td><td>29</td><td>160</td><td>22</td><td>-16.156864</td><td>101.400002</td><td>-14.9484</td><td>-19.273701</td><td>-18.6215</td><td>-11.9372</td><td>-14.3378</td><td>-9.842325</td><td>-14.751864</td><td>66</td><td>57</td><td>95</td><td>152</td><td>67</td><td>98.800003</td><td>88.199997</td></tr><tr><td>&quot;d5e47b94477e&quot;</td><td>395813</td><td>&quot;2017-12-02T15:…</td><td>-18.3102</td><td>113</td><td>1</td><td>13.22784</td><td>17</td><td>12</td><td>2</td><td>944</td><td>44</td><td>25</td><td>-5</td><td>6</td><td>0.000009</td><td>6.5563e-10</td><td>105</td><td>157</td><td>34</td><td>263</td><td>830</td><td>252</td><td>12</td><td>3</td><td>5</td><td>31</td><td>96</td><td>29</td><td>98</td><td>157</td><td>31</td><td>258</td><td>830</td><td>227</td><td>12</td><td>3</td><td>&hellip;</td><td>211</td><td>1690</td><td>226</td><td>7</td><td>13</td><td>6</td><td>30</td><td>113</td><td>23</td><td>87</td><td>440</td><td>56</td><td>222</td><td>2520</td><td>282</td><td>8</td><td>13</td><td>6</td><td>29</td><td>160</td><td>22</td><td>-14.314944</td><td>121.0</td><td>-19.6327</td><td>-14.9484</td><td>-19.273701</td><td>-13.5582</td><td>-13.6206</td><td>-12.710324</td><td>-13.577146</td><td>114</td><td>66</td><td>57</td><td>69</td><td>105</td><td>96.599998</td><td>86.0</td></tr><tr><td>&quot;d5e47b94477e&quot;</td><td>395814</td><td>&quot;2017-12-02T15:…</td><td>-8.6176</td><td>157</td><td>1</td><td>13.20545</td><td>17</td><td>12</td><td>2</td><td>944</td><td>44</td><td>30</td><td>-5</td><td>6</td><td>0.000009</td><td>6.5563e-10</td><td>108</td><td>157</td><td>32</td><td>225</td><td>480</td><td>183</td><td>12</td><td>3</td><td>5</td><td>35</td><td>96</td><td>29</td><td>100</td><td>157</td><td>31</td><td>248</td><td>830</td><td>226</td><td>12</td><td>3</td><td>&hellip;</td><td>211</td><td>1690</td><td>226</td><td>7</td><td>13</td><td>6</td><td>30</td><td>113</td><td>23</td><td>87</td><td>440</td><td>56</td><td>222</td><td>2520</td><td>282</td><td>8</td><td>13</td><td>6</td><td>29</td><td>160</td><td>22</td><td>-13.326605</td><td>130.399994</td><td>-18.3102</td><td>-19.6327</td><td>-14.9484</td><td>-13.6955</td><td>-14.4213</td><td>-15.417564</td><td>-11.329245</td><td>113</td><td>114</td><td>66</td><td>70</td><td>100</td><td>88.599998</td><td>95.0</td></tr><tr><td>&quot;d5e47b94477e&quot;</td><td>395815</td><td>&quot;2017-12-02T15:…</td><td>-10.0641</td><td>155</td><td>1</td><td>13.183188</td><td>17</td><td>12</td><td>2</td><td>944</td><td>44</td><td>35</td><td>-5</td><td>6</td><td>0.000009</td><td>6.5563e-10</td><td>111</td><td>157</td><td>31</td><td>244</td><td>480</td><td>179</td><td>12</td><td>3</td><td>5</td><td>38</td><td>96</td><td>29</td><td>102</td><td>157</td><td>29</td><td>256</td><td>830</td><td>228</td><td>12</td><td>3</td><td>&hellip;</td><td>211</td><td>1690</td><td>226</td><td>7</td><td>13</td><td>6</td><td>30</td><td>113</td><td>23</td><td>87</td><td>440</td><td>56</td><td>222</td><td>2520</td><td>282</td><td>8</td><td>13</td><td>6</td><td>29</td><td>160</td><td>22</td><td>-10.065785</td><td>132.399994</td><td>-8.6176</td><td>-18.3102</td><td>-19.6327</td><td>-18.6215</td><td>-9.9833</td><td>-16.019804</td><td>-9.609185</td><td>157</td><td>113</td><td>114</td><td>95</td><td>97</td><td>71.400002</td><td>101.0</td></tr><tr><td>&quot;d5e47b94477e&quot;</td><td>395816</td><td>&quot;2017-12-02T15:…</td><td>-10.0067</td><td>113</td><td>1</td><td>13.160689</td><td>17</td><td>12</td><td>2</td><td>944</td><td>44</td><td>40</td><td>-5</td><td>6</td><td>0.000009</td><td>6.5563e-10</td><td>113</td><td>157</td><td>33</td><td>244</td><td>480</td><td>188</td><td>12</td><td>3</td><td>5</td><td>37</td><td>96</td><td>30</td><td>102</td><td>157</td><td>29</td><td>243</td><td>830</td><td>225</td><td>12</td><td>3</td><td>&hellip;</td><td>211</td><td>1690</td><td>226</td><td>7</td><td>13</td><td>6</td><td>30</td><td>113</td><td>23</td><td>87</td><td>440</td><td>56</td><td>222</td><td>2520</td><td>282</td><td>8</td><td>13</td><td>6</td><td>29</td><td>160</td><td>22</td><td>-7.584365</td><td>137.0</td><td>-10.0641</td><td>-8.6176</td><td>-18.3102</td><td>-19.273701</td><td>-4.2815</td><td>-17.234705</td><td>-9.272505</td><td>155</td><td>157</td><td>113</td><td>57</td><td>106</td><td>80.400002</td><td>110.400002</td></tr><tr><td>&quot;d5e47b94477e&quot;</td><td>395817</td><td>&quot;2017-12-02T15:…</td><td>-3.3286</td><td>124</td><td>1</td><td>13.138023</td><td>17</td><td>12</td><td>2</td><td>944</td><td>44</td><td>45</td><td>-5</td><td>6</td><td>0.000009</td><td>6.5563e-10</td><td>119</td><td>157</td><td>28</td><td>228</td><td>480</td><td>193</td><td>11</td><td>3</td><td>5</td><td>40</td><td>96</td><td>30</td><td>102</td><td>157</td><td>30</td><td>250</td><td>830</td><td>228</td><td>12</td><td>3</td><td>&hellip;</td><td>211</td><td>1690</td><td>227</td><td>7</td><td>13</td><td>6</td><td>30</td><td>113</td><td>23</td><td>87</td><td>440</td><td>56</td><td>222</td><td>2520</td><td>282</td><td>8</td><td>13</td><td>6</td><td>29</td><td>160</td><td>22</td><td>-8.199065</td><td>125.400002</td><td>-10.0067</td><td>-10.0641</td><td>-8.6176</td><td>-14.9484</td><td>-5.7375</td><td>-18.157644</td><td>-9.099885</td><td>113</td><td>155</td><td>157</td><td>66</td><td>97</td><td>89.0</td><td>104.199997</td></tr><tr><td>&quot;d5e47b94477e&quot;</td><td>395818</td><td>&quot;2017-12-02T15:…</td><td>-5.9031</td><td>136</td><td>1</td><td>13.116058</td><td>17</td><td>12</td><td>2</td><td>944</td><td>44</td><td>50</td><td>-5</td><td>6</td><td>0.000009</td><td>6.5563e-10</td><td>126</td><td>157</td><td>21</td><td>246</td><td>480</td><td>199</td><td>10</td><td>3</td><td>5</td><td>40</td><td>96</td><td>32</td><td>104</td><td>157</td><td>29</td><td>239</td><td>830</td><td>228</td><td>12</td><td>3</td><td>&hellip;</td><td>211</td><td>1690</td><td>227</td><td>7</td><td>13</td><td>6</td><td>30</td><td>113</td><td>23</td><td>87</td><td>440</td><td>56</td><td>222</td><td>2520</td><td>283</td><td>8</td><td>13</td><td>6</td><td>29</td><td>160</td><td>22</td><td>-8.199065</td><td>125.400002</td><td>-3.3286</td><td>-10.0067</td><td>-10.0641</td><td>-19.6327</td><td>-11.9372</td><td>-16.156864</td><td>-9.842325</td><td>124</td><td>113</td><td>155</td><td>114</td><td>152</td><td>101.400002</td><td>98.800003</td></tr><tr><td>&quot;d5e47b94477e&quot;</td><td>395819</td><td>&quot;2017-12-02T15:…</td><td>-11.6911</td><td>99</td><td>1</td><td>13.094515</td><td>17</td><td>12</td><td>2</td><td>944</td><td>44</td><td>55</td><td>-5</td><td>6</td><td>0.000009</td><td>6.5563e-10</td><td>128</td><td>157</td><td>22</td><td>212</td><td>440</td><td>190</td><td>9</td><td>3</td><td>4</td><td>39</td><td>96</td><td>35</td><td>106</td><td>157</td><td>29</td><td>248</td><td>830</td><td>231</td><td>11</td><td>3</td><td>&hellip;</td><td>211</td><td>1690</td><td>227</td><td>7</td><td>13</td><td>6</td><td>30</td><td>113</td><td>23</td><td>87</td><td>440</td><td>56</td><td>222</td><td>2520</td><td>283</td><td>8</td><td>13</td><td>6</td><td>29</td><td>160</td><td>22</td><td>-8.199065</td><td>125.400002</td><td>-5.9031</td><td>-3.3286</td><td>-10.0067</td><td>-18.3102</td><td>-13.5582</td><td>-14.314944</td><td>-12.710324</td><td>136</td><td>124</td><td>113</td><td>113</td><td>69</td><td>121.0</td><td>96.599998</td></tr></tbody></table></div>"
      ],
      "text/plain": [
       "shape: (13_165_560, 105)\n",
       "┌────────────┬────────┬────────────┬───────────┬───┬───────────┬───────────┬───────────┬───────────┐\n",
       "│ series_id  ┆ step   ┆ timestamp  ┆ anglez    ┆ … ┆ enmo_lag_ ┆ enmo_lag_ ┆ enmo_smoo ┆ enmo_smoo │\n",
       "│ ---        ┆ ---    ┆ ---        ┆ ---       ┆   ┆ 30s       ┆ 60s       ┆ th_lag_30 ┆ th_lag_60 │\n",
       "│ str        ┆ u32    ┆ str        ┆ f32       ┆   ┆ ---       ┆ ---       ┆ s         ┆ s         │\n",
       "│            ┆        ┆            ┆           ┆   ┆ u16       ┆ u16       ┆ ---       ┆ ---       │\n",
       "│            ┆        ┆            ┆           ┆   ┆           ┆           ┆ f32       ┆ f32       │\n",
       "╞════════════╪════════╪════════════╪═══════════╪═══╪═══════════╪═══════════╪═══════════╪═══════════╡\n",
       "│ 08db425528 ┆ 0      ┆ 2018-11-05 ┆ -30.84530 ┆ … ┆ 44        ┆ 44        ┆ 56.0      ┆ 56.0      │\n",
       "│ 6f         ┆        ┆ T10:00:00- ┆ 1         ┆   ┆           ┆           ┆           ┆           │\n",
       "│            ┆        ┆ 0400       ┆           ┆   ┆           ┆           ┆           ┆           │\n",
       "│ 08db425528 ┆ 1      ┆ 2018-11-05 ┆ -34.18180 ┆ … ┆ 44        ┆ 44        ┆ 56.0      ┆ 56.0      │\n",
       "│ 6f         ┆        ┆ T10:00:05- ┆ 1         ┆   ┆           ┆           ┆           ┆           │\n",
       "│            ┆        ┆ 0400       ┆           ┆   ┆           ┆           ┆           ┆           │\n",
       "│ 08db425528 ┆ 2      ┆ 2018-11-05 ┆ -33.87710 ┆ … ┆ 44        ┆ 44        ┆ 56.0      ┆ 56.0      │\n",
       "│ 6f         ┆        ┆ T10:00:10- ┆ 2         ┆   ┆           ┆           ┆           ┆           │\n",
       "│            ┆        ┆ 0400       ┆           ┆   ┆           ┆           ┆           ┆           │\n",
       "│ 08db425528 ┆ 3      ┆ 2018-11-05 ┆ -34.28210 ┆ … ┆ 44        ┆ 44        ┆ 56.0      ┆ 56.0      │\n",
       "│ 6f         ┆        ┆ T10:00:15- ┆ 1         ┆   ┆           ┆           ┆           ┆           │\n",
       "│            ┆        ┆ 0400       ┆           ┆   ┆           ┆           ┆           ┆           │\n",
       "│ …          ┆ …      ┆ …          ┆ …         ┆ … ┆ …         ┆ …         ┆ …         ┆ …         │\n",
       "│ d5e47b9447 ┆ 395816 ┆ 2017-12-02 ┆ -10.0067  ┆ … ┆ 57        ┆ 106       ┆ 80.400002 ┆ 110.40000 │\n",
       "│ 7e         ┆        ┆ T15:44:40- ┆           ┆   ┆           ┆           ┆           ┆ 2         │\n",
       "│            ┆        ┆ 0500       ┆           ┆   ┆           ┆           ┆           ┆           │\n",
       "│ d5e47b9447 ┆ 395817 ┆ 2017-12-02 ┆ -3.3286   ┆ … ┆ 66        ┆ 97        ┆ 89.0      ┆ 104.19999 │\n",
       "│ 7e         ┆        ┆ T15:44:45- ┆           ┆   ┆           ┆           ┆           ┆ 7         │\n",
       "│            ┆        ┆ 0500       ┆           ┆   ┆           ┆           ┆           ┆           │\n",
       "│ d5e47b9447 ┆ 395818 ┆ 2017-12-02 ┆ -5.9031   ┆ … ┆ 114       ┆ 152       ┆ 101.40000 ┆ 98.800003 │\n",
       "│ 7e         ┆        ┆ T15:44:50- ┆           ┆   ┆           ┆           ┆ 2         ┆           │\n",
       "│            ┆        ┆ 0500       ┆           ┆   ┆           ┆           ┆           ┆           │\n",
       "│ d5e47b9447 ┆ 395819 ┆ 2017-12-02 ┆ -11.6911  ┆ … ┆ 113       ┆ 69        ┆ 121.0     ┆ 96.599998 │\n",
       "│ 7e         ┆        ┆ T15:44:55- ┆           ┆   ┆           ┆           ┆           ┆           │\n",
       "│            ┆        ┆ 0500       ┆           ┆   ┆           ┆           ┆           ┆           │\n",
       "└────────────┴────────┴────────────┴───────────┴───┴───────────┴───────────┴───────────┴───────────┘"
      ]
     },
     "execution_count": 5,
     "metadata": {},
     "output_type": "execute_result"
    }
   ],
   "source": [
    "train_fe = feature_extraction(train)\n",
    "\n",
    "train_fe"
   ]
  },
  {
   "cell_type": "code",
   "execution_count": 6,
   "id": "5f1fb18f",
   "metadata": {
    "execution": {
     "iopub.execute_input": "2023-11-30T15:44:10.542349Z",
     "iopub.status.busy": "2023-11-30T15:44:10.541397Z",
     "iopub.status.idle": "2023-11-30T15:44:10.547949Z",
     "shell.execute_reply": "2023-11-30T15:44:10.546944Z"
    },
    "papermill": {
     "duration": 0.024033,
     "end_time": "2023-11-30T15:44:10.550876",
     "exception": false,
     "start_time": "2023-11-30T15:44:10.526843",
     "status": "completed"
    },
    "tags": []
   },
   "outputs": [
    {
     "name": "stdout",
     "output_type": "stream",
     "text": [
      "105\n",
      "series_id\t-\tUtf8\n",
      "step\t-\tUInt32\n",
      "timestamp\t-\tUtf8\n",
      "anglez\t-\tFloat32\n",
      "enmo\t-\tUInt16\n",
      "awake\t-\tInt8\n",
      "lids\t-\tFloat32\n",
      "year\t-\tUInt8\n",
      "month\t-\tInt8\n",
      "day\t-\tInt8\n",
      "hour\t-\tInt32\n",
      "minute\t-\tInt8\n",
      "second\t-\tInt8\n",
      "time_zone\t-\tInt32\n",
      "weekday\t-\tUInt32\n",
      "signal_onset\t-\tFloat32\n",
      "signal_awake\t-\tFloat32\n",
      "enmo_1m_mean\t-\tUInt16\n",
      "enmo_1m_max\t-\tUInt16\n",
      "enmo_1m_std\t-\tUInt16\n",
      "enmo_1v_1m_mean\t-\tUInt32\n",
      "enmo_1v_1m_max\t-\tUInt32\n",
      "enmo_1v_1m_std\t-\tUInt32\n",
      "anglez_1m_mean\t-\tUInt16\n",
      "anglez_1m_max\t-\tUInt16\n",
      "anglez_1m_std\t-\tUInt16\n",
      "anglez_1v_1m_mean\t-\tUInt32\n",
      "anglez_1v_1m_max\t-\tUInt32\n",
      "anglez_1v_1m_std\t-\tUInt32\n",
      "enmo_3m_mean\t-\tUInt16\n",
      "enmo_3m_max\t-\tUInt16\n",
      "enmo_3m_std\t-\tUInt16\n",
      "enmo_1v_3m_mean\t-\tUInt32\n",
      "enmo_1v_3m_max\t-\tUInt32\n",
      "enmo_1v_3m_std\t-\tUInt32\n",
      "anglez_3m_mean\t-\tUInt16\n",
      "anglez_3m_max\t-\tUInt16\n",
      "anglez_3m_std\t-\tUInt16\n",
      "anglez_1v_3m_mean\t-\tUInt32\n",
      "anglez_1v_3m_max\t-\tUInt32\n",
      "anglez_1v_3m_std\t-\tUInt32\n",
      "enmo_5m_mean\t-\tUInt16\n",
      "enmo_5m_max\t-\tUInt16\n",
      "enmo_5m_std\t-\tUInt16\n",
      "enmo_1v_5m_mean\t-\tUInt32\n",
      "enmo_1v_5m_max\t-\tUInt32\n",
      "enmo_1v_5m_std\t-\tUInt32\n",
      "anglez_5m_mean\t-\tUInt16\n",
      "anglez_5m_max\t-\tUInt16\n",
      "anglez_5m_std\t-\tUInt16\n",
      "anglez_1v_5m_mean\t-\tUInt32\n",
      "anglez_1v_5m_max\t-\tUInt32\n",
      "anglez_1v_5m_std\t-\tUInt32\n",
      "enmo_30m_mean\t-\tUInt16\n",
      "enmo_30m_max\t-\tUInt16\n",
      "enmo_30m_std\t-\tUInt16\n",
      "enmo_1v_30m_mean\t-\tUInt32\n",
      "enmo_1v_30m_max\t-\tUInt32\n",
      "enmo_1v_30m_std\t-\tUInt32\n",
      "anglez_30m_mean\t-\tUInt16\n",
      "anglez_30m_max\t-\tUInt16\n",
      "anglez_30m_std\t-\tUInt16\n",
      "anglez_1v_30m_mean\t-\tUInt32\n",
      "anglez_1v_30m_max\t-\tUInt32\n",
      "anglez_1v_30m_std\t-\tUInt32\n",
      "enmo_120m_mean\t-\tUInt16\n",
      "enmo_120m_max\t-\tUInt16\n",
      "enmo_120m_std\t-\tUInt16\n",
      "enmo_1v_120m_mean\t-\tUInt32\n",
      "enmo_1v_120m_max\t-\tUInt32\n",
      "enmo_1v_120m_std\t-\tUInt32\n",
      "anglez_120m_mean\t-\tUInt16\n",
      "anglez_120m_max\t-\tUInt16\n",
      "anglez_120m_std\t-\tUInt16\n",
      "anglez_1v_120m_mean\t-\tUInt32\n",
      "anglez_1v_120m_max\t-\tUInt32\n",
      "anglez_1v_120m_std\t-\tUInt32\n",
      "enmo_480m_mean\t-\tUInt16\n",
      "enmo_480m_max\t-\tUInt16\n",
      "enmo_480m_std\t-\tUInt16\n",
      "enmo_1v_480m_mean\t-\tUInt32\n",
      "enmo_1v_480m_max\t-\tUInt32\n",
      "enmo_1v_480m_std\t-\tUInt32\n",
      "anglez_480m_mean\t-\tUInt16\n",
      "anglez_480m_max\t-\tUInt16\n",
      "anglez_480m_std\t-\tUInt16\n",
      "anglez_1v_480m_mean\t-\tUInt32\n",
      "anglez_1v_480m_max\t-\tUInt32\n",
      "anglez_1v_480m_std\t-\tUInt32\n",
      "anglez_25s_smooth\t-\tFloat32\n",
      "enmo_25s_smooth\t-\tFloat32\n",
      "anglez_lag_5s\t-\tFloat32\n",
      "anglez_lag_10s\t-\tFloat32\n",
      "anglez_lag_15s\t-\tFloat32\n",
      "anglez_lag_30s\t-\tFloat32\n",
      "anglez_lag_60s\t-\tFloat32\n",
      "anglez_smooth_lag_30s\t-\tFloat32\n",
      "anglez_smooth_lag_60s\t-\tFloat32\n",
      "enmo_lag_5s\t-\tUInt16\n",
      "enmo_lag_10s\t-\tUInt16\n",
      "enmo_lag_15s\t-\tUInt16\n",
      "enmo_lag_30s\t-\tUInt16\n",
      "enmo_lag_60s\t-\tUInt16\n",
      "enmo_smooth_lag_30s\t-\tFloat32\n",
      "enmo_smooth_lag_60s\t-\tFloat32\n"
     ]
    }
   ],
   "source": [
    "c_types = train_fe.dtypes\n",
    "c_name = train_fe.columns\n",
    "\n",
    "print(len(c_name))\n",
    "print('\\n'.join([\"{}\\t-\\t{}\".format(str(a_), str(b_)) for a_, b_ in zip(c_name, c_types)]))"
   ]
  },
  {
   "cell_type": "code",
   "execution_count": 7,
   "id": "92c89e7f",
   "metadata": {
    "execution": {
     "iopub.execute_input": "2023-11-30T15:44:10.580014Z",
     "iopub.status.busy": "2023-11-30T15:44:10.579668Z",
     "iopub.status.idle": "2023-11-30T15:44:10.597626Z",
     "shell.execute_reply": "2023-11-30T15:44:10.596605Z"
    },
    "papermill": {
     "duration": 0.03569,
     "end_time": "2023-11-30T15:44:10.600217",
     "exception": false,
     "start_time": "2023-11-30T15:44:10.564527",
     "status": "completed"
    },
    "tags": []
   },
   "outputs": [
    {
     "name": "stdout",
     "output_type": "stream",
     "text": [
      "CPU times: user 0 ns, sys: 4.72 ms, total: 4.72 ms\n",
      "Wall time: 9.97 ms\n"
     ]
    },
    {
     "data": {
      "text/html": [
       "<div><style>\n",
       ".dataframe > thead > tr > th,\n",
       ".dataframe > tbody > tr > td {\n",
       "  text-align: right;\n",
       "  white-space: pre-wrap;\n",
       "}\n",
       "</style>\n",
       "<small>shape: (5, 5)</small><table border=\"1\" class=\"dataframe\"><thead><tr><th>series_id</th><th>step</th><th>timestamp</th><th>anglez</th><th>enmo</th></tr><tr><td>str</td><td>u32</td><td>str</td><td>f32</td><td>f32</td></tr></thead><tbody><tr><td>&quot;038441c925bb&quot;</td><td>0</td><td>&quot;2018-08-14T15:…</td><td>2.6367</td><td>0.0217</td></tr><tr><td>&quot;038441c925bb&quot;</td><td>1</td><td>&quot;2018-08-14T15:…</td><td>2.6368</td><td>0.0215</td></tr><tr><td>&quot;038441c925bb&quot;</td><td>2</td><td>&quot;2018-08-14T15:…</td><td>2.637</td><td>0.0216</td></tr><tr><td>&quot;038441c925bb&quot;</td><td>3</td><td>&quot;2018-08-14T15:…</td><td>2.6368</td><td>0.0213</td></tr><tr><td>&quot;038441c925bb&quot;</td><td>4</td><td>&quot;2018-08-14T15:…</td><td>2.6368</td><td>0.0215</td></tr></tbody></table></div>"
      ],
      "text/plain": [
       "shape: (5, 5)\n",
       "┌──────────────┬──────┬──────────────────────────┬────────┬────────┐\n",
       "│ series_id    ┆ step ┆ timestamp                ┆ anglez ┆ enmo   │\n",
       "│ ---          ┆ ---  ┆ ---                      ┆ ---    ┆ ---    │\n",
       "│ str          ┆ u32  ┆ str                      ┆ f32    ┆ f32    │\n",
       "╞══════════════╪══════╪══════════════════════════╪════════╪════════╡\n",
       "│ 038441c925bb ┆ 0    ┆ 2018-08-14T15:30:00-0400 ┆ 2.6367 ┆ 0.0217 │\n",
       "│ 038441c925bb ┆ 1    ┆ 2018-08-14T15:30:05-0400 ┆ 2.6368 ┆ 0.0215 │\n",
       "│ 038441c925bb ┆ 2    ┆ 2018-08-14T15:30:10-0400 ┆ 2.637  ┆ 0.0216 │\n",
       "│ 038441c925bb ┆ 3    ┆ 2018-08-14T15:30:15-0400 ┆ 2.6368 ┆ 0.0213 │\n",
       "│ 038441c925bb ┆ 4    ┆ 2018-08-14T15:30:20-0400 ┆ 2.6368 ┆ 0.0215 │\n",
       "└──────────────┴──────┴──────────────────────────┴────────┴────────┘"
      ]
     },
     "execution_count": 7,
     "metadata": {},
     "output_type": "execute_result"
    }
   ],
   "source": [
    "%%time\n",
    "test_raw = pl.read_parquet('/kaggle/input/child-mind-institute-detect-sleep-states/test_series.parquet')\n",
    "test_raw.head()"
   ]
  },
  {
   "cell_type": "code",
   "execution_count": 8,
   "id": "e27f7045",
   "metadata": {
    "execution": {
     "iopub.execute_input": "2023-11-30T15:44:10.631361Z",
     "iopub.status.busy": "2023-11-30T15:44:10.630550Z",
     "iopub.status.idle": "2023-11-30T15:44:10.784972Z",
     "shell.execute_reply": "2023-11-30T15:44:10.783884Z"
    },
    "papermill": {
     "duration": 0.17274,
     "end_time": "2023-11-30T15:44:10.787282",
     "exception": false,
     "start_time": "2023-11-30T15:44:10.614542",
     "status": "completed"
    },
    "tags": []
   },
   "outputs": [
    {
     "name": "stderr",
     "output_type": "stream",
     "text": [
      "/tmp/ipykernel_26/2147898270.py:26: DeprecationWarning: `apply` is deprecated. It has been renamed to `map_elements`.\n",
      "  (pl.col(\"hour\").cast(pl.Int32)*60 + pl.col(\"minute\").cast(pl.Int32))\n",
      "/tmp/ipykernel_26/2147898270.py:29: DeprecationWarning: `apply` is deprecated. It has been renamed to `map_elements`.\n",
      "  (pl.col(\"hour\").cast(pl.Int32)*60 + pl.col(\"minute\").cast(pl.Int32))\n"
     ]
    },
    {
     "data": {
      "application/vnd.jupyter.widget-view+json": {
       "model_id": "8bd46f95a2ae4de19d15365618758eef",
       "version_major": 2,
       "version_minor": 0
      },
      "text/plain": [
       "  0%|          | 0/3 [00:00<?, ?it/s]"
      ]
     },
     "metadata": {},
     "output_type": "display_data"
    },
    {
     "name": "stdout",
     "output_type": "stream",
     "text": [
      "0 :  038441c925bb\n",
      "1 :  03d92c9f6f8a\n",
      "2 :  0402a003dae9\n"
     ]
    },
    {
     "data": {
      "text/html": [
       "<div><style>\n",
       ".dataframe > thead > tr > th,\n",
       ".dataframe > tbody > tr > td {\n",
       "  text-align: right;\n",
       "  white-space: pre-wrap;\n",
       "}\n",
       "</style>\n",
       "<small>shape: (450, 104)</small><table border=\"1\" class=\"dataframe\"><thead><tr><th>series_id</th><th>step</th><th>timestamp</th><th>anglez</th><th>enmo</th><th>lids</th><th>year</th><th>month</th><th>day</th><th>hour</th><th>minute</th><th>second</th><th>time_zone</th><th>weekday</th><th>signal_onset</th><th>signal_awake</th><th>enmo_1m_mean</th><th>enmo_1m_max</th><th>enmo_1m_std</th><th>enmo_1v_1m_mean</th><th>enmo_1v_1m_max</th><th>enmo_1v_1m_std</th><th>anglez_1m_mean</th><th>anglez_1m_max</th><th>anglez_1m_std</th><th>anglez_1v_1m_mean</th><th>anglez_1v_1m_max</th><th>anglez_1v_1m_std</th><th>enmo_3m_mean</th><th>enmo_3m_max</th><th>enmo_3m_std</th><th>enmo_1v_3m_mean</th><th>enmo_1v_3m_max</th><th>enmo_1v_3m_std</th><th>anglez_3m_mean</th><th>anglez_3m_max</th><th>anglez_3m_std</th><th>&hellip;</th><th>enmo_1v_120m_mean</th><th>enmo_1v_120m_max</th><th>enmo_1v_120m_std</th><th>anglez_120m_mean</th><th>anglez_120m_max</th><th>anglez_120m_std</th><th>anglez_1v_120m_mean</th><th>anglez_1v_120m_max</th><th>anglez_1v_120m_std</th><th>enmo_480m_mean</th><th>enmo_480m_max</th><th>enmo_480m_std</th><th>enmo_1v_480m_mean</th><th>enmo_1v_480m_max</th><th>enmo_1v_480m_std</th><th>anglez_480m_mean</th><th>anglez_480m_max</th><th>anglez_480m_std</th><th>anglez_1v_480m_mean</th><th>anglez_1v_480m_max</th><th>anglez_1v_480m_std</th><th>anglez_25s_smooth</th><th>enmo_25s_smooth</th><th>anglez_lag_5s</th><th>anglez_lag_10s</th><th>anglez_lag_15s</th><th>anglez_lag_30s</th><th>anglez_lag_60s</th><th>anglez_smooth_lag_30s</th><th>anglez_smooth_lag_60s</th><th>enmo_lag_5s</th><th>enmo_lag_10s</th><th>enmo_lag_15s</th><th>enmo_lag_30s</th><th>enmo_lag_60s</th><th>enmo_smooth_lag_30s</th><th>enmo_smooth_lag_60s</th></tr><tr><td>str</td><td>u32</td><td>str</td><td>f32</td><td>u16</td><td>f32</td><td>u8</td><td>i8</td><td>i8</td><td>i32</td><td>i8</td><td>i8</td><td>i32</td><td>u32</td><td>f32</td><td>f32</td><td>u16</td><td>u16</td><td>u16</td><td>u32</td><td>u32</td><td>u32</td><td>u16</td><td>u16</td><td>u16</td><td>u32</td><td>u32</td><td>u32</td><td>u16</td><td>u16</td><td>u16</td><td>u32</td><td>u32</td><td>u32</td><td>u16</td><td>u16</td><td>u16</td><td>&hellip;</td><td>u32</td><td>u32</td><td>u32</td><td>u16</td><td>u16</td><td>u16</td><td>u32</td><td>u32</td><td>u32</td><td>u16</td><td>u16</td><td>u16</td><td>u32</td><td>u32</td><td>u32</td><td>u16</td><td>u16</td><td>u16</td><td>u32</td><td>u32</td><td>u32</td><td>f32</td><td>f32</td><td>f32</td><td>f32</td><td>f32</td><td>f32</td><td>f32</td><td>f32</td><td>f32</td><td>u16</td><td>u16</td><td>u16</td><td>u16</td><td>u16</td><td>f32</td><td>f32</td></tr></thead><tbody><tr><td>&quot;038441c925bb&quot;</td><td>0</td><td>&quot;2018-08-14T15:…</td><td>2.6367</td><td>21</td><td>94.958038</td><td>18</td><td>8</td><td>14</td><td>930</td><td>30</td><td>0</td><td>-4</td><td>2</td><td>0.000003</td><td>3.0851e-9</td><td>21</td><td>21</td><td>0</td><td>0</td><td>0</td><td>0</td><td>2</td><td>2</td><td>0</td><td>0</td><td>0</td><td>0</td><td>21</td><td>22</td><td>0</td><td>2</td><td>10</td><td>4</td><td>2</td><td>3</td><td>0</td><td>&hellip;</td><td>15</td><td>580</td><td>71</td><td>62</td><td>68</td><td>38</td><td>16</td><td>733</td><td>82</td><td>14</td><td>69</td><td>5</td><td>15</td><td>580</td><td>71</td><td>62</td><td>68</td><td>38</td><td>16</td><td>733</td><td>82</td><td>2.63682</td><td>21.0</td><td>2.6367</td><td>2.6367</td><td>2.6367</td><td>2.6367</td><td>2.6367</td><td>2.63682</td><td>2.63682</td><td>21</td><td>21</td><td>21</td><td>21</td><td>21</td><td>21.0</td><td>21.0</td></tr><tr><td>&quot;038441c925bb&quot;</td><td>1</td><td>&quot;2018-08-14T15:…</td><td>2.6368</td><td>21</td><td>94.958038</td><td>18</td><td>8</td><td>14</td><td>930</td><td>30</td><td>5</td><td>-4</td><td>2</td><td>0.000003</td><td>3.0851e-9</td><td>21</td><td>21</td><td>0</td><td>0</td><td>0</td><td>0</td><td>2</td><td>2</td><td>0</td><td>0</td><td>0</td><td>0</td><td>22</td><td>39</td><td>4</td><td>12</td><td>180</td><td>42</td><td>5</td><td>49</td><td>10</td><td>&hellip;</td><td>15</td><td>580</td><td>71</td><td>62</td><td>68</td><td>38</td><td>16</td><td>733</td><td>82</td><td>14</td><td>69</td><td>5</td><td>15</td><td>580</td><td>71</td><td>62</td><td>68</td><td>38</td><td>16</td><td>733</td><td>82</td><td>2.63682</td><td>21.0</td><td>2.6367</td><td>2.6367</td><td>2.6367</td><td>2.6367</td><td>2.6367</td><td>2.63682</td><td>2.63682</td><td>21</td><td>21</td><td>21</td><td>21</td><td>21</td><td>21.0</td><td>21.0</td></tr><tr><td>&quot;038441c925bb&quot;</td><td>2</td><td>&quot;2018-08-14T15:…</td><td>2.637</td><td>21</td><td>94.958038</td><td>18</td><td>8</td><td>14</td><td>930</td><td>30</td><td>10</td><td>-4</td><td>2</td><td>0.000003</td><td>3.0851e-9</td><td>21</td><td>21</td><td>0</td><td>0</td><td>0</td><td>0</td><td>2</td><td>2</td><td>0</td><td>0</td><td>0</td><td>0</td><td>21</td><td>39</td><td>4</td><td>23</td><td>230</td><td>64</td><td>7</td><td>54</td><td>15</td><td>&hellip;</td><td>15</td><td>580</td><td>71</td><td>62</td><td>68</td><td>38</td><td>16</td><td>733</td><td>82</td><td>14</td><td>69</td><td>5</td><td>15</td><td>580</td><td>71</td><td>62</td><td>68</td><td>38</td><td>16</td><td>733</td><td>82</td><td>2.63682</td><td>21.0</td><td>2.6368</td><td>2.6367</td><td>2.6367</td><td>2.6367</td><td>2.6367</td><td>2.63682</td><td>2.63682</td><td>21</td><td>21</td><td>21</td><td>21</td><td>21</td><td>21.0</td><td>21.0</td></tr><tr><td>&quot;038441c925bb&quot;</td><td>3</td><td>&quot;2018-08-14T15:…</td><td>2.6368</td><td>21</td><td>94.958038</td><td>18</td><td>8</td><td>14</td><td>930</td><td>30</td><td>15</td><td>-4</td><td>2</td><td>0.000003</td><td>3.0851e-9</td><td>21</td><td>22</td><td>0</td><td>1</td><td>10</td><td>3</td><td>2</td><td>2</td><td>0</td><td>0</td><td>1</td><td>0</td><td>21</td><td>39</td><td>4</td><td>23</td><td>230</td><td>62</td><td>9</td><td>54</td><td>16</td><td>&hellip;</td><td>15</td><td>580</td><td>71</td><td>62</td><td>68</td><td>38</td><td>16</td><td>733</td><td>82</td><td>14</td><td>69</td><td>5</td><td>15</td><td>580</td><td>71</td><td>62</td><td>68</td><td>38</td><td>16</td><td>733</td><td>82</td><td>2.63682</td><td>21.0</td><td>2.637</td><td>2.6368</td><td>2.6367</td><td>2.6367</td><td>2.6367</td><td>2.63682</td><td>2.63682</td><td>21</td><td>21</td><td>21</td><td>21</td><td>21</td><td>21.0</td><td>21.0</td></tr><tr><td>&quot;038441c925bb&quot;</td><td>4</td><td>&quot;2018-08-14T15:…</td><td>2.6368</td><td>21</td><td>94.958038</td><td>18</td><td>8</td><td>14</td><td>930</td><td>30</td><td>20</td><td>-4</td><td>2</td><td>0.000003</td><td>3.0851e-9</td><td>21</td><td>22</td><td>0</td><td>2</td><td>10</td><td>4</td><td>2</td><td>3</td><td>0</td><td>0</td><td>2</td><td>1</td><td>21</td><td>39</td><td>4</td><td>25</td><td>230</td><td>62</td><td>11</td><td>67</td><td>20</td><td>&hellip;</td><td>15</td><td>580</td><td>71</td><td>62</td><td>68</td><td>38</td><td>16</td><td>733</td><td>82</td><td>14</td><td>69</td><td>5</td><td>15</td><td>580</td><td>71</td><td>62</td><td>68</td><td>38</td><td>16</td><td>733</td><td>82</td><td>2.6368</td><td>21.0</td><td>2.6368</td><td>2.637</td><td>2.6368</td><td>2.6367</td><td>2.6367</td><td>2.63682</td><td>2.63682</td><td>21</td><td>21</td><td>21</td><td>21</td><td>21</td><td>21.0</td><td>21.0</td></tr><tr><td>&quot;038441c925bb&quot;</td><td>5</td><td>&quot;2018-08-14T15:…</td><td>2.6367</td><td>21</td><td>94.958038</td><td>18</td><td>8</td><td>14</td><td>930</td><td>30</td><td>25</td><td>-4</td><td>2</td><td>0.000003</td><td>3.0851e-9</td><td>21</td><td>22</td><td>0</td><td>3</td><td>10</td><td>4</td><td>2</td><td>3</td><td>0</td><td>0</td><td>3</td><td>1</td><td>21</td><td>39</td><td>4</td><td>30</td><td>230</td><td>64</td><td>14</td><td>68</td><td>23</td><td>&hellip;</td><td>15</td><td>580</td><td>71</td><td>62</td><td>68</td><td>38</td><td>16</td><td>733</td><td>82</td><td>14</td><td>69</td><td>5</td><td>15</td><td>580</td><td>71</td><td>62</td><td>68</td><td>38</td><td>16</td><td>733</td><td>82</td><td>2.63674</td><td>21.0</td><td>2.6368</td><td>2.6368</td><td>2.637</td><td>2.6367</td><td>2.6367</td><td>2.63682</td><td>2.63682</td><td>21</td><td>21</td><td>21</td><td>21</td><td>21</td><td>21.0</td><td>21.0</td></tr><tr><td>&quot;038441c925bb&quot;</td><td>6</td><td>&quot;2018-08-14T15:…</td><td>2.6367</td><td>21</td><td>94.958038</td><td>18</td><td>8</td><td>14</td><td>930</td><td>30</td><td>30</td><td>-4</td><td>2</td><td>0.000003</td><td>3.0851e-9</td><td>21</td><td>22</td><td>0</td><td>3</td><td>10</td><td>5</td><td>2</td><td>3</td><td>0</td><td>0</td><td>3</td><td>1</td><td>20</td><td>39</td><td>5</td><td>35</td><td>230</td><td>68</td><td>15</td><td>68</td><td>23</td><td>&hellip;</td><td>15</td><td>580</td><td>71</td><td>62</td><td>68</td><td>38</td><td>16</td><td>733</td><td>82</td><td>14</td><td>69</td><td>5</td><td>15</td><td>580</td><td>71</td><td>62</td><td>68</td><td>38</td><td>16</td><td>733</td><td>82</td><td>2.66898</td><td>21.200001</td><td>2.6367</td><td>2.6368</td><td>2.6368</td><td>2.6367</td><td>2.6367</td><td>2.63682</td><td>2.63682</td><td>21</td><td>21</td><td>21</td><td>21</td><td>21</td><td>21.0</td><td>21.0</td></tr><tr><td>&quot;038441c925bb&quot;</td><td>7</td><td>&quot;2018-08-14T15:…</td><td>2.6367</td><td>21</td><td>94.958038</td><td>18</td><td>8</td><td>14</td><td>930</td><td>30</td><td>35</td><td>-4</td><td>2</td><td>0.000003</td><td>3.0851e-9</td><td>21</td><td>22</td><td>0</td><td>3</td><td>10</td><td>4</td><td>2</td><td>3</td><td>0</td><td>0</td><td>3</td><td>1</td><td>20</td><td>39</td><td>5</td><td>34</td><td>230</td><td>67</td><td>15</td><td>68</td><td>23</td><td>&hellip;</td><td>15</td><td>580</td><td>71</td><td>62</td><td>68</td><td>38</td><td>16</td><td>733</td><td>82</td><td>14</td><td>69</td><td>5</td><td>15</td><td>580</td><td>71</td><td>62</td><td>68</td><td>38</td><td>16</td><td>733</td><td>82</td><td>2.75856</td><td>21.200001</td><td>2.6367</td><td>2.6367</td><td>2.6368</td><td>2.6368</td><td>2.6367</td><td>2.63682</td><td>2.63682</td><td>21</td><td>21</td><td>21</td><td>21</td><td>21</td><td>21.0</td><td>21.0</td></tr><tr><td>&quot;038441c925bb&quot;</td><td>8</td><td>&quot;2018-08-14T15:…</td><td>2.798</td><td>22</td><td>94.958038</td><td>18</td><td>8</td><td>14</td><td>930</td><td>30</td><td>40</td><td>-4</td><td>2</td><td>0.000003</td><td>3.0851e-9</td><td>21</td><td>22</td><td>0</td><td>3</td><td>10</td><td>4</td><td>2</td><td>3</td><td>0</td><td>0</td><td>3</td><td>1</td><td>19</td><td>39</td><td>6</td><td>34</td><td>230</td><td>66</td><td>16</td><td>68</td><td>22</td><td>&hellip;</td><td>15</td><td>580</td><td>71</td><td>62</td><td>68</td><td>38</td><td>16</td><td>733</td><td>82</td><td>14</td><td>69</td><td>5</td><td>15</td><td>580</td><td>71</td><td>62</td><td>68</td><td>38</td><td>16</td><td>733</td><td>82</td><td>2.78726</td><td>21.4</td><td>2.6367</td><td>2.6367</td><td>2.6367</td><td>2.637</td><td>2.6367</td><td>2.63682</td><td>2.63682</td><td>21</td><td>21</td><td>21</td><td>21</td><td>21</td><td>21.0</td><td>21.0</td></tr><tr><td>&quot;038441c925bb&quot;</td><td>9</td><td>&quot;2018-08-14T15:…</td><td>3.0847</td><td>21</td><td>94.958038</td><td>18</td><td>8</td><td>14</td><td>930</td><td>30</td><td>45</td><td>-4</td><td>2</td><td>0.000003</td><td>3.0851e-9</td><td>21</td><td>22</td><td>0</td><td>3</td><td>10</td><td>4</td><td>2</td><td>3</td><td>0</td><td>0</td><td>3</td><td>1</td><td>19</td><td>39</td><td>6</td><td>33</td><td>230</td><td>65</td><td>16</td><td>68</td><td>22</td><td>&hellip;</td><td>15</td><td>580</td><td>71</td><td>62</td><td>68</td><td>38</td><td>16</td><td>733</td><td>82</td><td>14</td><td>69</td><td>5</td><td>15</td><td>580</td><td>71</td><td>62</td><td>68</td><td>38</td><td>16</td><td>733</td><td>82</td><td>2.76402</td><td>21.4</td><td>2.798</td><td>2.6367</td><td>2.6367</td><td>2.6368</td><td>2.6367</td><td>2.63682</td><td>2.63682</td><td>22</td><td>21</td><td>21</td><td>21</td><td>21</td><td>21.0</td><td>21.0</td></tr><tr><td>&quot;038441c925bb&quot;</td><td>10</td><td>&quot;2018-08-14T15:…</td><td>2.7802</td><td>22</td><td>94.958038</td><td>18</td><td>8</td><td>14</td><td>930</td><td>30</td><td>50</td><td>-4</td><td>2</td><td>0.000003</td><td>3.0851e-9</td><td>21</td><td>22</td><td>0</td><td>3</td><td>10</td><td>4</td><td>2</td><td>3</td><td>0</td><td>0</td><td>3</td><td>1</td><td>21</td><td>69</td><td>11</td><td>53</td><td>580</td><td>123</td><td>16</td><td>68</td><td>22</td><td>&hellip;</td><td>15</td><td>580</td><td>71</td><td>62</td><td>68</td><td>38</td><td>16</td><td>733</td><td>82</td><td>14</td><td>69</td><td>5</td><td>15</td><td>580</td><td>71</td><td>62</td><td>68</td><td>38</td><td>16</td><td>733</td><td>82</td><td>2.71926</td><td>21.4</td><td>3.0847</td><td>2.798</td><td>2.6367</td><td>2.6368</td><td>2.6367</td><td>2.6368</td><td>2.63682</td><td>21</td><td>22</td><td>21</td><td>21</td><td>21</td><td>21.0</td><td>21.0</td></tr><tr><td>&quot;038441c925bb&quot;</td><td>11</td><td>&quot;2018-08-14T15:…</td><td>2.5205</td><td>21</td><td>94.958038</td><td>18</td><td>8</td><td>14</td><td>930</td><td>30</td><td>55</td><td>-4</td><td>2</td><td>0.000003</td><td>3.0851e-9</td><td>21</td><td>22</td><td>0</td><td>3</td><td>10</td><td>4</td><td>2</td><td>3</td><td>0</td><td>0</td><td>3</td><td>1</td><td>20</td><td>69</td><td>11</td><td>71</td><td>580</td><td>154</td><td>12</td><td>68</td><td>28</td><td>&hellip;</td><td>15</td><td>580</td><td>71</td><td>62</td><td>68</td><td>38</td><td>16</td><td>733</td><td>82</td><td>14</td><td>69</td><td>5</td><td>15</td><td>580</td><td>71</td><td>62</td><td>68</td><td>38</td><td>16</td><td>733</td><td>82</td><td>2.64224</td><td>21.200001</td><td>2.7802</td><td>3.0847</td><td>2.798</td><td>2.6367</td><td>2.6367</td><td>2.63674</td><td>2.63682</td><td>22</td><td>21</td><td>22</td><td>21</td><td>21</td><td>21.0</td><td>21.0</td></tr><tr><td>&hellip;</td><td>&hellip;</td><td>&hellip;</td><td>&hellip;</td><td>&hellip;</td><td>&hellip;</td><td>&hellip;</td><td>&hellip;</td><td>&hellip;</td><td>&hellip;</td><td>&hellip;</td><td>&hellip;</td><td>&hellip;</td><td>&hellip;</td><td>&hellip;</td><td>&hellip;</td><td>&hellip;</td><td>&hellip;</td><td>&hellip;</td><td>&hellip;</td><td>&hellip;</td><td>&hellip;</td><td>&hellip;</td><td>&hellip;</td><td>&hellip;</td><td>&hellip;</td><td>&hellip;</td><td>&hellip;</td><td>&hellip;</td><td>&hellip;</td><td>&hellip;</td><td>&hellip;</td><td>&hellip;</td><td>&hellip;</td><td>&hellip;</td><td>&hellip;</td><td>&hellip;</td><td>&hellip;</td><td>&hellip;</td><td>&hellip;</td><td>&hellip;</td><td>&hellip;</td><td>&hellip;</td><td>&hellip;</td><td>&hellip;</td><td>&hellip;</td><td>&hellip;</td><td>&hellip;</td><td>&hellip;</td><td>&hellip;</td><td>&hellip;</td><td>&hellip;</td><td>&hellip;</td><td>&hellip;</td><td>&hellip;</td><td>&hellip;</td><td>&hellip;</td><td>&hellip;</td><td>&hellip;</td><td>&hellip;</td><td>&hellip;</td><td>&hellip;</td><td>&hellip;</td><td>&hellip;</td><td>&hellip;</td><td>&hellip;</td><td>&hellip;</td><td>&hellip;</td><td>&hellip;</td><td>&hellip;</td><td>&hellip;</td><td>&hellip;</td><td>&hellip;</td><td>&hellip;</td><td>&hellip;</td></tr><tr><td>&quot;0402a003dae9&quot;</td><td>138</td><td>&quot;2018-12-18T12:…</td><td>-19.064501</td><td>68</td><td>17.639551</td><td>18</td><td>12</td><td>18</td><td>776</td><td>56</td><td>30</td><td>-5</td><td>2</td><td>1.4556e-13</td><td>0.0003</td><td>52</td><td>86</td><td>18</td><td>165</td><td>450</td><td>146</td><td>26</td><td>11</td><td>11</td><td>121</td><td>584</td><td>156</td><td>44</td><td>86</td><td>17</td><td>144</td><td>450</td><td>130</td><td>41</td><td>7</td><td>24</td><td>&hellip;</td><td>484</td><td>9190</td><td>1224</td><td>29</td><td>49</td><td>29</td><td>147</td><td>704</td><td>148</td><td>68</td><td>980</td><td>104</td><td>484</td><td>9190</td><td>1224</td><td>29</td><td>49</td><td>29</td><td>147</td><td>704</td><td>148</td><td>-26.058981</td><td>46.400002</td><td>-35.360298</td><td>-40.967499</td><td>-49.169601</td><td>-11.7239</td><td>-67.709999</td><td>-38.626808</td><td>-70.356499</td><td>23</td><td>29</td><td>33</td><td>71</td><td>47</td><td>57.799999</td><td>49.799999</td></tr><tr><td>&quot;0402a003dae9&quot;</td><td>139</td><td>&quot;2018-12-18T12:…</td><td>-15.173</td><td>56</td><td>17.639551</td><td>18</td><td>12</td><td>18</td><td>776</td><td>56</td><td>35</td><td>-5</td><td>2</td><td>1.4556e-13</td><td>0.0003</td><td>48</td><td>86</td><td>19</td><td>175</td><td>450</td><td>151</td><td>26</td><td>3</td><td>12</td><td>95</td><td>271</td><td>79</td><td>45</td><td>86</td><td>17</td><td>146</td><td>450</td><td>131</td><td>40</td><td>7</td><td>24</td><td>&hellip;</td><td>484</td><td>9190</td><td>1224</td><td>29</td><td>49</td><td>29</td><td>147</td><td>704</td><td>148</td><td>68</td><td>980</td><td>104</td><td>484</td><td>9190</td><td>1224</td><td>29</td><td>49</td><td>29</td><td>147</td><td>704</td><td>148</td><td>-22.695301</td><td>51.0</td><td>-19.064501</td><td>-35.360298</td><td>-40.967499</td><td>-15.6789</td><td>-69.520302</td><td>-35.167267</td><td>-60.306782</td><td>68</td><td>23</td><td>29</td><td>62</td><td>55</td><td>52.799999</td><td>46.799999</td></tr><tr><td>&quot;0402a003dae9&quot;</td><td>140</td><td>&quot;2018-12-18T12:…</td><td>-19.729601</td><td>56</td><td>17.639551</td><td>18</td><td>12</td><td>18</td><td>776</td><td>56</td><td>40</td><td>-5</td><td>2</td><td>1.4556e-13</td><td>0.0003</td><td>47</td><td>86</td><td>19</td><td>201</td><td>450</td><td>162</td><td>29</td><td>3</td><td>15</td><td>138</td><td>558</td><td>153</td><td>46</td><td>86</td><td>17</td><td>150</td><td>450</td><td>132</td><td>40</td><td>7</td><td>24</td><td>&hellip;</td><td>484</td><td>9190</td><td>1224</td><td>29</td><td>49</td><td>29</td><td>147</td><td>704</td><td>148</td><td>68</td><td>980</td><td>104</td><td>484</td><td>9190</td><td>1224</td><td>29</td><td>49</td><td>29</td><td>147</td><td>704</td><td>148</td><td>-21.434582</td><td>63.599998</td><td>-15.173</td><td>-19.064501</td><td>-35.360298</td><td>-29.089899</td><td>-54.896599</td><td>-29.325964</td><td>-57.367821</td><td>56</td><td>68</td><td>23</td><td>45</td><td>57</td><td>48.0</td><td>49.400002</td></tr><tr><td>&quot;0402a003dae9&quot;</td><td>141</td><td>&quot;2018-12-18T12:…</td><td>-24.149099</td><td>52</td><td>17.639551</td><td>18</td><td>12</td><td>18</td><td>776</td><td>56</td><td>45</td><td>-5</td><td>2</td><td>1.4556e-13</td><td>0.0003</td><td>47</td><td>86</td><td>19</td><td>202</td><td>450</td><td>162</td><td>30</td><td>3</td><td>15</td><td>147</td><td>558</td><td>156</td><td>46</td><td>86</td><td>17</td><td>152</td><td>450</td><td>135</td><td>39</td><td>7</td><td>24</td><td>&hellip;</td><td>484</td><td>9190</td><td>1224</td><td>29</td><td>49</td><td>29</td><td>147</td><td>704</td><td>148</td><td>68</td><td>980</td><td>104</td><td>484</td><td>9190</td><td>1224</td><td>29</td><td>49</td><td>29</td><td>147</td><td>704</td><td>148</td><td>-23.823963</td><td>59.599998</td><td>-19.729601</td><td>-15.173</td><td>-19.064501</td><td>-49.169601</td><td>-28.2449</td><td>-34.053242</td><td>-57.860626</td><td>56</td><td>56</td><td>68</td><td>33</td><td>30</td><td>38.400002</td><td>50.599998</td></tr><tr><td>&quot;0402a003dae9&quot;</td><td>142</td><td>&quot;2018-12-18T12:…</td><td>-29.0567</td><td>86</td><td>17.639551</td><td>18</td><td>12</td><td>18</td><td>776</td><td>56</td><td>50</td><td>-5</td><td>2</td><td>1.4556e-13</td><td>0.0003</td><td>47</td><td>86</td><td>19</td><td>202</td><td>450</td><td>162</td><td>27</td><td>3</td><td>14</td><td>142</td><td>558</td><td>155</td><td>46</td><td>86</td><td>17</td><td>153</td><td>450</td><td>137</td><td>38</td><td>7</td><td>24</td><td>&hellip;</td><td>484</td><td>9190</td><td>1224</td><td>29</td><td>49</td><td>29</td><td>147</td><td>704</td><td>148</td><td>68</td><td>980</td><td>104</td><td>484</td><td>9190</td><td>1224</td><td>29</td><td>49</td><td>29</td><td>147</td><td>704</td><td>148</td><td>-21.553541</td><td>52.200001</td><td>-24.149099</td><td>-19.729601</td><td>-15.173</td><td>-40.967499</td><td>-66.4673</td><td>-34.730362</td><td>-46.30135</td><td>52</td><td>56</td><td>56</td><td>29</td><td>58</td><td>39.599998</td><td>53.799999</td></tr><tr><td>&quot;0402a003dae9&quot;</td><td>143</td><td>&quot;2018-12-18T12:…</td><td>-31.0114</td><td>48</td><td>17.639551</td><td>18</td><td>12</td><td>18</td><td>776</td><td>56</td><td>55</td><td>-5</td><td>2</td><td>1.4556e-13</td><td>0.0003</td><td>47</td><td>86</td><td>19</td><td>200</td><td>450</td><td>164</td><td>28</td><td>3</td><td>14</td><td>153</td><td>558</td><td>155</td><td>46</td><td>86</td><td>17</td><td>158</td><td>450</td><td>137</td><td>36</td><td>7</td><td>23</td><td>&hellip;</td><td>484</td><td>9190</td><td>1224</td><td>29</td><td>49</td><td>29</td><td>147</td><td>704</td><td>148</td><td>68</td><td>980</td><td>104</td><td>484</td><td>9190</td><td>1224</td><td>29</td><td>49</td><td>29</td><td>147</td><td>704</td><td>148</td><td>-29.547003</td><td>53.0</td><td>-29.0567</td><td>-24.149099</td><td>-19.729601</td><td>-35.360298</td><td>-70.174004</td><td>-31.946981</td><td>-38.457806</td><td>86</td><td>52</td><td>56</td><td>23</td><td>53</td><td>41.799999</td><td>54.799999</td></tr><tr><td>&quot;0402a003dae9&quot;</td><td>144</td><td>&quot;2018-12-18T12:…</td><td>-3.8209</td><td>19</td><td>17.639551</td><td>18</td><td>12</td><td>18</td><td>777</td><td>57</td><td>0</td><td>-5</td><td>2</td><td>1.7271e-13</td><td>0.000284</td><td>46</td><td>86</td><td>21</td><td>215</td><td>450</td><td>158</td><td>24</td><td>7</td><td>17</td><td>189</td><td>558</td><td>180</td><td>46</td><td>86</td><td>18</td><td>165</td><td>450</td><td>136</td><td>34</td><td>7</td><td>21</td><td>&hellip;</td><td>484</td><td>9190</td><td>1224</td><td>29</td><td>49</td><td>29</td><td>147</td><td>704</td><td>148</td><td>68</td><td>980</td><td>104</td><td>484</td><td>9190</td><td>1224</td><td>29</td><td>49</td><td>29</td><td>147</td><td>704</td><td>148</td><td>-31.848505</td><td>51.0</td><td>-31.0114</td><td>-29.0567</td><td>-24.149099</td><td>-19.064501</td><td>-11.7239</td><td>-26.058981</td><td>-38.626808</td><td>48</td><td>86</td><td>52</td><td>68</td><td>71</td><td>46.400002</td><td>57.799999</td></tr><tr><td>&quot;0402a003dae9&quot;</td><td>145</td><td>&quot;2018-12-18T12:…</td><td>-59.696899</td><td>60</td><td>17.639551</td><td>18</td><td>12</td><td>18</td><td>777</td><td>57</td><td>5</td><td>-5</td><td>2</td><td>1.7271e-13</td><td>0.000284</td><td>44</td><td>86</td><td>21</td><td>194</td><td>410</td><td>147</td><td>25</td><td>7</td><td>18</td><td>192</td><td>558</td><td>188</td><td>46</td><td>86</td><td>18</td><td>171</td><td>450</td><td>135</td><td>33</td><td>7</td><td>20</td><td>&hellip;</td><td>484</td><td>9190</td><td>1224</td><td>29</td><td>49</td><td>29</td><td>147</td><td>704</td><td>148</td><td>68</td><td>980</td><td>104</td><td>484</td><td>9190</td><td>1224</td><td>29</td><td>49</td><td>29</td><td>147</td><td>704</td><td>148</td><td>-30.353643</td><td>39.799999</td><td>-3.8209</td><td>-31.0114</td><td>-29.0567</td><td>-15.173</td><td>-15.6789</td><td>-22.695301</td><td>-35.167267</td><td>19</td><td>48</td><td>86</td><td>56</td><td>62</td><td>51.0</td><td>52.799999</td></tr><tr><td>&quot;0402a003dae9&quot;</td><td>146</td><td>&quot;2018-12-18T12:…</td><td>-35.656601</td><td>42</td><td>17.639551</td><td>18</td><td>12</td><td>18</td><td>777</td><td>57</td><td>10</td><td>-5</td><td>2</td><td>1.7271e-13</td><td>0.000284</td><td>43</td><td>86</td><td>22</td><td>202</td><td>410</td><td>152</td><td>26</td><td>7</td><td>18</td><td>207</td><td>558</td><td>191</td><td>46</td><td>86</td><td>19</td><td>175</td><td>450</td><td>137</td><td>31</td><td>7</td><td>19</td><td>&hellip;</td><td>484</td><td>9190</td><td>1224</td><td>29</td><td>49</td><td>29</td><td>147</td><td>704</td><td>148</td><td>68</td><td>980</td><td>104</td><td>484</td><td>9190</td><td>1224</td><td>29</td><td>49</td><td>29</td><td>147</td><td>704</td><td>148</td><td>-32.674564</td><td>36.599998</td><td>-59.696899</td><td>-3.8209</td><td>-31.0114</td><td>-19.729601</td><td>-29.089899</td><td>-21.434582</td><td>-29.325964</td><td>60</td><td>19</td><td>48</td><td>56</td><td>45</td><td>63.599998</td><td>48.0</td></tr><tr><td>&quot;0402a003dae9&quot;</td><td>147</td><td>&quot;2018-12-18T12:…</td><td>-21.582399</td><td>30</td><td>17.639551</td><td>18</td><td>12</td><td>18</td><td>777</td><td>57</td><td>15</td><td>-5</td><td>2</td><td>1.7271e-13</td><td>0.000284</td><td>41</td><td>86</td><td>23</td><td>224</td><td>410</td><td>143</td><td>26</td><td>7</td><td>19</td><td>225</td><td>558</td><td>193</td><td>45</td><td>86</td><td>19</td><td>183</td><td>450</td><td>136</td><td>30</td><td>7</td><td>19</td><td>&hellip;</td><td>484</td><td>9190</td><td>1224</td><td>29</td><td>49</td><td>29</td><td>147</td><td>704</td><td>148</td><td>68</td><td>980</td><td>104</td><td>484</td><td>9190</td><td>1224</td><td>29</td><td>49</td><td>29</td><td>147</td><td>704</td><td>148</td><td>-30.5044</td><td>34.400002</td><td>-35.656601</td><td>-59.696899</td><td>-3.8209</td><td>-24.149099</td><td>-49.169601</td><td>-23.823963</td><td>-34.053242</td><td>42</td><td>60</td><td>19</td><td>52</td><td>33</td><td>59.599998</td><td>38.400002</td></tr><tr><td>&quot;0402a003dae9&quot;</td><td>148</td><td>&quot;2018-12-18T12:…</td><td>-42.616001</td><td>32</td><td>17.639551</td><td>18</td><td>12</td><td>18</td><td>777</td><td>57</td><td>20</td><td>-5</td><td>2</td><td>1.7271e-13</td><td>0.000284</td><td>40</td><td>86</td><td>24</td><td>247</td><td>410</td><td>134</td><td>27</td><td>7</td><td>21</td><td>248</td><td>558</td><td>194</td><td>46</td><td>86</td><td>19</td><td>179</td><td>450</td><td>138</td><td>30</td><td>7</td><td>20</td><td>&hellip;</td><td>484</td><td>9190</td><td>1224</td><td>29</td><td>49</td><td>29</td><td>147</td><td>704</td><td>148</td><td>68</td><td>980</td><td>104</td><td>484</td><td>9190</td><td>1224</td><td>29</td><td>49</td><td>29</td><td>147</td><td>704</td><td>148</td><td>-30.5044</td><td>34.400002</td><td>-21.582399</td><td>-35.656601</td><td>-59.696899</td><td>-29.0567</td><td>-40.967499</td><td>-21.553541</td><td>-34.730362</td><td>30</td><td>42</td><td>60</td><td>86</td><td>29</td><td>52.200001</td><td>39.599998</td></tr><tr><td>&quot;0402a003dae9&quot;</td><td>149</td><td>&quot;2018-12-18T12:…</td><td>7.0299</td><td>8</td><td>17.639551</td><td>18</td><td>12</td><td>18</td><td>777</td><td>57</td><td>25</td><td>-5</td><td>2</td><td>1.7271e-13</td><td>0.000284</td><td>34</td><td>60</td><td>17</td><td>234</td><td>410</td><td>139</td><td>26</td><td>7</td><td>22</td><td>276</td><td>558</td><td>190</td><td>45</td><td>86</td><td>19</td><td>173</td><td>450</td><td>140</td><td>28</td><td>7</td><td>18</td><td>&hellip;</td><td>484</td><td>9190</td><td>1224</td><td>29</td><td>49</td><td>29</td><td>147</td><td>704</td><td>148</td><td>68</td><td>980</td><td>104</td><td>484</td><td>9190</td><td>1224</td><td>29</td><td>49</td><td>29</td><td>147</td><td>704</td><td>148</td><td>-30.5044</td><td>34.400002</td><td>-42.616001</td><td>-21.582399</td><td>-35.656601</td><td>-31.0114</td><td>-35.360298</td><td>-29.547003</td><td>-31.946981</td><td>32</td><td>30</td><td>42</td><td>48</td><td>23</td><td>53.0</td><td>41.799999</td></tr></tbody></table></div>"
      ],
      "text/plain": [
       "shape: (450, 104)\n",
       "┌────────────┬──────┬────────────┬────────────┬───┬────────────┬───────────┬───────────┬───────────┐\n",
       "│ series_id  ┆ step ┆ timestamp  ┆ anglez     ┆ … ┆ enmo_lag_3 ┆ enmo_lag_ ┆ enmo_smoo ┆ enmo_smoo │\n",
       "│ ---        ┆ ---  ┆ ---        ┆ ---        ┆   ┆ 0s         ┆ 60s       ┆ th_lag_30 ┆ th_lag_60 │\n",
       "│ str        ┆ u32  ┆ str        ┆ f32        ┆   ┆ ---        ┆ ---       ┆ s         ┆ s         │\n",
       "│            ┆      ┆            ┆            ┆   ┆ u16        ┆ u16       ┆ ---       ┆ ---       │\n",
       "│            ┆      ┆            ┆            ┆   ┆            ┆           ┆ f32       ┆ f32       │\n",
       "╞════════════╪══════╪════════════╪════════════╪═══╪════════════╪═══════════╪═══════════╪═══════════╡\n",
       "│ 038441c925 ┆ 0    ┆ 2018-08-14 ┆ 2.6367     ┆ … ┆ 21         ┆ 21        ┆ 21.0      ┆ 21.0      │\n",
       "│ bb         ┆      ┆ T15:30:00- ┆            ┆   ┆            ┆           ┆           ┆           │\n",
       "│            ┆      ┆ 0400       ┆            ┆   ┆            ┆           ┆           ┆           │\n",
       "│ 038441c925 ┆ 1    ┆ 2018-08-14 ┆ 2.6368     ┆ … ┆ 21         ┆ 21        ┆ 21.0      ┆ 21.0      │\n",
       "│ bb         ┆      ┆ T15:30:05- ┆            ┆   ┆            ┆           ┆           ┆           │\n",
       "│            ┆      ┆ 0400       ┆            ┆   ┆            ┆           ┆           ┆           │\n",
       "│ 038441c925 ┆ 2    ┆ 2018-08-14 ┆ 2.637      ┆ … ┆ 21         ┆ 21        ┆ 21.0      ┆ 21.0      │\n",
       "│ bb         ┆      ┆ T15:30:10- ┆            ┆   ┆            ┆           ┆           ┆           │\n",
       "│            ┆      ┆ 0400       ┆            ┆   ┆            ┆           ┆           ┆           │\n",
       "│ 038441c925 ┆ 3    ┆ 2018-08-14 ┆ 2.6368     ┆ … ┆ 21         ┆ 21        ┆ 21.0      ┆ 21.0      │\n",
       "│ bb         ┆      ┆ T15:30:15- ┆            ┆   ┆            ┆           ┆           ┆           │\n",
       "│            ┆      ┆ 0400       ┆            ┆   ┆            ┆           ┆           ┆           │\n",
       "│ …          ┆ …    ┆ …          ┆ …          ┆ … ┆ …          ┆ …         ┆ …         ┆ …         │\n",
       "│ 0402a003da ┆ 146  ┆ 2018-12-18 ┆ -35.656601 ┆ … ┆ 56         ┆ 45        ┆ 63.599998 ┆ 48.0      │\n",
       "│ e9         ┆      ┆ T12:57:10- ┆            ┆   ┆            ┆           ┆           ┆           │\n",
       "│            ┆      ┆ 0500       ┆            ┆   ┆            ┆           ┆           ┆           │\n",
       "│ 0402a003da ┆ 147  ┆ 2018-12-18 ┆ -21.582399 ┆ … ┆ 52         ┆ 33        ┆ 59.599998 ┆ 38.400002 │\n",
       "│ e9         ┆      ┆ T12:57:15- ┆            ┆   ┆            ┆           ┆           ┆           │\n",
       "│            ┆      ┆ 0500       ┆            ┆   ┆            ┆           ┆           ┆           │\n",
       "│ 0402a003da ┆ 148  ┆ 2018-12-18 ┆ -42.616001 ┆ … ┆ 86         ┆ 29        ┆ 52.200001 ┆ 39.599998 │\n",
       "│ e9         ┆      ┆ T12:57:20- ┆            ┆   ┆            ┆           ┆           ┆           │\n",
       "│            ┆      ┆ 0500       ┆            ┆   ┆            ┆           ┆           ┆           │\n",
       "│ 0402a003da ┆ 149  ┆ 2018-12-18 ┆ 7.0299     ┆ … ┆ 48         ┆ 23        ┆ 53.0      ┆ 41.799999 │\n",
       "│ e9         ┆      ┆ T12:57:25- ┆            ┆   ┆            ┆           ┆           ┆           │\n",
       "│            ┆      ┆ 0500       ┆            ┆   ┆            ┆           ┆           ┆           │\n",
       "└────────────┴──────┴────────────┴────────────┴───┴────────────┴───────────┴───────────┴───────────┘"
      ]
     },
     "execution_count": 8,
     "metadata": {},
     "output_type": "execute_result"
    }
   ],
   "source": [
    "test_fe = feature_extraction(test_raw, False)\n",
    "\n",
    "test_fe"
   ]
  },
  {
   "cell_type": "code",
   "execution_count": 9,
   "id": "f2c8ea87",
   "metadata": {
    "execution": {
     "iopub.execute_input": "2023-11-30T15:44:10.818600Z",
     "iopub.status.busy": "2023-11-30T15:44:10.817802Z",
     "iopub.status.idle": "2023-11-30T15:44:10.890557Z",
     "shell.execute_reply": "2023-11-30T15:44:10.889497Z"
    },
    "papermill": {
     "duration": 0.091008,
     "end_time": "2023-11-30T15:44:10.892910",
     "exception": false,
     "start_time": "2023-11-30T15:44:10.801902",
     "status": "completed"
    },
    "tags": []
   },
   "outputs": [
    {
     "data": {
      "text/plain": [
       "0"
      ]
     },
     "execution_count": 9,
     "metadata": {},
     "output_type": "execute_result"
    }
   ],
   "source": [
    "gc.collect()"
   ]
  },
  {
   "cell_type": "code",
   "execution_count": 10,
   "id": "00b84c9a",
   "metadata": {
    "execution": {
     "iopub.execute_input": "2023-11-30T15:44:10.926654Z",
     "iopub.status.busy": "2023-11-30T15:44:10.925957Z",
     "iopub.status.idle": "2023-11-30T15:44:12.792992Z",
     "shell.execute_reply": "2023-11-30T15:44:12.791969Z"
    },
    "papermill": {
     "duration": 1.88731,
     "end_time": "2023-11-30T15:44:12.795310",
     "exception": false,
     "start_time": "2023-11-30T15:44:10.908000",
     "status": "completed"
    },
    "tags": []
   },
   "outputs": [
    {
     "name": "stderr",
     "output_type": "stream",
     "text": [
      "/opt/conda/lib/python3.10/site-packages/scipy/__init__.py:146: UserWarning: A NumPy version >=1.16.5 and <1.23.0 is required for this version of SciPy (detected version 1.23.5\n",
      "  warnings.warn(f\"A NumPy version >={np_minversion} and <{np_maxversion}\"\n"
     ]
    },
    {
     "data": {
      "image/png": "[encoded data removed]",
      "text/plain": [
       "<Figure size 1200x500 with 1 Axes>"
      ]
     },
     "metadata": {},
     "output_type": "display_data"
    }
   ],
   "source": [
    "import seaborn as sns\n",
    "import matplotlib.pyplot as plt\n",
    "import numpy as np\n",
    "import pandas as pd\n",
    "\n",
    "plt.rcParams[\"figure.figsize\"] = [12.00, 5]\n",
    "plt.rcParams[\"figure.autolayout\"] = True\n",
    "\n",
    "df = pd.DataFrame(dict(day=np.array(train_fe[\"day\"].take_every(12*60))))\n",
    "\n",
    "ax = sns.countplot(x=\"day\", data=df)\n",
    "\n",
    "for p in ax.patches:\n",
    "   ax.annotate('{:.1f}'.format(p.get_height()), (p.get_x()+0.25, p.get_height()+0.01))\n",
    "\n",
    "plt.show()"
   ]
  },
  {
   "cell_type": "code",
   "execution_count": 11,
   "id": "4e02f03f",
   "metadata": {
    "execution": {
     "iopub.execute_input": "2023-11-30T15:44:12.827329Z",
     "iopub.status.busy": "2023-11-30T15:44:12.826965Z",
     "iopub.status.idle": "2023-11-30T15:44:13.213646Z",
     "shell.execute_reply": "2023-11-30T15:44:13.212650Z"
    },
    "papermill": {
     "duration": 0.405194,
     "end_time": "2023-11-30T15:44:13.215740",
     "exception": false,
     "start_time": "2023-11-30T15:44:12.810546",
     "status": "completed"
    },
    "tags": []
   },
   "outputs": [
    {
     "data": {
      "image/png": "[encoded data removed]",
      "text/plain": [
       "<Figure size 1200x500 with 1 Axes>"
      ]
     },
     "metadata": {},
     "output_type": "display_data"
    }
   ],
   "source": [
    "import seaborn as sns\n",
    "import matplotlib.pyplot as plt\n",
    "import numpy as np\n",
    "import pandas as pd\n",
    "\n",
    "plt.rcParams[\"figure.figsize\"] = [12.00, 5]\n",
    "plt.rcParams[\"figure.autolayout\"] = True\n",
    "\n",
    "df = pd.DataFrame(dict(month=np.array(train_fe[\"month\"].take_every(12*60*24))))\n",
    "\n",
    "ax = sns.countplot(x=\"month\", data=df)\n",
    "\n",
    "for p in ax.patches:\n",
    "   ax.annotate('{:.1f}'.format(p.get_height()), (p.get_x()+0.25, p.get_height()+0.01))\n",
    "\n",
    "plt.show()"
   ]
  },
  {
   "cell_type": "code",
   "execution_count": 12,
   "id": "dd8f88cc",
   "metadata": {
    "execution": {
     "iopub.execute_input": "2023-11-30T15:44:13.251323Z",
     "iopub.status.busy": "2023-11-30T15:44:13.250374Z",
     "iopub.status.idle": "2023-11-30T15:44:39.389592Z",
     "shell.execute_reply": "2023-11-30T15:44:39.388137Z"
    },
    "papermill": {
     "duration": 26.159433,
     "end_time": "2023-11-30T15:44:39.391992",
     "exception": false,
     "start_time": "2023-11-30T15:44:13.232559",
     "status": "completed"
    },
    "tags": []
   },
   "outputs": [
    {
     "name": "stdout",
     "output_type": "stream",
     "text": [
      "CPU times: user 23.9 s, sys: 2.27 s, total: 26.2 s\n",
      "Wall time: 26.1 s\n"
     ]
    }
   ],
   "source": [
    "%%time\n",
    "test_fe.write_csv('test_series.csv')\n",
    "test_fe.write_parquet('test_series.parquet')\n",
    "train_fe.write_parquet('train_series.parquet')"
   ]
  },
  {
   "cell_type": "code",
   "execution_count": 13,
   "id": "a248fd23",
   "metadata": {
    "execution": {
     "iopub.execute_input": "2023-11-30T15:44:39.426639Z",
     "iopub.status.busy": "2023-11-30T15:44:39.426169Z",
     "iopub.status.idle": "2023-11-30T15:44:39.430930Z",
     "shell.execute_reply": "2023-11-30T15:44:39.430024Z"
    },
    "papermill": {
     "duration": 0.02434,
     "end_time": "2023-11-30T15:44:39.433059",
     "exception": false,
     "start_time": "2023-11-30T15:44:39.408719",
     "status": "completed"
    },
    "tags": []
   },
   "outputs": [],
   "source": [
    "# data_dtype = {\n",
    "#         \"series_id\": \"category\",\n",
    "#         \"step\": \"uint32\",\n",
    "#         \"timestamp\": \"str\",\n",
    "#         \"anglez\": \"float32\",\n",
    "#         \"enmo\": \"float32\",\n",
    "#     }\n",
    "# data = pd.read_parquet('/kaggle/input/child-mind-institute-detect-sleep-states/test_series.parquet').astype(data_dtype, copy=False)"
   ]
  },
  {
   "cell_type": "code",
   "execution_count": 14,
   "id": "1160f82d",
   "metadata": {
    "execution": {
     "iopub.execute_input": "2023-11-30T15:44:39.467803Z",
     "iopub.status.busy": "2023-11-30T15:44:39.467430Z",
     "iopub.status.idle": "2023-11-30T15:44:39.473613Z",
     "shell.execute_reply": "2023-11-30T15:44:39.472646Z"
    },
    "papermill": {
     "duration": 0.026633,
     "end_time": "2023-11-30T15:44:39.475962",
     "exception": false,
     "start_time": "2023-11-30T15:44:39.449329",
     "status": "completed"
    },
    "tags": []
   },
   "outputs": [
    {
     "name": "stdout",
     "output_type": "stream",
     "text": [
      "/kaggle/working/__notebook__.ipynb\n",
      "/kaggle/working/test_series.csv\n",
      "/kaggle/working/test_series.parquet\n",
      "/kaggle/working/train_series.parquet\n"
     ]
    }
   ],
   "source": [
    "import os\n",
    "for dirname, _, filenames in os.walk('/kaggle/working'):\n",
    "    for filename in filenames:\n",
    "        print(os.path.join(dirname, filename))"
   ]
  },
  {
   "cell_type": "code",
   "execution_count": 15,
   "id": "96a2fe9a",
   "metadata": {
    "execution": {
     "iopub.execute_input": "2023-11-30T15:44:39.511730Z",
     "iopub.status.busy": "2023-11-30T15:44:39.510714Z",
     "iopub.status.idle": "2023-11-30T15:44:39.601577Z",
     "shell.execute_reply": "2023-11-30T15:44:39.600499Z"
    },
    "papermill": {
     "duration": 0.111165,
     "end_time": "2023-11-30T15:44:39.603834",
     "exception": false,
     "start_time": "2023-11-30T15:44:39.492669",
     "status": "completed"
    },
    "tags": []
   },
   "outputs": [
    {
     "data": {
      "text/plain": [
       "7872"
      ]
     },
     "execution_count": 15,
     "metadata": {},
     "output_type": "execute_result"
    }
   ],
   "source": [
    "import polars as pl\n",
    "from tqdm.auto import tqdm \n",
    "import gc\n",
    "gc.collect()"
   ]
  },
  {
   "cell_type": "code",
   "execution_count": 16,
   "id": "2db451f9",
   "metadata": {
    "execution": {
     "iopub.execute_input": "2023-11-30T15:44:39.639133Z",
     "iopub.status.busy": "2023-11-30T15:44:39.638736Z",
     "iopub.status.idle": "2023-11-30T15:44:50.934766Z",
     "shell.execute_reply": "2023-11-30T15:44:50.933705Z"
    },
    "papermill": {
     "duration": 11.315626,
     "end_time": "2023-11-30T15:44:50.936952",
     "exception": false,
     "start_time": "2023-11-30T15:44:39.621326",
     "status": "completed"
    },
    "tags": []
   },
   "outputs": [
    {
     "data": {
      "text/html": [
       "<div><style>\n",
       ".dataframe > thead > tr > th,\n",
       ".dataframe > tbody > tr > td {\n",
       "  text-align: right;\n",
       "  white-space: pre-wrap;\n",
       "}\n",
       "</style>\n",
       "<small>shape: (5, 105)</small><table border=\"1\" class=\"dataframe\"><thead><tr><th>series_id</th><th>step</th><th>timestamp</th><th>anglez</th><th>enmo</th><th>awake</th><th>lids</th><th>year</th><th>month</th><th>day</th><th>hour</th><th>minute</th><th>second</th><th>time_zone</th><th>weekday</th><th>signal_onset</th><th>signal_awake</th><th>enmo_1m_mean</th><th>enmo_1m_max</th><th>enmo_1m_std</th><th>enmo_1v_1m_mean</th><th>enmo_1v_1m_max</th><th>enmo_1v_1m_std</th><th>anglez_1m_mean</th><th>anglez_1m_max</th><th>anglez_1m_std</th><th>anglez_1v_1m_mean</th><th>anglez_1v_1m_max</th><th>anglez_1v_1m_std</th><th>enmo_3m_mean</th><th>enmo_3m_max</th><th>enmo_3m_std</th><th>enmo_1v_3m_mean</th><th>enmo_1v_3m_max</th><th>enmo_1v_3m_std</th><th>anglez_3m_mean</th><th>anglez_3m_max</th><th>&hellip;</th><th>enmo_1v_120m_mean</th><th>enmo_1v_120m_max</th><th>enmo_1v_120m_std</th><th>anglez_120m_mean</th><th>anglez_120m_max</th><th>anglez_120m_std</th><th>anglez_1v_120m_mean</th><th>anglez_1v_120m_max</th><th>anglez_1v_120m_std</th><th>enmo_480m_mean</th><th>enmo_480m_max</th><th>enmo_480m_std</th><th>enmo_1v_480m_mean</th><th>enmo_1v_480m_max</th><th>enmo_1v_480m_std</th><th>anglez_480m_mean</th><th>anglez_480m_max</th><th>anglez_480m_std</th><th>anglez_1v_480m_mean</th><th>anglez_1v_480m_max</th><th>anglez_1v_480m_std</th><th>anglez_25s_smooth</th><th>enmo_25s_smooth</th><th>anglez_lag_5s</th><th>anglez_lag_10s</th><th>anglez_lag_15s</th><th>anglez_lag_30s</th><th>anglez_lag_60s</th><th>anglez_smooth_lag_30s</th><th>anglez_smooth_lag_60s</th><th>enmo_lag_5s</th><th>enmo_lag_10s</th><th>enmo_lag_15s</th><th>enmo_lag_30s</th><th>enmo_lag_60s</th><th>enmo_smooth_lag_30s</th><th>enmo_smooth_lag_60s</th></tr><tr><td>str</td><td>u32</td><td>str</td><td>f32</td><td>u16</td><td>i8</td><td>f32</td><td>u8</td><td>i8</td><td>i8</td><td>i32</td><td>i8</td><td>i8</td><td>i32</td><td>u32</td><td>f32</td><td>f32</td><td>u16</td><td>u16</td><td>u16</td><td>u32</td><td>u32</td><td>u32</td><td>u16</td><td>u16</td><td>u16</td><td>u32</td><td>u32</td><td>u32</td><td>u16</td><td>u16</td><td>u16</td><td>u32</td><td>u32</td><td>u32</td><td>u16</td><td>u16</td><td>&hellip;</td><td>u32</td><td>u32</td><td>u32</td><td>u16</td><td>u16</td><td>u16</td><td>u32</td><td>u32</td><td>u32</td><td>u16</td><td>u16</td><td>u16</td><td>u32</td><td>u32</td><td>u32</td><td>u16</td><td>u16</td><td>u16</td><td>u32</td><td>u32</td><td>u32</td><td>f32</td><td>f32</td><td>f32</td><td>f32</td><td>f32</td><td>f32</td><td>f32</td><td>f32</td><td>f32</td><td>u16</td><td>u16</td><td>u16</td><td>u16</td><td>u16</td><td>f32</td><td>f32</td></tr></thead><tbody><tr><td>&quot;08db4255286f&quot;</td><td>0</td><td>&quot;2018-11-05T10:…</td><td>-30.845301</td><td>44</td><td>1</td><td>14.129221</td><td>18</td><td>11</td><td>5</td><td>600</td><td>0</td><td>0</td><td>-4</td><td>1</td><td>4.6365e-26</td><td>0.149748</td><td>55</td><td>76</td><td>13</td><td>114</td><td>250</td><td>106</td><td>33</td><td>30</td><td>1</td><td>9</td><td>33</td><td>13</td><td>57</td><td>107</td><td>17</td><td>150</td><td>560</td><td>158</td><td>31</td><td>24</td><td>&hellip;</td><td>207</td><td>1230</td><td>194</td><td>27</td><td>16</td><td>3</td><td>18</td><td>96</td><td>15</td><td>75</td><td>992</td><td>85</td><td>263</td><td>7160</td><td>451</td><td>21</td><td>89</td><td>43</td><td>42</td><td>1315</td><td>94</td><td>-33.514423</td><td>56.0</td><td>-30.845301</td><td>-30.845301</td><td>-30.845301</td><td>-30.845301</td><td>-30.845301</td><td>-33.514423</td><td>-33.514423</td><td>44</td><td>44</td><td>44</td><td>44</td><td>44</td><td>56.0</td><td>56.0</td></tr><tr><td>&quot;08db4255286f&quot;</td><td>1</td><td>&quot;2018-11-05T10:…</td><td>-34.181801</td><td>44</td><td>1</td><td>14.119147</td><td>18</td><td>11</td><td>5</td><td>600</td><td>0</td><td>5</td><td>-4</td><td>1</td><td>4.6365e-26</td><td>0.149748</td><td>62</td><td>107</td><td>23</td><td>188</td><td>560</td><td>205</td><td>33</td><td>30</td><td>1</td><td>15</td><td>44</td><td>18</td><td>57</td><td>107</td><td>17</td><td>154</td><td>560</td><td>154</td><td>30</td><td>24</td><td>&hellip;</td><td>207</td><td>1230</td><td>194</td><td>27</td><td>16</td><td>3</td><td>18</td><td>96</td><td>15</td><td>75</td><td>992</td><td>85</td><td>263</td><td>7160</td><td>451</td><td>21</td><td>89</td><td>43</td><td>42</td><td>1315</td><td>94</td><td>-33.514423</td><td>56.0</td><td>-30.845301</td><td>-30.845301</td><td>-30.845301</td><td>-30.845301</td><td>-30.845301</td><td>-33.514423</td><td>-33.514423</td><td>44</td><td>44</td><td>44</td><td>44</td><td>44</td><td>56.0</td><td>56.0</td></tr><tr><td>&quot;08db4255286f&quot;</td><td>2</td><td>&quot;2018-11-05T10:…</td><td>-33.877102</td><td>48</td><td>1</td><td>14.109452</td><td>18</td><td>11</td><td>5</td><td>600</td><td>0</td><td>10</td><td>-4</td><td>1</td><td>4.6365e-26</td><td>0.149748</td><td>62</td><td>107</td><td>21</td><td>222</td><td>560</td><td>208</td><td>32</td><td>30</td><td>1</td><td>13</td><td>44</td><td>17</td><td>58</td><td>107</td><td>16</td><td>147</td><td>560</td><td>153</td><td>30</td><td>24</td><td>&hellip;</td><td>206</td><td>1230</td><td>194</td><td>27</td><td>16</td><td>3</td><td>18</td><td>96</td><td>15</td><td>75</td><td>992</td><td>85</td><td>263</td><td>7160</td><td>451</td><td>21</td><td>89</td><td>43</td><td>42</td><td>1315</td><td>94</td><td>-33.514423</td><td>56.0</td><td>-34.181801</td><td>-30.845301</td><td>-30.845301</td><td>-30.845301</td><td>-30.845301</td><td>-33.514423</td><td>-33.514423</td><td>44</td><td>44</td><td>44</td><td>44</td><td>44</td><td>56.0</td><td>56.0</td></tr><tr><td>&quot;08db4255286f&quot;</td><td>3</td><td>&quot;2018-11-05T10:…</td><td>-34.282101</td><td>68</td><td>1</td><td>14.09982</td><td>18</td><td>11</td><td>5</td><td>600</td><td>0</td><td>15</td><td>-4</td><td>1</td><td>4.6365e-26</td><td>0.149748</td><td>61</td><td>107</td><td>20</td><td>215</td><td>560</td><td>194</td><td>32</td><td>30</td><td>1</td><td>14</td><td>44</td><td>17</td><td>58</td><td>107</td><td>16</td><td>140</td><td>560</td><td>152</td><td>30</td><td>24</td><td>&hellip;</td><td>207</td><td>1230</td><td>194</td><td>27</td><td>16</td><td>3</td><td>18</td><td>96</td><td>15</td><td>74</td><td>992</td><td>85</td><td>263</td><td>7160</td><td>451</td><td>21</td><td>89</td><td>43</td><td>42</td><td>1315</td><td>94</td><td>-34.330482</td><td>57.400002</td><td>-33.877102</td><td>-34.181801</td><td>-30.845301</td><td>-30.845301</td><td>-30.845301</td><td>-33.514423</td><td>-33.514423</td><td>48</td><td>44</td><td>44</td><td>44</td><td>44</td><td>56.0</td><td>56.0</td></tr><tr><td>&quot;08db4255286f&quot;</td><td>4</td><td>&quot;2018-11-05T10:…</td><td>-34.385799</td><td>76</td><td>1</td><td>14.090398</td><td>18</td><td>11</td><td>5</td><td>600</td><td>0</td><td>20</td><td>-4</td><td>1</td><td>4.6365e-26</td><td>0.149748</td><td>59</td><td>107</td><td>20</td><td>193</td><td>560</td><td>193</td><td>33</td><td>30</td><td>1</td><td>14</td><td>44</td><td>15</td><td>58</td><td>107</td><td>15</td><td>137</td><td>560</td><td>149</td><td>30</td><td>24</td><td>&hellip;</td><td>207</td><td>1230</td><td>194</td><td>27</td><td>16</td><td>3</td><td>18</td><td>96</td><td>15</td><td>74</td><td>992</td><td>85</td><td>263</td><td>7160</td><td>451</td><td>21</td><td>89</td><td>43</td><td>42</td><td>1315</td><td>93</td><td>-33.596802</td><td>70.0</td><td>-34.282101</td><td>-33.877102</td><td>-34.181801</td><td>-30.845301</td><td>-30.845301</td><td>-33.514423</td><td>-33.514423</td><td>68</td><td>48</td><td>44</td><td>44</td><td>44</td><td>56.0</td><td>56.0</td></tr></tbody></table></div>"
      ],
      "text/plain": [
       "shape: (5, 105)\n",
       "┌────────────┬──────┬────────────┬────────────┬───┬────────────┬───────────┬───────────┬───────────┐\n",
       "│ series_id  ┆ step ┆ timestamp  ┆ anglez     ┆ … ┆ enmo_lag_3 ┆ enmo_lag_ ┆ enmo_smoo ┆ enmo_smoo │\n",
       "│ ---        ┆ ---  ┆ ---        ┆ ---        ┆   ┆ 0s         ┆ 60s       ┆ th_lag_30 ┆ th_lag_60 │\n",
       "│ str        ┆ u32  ┆ str        ┆ f32        ┆   ┆ ---        ┆ ---       ┆ s         ┆ s         │\n",
       "│            ┆      ┆            ┆            ┆   ┆ u16        ┆ u16       ┆ ---       ┆ ---       │\n",
       "│            ┆      ┆            ┆            ┆   ┆            ┆           ┆ f32       ┆ f32       │\n",
       "╞════════════╪══════╪════════════╪════════════╪═══╪════════════╪═══════════╪═══════════╪═══════════╡\n",
       "│ 08db425528 ┆ 0    ┆ 2018-11-05 ┆ -30.845301 ┆ … ┆ 44         ┆ 44        ┆ 56.0      ┆ 56.0      │\n",
       "│ 6f         ┆      ┆ T10:00:00- ┆            ┆   ┆            ┆           ┆           ┆           │\n",
       "│            ┆      ┆ 0400       ┆            ┆   ┆            ┆           ┆           ┆           │\n",
       "│ 08db425528 ┆ 1    ┆ 2018-11-05 ┆ -34.181801 ┆ … ┆ 44         ┆ 44        ┆ 56.0      ┆ 56.0      │\n",
       "│ 6f         ┆      ┆ T10:00:05- ┆            ┆   ┆            ┆           ┆           ┆           │\n",
       "│            ┆      ┆ 0400       ┆            ┆   ┆            ┆           ┆           ┆           │\n",
       "│ 08db425528 ┆ 2    ┆ 2018-11-05 ┆ -33.877102 ┆ … ┆ 44         ┆ 44        ┆ 56.0      ┆ 56.0      │\n",
       "│ 6f         ┆      ┆ T10:00:10- ┆            ┆   ┆            ┆           ┆           ┆           │\n",
       "│            ┆      ┆ 0400       ┆            ┆   ┆            ┆           ┆           ┆           │\n",
       "│ 08db425528 ┆ 3    ┆ 2018-11-05 ┆ -34.282101 ┆ … ┆ 44         ┆ 44        ┆ 56.0      ┆ 56.0      │\n",
       "│ 6f         ┆      ┆ T10:00:15- ┆            ┆   ┆            ┆           ┆           ┆           │\n",
       "│            ┆      ┆ 0400       ┆            ┆   ┆            ┆           ┆           ┆           │\n",
       "│ 08db425528 ┆ 4    ┆ 2018-11-05 ┆ -34.385799 ┆ … ┆ 44         ┆ 44        ┆ 56.0      ┆ 56.0      │\n",
       "│ 6f         ┆      ┆ T10:00:20- ┆            ┆   ┆            ┆           ┆           ┆           │\n",
       "│            ┆      ┆ 0400       ┆            ┆   ┆            ┆           ┆           ┆           │\n",
       "└────────────┴──────┴────────────┴────────────┴───┴────────────┴───────────┴───────────┴───────────┘"
      ]
     },
     "execution_count": 16,
     "metadata": {},
     "output_type": "execute_result"
    }
   ],
   "source": [
    "data = pl.read_parquet('/kaggle/working/train_series.parquet')\n",
    "data.head()"
   ]
  },
  {
   "cell_type": "code",
   "execution_count": 17,
   "id": "2b086c37",
   "metadata": {
    "execution": {
     "iopub.execute_input": "2023-11-30T15:44:50.979497Z",
     "iopub.status.busy": "2023-11-30T15:44:50.979042Z",
     "iopub.status.idle": "2023-11-30T15:45:00.069643Z",
     "shell.execute_reply": "2023-11-30T15:45:00.068747Z"
    },
    "papermill": {
     "duration": 9.117625,
     "end_time": "2023-11-30T15:45:00.072239",
     "exception": false,
     "start_time": "2023-11-30T15:44:50.954614",
     "status": "completed"
    },
    "tags": []
   },
   "outputs": [
    {
     "data": {
      "application/vnd.jupyter.widget-view+json": {
       "model_id": "0f196643fa164e9ab845b1847cb37c98",
       "version_major": 2,
       "version_minor": 0
      },
      "text/plain": [
       "  0%|          | 0/35 [00:00<?, ?it/s]"
      ]
     },
     "metadata": {},
     "output_type": "display_data"
    },
    {
     "name": "stdout",
     "output_type": "stream",
     "text": [
      "0 :  08db4255286f\n",
      "1 :  0a96f4993bd7\n",
      "2 :  0cfc06c129cc\n",
      "3 :  1087d7b0ff2e\n",
      "4 :  10f8bc1f7b07\n",
      "5 :  18b61dd5aae8\n",
      "6 :  29c75c018220\n",
      "7 :  3452b878e596\n",
      "8 :  349c5562ee2c\n",
      "9 :  3664fe9233f9\n",
      "10 :  483d6545417f\n",
      "11 :  55a47ff9dc8a\n",
      "12 :  5acc9d63b5fd\n",
      "13 :  5f94bb3e1bed\n",
      "14 :  655f19eabf1e\n",
      "15 :  67f5fc60e494\n",
      "16 :  72bbd1ac3edf\n",
      "17 :  76237b9406d5\n",
      "18 :  7822ee8fe3ec\n",
      "19 :  89bd631d1769\n",
      "20 :  8e32047cbc1f\n",
      "21 :  939932f1822d\n",
      "22 :  9ee455e4770d\n",
      "23 :  a9a2f7fac455\n",
      "24 :  a9e5f5314bcb\n",
      "25 :  af91d9a50547\n",
      "26 :  b364205aba43\n",
      "27 :  c535634d7dcd\n",
      "28 :  c6788e579967\n",
      "29 :  c68260cc9e8f\n",
      "30 :  ca730dbf521d\n",
      "31 :  d150801f3145\n",
      "32 :  d25e479ecbb7\n",
      "33 :  d515236bdeec\n",
      "34 :  d5e47b94477e\n"
     ]
    }
   ],
   "source": [
    "def split_train_test(df, n_train):\n",
    "    ids = df['series_id'].unique(maintain_order = True)\n",
    "    dict_ids2data = {}\n",
    "\n",
    "    # for i in range(2):\n",
    "    for i in tqdm(range(len(ids))):\n",
    "        print (i,': ', ids[i])\n",
    "        dict_ids2data[ids[i]] = df.filter(pl.col(\"series_id\") == ids[i])\n",
    "\n",
    "    train_ = pl.concat([i for i, i_id in zip(dict_ids2data.values(), range(len(ids))) if i_id <= n_train], rechunk=True)\n",
    "    test_ = pl.concat([i for i, i_id in zip(dict_ids2data.values(), range(len(ids))) if i_id > n_train], rechunk=True)\n",
    "\n",
    "    del dict_ids2data\n",
    "    gc.collect()\n",
    "    \n",
    "    return train_, test_\n",
    "\n",
    "def split_Xy_train(df):\n",
    "    if ('step' in df.columns):\n",
    "        df = df.drop(\"step\")\n",
    "    if ('series_id' in df.columns):\n",
    "        df = df.drop(\"series_id\")\n",
    "    if ('timestamp' in df.columns):\n",
    "        df = df.drop(\"timestamp\")\n",
    "    return df.drop(\"awake\"), df['awake']\n",
    "\n",
    "train, test = split_train_test(data, 30)\n",
    "\n",
    "X_train, y_train = split_Xy_train(train)\n",
    "\n"
   ]
  },
  {
   "cell_type": "code",
   "execution_count": 18,
   "id": "3a265db2",
   "metadata": {
    "execution": {
     "iopub.execute_input": "2023-11-30T15:45:00.111274Z",
     "iopub.status.busy": "2023-11-30T15:45:00.110883Z",
     "iopub.status.idle": "2023-11-30T15:45:00.190615Z",
     "shell.execute_reply": "2023-11-30T15:45:00.189744Z"
    },
    "papermill": {
     "duration": 0.102067,
     "end_time": "2023-11-30T15:45:00.192963",
     "exception": false,
     "start_time": "2023-11-30T15:45:00.090896",
     "status": "completed"
    },
    "tags": []
   },
   "outputs": [
    {
     "data": {
      "text/plain": [
       "0"
      ]
     },
     "execution_count": 18,
     "metadata": {},
     "output_type": "execute_result"
    }
   ],
   "source": [
    "gc.collect()"
   ]
  },
  {
   "cell_type": "code",
   "execution_count": 19,
   "id": "2ad95c84",
   "metadata": {
    "execution": {
     "iopub.execute_input": "2023-11-30T15:45:00.282973Z",
     "iopub.status.busy": "2023-11-30T15:45:00.282321Z",
     "iopub.status.idle": "2023-11-30T15:45:00.298558Z",
     "shell.execute_reply": "2023-11-30T15:45:00.297462Z"
    },
    "papermill": {
     "duration": 0.088936,
     "end_time": "2023-11-30T15:45:00.300788",
     "exception": false,
     "start_time": "2023-11-30T15:45:00.211852",
     "status": "completed"
    },
    "tags": []
   },
   "outputs": [
    {
     "data": {
      "text/html": [
       "<div><style>\n",
       ".dataframe > thead > tr > th,\n",
       ".dataframe > tbody > tr > td {\n",
       "  text-align: right;\n",
       "  white-space: pre-wrap;\n",
       "}\n",
       "</style>\n",
       "<small>shape: (5, 101)</small><table border=\"1\" class=\"dataframe\"><thead><tr><th>anglez</th><th>enmo</th><th>lids</th><th>year</th><th>month</th><th>day</th><th>hour</th><th>minute</th><th>second</th><th>time_zone</th><th>weekday</th><th>signal_onset</th><th>signal_awake</th><th>enmo_1m_mean</th><th>enmo_1m_max</th><th>enmo_1m_std</th><th>enmo_1v_1m_mean</th><th>enmo_1v_1m_max</th><th>enmo_1v_1m_std</th><th>anglez_1m_mean</th><th>anglez_1m_max</th><th>anglez_1m_std</th><th>anglez_1v_1m_mean</th><th>anglez_1v_1m_max</th><th>anglez_1v_1m_std</th><th>enmo_3m_mean</th><th>enmo_3m_max</th><th>enmo_3m_std</th><th>enmo_1v_3m_mean</th><th>enmo_1v_3m_max</th><th>enmo_1v_3m_std</th><th>anglez_3m_mean</th><th>anglez_3m_max</th><th>anglez_3m_std</th><th>anglez_1v_3m_mean</th><th>anglez_1v_3m_max</th><th>anglez_1v_3m_std</th><th>&hellip;</th><th>enmo_1v_120m_mean</th><th>enmo_1v_120m_max</th><th>enmo_1v_120m_std</th><th>anglez_120m_mean</th><th>anglez_120m_max</th><th>anglez_120m_std</th><th>anglez_1v_120m_mean</th><th>anglez_1v_120m_max</th><th>anglez_1v_120m_std</th><th>enmo_480m_mean</th><th>enmo_480m_max</th><th>enmo_480m_std</th><th>enmo_1v_480m_mean</th><th>enmo_1v_480m_max</th><th>enmo_1v_480m_std</th><th>anglez_480m_mean</th><th>anglez_480m_max</th><th>anglez_480m_std</th><th>anglez_1v_480m_mean</th><th>anglez_1v_480m_max</th><th>anglez_1v_480m_std</th><th>anglez_25s_smooth</th><th>enmo_25s_smooth</th><th>anglez_lag_5s</th><th>anglez_lag_10s</th><th>anglez_lag_15s</th><th>anglez_lag_30s</th><th>anglez_lag_60s</th><th>anglez_smooth_lag_30s</th><th>anglez_smooth_lag_60s</th><th>enmo_lag_5s</th><th>enmo_lag_10s</th><th>enmo_lag_15s</th><th>enmo_lag_30s</th><th>enmo_lag_60s</th><th>enmo_smooth_lag_30s</th><th>enmo_smooth_lag_60s</th></tr><tr><td>f32</td><td>u16</td><td>f32</td><td>u8</td><td>i8</td><td>i8</td><td>i32</td><td>i8</td><td>i8</td><td>i32</td><td>u32</td><td>f32</td><td>f32</td><td>u16</td><td>u16</td><td>u16</td><td>u32</td><td>u32</td><td>u32</td><td>u16</td><td>u16</td><td>u16</td><td>u32</td><td>u32</td><td>u32</td><td>u16</td><td>u16</td><td>u16</td><td>u32</td><td>u32</td><td>u32</td><td>u16</td><td>u16</td><td>u16</td><td>u32</td><td>u32</td><td>u32</td><td>&hellip;</td><td>u32</td><td>u32</td><td>u32</td><td>u16</td><td>u16</td><td>u16</td><td>u32</td><td>u32</td><td>u32</td><td>u16</td><td>u16</td><td>u16</td><td>u32</td><td>u32</td><td>u32</td><td>u16</td><td>u16</td><td>u16</td><td>u32</td><td>u32</td><td>u32</td><td>f32</td><td>f32</td><td>f32</td><td>f32</td><td>f32</td><td>f32</td><td>f32</td><td>f32</td><td>f32</td><td>u16</td><td>u16</td><td>u16</td><td>u16</td><td>u16</td><td>f32</td><td>f32</td></tr></thead><tbody><tr><td>-30.845301</td><td>44</td><td>14.129221</td><td>18</td><td>11</td><td>5</td><td>600</td><td>0</td><td>0</td><td>-4</td><td>1</td><td>4.6365e-26</td><td>0.149748</td><td>55</td><td>76</td><td>13</td><td>114</td><td>250</td><td>106</td><td>33</td><td>30</td><td>1</td><td>9</td><td>33</td><td>13</td><td>57</td><td>107</td><td>17</td><td>150</td><td>560</td><td>158</td><td>31</td><td>24</td><td>3</td><td>17</td><td>50</td><td>15</td><td>&hellip;</td><td>207</td><td>1230</td><td>194</td><td>27</td><td>16</td><td>3</td><td>18</td><td>96</td><td>15</td><td>75</td><td>992</td><td>85</td><td>263</td><td>7160</td><td>451</td><td>21</td><td>89</td><td>43</td><td>42</td><td>1315</td><td>94</td><td>-33.514423</td><td>56.0</td><td>-30.845301</td><td>-30.845301</td><td>-30.845301</td><td>-30.845301</td><td>-30.845301</td><td>-33.514423</td><td>-33.514423</td><td>44</td><td>44</td><td>44</td><td>44</td><td>44</td><td>56.0</td><td>56.0</td></tr><tr><td>-34.181801</td><td>44</td><td>14.119147</td><td>18</td><td>11</td><td>5</td><td>600</td><td>0</td><td>5</td><td>-4</td><td>1</td><td>4.6365e-26</td><td>0.149748</td><td>62</td><td>107</td><td>23</td><td>188</td><td>560</td><td>205</td><td>33</td><td>30</td><td>1</td><td>15</td><td>44</td><td>18</td><td>57</td><td>107</td><td>17</td><td>154</td><td>560</td><td>154</td><td>30</td><td>24</td><td>3</td><td>16</td><td>50</td><td>15</td><td>&hellip;</td><td>207</td><td>1230</td><td>194</td><td>27</td><td>16</td><td>3</td><td>18</td><td>96</td><td>15</td><td>75</td><td>992</td><td>85</td><td>263</td><td>7160</td><td>451</td><td>21</td><td>89</td><td>43</td><td>42</td><td>1315</td><td>94</td><td>-33.514423</td><td>56.0</td><td>-30.845301</td><td>-30.845301</td><td>-30.845301</td><td>-30.845301</td><td>-30.845301</td><td>-33.514423</td><td>-33.514423</td><td>44</td><td>44</td><td>44</td><td>44</td><td>44</td><td>56.0</td><td>56.0</td></tr><tr><td>-33.877102</td><td>48</td><td>14.109452</td><td>18</td><td>11</td><td>5</td><td>600</td><td>0</td><td>10</td><td>-4</td><td>1</td><td>4.6365e-26</td><td>0.149748</td><td>62</td><td>107</td><td>21</td><td>222</td><td>560</td><td>208</td><td>32</td><td>30</td><td>1</td><td>13</td><td>44</td><td>17</td><td>58</td><td>107</td><td>16</td><td>147</td><td>560</td><td>153</td><td>30</td><td>24</td><td>3</td><td>15</td><td>50</td><td>15</td><td>&hellip;</td><td>206</td><td>1230</td><td>194</td><td>27</td><td>16</td><td>3</td><td>18</td><td>96</td><td>15</td><td>75</td><td>992</td><td>85</td><td>263</td><td>7160</td><td>451</td><td>21</td><td>89</td><td>43</td><td>42</td><td>1315</td><td>94</td><td>-33.514423</td><td>56.0</td><td>-34.181801</td><td>-30.845301</td><td>-30.845301</td><td>-30.845301</td><td>-30.845301</td><td>-33.514423</td><td>-33.514423</td><td>44</td><td>44</td><td>44</td><td>44</td><td>44</td><td>56.0</td><td>56.0</td></tr><tr><td>-34.282101</td><td>68</td><td>14.09982</td><td>18</td><td>11</td><td>5</td><td>600</td><td>0</td><td>15</td><td>-4</td><td>1</td><td>4.6365e-26</td><td>0.149748</td><td>61</td><td>107</td><td>20</td><td>215</td><td>560</td><td>194</td><td>32</td><td>30</td><td>1</td><td>14</td><td>44</td><td>17</td><td>58</td><td>107</td><td>16</td><td>140</td><td>560</td><td>152</td><td>30</td><td>24</td><td>3</td><td>16</td><td>50</td><td>14</td><td>&hellip;</td><td>207</td><td>1230</td><td>194</td><td>27</td><td>16</td><td>3</td><td>18</td><td>96</td><td>15</td><td>74</td><td>992</td><td>85</td><td>263</td><td>7160</td><td>451</td><td>21</td><td>89</td><td>43</td><td>42</td><td>1315</td><td>94</td><td>-34.330482</td><td>57.400002</td><td>-33.877102</td><td>-34.181801</td><td>-30.845301</td><td>-30.845301</td><td>-30.845301</td><td>-33.514423</td><td>-33.514423</td><td>48</td><td>44</td><td>44</td><td>44</td><td>44</td><td>56.0</td><td>56.0</td></tr><tr><td>-34.385799</td><td>76</td><td>14.090398</td><td>18</td><td>11</td><td>5</td><td>600</td><td>0</td><td>20</td><td>-4</td><td>1</td><td>4.6365e-26</td><td>0.149748</td><td>59</td><td>107</td><td>20</td><td>193</td><td>560</td><td>193</td><td>33</td><td>30</td><td>1</td><td>14</td><td>44</td><td>15</td><td>58</td><td>107</td><td>15</td><td>137</td><td>560</td><td>149</td><td>30</td><td>24</td><td>3</td><td>16</td><td>50</td><td>14</td><td>&hellip;</td><td>207</td><td>1230</td><td>194</td><td>27</td><td>16</td><td>3</td><td>18</td><td>96</td><td>15</td><td>74</td><td>992</td><td>85</td><td>263</td><td>7160</td><td>451</td><td>21</td><td>89</td><td>43</td><td>42</td><td>1315</td><td>93</td><td>-33.596802</td><td>70.0</td><td>-34.282101</td><td>-33.877102</td><td>-34.181801</td><td>-30.845301</td><td>-30.845301</td><td>-33.514423</td><td>-33.514423</td><td>68</td><td>48</td><td>44</td><td>44</td><td>44</td><td>56.0</td><td>56.0</td></tr></tbody></table></div>"
      ],
      "text/plain": [
       "shape: (5, 101)\n",
       "┌────────────┬──────┬───────────┬──────┬───┬─────────────┬─────────────┬─────────────┬─────────────┐\n",
       "│ anglez     ┆ enmo ┆ lids      ┆ year ┆ … ┆ enmo_lag_30 ┆ enmo_lag_60 ┆ enmo_smooth ┆ enmo_smooth │\n",
       "│ ---        ┆ ---  ┆ ---       ┆ ---  ┆   ┆ s           ┆ s           ┆ _lag_30s    ┆ _lag_60s    │\n",
       "│ f32        ┆ u16  ┆ f32       ┆ u8   ┆   ┆ ---         ┆ ---         ┆ ---         ┆ ---         │\n",
       "│            ┆      ┆           ┆      ┆   ┆ u16         ┆ u16         ┆ f32         ┆ f32         │\n",
       "╞════════════╪══════╪═══════════╪══════╪═══╪═════════════╪═════════════╪═════════════╪═════════════╡\n",
       "│ -30.845301 ┆ 44   ┆ 14.129221 ┆ 18   ┆ … ┆ 44          ┆ 44          ┆ 56.0        ┆ 56.0        │\n",
       "│ -34.181801 ┆ 44   ┆ 14.119147 ┆ 18   ┆ … ┆ 44          ┆ 44          ┆ 56.0        ┆ 56.0        │\n",
       "│ -33.877102 ┆ 48   ┆ 14.109452 ┆ 18   ┆ … ┆ 44          ┆ 44          ┆ 56.0        ┆ 56.0        │\n",
       "│ -34.282101 ┆ 68   ┆ 14.09982  ┆ 18   ┆ … ┆ 44          ┆ 44          ┆ 56.0        ┆ 56.0        │\n",
       "│ -34.385799 ┆ 76   ┆ 14.090398 ┆ 18   ┆ … ┆ 44          ┆ 44          ┆ 56.0        ┆ 56.0        │\n",
       "└────────────┴──────┴───────────┴──────┴───┴─────────────┴─────────────┴─────────────┴─────────────┘"
      ]
     },
     "execution_count": 19,
     "metadata": {},
     "output_type": "execute_result"
    }
   ],
   "source": [
    "X_train.head()"
   ]
  },
  {
   "cell_type": "code",
   "execution_count": 20,
   "id": "d3254bba",
   "metadata": {
    "execution": {
     "iopub.execute_input": "2023-11-30T15:45:00.340914Z",
     "iopub.status.busy": "2023-11-30T15:45:00.340551Z",
     "iopub.status.idle": "2023-11-30T15:45:00.349231Z",
     "shell.execute_reply": "2023-11-30T15:45:00.348298Z"
    },
    "papermill": {
     "duration": 0.031036,
     "end_time": "2023-11-30T15:45:00.351241",
     "exception": false,
     "start_time": "2023-11-30T15:45:00.320205",
     "status": "completed"
    },
    "tags": []
   },
   "outputs": [
    {
     "data": {
      "text/html": [
       "<div><style>\n",
       ".dataframe > thead > tr > th,\n",
       ".dataframe > tbody > tr > td {\n",
       "  text-align: right;\n",
       "  white-space: pre-wrap;\n",
       "}\n",
       "</style>\n",
       "<small>shape: (10,)</small><table border=\"1\" class=\"dataframe\"><thead><tr><th>awake</th></tr><tr><td>i8</td></tr></thead><tbody><tr><td>1</td></tr><tr><td>1</td></tr><tr><td>1</td></tr><tr><td>1</td></tr><tr><td>1</td></tr><tr><td>1</td></tr><tr><td>1</td></tr><tr><td>1</td></tr><tr><td>1</td></tr><tr><td>1</td></tr></tbody></table></div>"
      ],
      "text/plain": [
       "shape: (10,)\n",
       "Series: 'awake' [i8]\n",
       "[\n",
       "\t1\n",
       "\t1\n",
       "\t1\n",
       "\t1\n",
       "\t1\n",
       "\t1\n",
       "\t1\n",
       "\t1\n",
       "\t1\n",
       "\t1\n",
       "]"
      ]
     },
     "execution_count": 20,
     "metadata": {},
     "output_type": "execute_result"
    }
   ],
   "source": [
    "y_train.head()"
   ]
  },
  {
   "cell_type": "code",
   "execution_count": 21,
   "id": "5a9c4e04",
   "metadata": {
    "execution": {
     "iopub.execute_input": "2023-11-30T15:45:00.391816Z",
     "iopub.status.busy": "2023-11-30T15:45:00.391392Z",
     "iopub.status.idle": "2023-11-30T15:45:00.398121Z",
     "shell.execute_reply": "2023-11-30T15:45:00.397173Z"
    },
    "papermill": {
     "duration": 0.029846,
     "end_time": "2023-11-30T15:45:00.400324",
     "exception": false,
     "start_time": "2023-11-30T15:45:00.370478",
     "status": "completed"
    },
    "tags": []
   },
   "outputs": [
    {
     "data": {
      "text/plain": [
       "polars.dataframe.frame.DataFrame"
      ]
     },
     "execution_count": 21,
     "metadata": {},
     "output_type": "execute_result"
    }
   ],
   "source": [
    "type(X_train)"
   ]
  },
  {
   "cell_type": "code",
   "execution_count": 22,
   "id": "78e40606",
   "metadata": {
    "execution": {
     "iopub.execute_input": "2023-11-30T15:45:00.441913Z",
     "iopub.status.busy": "2023-11-30T15:45:00.441546Z",
     "iopub.status.idle": "2023-11-30T15:45:00.447385Z",
     "shell.execute_reply": "2023-11-30T15:45:00.446215Z"
    },
    "papermill": {
     "duration": 0.029425,
     "end_time": "2023-11-30T15:45:00.449734",
     "exception": false,
     "start_time": "2023-11-30T15:45:00.420309",
     "status": "completed"
    },
    "tags": []
   },
   "outputs": [],
   "source": [
    "important_features =[\"anglez_1v_480m_max\", \"day\", \"month\", \"signal_onset\", \"anglez_1v_480m_mean\", \"signal_awake\", \"anglez_1v_120m_max\", \"anglez_480m_max\", \"anglez_480m_mean\", \"anglez_480m_std\", \"enmo_1v_480m_max\", \"anglez_1v_480m_std\", \"anglez_120m_max\", \"enmo_480m_max\", \"anglez_1v_120m_mean\", \"weekday\", \"enmo_120m_max\", \"anglez_1v_120m_std\", \"enmo_1v_120m_max\", \"enmo_1v_480m_std\"]"
   ]
  },
  {
   "cell_type": "code",
   "execution_count": 23,
   "id": "4a9b17c0",
   "metadata": {
    "execution": {
     "iopub.execute_input": "2023-11-30T15:45:00.490503Z",
     "iopub.status.busy": "2023-11-30T15:45:00.490089Z",
     "iopub.status.idle": "2023-11-30T15:45:00.496708Z",
     "shell.execute_reply": "2023-11-30T15:45:00.495676Z"
    },
    "papermill": {
     "duration": 0.029602,
     "end_time": "2023-11-30T15:45:00.498848",
     "exception": false,
     "start_time": "2023-11-30T15:45:00.469246",
     "status": "completed"
    },
    "tags": []
   },
   "outputs": [
    {
     "data": {
      "text/plain": [
       "20"
      ]
     },
     "execution_count": 23,
     "metadata": {},
     "output_type": "execute_result"
    }
   ],
   "source": [
    "len(important_features)"
   ]
  },
  {
   "cell_type": "code",
   "execution_count": 24,
   "id": "d538d888",
   "metadata": {
    "execution": {
     "iopub.execute_input": "2023-11-30T15:45:00.540572Z",
     "iopub.status.busy": "2023-11-30T15:45:00.540158Z",
     "iopub.status.idle": "2023-11-30T15:45:00.587351Z",
     "shell.execute_reply": "2023-11-30T15:45:00.586315Z"
    },
    "papermill": {
     "duration": 0.071103,
     "end_time": "2023-11-30T15:45:00.589786",
     "exception": false,
     "start_time": "2023-11-30T15:45:00.518683",
     "status": "completed"
    },
    "tags": []
   },
   "outputs": [
    {
     "data": {
      "text/html": [
       "<div><style>\n",
       ".dataframe > thead > tr > th,\n",
       ".dataframe > tbody > tr > td {\n",
       "  text-align: right;\n",
       "  white-space: pre-wrap;\n",
       "}\n",
       "</style>\n",
       "<small>shape: (11_772_540, 101)</small><table border=\"1\" class=\"dataframe\"><thead><tr><th>anglez</th><th>enmo</th><th>lids</th><th>year</th><th>month</th><th>day</th><th>hour</th><th>minute</th><th>second</th><th>time_zone</th><th>weekday</th><th>signal_onset</th><th>signal_awake</th><th>enmo_1m_mean</th><th>enmo_1m_max</th><th>enmo_1m_std</th><th>enmo_1v_1m_mean</th><th>enmo_1v_1m_max</th><th>enmo_1v_1m_std</th><th>anglez_1m_mean</th><th>anglez_1m_max</th><th>anglez_1m_std</th><th>anglez_1v_1m_mean</th><th>anglez_1v_1m_max</th><th>anglez_1v_1m_std</th><th>enmo_3m_mean</th><th>enmo_3m_max</th><th>enmo_3m_std</th><th>enmo_1v_3m_mean</th><th>enmo_1v_3m_max</th><th>enmo_1v_3m_std</th><th>anglez_3m_mean</th><th>anglez_3m_max</th><th>anglez_3m_std</th><th>anglez_1v_3m_mean</th><th>anglez_1v_3m_max</th><th>anglez_1v_3m_std</th><th>&hellip;</th><th>enmo_1v_120m_mean</th><th>enmo_1v_120m_max</th><th>enmo_1v_120m_std</th><th>anglez_120m_mean</th><th>anglez_120m_max</th><th>anglez_120m_std</th><th>anglez_1v_120m_mean</th><th>anglez_1v_120m_max</th><th>anglez_1v_120m_std</th><th>enmo_480m_mean</th><th>enmo_480m_max</th><th>enmo_480m_std</th><th>enmo_1v_480m_mean</th><th>enmo_1v_480m_max</th><th>enmo_1v_480m_std</th><th>anglez_480m_mean</th><th>anglez_480m_max</th><th>anglez_480m_std</th><th>anglez_1v_480m_mean</th><th>anglez_1v_480m_max</th><th>anglez_1v_480m_std</th><th>anglez_25s_smooth</th><th>enmo_25s_smooth</th><th>anglez_lag_5s</th><th>anglez_lag_10s</th><th>anglez_lag_15s</th><th>anglez_lag_30s</th><th>anglez_lag_60s</th><th>anglez_smooth_lag_30s</th><th>anglez_smooth_lag_60s</th><th>enmo_lag_5s</th><th>enmo_lag_10s</th><th>enmo_lag_15s</th><th>enmo_lag_30s</th><th>enmo_lag_60s</th><th>enmo_smooth_lag_30s</th><th>enmo_smooth_lag_60s</th></tr><tr><td>f32</td><td>u16</td><td>f32</td><td>u8</td><td>i8</td><td>i8</td><td>i32</td><td>i8</td><td>i8</td><td>i32</td><td>u32</td><td>f32</td><td>f32</td><td>u16</td><td>u16</td><td>u16</td><td>u32</td><td>u32</td><td>u32</td><td>u16</td><td>u16</td><td>u16</td><td>u32</td><td>u32</td><td>u32</td><td>u16</td><td>u16</td><td>u16</td><td>u32</td><td>u32</td><td>u32</td><td>u16</td><td>u16</td><td>u16</td><td>u32</td><td>u32</td><td>u32</td><td>&hellip;</td><td>u32</td><td>u32</td><td>u32</td><td>u16</td><td>u16</td><td>u16</td><td>u32</td><td>u32</td><td>u32</td><td>u16</td><td>u16</td><td>u16</td><td>u32</td><td>u32</td><td>u32</td><td>u16</td><td>u16</td><td>u16</td><td>u32</td><td>u32</td><td>u32</td><td>f32</td><td>f32</td><td>f32</td><td>f32</td><td>f32</td><td>f32</td><td>f32</td><td>f32</td><td>f32</td><td>u16</td><td>u16</td><td>u16</td><td>u16</td><td>u16</td><td>f32</td><td>f32</td></tr></thead><tbody><tr><td>-30.845301</td><td>44</td><td>14.129221</td><td>18</td><td>11</td><td>5</td><td>600</td><td>0</td><td>0</td><td>-4</td><td>1</td><td>4.6365e-26</td><td>0.149748</td><td>55</td><td>76</td><td>13</td><td>114</td><td>250</td><td>106</td><td>33</td><td>30</td><td>1</td><td>9</td><td>33</td><td>13</td><td>57</td><td>107</td><td>17</td><td>150</td><td>560</td><td>158</td><td>31</td><td>24</td><td>3</td><td>17</td><td>50</td><td>15</td><td>&hellip;</td><td>207</td><td>1230</td><td>194</td><td>27</td><td>16</td><td>3</td><td>18</td><td>96</td><td>15</td><td>75</td><td>992</td><td>85</td><td>263</td><td>7160</td><td>451</td><td>21</td><td>89</td><td>43</td><td>42</td><td>1315</td><td>94</td><td>-33.514423</td><td>56.0</td><td>-30.845301</td><td>-30.845301</td><td>-30.845301</td><td>-30.845301</td><td>-30.845301</td><td>-33.514423</td><td>-33.514423</td><td>44</td><td>44</td><td>44</td><td>44</td><td>44</td><td>56.0</td><td>56.0</td></tr><tr><td>-34.181801</td><td>44</td><td>14.119147</td><td>18</td><td>11</td><td>5</td><td>600</td><td>0</td><td>5</td><td>-4</td><td>1</td><td>4.6365e-26</td><td>0.149748</td><td>62</td><td>107</td><td>23</td><td>188</td><td>560</td><td>205</td><td>33</td><td>30</td><td>1</td><td>15</td><td>44</td><td>18</td><td>57</td><td>107</td><td>17</td><td>154</td><td>560</td><td>154</td><td>30</td><td>24</td><td>3</td><td>16</td><td>50</td><td>15</td><td>&hellip;</td><td>207</td><td>1230</td><td>194</td><td>27</td><td>16</td><td>3</td><td>18</td><td>96</td><td>15</td><td>75</td><td>992</td><td>85</td><td>263</td><td>7160</td><td>451</td><td>21</td><td>89</td><td>43</td><td>42</td><td>1315</td><td>94</td><td>-33.514423</td><td>56.0</td><td>-30.845301</td><td>-30.845301</td><td>-30.845301</td><td>-30.845301</td><td>-30.845301</td><td>-33.514423</td><td>-33.514423</td><td>44</td><td>44</td><td>44</td><td>44</td><td>44</td><td>56.0</td><td>56.0</td></tr><tr><td>-33.877102</td><td>48</td><td>14.109452</td><td>18</td><td>11</td><td>5</td><td>600</td><td>0</td><td>10</td><td>-4</td><td>1</td><td>4.6365e-26</td><td>0.149748</td><td>62</td><td>107</td><td>21</td><td>222</td><td>560</td><td>208</td><td>32</td><td>30</td><td>1</td><td>13</td><td>44</td><td>17</td><td>58</td><td>107</td><td>16</td><td>147</td><td>560</td><td>153</td><td>30</td><td>24</td><td>3</td><td>15</td><td>50</td><td>15</td><td>&hellip;</td><td>206</td><td>1230</td><td>194</td><td>27</td><td>16</td><td>3</td><td>18</td><td>96</td><td>15</td><td>75</td><td>992</td><td>85</td><td>263</td><td>7160</td><td>451</td><td>21</td><td>89</td><td>43</td><td>42</td><td>1315</td><td>94</td><td>-33.514423</td><td>56.0</td><td>-34.181801</td><td>-30.845301</td><td>-30.845301</td><td>-30.845301</td><td>-30.845301</td><td>-33.514423</td><td>-33.514423</td><td>44</td><td>44</td><td>44</td><td>44</td><td>44</td><td>56.0</td><td>56.0</td></tr><tr><td>-34.282101</td><td>68</td><td>14.09982</td><td>18</td><td>11</td><td>5</td><td>600</td><td>0</td><td>15</td><td>-4</td><td>1</td><td>4.6365e-26</td><td>0.149748</td><td>61</td><td>107</td><td>20</td><td>215</td><td>560</td><td>194</td><td>32</td><td>30</td><td>1</td><td>14</td><td>44</td><td>17</td><td>58</td><td>107</td><td>16</td><td>140</td><td>560</td><td>152</td><td>30</td><td>24</td><td>3</td><td>16</td><td>50</td><td>14</td><td>&hellip;</td><td>207</td><td>1230</td><td>194</td><td>27</td><td>16</td><td>3</td><td>18</td><td>96</td><td>15</td><td>74</td><td>992</td><td>85</td><td>263</td><td>7160</td><td>451</td><td>21</td><td>89</td><td>43</td><td>42</td><td>1315</td><td>94</td><td>-34.330482</td><td>57.400002</td><td>-33.877102</td><td>-34.181801</td><td>-30.845301</td><td>-30.845301</td><td>-30.845301</td><td>-33.514423</td><td>-33.514423</td><td>48</td><td>44</td><td>44</td><td>44</td><td>44</td><td>56.0</td><td>56.0</td></tr><tr><td>-34.385799</td><td>76</td><td>14.090398</td><td>18</td><td>11</td><td>5</td><td>600</td><td>0</td><td>20</td><td>-4</td><td>1</td><td>4.6365e-26</td><td>0.149748</td><td>59</td><td>107</td><td>20</td><td>193</td><td>560</td><td>193</td><td>33</td><td>30</td><td>1</td><td>14</td><td>44</td><td>15</td><td>58</td><td>107</td><td>15</td><td>137</td><td>560</td><td>149</td><td>30</td><td>24</td><td>3</td><td>16</td><td>50</td><td>14</td><td>&hellip;</td><td>207</td><td>1230</td><td>194</td><td>27</td><td>16</td><td>3</td><td>18</td><td>96</td><td>15</td><td>74</td><td>992</td><td>85</td><td>263</td><td>7160</td><td>451</td><td>21</td><td>89</td><td>43</td><td>42</td><td>1315</td><td>93</td><td>-33.596802</td><td>70.0</td><td>-34.282101</td><td>-33.877102</td><td>-34.181801</td><td>-30.845301</td><td>-30.845301</td><td>-33.514423</td><td>-33.514423</td><td>68</td><td>48</td><td>44</td><td>44</td><td>44</td><td>56.0</td><td>56.0</td></tr><tr><td>-34.925598</td><td>51</td><td>14.081073</td><td>18</td><td>11</td><td>5</td><td>600</td><td>0</td><td>25</td><td>-4</td><td>1</td><td>4.6365e-26</td><td>0.149748</td><td>61</td><td>107</td><td>19</td><td>207</td><td>560</td><td>187</td><td>33</td><td>30</td><td>1</td><td>15</td><td>44</td><td>15</td><td>58</td><td>107</td><td>15</td><td>135</td><td>560</td><td>146</td><td>30</td><td>24</td><td>3</td><td>15</td><td>50</td><td>14</td><td>&hellip;</td><td>207</td><td>1230</td><td>194</td><td>27</td><td>16</td><td>3</td><td>18</td><td>96</td><td>15</td><td>74</td><td>992</td><td>85</td><td>262</td><td>7160</td><td>451</td><td>21</td><td>89</td><td>43</td><td>42</td><td>1315</td><td>93</td><td>-32.92326</td><td>73.199997</td><td>-34.385799</td><td>-34.282101</td><td>-33.877102</td><td>-30.845301</td><td>-30.845301</td><td>-33.514423</td><td>-33.514423</td><td>76</td><td>68</td><td>48</td><td>44</td><td>44</td><td>56.0</td><td>56.0</td></tr><tr><td>-30.513399</td><td>107</td><td>14.071533</td><td>18</td><td>11</td><td>5</td><td>600</td><td>0</td><td>30</td><td>-4</td><td>1</td><td>4.6365e-26</td><td>0.149748</td><td>62</td><td>107</td><td>19</td><td>195</td><td>560</td><td>181</td><td>32</td><td>30</td><td>1</td><td>15</td><td>44</td><td>14</td><td>57</td><td>107</td><td>15</td><td>140</td><td>560</td><td>144</td><td>29</td><td>24</td><td>3</td><td>15</td><td>50</td><td>14</td><td>&hellip;</td><td>207</td><td>1230</td><td>194</td><td>27</td><td>16</td><td>3</td><td>18</td><td>96</td><td>15</td><td>74</td><td>992</td><td>85</td><td>263</td><td>7160</td><td>451</td><td>21</td><td>89</td><td>43</td><td>42</td><td>1315</td><td>93</td><td>-32.64296</td><td>69.199997</td><td>-34.925598</td><td>-34.385799</td><td>-34.282101</td><td>-30.845301</td><td>-30.845301</td><td>-33.514423</td><td>-33.514423</td><td>51</td><td>76</td><td>68</td><td>44</td><td>44</td><td>56.0</td><td>56.0</td></tr><tr><td>-30.509399</td><td>64</td><td>14.06176</td><td>18</td><td>11</td><td>5</td><td>600</td><td>0</td><td>35</td><td>-4</td><td>1</td><td>4.6365e-26</td><td>0.149748</td><td>63</td><td>107</td><td>18</td><td>190</td><td>560</td><td>174</td><td>32</td><td>29</td><td>1</td><td>15</td><td>44</td><td>14</td><td>57</td><td>107</td><td>15</td><td>140</td><td>560</td><td>141</td><td>29</td><td>18</td><td>4</td><td>17</td><td>65</td><td>17</td><td>&hellip;</td><td>207</td><td>1230</td><td>194</td><td>27</td><td>16</td><td>3</td><td>18</td><td>96</td><td>15</td><td>74</td><td>992</td><td>85</td><td>263</td><td>7160</td><td>451</td><td>21</td><td>89</td><td>43</td><td>42</td><td>1315</td><td>93</td><td>-32.700798</td><td>63.200001</td><td>-30.513399</td><td>-34.925598</td><td>-34.385799</td><td>-34.181801</td><td>-30.845301</td><td>-33.514423</td><td>-33.514423</td><td>107</td><td>51</td><td>76</td><td>44</td><td>44</td><td>56.0</td><td>56.0</td></tr><tr><td>-32.8806</td><td>48</td><td>14.052229</td><td>18</td><td>11</td><td>5</td><td>600</td><td>0</td><td>40</td><td>-4</td><td>1</td><td>4.6365e-26</td><td>0.149748</td><td>64</td><td>107</td><td>17</td><td>190</td><td>560</td><td>174</td><td>32</td><td>28</td><td>2</td><td>13</td><td>44</td><td>13</td><td>57</td><td>107</td><td>15</td><td>138</td><td>560</td><td>138</td><td>29</td><td>18</td><td>4</td><td>17</td><td>65</td><td>17</td><td>&hellip;</td><td>207</td><td>1230</td><td>194</td><td>27</td><td>16</td><td>3</td><td>18</td><td>96</td><td>15</td><td>74</td><td>992</td><td>85</td><td>263</td><td>7160</td><td>451</td><td>21</td><td>89</td><td>43</td><td>42</td><td>1315</td><td>93</td><td>-32.18298</td><td>68.800003</td><td>-30.509399</td><td>-30.513399</td><td>-34.925598</td><td>-33.877102</td><td>-30.845301</td><td>-33.514423</td><td>-33.514423</td><td>64</td><td>107</td><td>51</td><td>48</td><td>44</td><td>56.0</td><td>56.0</td></tr><tr><td>-34.674999</td><td>46</td><td>14.042868</td><td>18</td><td>11</td><td>5</td><td>600</td><td>0</td><td>45</td><td>-4</td><td>1</td><td>4.6365e-26</td><td>0.149748</td><td>64</td><td>107</td><td>17</td><td>195</td><td>560</td><td>169</td><td>31</td><td>28</td><td>2</td><td>14</td><td>44</td><td>12</td><td>56</td><td>107</td><td>15</td><td>136</td><td>560</td><td>136</td><td>28</td><td>18</td><td>4</td><td>18</td><td>65</td><td>17</td><td>&hellip;</td><td>207</td><td>1230</td><td>194</td><td>27</td><td>16</td><td>3</td><td>18</td><td>96</td><td>15</td><td>74</td><td>992</td><td>85</td><td>262</td><td>7160</td><td>451</td><td>21</td><td>89</td><td>43</td><td>42</td><td>1315</td><td>93</td><td>-32.34034</td><td>61.599998</td><td>-32.8806</td><td>-30.509399</td><td>-30.513399</td><td>-34.282101</td><td>-30.845301</td><td>-34.330482</td><td>-33.514423</td><td>48</td><td>64</td><td>107</td><td>68</td><td>44</td><td>57.400002</td><td>56.0</td></tr><tr><td>-32.336498</td><td>79</td><td>14.03346</td><td>18</td><td>11</td><td>5</td><td>600</td><td>0</td><td>50</td><td>-4</td><td>1</td><td>4.6365e-26</td><td>0.149748</td><td>62</td><td>107</td><td>18</td><td>185</td><td>560</td><td>173</td><td>31</td><td>24</td><td>3</td><td>18</td><td>50</td><td>15</td><td>57</td><td>107</td><td>14</td><td>138</td><td>560</td><td>134</td><td>28</td><td>18</td><td>4</td><td>18</td><td>65</td><td>17</td><td>&hellip;</td><td>207</td><td>1230</td><td>194</td><td>27</td><td>16</td><td>3</td><td>18</td><td>96</td><td>15</td><td>74</td><td>992</td><td>85</td><td>262</td><td>7160</td><td>451</td><td>21</td><td>89</td><td>43</td><td>42</td><td>1315</td><td>93</td><td>-32.05024</td><td>60.400002</td><td>-34.674999</td><td>-32.8806</td><td>-30.509399</td><td>-34.385799</td><td>-30.845301</td><td>-33.596802</td><td>-33.514423</td><td>46</td><td>48</td><td>64</td><td>76</td><td>44</td><td>70.0</td><td>56.0</td></tr><tr><td>-31.3002</td><td>71</td><td>14.024265</td><td>18</td><td>11</td><td>5</td><td>600</td><td>0</td><td>55</td><td>-4</td><td>1</td><td>4.6365e-26</td><td>0.149748</td><td>59</td><td>107</td><td>18</td><td>182</td><td>560</td><td>175</td><td>30</td><td>24</td><td>3</td><td>20</td><td>50</td><td>15</td><td>57</td><td>107</td><td>14</td><td>134</td><td>560</td><td>133</td><td>28</td><td>18</td><td>4</td><td>18</td><td>65</td><td>17</td><td>&hellip;</td><td>207</td><td>1230</td><td>194</td><td>27</td><td>16</td><td>3</td><td>18</td><td>96</td><td>15</td><td>74</td><td>992</td><td>85</td><td>262</td><td>7160</td><td>451</td><td>21</td><td>89</td><td>43</td><td>42</td><td>1315</td><td>93</td><td>-31.127502</td><td>62.400002</td><td>-32.336498</td><td>-34.674999</td><td>-32.8806</td><td>-34.925598</td><td>-30.845301</td><td>-32.92326</td><td>-33.514423</td><td>79</td><td>46</td><td>48</td><td>51</td><td>44</td><td>73.199997</td><td>56.0</td></tr><tr><td>&hellip;</td><td>&hellip;</td><td>&hellip;</td><td>&hellip;</td><td>&hellip;</td><td>&hellip;</td><td>&hellip;</td><td>&hellip;</td><td>&hellip;</td><td>&hellip;</td><td>&hellip;</td><td>&hellip;</td><td>&hellip;</td><td>&hellip;</td><td>&hellip;</td><td>&hellip;</td><td>&hellip;</td><td>&hellip;</td><td>&hellip;</td><td>&hellip;</td><td>&hellip;</td><td>&hellip;</td><td>&hellip;</td><td>&hellip;</td><td>&hellip;</td><td>&hellip;</td><td>&hellip;</td><td>&hellip;</td><td>&hellip;</td><td>&hellip;</td><td>&hellip;</td><td>&hellip;</td><td>&hellip;</td><td>&hellip;</td><td>&hellip;</td><td>&hellip;</td><td>&hellip;</td><td>&hellip;</td><td>&hellip;</td><td>&hellip;</td><td>&hellip;</td><td>&hellip;</td><td>&hellip;</td><td>&hellip;</td><td>&hellip;</td><td>&hellip;</td><td>&hellip;</td><td>&hellip;</td><td>&hellip;</td><td>&hellip;</td><td>&hellip;</td><td>&hellip;</td><td>&hellip;</td><td>&hellip;</td><td>&hellip;</td><td>&hellip;</td><td>&hellip;</td><td>&hellip;</td><td>&hellip;</td><td>&hellip;</td><td>&hellip;</td><td>&hellip;</td><td>&hellip;</td><td>&hellip;</td><td>&hellip;</td><td>&hellip;</td><td>&hellip;</td><td>&hellip;</td><td>&hellip;</td><td>&hellip;</td><td>&hellip;</td><td>&hellip;</td><td>&hellip;</td><td>&hellip;</td><td>&hellip;</td></tr><tr><td>38.042</td><td>519</td><td>12.208061</td><td>17</td><td>12</td><td>31</td><td>1109</td><td>29</td><td>0</td><td>-5</td><td>7</td><td>0.022484</td><td>6.5703e-29</td><td>250</td><td>757</td><td>205</td><td>1593</td><td>5410</td><td>1460</td><td>10</td><td>47</td><td>25</td><td>283</td><td>686</td><td>242</td><td>166</td><td>757</td><td>158</td><td>1107</td><td>5410</td><td>1087</td><td>7</td><td>47</td><td>31</td><td>189</td><td>686</td><td>188</td><td>&hellip;</td><td>245</td><td>5410</td><td>489</td><td>35</td><td>47</td><td>28</td><td>76</td><td>781</td><td>117</td><td>70</td><td>757</td><td>78</td><td>353</td><td>5530</td><td>571</td><td>25</td><td>83</td><td>30</td><td>97</td><td>1110</td><td>136</td><td>14.296323</td><td>387.600006</td><td>12.7506</td><td>1.3136</td><td>1.3723</td><td>28.475599</td><td>3.7326</td><td>13.650702</td><td>7.492023</td><td>301</td><td>145</td><td>77</td><td>69</td><td>26</td><td>131.0</td><td>51.599998</td></tr><tr><td>36.9002</td><td>757</td><td>12.168425</td><td>17</td><td>12</td><td>31</td><td>1109</td><td>29</td><td>5</td><td>-5</td><td>7</td><td>0.022484</td><td>6.5703e-29</td><td>267</td><td>757</td><td>197</td><td>1724</td><td>5410</td><td>1419</td><td>3</td><td>47</td><td>30</td><td>297</td><td>686</td><td>237</td><td>168</td><td>757</td><td>161</td><td>1120</td><td>5410</td><td>1104</td><td>5</td><td>47</td><td>30</td><td>195</td><td>686</td><td>188</td><td>&hellip;</td><td>246</td><td>5410</td><td>489</td><td>35</td><td>47</td><td>28</td><td>76</td><td>781</td><td>117</td><td>70</td><td>757</td><td>78</td><td>354</td><td>5530</td><td>571</td><td>25</td><td>83</td><td>30</td><td>97</td><td>1110</td><td>136</td><td>23.618763</td><td>399.399994</td><td>38.042</td><td>12.7506</td><td>1.3136</td><td>-7.9585</td><td>10.9785</td><td>12.899442</td><td>5.611643</td><td>519</td><td>301</td><td>145</td><td>326</td><td>3</td><td>129.0</td><td>44.599998</td></tr><tr><td>-17.5263</td><td>216</td><td>12.127775</td><td>17</td><td>12</td><td>31</td><td>1109</td><td>29</td><td>10</td><td>-5</td><td>7</td><td>0.022484</td><td>6.5703e-29</td><td>256</td><td>757</td><td>197</td><td>1580</td><td>5410</td><td>1413</td><td>1</td><td>47</td><td>37</td><td>281</td><td>686</td><td>239</td><td>172</td><td>757</td><td>162</td><td>1136</td><td>5410</td><td>1121</td><td>3</td><td>47</td><td>29</td><td>201</td><td>686</td><td>188</td><td>&hellip;</td><td>246</td><td>5410</td><td>489</td><td>35</td><td>47</td><td>28</td><td>76</td><td>781</td><td>117</td><td>70</td><td>757</td><td>78</td><td>354</td><td>5530</td><td>571</td><td>25</td><td>83</td><td>30</td><td>97</td><td>1110</td><td>136</td><td>16.922981</td><td>371.0</td><td>36.9002</td><td>38.042</td><td>12.7506</td><td>26.936899</td><td>1.5351</td><td>10.028281</td><td>5.421303</td><td>757</td><td>519</td><td>301</td><td>150</td><td>38</td><td>153.399994</td><td>49.400002</td></tr><tr><td>47.9258</td><td>204</td><td>12.086909</td><td>17</td><td>12</td><td>31</td><td>1109</td><td>29</td><td>15</td><td>-5</td><td>7</td><td>0.022484</td><td>6.5703e-29</td><td>267</td><td>757</td><td>194</td><td>1505</td><td>5410</td><td>1426</td><td>8</td><td>47</td><td>38</td><td>269</td><td>686</td><td>239</td><td>175</td><td>757</td><td>165</td><td>1151</td><td>5410</td><td>1139</td><td>2</td><td>47</td><td>29</td><td>198</td><td>686</td><td>191</td><td>&hellip;</td><td>246</td><td>5410</td><td>490</td><td>35</td><td>47</td><td>28</td><td>76</td><td>781</td><td>118</td><td>70</td><td>757</td><td>78</td><td>354</td><td>5530</td><td>571</td><td>25</td><td>83</td><td>30</td><td>97</td><td>1110</td><td>136</td><td>4.411781</td><td>282.600006</td><td>-17.5263</td><td>36.9002</td><td>38.042</td><td>1.3723</td><td>5.7302</td><td>6.883282</td><td>7.808663</td><td>216</td><td>757</td><td>519</td><td>77</td><td>93</td><td>199.800003</td><td>48.799999</td></tr><tr><td>-20.7283</td><td>159</td><td>12.044571</td><td>17</td><td>12</td><td>31</td><td>1109</td><td>29</td><td>20</td><td>-5</td><td>7</td><td>0.022484</td><td>6.5703e-29</td><td>266</td><td>757</td><td>195</td><td>1625</td><td>5410</td><td>1415</td><td>11</td><td>47</td><td>39</td><td>255</td><td>686</td><td>244</td><td>174</td><td>757</td><td>168</td><td>1171</td><td>5410</td><td>1157</td><td>2</td><td>47</td><td>29</td><td>190</td><td>686</td><td>191</td><td>&hellip;</td><td>246</td><td>5410</td><td>490</td><td>35</td><td>47</td><td>28</td><td>76</td><td>781</td><td>118</td><td>70</td><td>757</td><td>78</td><td>354</td><td>5530</td><td>571</td><td>25</td><td>83</td><td>30</td><td>97</td><td>1110</td><td>136</td><td>-13.739939</td><td>187.199997</td><td>47.9258</td><td>-17.5263</td><td>36.9002</td><td>1.3136</td><td>5.1286</td><td>16.083382</td><td>11.308083</td><td>204</td><td>216</td><td>757</td><td>145</td><td>87</td><td>238.399994</td><td>62.0</td></tr><tr><td>-24.514</td><td>77</td><td>12.005451</td><td>17</td><td>12</td><td>31</td><td>1109</td><td>29</td><td>25</td><td>-5</td><td>7</td><td>0.022484</td><td>6.5703e-29</td><td>258</td><td>757</td><td>203</td><td>1590</td><td>5410</td><td>1445</td><td>14</td><td>47</td><td>39</td><td>263</td><td>686</td><td>236</td><td>176</td><td>757</td><td>171</td><td>1196</td><td>5410</td><td>1174</td><td>3</td><td>47</td><td>30</td><td>195</td><td>686</td><td>194</td><td>&hellip;</td><td>246</td><td>5410</td><td>490</td><td>35</td><td>47</td><td>28</td><td>77</td><td>781</td><td>118</td><td>70</td><td>757</td><td>78</td><td>354</td><td>5530</td><td>571</td><td>25</td><td>83</td><td>30</td><td>97</td><td>1110</td><td>136</td><td>-24.502699</td><td>183.199997</td><td>-20.7283</td><td>47.9258</td><td>-17.5263</td><td>12.7506</td><td>15.6694</td><td>18.076042</td><td>9.409363</td><td>159</td><td>204</td><td>216</td><td>301</td><td>23</td><td>359.799988</td><td>119.599998</td></tr><tr><td>-53.858398</td><td>280</td><td>11.965539</td><td>17</td><td>12</td><td>31</td><td>1109</td><td>29</td><td>30</td><td>-5</td><td>7</td><td>0.022484</td><td>6.5703e-29</td><td>251</td><td>757</td><td>203</td><td>1609</td><td>5410</td><td>1446</td><td>16</td><td>47</td><td>38</td><td>269</td><td>686</td><td>233</td><td>181</td><td>757</td><td>173</td><td>1219</td><td>5410</td><td>1193</td><td>4</td><td>47</td><td>30</td><td>199</td><td>686</td><td>197</td><td>&hellip;</td><td>247</td><td>5410</td><td>490</td><td>35</td><td>47</td><td>28</td><td>77</td><td>781</td><td>118</td><td>70</td><td>757</td><td>78</td><td>354</td><td>5530</td><td>571</td><td>25</td><td>83</td><td>30</td><td>97</td><td>1110</td><td>136</td><td>-44.252357</td><td>199.0</td><td>-24.514</td><td>-20.7283</td><td>47.9258</td><td>38.042</td><td>28.475599</td><td>14.296323</td><td>13.650702</td><td>77</td><td>159</td><td>204</td><td>519</td><td>69</td><td>387.600006</td><td>131.0</td></tr><tr><td>-71.340103</td><td>196</td><td>11.92528</td><td>17</td><td>12</td><td>31</td><td>1109</td><td>29</td><td>35</td><td>-5</td><td>7</td><td>0.022484</td><td>6.5703e-29</td><td>226</td><td>757</td><td>194</td><td>1557</td><td>5410</td><td>1505</td><td>21</td><td>47</td><td>36</td><td>271</td><td>686</td><td>244</td><td>188</td><td>757</td><td>174</td><td>1256</td><td>5410</td><td>1206</td><td>4</td><td>47</td><td>31</td><td>207</td><td>686</td><td>197</td><td>&hellip;</td><td>247</td><td>5410</td><td>491</td><td>35</td><td>47</td><td>28</td><td>77</td><td>781</td><td>118</td><td>70</td><td>757</td><td>78</td><td>354</td><td>5530</td><td>571</td><td>25</td><td>83</td><td>30</td><td>97</td><td>1110</td><td>136</td><td>-48.391098</td><td>180.399994</td><td>-53.858398</td><td>-24.514</td><td>-20.7283</td><td>36.9002</td><td>-7.9585</td><td>23.618763</td><td>12.899442</td><td>280</td><td>77</td><td>159</td><td>757</td><td>326</td><td>399.399994</td><td>129.0</td></tr><tr><td>-50.822498</td><td>283</td><td>11.884973</td><td>17</td><td>12</td><td>31</td><td>1109</td><td>29</td><td>40</td><td>-5</td><td>7</td><td>0.022484</td><td>6.5703e-29</td><td>173</td><td>283</td><td>86</td><td>1475</td><td>5410</td><td>1560</td><td>27</td><td>47</td><td>32</td><td>297</td><td>686</td><td>241</td><td>196</td><td>757</td><td>173</td><td>1303</td><td>5410</td><td>1213</td><td>5</td><td>47</td><td>31</td><td>213</td><td>686</td><td>200</td><td>&hellip;</td><td>247</td><td>5410</td><td>491</td><td>35</td><td>47</td><td>28</td><td>77</td><td>781</td><td>118</td><td>70</td><td>757</td><td>78</td><td>354</td><td>5530</td><td>571</td><td>25</td><td>83</td><td>30</td><td>97</td><td>1110</td><td>136</td><td>-49.855381</td><td>173.0</td><td>-71.340103</td><td>-53.858398</td><td>-24.514</td><td>-17.5263</td><td>26.936899</td><td>16.922981</td><td>10.028281</td><td>196</td><td>280</td><td>77</td><td>216</td><td>150</td><td>371.0</td><td>153.399994</td></tr><tr><td>-41.422001</td><td>66</td><td>11.843569</td><td>17</td><td>12</td><td>31</td><td>1109</td><td>29</td><td>45</td><td>-5</td><td>7</td><td>0.022484</td><td>6.5703e-29</td><td>169</td><td>283</td><td>90</td><td>1037</td><td>2170</td><td>768</td><td>28</td><td>47</td><td>34</td><td>269</td><td>686</td><td>239</td><td>204</td><td>757</td><td>173</td><td>1348</td><td>5410</td><td>1224</td><td>5</td><td>47</td><td>32</td><td>219</td><td>686</td><td>203</td><td>&hellip;</td><td>247</td><td>5410</td><td>491</td><td>35</td><td>47</td><td>28</td><td>77</td><td>781</td><td>118</td><td>70</td><td>757</td><td>78</td><td>354</td><td>5530</td><td>571</td><td>25</td><td>83</td><td>30</td><td>97</td><td>1110</td><td>136</td><td>-41.718102</td><td>160.600006</td><td>-50.822498</td><td>-71.340103</td><td>-53.858398</td><td>47.9258</td><td>1.3723</td><td>4.411781</td><td>6.883282</td><td>283</td><td>196</td><td>280</td><td>204</td><td>77</td><td>282.600006</td><td>199.800003</td></tr><tr><td>-31.8354</td><td>40</td><td>11.801639</td><td>17</td><td>12</td><td>31</td><td>1109</td><td>29</td><td>50</td><td>-5</td><td>7</td><td>0.022484</td><td>6.5703e-29</td><td>164</td><td>283</td><td>95</td><td>1152</td><td>2170</td><td>734</td><td>38</td><td>13</td><td>19</td><td>221</td><td>686</td><td>203</td><td>209</td><td>757</td><td>176</td><td>1388</td><td>5410</td><td>1241</td><td>5</td><td>47</td><td>33</td><td>228</td><td>686</td><td>204</td><td>&hellip;</td><td>248</td><td>5410</td><td>492</td><td>35</td><td>47</td><td>28</td><td>77</td><td>781</td><td>118</td><td>70</td><td>757</td><td>78</td><td>355</td><td>5530</td><td>571</td><td>25</td><td>83</td><td>30</td><td>97</td><td>1110</td><td>136</td><td>-41.718102</td><td>160.600006</td><td>-41.422001</td><td>-50.822498</td><td>-71.340103</td><td>-20.7283</td><td>1.3136</td><td>-13.739939</td><td>16.083382</td><td>66</td><td>283</td><td>196</td><td>159</td><td>145</td><td>187.199997</td><td>238.399994</td></tr><tr><td>-13.172</td><td>218</td><td>11.759814</td><td>17</td><td>12</td><td>31</td><td>1109</td><td>29</td><td>55</td><td>-5</td><td>7</td><td>0.022484</td><td>6.5703e-29</td><td>165</td><td>283</td><td>103</td><td>1252</td><td>2170</td><td>731</td><td>40</td><td>13</td><td>19</td><td>155</td><td>293</td><td>85</td><td>216</td><td>757</td><td>178</td><td>1458</td><td>5410</td><td>1234</td><td>6</td><td>47</td><td>34</td><td>239</td><td>686</td><td>202</td><td>&hellip;</td><td>248</td><td>5410</td><td>492</td><td>35</td><td>47</td><td>28</td><td>77</td><td>781</td><td>118</td><td>70</td><td>757</td><td>78</td><td>355</td><td>5530</td><td>571</td><td>25</td><td>83</td><td>30</td><td>97</td><td>1110</td><td>136</td><td>-41.718102</td><td>160.600006</td><td>-31.8354</td><td>-41.422001</td><td>-50.822498</td><td>-24.514</td><td>12.7506</td><td>-24.502699</td><td>18.076042</td><td>40</td><td>66</td><td>283</td><td>77</td><td>301</td><td>183.199997</td><td>359.799988</td></tr></tbody></table></div>"
      ],
      "text/plain": [
       "shape: (11_772_540, 101)\n",
       "┌────────────┬──────┬───────────┬──────┬───┬─────────────┬─────────────┬─────────────┬─────────────┐\n",
       "│ anglez     ┆ enmo ┆ lids      ┆ year ┆ … ┆ enmo_lag_30 ┆ enmo_lag_60 ┆ enmo_smooth ┆ enmo_smooth │\n",
       "│ ---        ┆ ---  ┆ ---       ┆ ---  ┆   ┆ s           ┆ s           ┆ _lag_30s    ┆ _lag_60s    │\n",
       "│ f32        ┆ u16  ┆ f32       ┆ u8   ┆   ┆ ---         ┆ ---         ┆ ---         ┆ ---         │\n",
       "│            ┆      ┆           ┆      ┆   ┆ u16         ┆ u16         ┆ f32         ┆ f32         │\n",
       "╞════════════╪══════╪═══════════╪══════╪═══╪═════════════╪═════════════╪═════════════╪═════════════╡\n",
       "│ -30.845301 ┆ 44   ┆ 14.129221 ┆ 18   ┆ … ┆ 44          ┆ 44          ┆ 56.0        ┆ 56.0        │\n",
       "│ -34.181801 ┆ 44   ┆ 14.119147 ┆ 18   ┆ … ┆ 44          ┆ 44          ┆ 56.0        ┆ 56.0        │\n",
       "│ -33.877102 ┆ 48   ┆ 14.109452 ┆ 18   ┆ … ┆ 44          ┆ 44          ┆ 56.0        ┆ 56.0        │\n",
       "│ -34.282101 ┆ 68   ┆ 14.09982  ┆ 18   ┆ … ┆ 44          ┆ 44          ┆ 56.0        ┆ 56.0        │\n",
       "│ …          ┆ …    ┆ …         ┆ …    ┆ … ┆ …           ┆ …           ┆ …           ┆ …           │\n",
       "│ -50.822498 ┆ 283  ┆ 11.884973 ┆ 17   ┆ … ┆ 216         ┆ 150         ┆ 371.0       ┆ 153.399994  │\n",
       "│ -41.422001 ┆ 66   ┆ 11.843569 ┆ 17   ┆ … ┆ 204         ┆ 77          ┆ 282.600006  ┆ 199.800003  │\n",
       "│ -31.8354   ┆ 40   ┆ 11.801639 ┆ 17   ┆ … ┆ 159         ┆ 145         ┆ 187.199997  ┆ 238.399994  │\n",
       "│ -13.172    ┆ 218  ┆ 11.759814 ┆ 17   ┆ … ┆ 77          ┆ 301         ┆ 183.199997  ┆ 359.799988  │\n",
       "└────────────┴──────┴───────────┴──────┴───┴─────────────┴─────────────┴─────────────┴─────────────┘"
      ]
     },
     "execution_count": 24,
     "metadata": {},
     "output_type": "execute_result"
    }
   ],
   "source": [
    "X_train"
   ]
  },
  {
   "cell_type": "code",
   "execution_count": 25,
   "id": "f3975b49",
   "metadata": {
    "execution": {
     "iopub.execute_input": "2023-11-30T15:45:00.632019Z",
     "iopub.status.busy": "2023-11-30T15:45:00.631636Z",
     "iopub.status.idle": "2023-11-30T15:45:00.636889Z",
     "shell.execute_reply": "2023-11-30T15:45:00.635851Z"
    },
    "papermill": {
     "duration": 0.029272,
     "end_time": "2023-11-30T15:45:00.639754",
     "exception": false,
     "start_time": "2023-11-30T15:45:00.610482",
     "status": "completed"
    },
    "tags": []
   },
   "outputs": [
    {
     "name": "stdout",
     "output_type": "stream",
     "text": [
      "['anglez', 'enmo', 'lids', 'year', 'month', 'day', 'hour', 'minute', 'second', 'time_zone', 'weekday', 'signal_onset', 'signal_awake', 'enmo_1m_mean', 'enmo_1m_max', 'enmo_1m_std', 'enmo_1v_1m_mean', 'enmo_1v_1m_max', 'enmo_1v_1m_std', 'anglez_1m_mean', 'anglez_1m_max', 'anglez_1m_std', 'anglez_1v_1m_mean', 'anglez_1v_1m_max', 'anglez_1v_1m_std', 'enmo_3m_mean', 'enmo_3m_max', 'enmo_3m_std', 'enmo_1v_3m_mean', 'enmo_1v_3m_max', 'enmo_1v_3m_std', 'anglez_3m_mean', 'anglez_3m_max', 'anglez_3m_std', 'anglez_1v_3m_mean', 'anglez_1v_3m_max', 'anglez_1v_3m_std', 'enmo_5m_mean', 'enmo_5m_max', 'enmo_5m_std', 'enmo_1v_5m_mean', 'enmo_1v_5m_max', 'enmo_1v_5m_std', 'anglez_5m_mean', 'anglez_5m_max', 'anglez_5m_std', 'anglez_1v_5m_mean', 'anglez_1v_5m_max', 'anglez_1v_5m_std', 'enmo_30m_mean', 'enmo_30m_max', 'enmo_30m_std', 'enmo_1v_30m_mean', 'enmo_1v_30m_max', 'enmo_1v_30m_std', 'anglez_30m_mean', 'anglez_30m_max', 'anglez_30m_std', 'anglez_1v_30m_mean', 'anglez_1v_30m_max', 'anglez_1v_30m_std', 'enmo_120m_mean', 'enmo_120m_max', 'enmo_120m_std', 'enmo_1v_120m_mean', 'enmo_1v_120m_max', 'enmo_1v_120m_std', 'anglez_120m_mean', 'anglez_120m_max', 'anglez_120m_std', 'anglez_1v_120m_mean', 'anglez_1v_120m_max', 'anglez_1v_120m_std', 'enmo_480m_mean', 'enmo_480m_max', 'enmo_480m_std', 'enmo_1v_480m_mean', 'enmo_1v_480m_max', 'enmo_1v_480m_std', 'anglez_480m_mean', 'anglez_480m_max', 'anglez_480m_std', 'anglez_1v_480m_mean', 'anglez_1v_480m_max', 'anglez_1v_480m_std', 'anglez_25s_smooth', 'enmo_25s_smooth', 'anglez_lag_5s', 'anglez_lag_10s', 'anglez_lag_15s', 'anglez_lag_30s', 'anglez_lag_60s', 'anglez_smooth_lag_30s', 'anglez_smooth_lag_60s', 'enmo_lag_5s', 'enmo_lag_10s', 'enmo_lag_15s', 'enmo_lag_30s', 'enmo_lag_60s', 'enmo_smooth_lag_30s', 'enmo_smooth_lag_60s']\n"
     ]
    }
   ],
   "source": [
    "print(X_train.columns)"
   ]
  },
  {
   "cell_type": "code",
   "execution_count": 26,
   "id": "292ccbe3",
   "metadata": {
    "execution": {
     "iopub.execute_input": "2023-11-30T15:45:00.682011Z",
     "iopub.status.busy": "2023-11-30T15:45:00.681630Z",
     "iopub.status.idle": "2023-11-30T15:45:00.691765Z",
     "shell.execute_reply": "2023-11-30T15:45:00.690572Z"
    },
    "papermill": {
     "duration": 0.034483,
     "end_time": "2023-11-30T15:45:00.694168",
     "exception": false,
     "start_time": "2023-11-30T15:45:00.659685",
     "status": "completed"
    },
    "tags": []
   },
   "outputs": [
    {
     "data": {
      "text/html": [
       "<div><style>\n",
       ".dataframe > thead > tr > th,\n",
       ".dataframe > tbody > tr > td {\n",
       "  text-align: right;\n",
       "  white-space: pre-wrap;\n",
       "}\n",
       "</style>\n",
       "<small>shape: (5, 20)</small><table border=\"1\" class=\"dataframe\"><thead><tr><th>anglez_1v_480m_max</th><th>day</th><th>month</th><th>signal_onset</th><th>anglez_1v_480m_mean</th><th>signal_awake</th><th>anglez_1v_120m_max</th><th>anglez_480m_max</th><th>anglez_480m_mean</th><th>anglez_480m_std</th><th>enmo_1v_480m_max</th><th>anglez_1v_480m_std</th><th>anglez_120m_max</th><th>enmo_480m_max</th><th>anglez_1v_120m_mean</th><th>weekday</th><th>enmo_120m_max</th><th>anglez_1v_120m_std</th><th>enmo_1v_120m_max</th><th>enmo_1v_480m_std</th></tr><tr><td>u32</td><td>i8</td><td>i8</td><td>f32</td><td>u32</td><td>f32</td><td>u32</td><td>u16</td><td>u16</td><td>u16</td><td>u32</td><td>u32</td><td>u16</td><td>u16</td><td>u32</td><td>u32</td><td>u16</td><td>u32</td><td>u32</td><td>u32</td></tr></thead><tbody><tr><td>1315</td><td>5</td><td>11</td><td>4.6365e-26</td><td>42</td><td>0.149748</td><td>96</td><td>89</td><td>21</td><td>43</td><td>7160</td><td>94</td><td>16</td><td>992</td><td>18</td><td>1</td><td>198</td><td>15</td><td>1230</td><td>451</td></tr><tr><td>1315</td><td>5</td><td>11</td><td>4.6365e-26</td><td>42</td><td>0.149748</td><td>96</td><td>89</td><td>21</td><td>43</td><td>7160</td><td>94</td><td>16</td><td>992</td><td>18</td><td>1</td><td>198</td><td>15</td><td>1230</td><td>451</td></tr><tr><td>1315</td><td>5</td><td>11</td><td>4.6365e-26</td><td>42</td><td>0.149748</td><td>96</td><td>89</td><td>21</td><td>43</td><td>7160</td><td>94</td><td>16</td><td>992</td><td>18</td><td>1</td><td>198</td><td>15</td><td>1230</td><td>451</td></tr><tr><td>1315</td><td>5</td><td>11</td><td>4.6365e-26</td><td>42</td><td>0.149748</td><td>96</td><td>89</td><td>21</td><td>43</td><td>7160</td><td>94</td><td>16</td><td>992</td><td>18</td><td>1</td><td>198</td><td>15</td><td>1230</td><td>451</td></tr><tr><td>1315</td><td>5</td><td>11</td><td>4.6365e-26</td><td>42</td><td>0.149748</td><td>96</td><td>89</td><td>21</td><td>43</td><td>7160</td><td>93</td><td>16</td><td>992</td><td>18</td><td>1</td><td>198</td><td>15</td><td>1230</td><td>451</td></tr></tbody></table></div>"
      ],
      "text/plain": [
       "shape: (5, 20)\n",
       "┌─────────────┬─────┬───────┬─────────────┬───┬─────────────┬────────────┬────────────┬────────────┐\n",
       "│ anglez_1v_4 ┆ day ┆ month ┆ signal_onse ┆ … ┆ enmo_120m_m ┆ anglez_1v_ ┆ enmo_1v_12 ┆ enmo_1v_48 │\n",
       "│ 80m_max     ┆ --- ┆ ---   ┆ t           ┆   ┆ ax          ┆ 120m_std   ┆ 0m_max     ┆ 0m_std     │\n",
       "│ ---         ┆ i8  ┆ i8    ┆ ---         ┆   ┆ ---         ┆ ---        ┆ ---        ┆ ---        │\n",
       "│ u32         ┆     ┆       ┆ f32         ┆   ┆ u16         ┆ u32        ┆ u32        ┆ u32        │\n",
       "╞═════════════╪═════╪═══════╪═════════════╪═══╪═════════════╪════════════╪════════════╪════════════╡\n",
       "│ 1315        ┆ 5   ┆ 11    ┆ 4.6365e-26  ┆ … ┆ 198         ┆ 15         ┆ 1230       ┆ 451        │\n",
       "│ 1315        ┆ 5   ┆ 11    ┆ 4.6365e-26  ┆ … ┆ 198         ┆ 15         ┆ 1230       ┆ 451        │\n",
       "│ 1315        ┆ 5   ┆ 11    ┆ 4.6365e-26  ┆ … ┆ 198         ┆ 15         ┆ 1230       ┆ 451        │\n",
       "│ 1315        ┆ 5   ┆ 11    ┆ 4.6365e-26  ┆ … ┆ 198         ┆ 15         ┆ 1230       ┆ 451        │\n",
       "│ 1315        ┆ 5   ┆ 11    ┆ 4.6365e-26  ┆ … ┆ 198         ┆ 15         ┆ 1230       ┆ 451        │\n",
       "└─────────────┴─────┴───────┴─────────────┴───┴─────────────┴────────────┴────────────┴────────────┘"
      ]
     },
     "execution_count": 26,
     "metadata": {},
     "output_type": "execute_result"
    }
   ],
   "source": [
    "X_train = X_train.select(important_features)\n",
    "X_train.head()"
   ]
  },
  {
   "cell_type": "code",
   "execution_count": 27,
   "id": "3e30a7a7",
   "metadata": {
    "execution": {
     "iopub.execute_input": "2023-11-30T15:45:00.736326Z",
     "iopub.status.busy": "2023-11-30T15:45:00.735949Z",
     "iopub.status.idle": "2023-11-30T15:45:01.275591Z",
     "shell.execute_reply": "2023-11-30T15:45:01.274643Z"
    },
    "papermill": {
     "duration": 0.563468,
     "end_time": "2023-11-30T15:45:01.278027",
     "exception": false,
     "start_time": "2023-11-30T15:45:00.714559",
     "status": "completed"
    },
    "tags": []
   },
   "outputs": [],
   "source": [
    "from catboost import CatBoostClassifier, Pool"
   ]
  },
  {
   "cell_type": "code",
   "execution_count": 28,
   "id": "4e131376",
   "metadata": {
    "execution": {
     "iopub.execute_input": "2023-11-30T15:45:01.321231Z",
     "iopub.status.busy": "2023-11-30T15:45:01.320868Z",
     "iopub.status.idle": "2023-11-30T15:45:01.820622Z",
     "shell.execute_reply": "2023-11-30T15:45:01.819471Z"
    },
    "papermill": {
     "duration": 0.524045,
     "end_time": "2023-11-30T15:45:01.823264",
     "exception": false,
     "start_time": "2023-11-30T15:45:01.299219",
     "status": "completed"
    },
    "tags": []
   },
   "outputs": [],
   "source": [
    "train_pool = Pool(X_train.to_pandas(), y_train.to_pandas())"
   ]
  },
  {
   "cell_type": "code",
   "execution_count": 29,
   "id": "2a81d352",
   "metadata": {
    "execution": {
     "iopub.execute_input": "2023-11-30T15:45:01.867958Z",
     "iopub.status.busy": "2023-11-30T15:45:01.867558Z",
     "iopub.status.idle": "2023-11-30T15:45:01.874105Z",
     "shell.execute_reply": "2023-11-30T15:45:01.873111Z"
    },
    "papermill": {
     "duration": 0.031001,
     "end_time": "2023-11-30T15:45:01.876298",
     "exception": false,
     "start_time": "2023-11-30T15:45:01.845297",
     "status": "completed"
    },
    "tags": []
   },
   "outputs": [],
   "source": [
    "model = CatBoostClassifier(iterations=1000,\n",
    "                           task_type=\"GPU\",\n",
    "                           loss_function = \"Logloss\",\n",
    "                           learning_rate=0.01)"
   ]
  },
  {
   "cell_type": "code",
   "execution_count": 30,
   "id": "b69471a2",
   "metadata": {
    "execution": {
     "iopub.execute_input": "2023-11-30T15:45:01.920081Z",
     "iopub.status.busy": "2023-11-30T15:45:01.919678Z"
    },
    "papermill": {
     "duration": 2.024611,
     "end_time": "2023-11-30T15:45:03.922022",
     "exception": false,
     "start_time": "2023-11-30T15:45:01.897411",
     "status": "completed"
    },
    "tags": []
   },
   "outputs": [],
   "source": [
    "model.fit(train_pool,\n",
    "          verbose=False)"
   ]
  }
 ],
 "metadata": {
  "kaggle": {
   "accelerator": "gpu",
   "dataSources": [
    {
     "databundleVersionId": 6589269,
     "sourceId": 53666,
     "sourceType": "competition"
    },
    {
     "datasetId": 3706667,
     "sourceId": 6507308,
     "sourceType": "datasetVersion"
    }
   ],
   "dockerImageVersionId": 30558,
   "isGpuEnabled": true,
   "isInternetEnabled": true,
   "language": "python",
   "sourceType": "notebook"
  },
  "kernelspec": {
   "display_name": "Python 3",
   "language": "python",
   "name": "python3"
  },
  "language_info": {
   "codemirror_mode": {
    "name": "ipython",
    "version": 3
   },
   "file_extension": ".py",
   "mimetype": "text/x-python",
   "name": "python",
   "nbconvert_exporter": "python",
   "pygments_lexer": "ipython3",
   "version": "3.10.12"
  },
  "papermill": {
   "default_parameters": {},
   "duration": 102.819665,
   "end_time": "2023-11-30T15:45:03.945528",
   "environment_variables": {},
   "exception": null,
   "input_path": "__notebook__.ipynb",
   "output_path": "__notebook__.ipynb",
   "parameters": {},
   "start_time": "2023-11-30T15:43:21.125863",
   "version": "2.4.0"
  }
 },
 "nbformat": 4,
 "nbformat_minor": 5
}
