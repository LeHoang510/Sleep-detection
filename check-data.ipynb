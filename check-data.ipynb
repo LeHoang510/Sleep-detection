{
 "cells": [
  {
   "cell_type": "code",
   "execution_count": 1,
   "id": "03eb0481",
   "metadata": {
    "_cell_guid": "b1076dfc-b9ad-4769-8c92-a6c4dae69d19",
    "_uuid": "8f2839f25d086af736a60e9eeb907d3b93b6e0e5",
    "execution": {
     "iopub.execute_input": "2023-11-09T10:06:36.954540Z",
     "iopub.status.busy": "2023-11-09T10:06:36.953494Z",
     "iopub.status.idle": "2023-11-09T10:06:37.872133Z",
     "shell.execute_reply": "2023-11-09T10:06:37.870755Z"
    },
    "papermill": {
     "duration": 0.934248,
     "end_time": "2023-11-09T10:06:37.874863",
     "exception": false,
     "start_time": "2023-11-09T10:06:36.940615",
     "status": "completed"
    },
    "tags": []
   },
   "outputs": [
    {
     "name": "stdout",
     "output_type": "stream",
     "text": [
      "/kaggle/input/zzzs-lightweight-training-dataset-target/Zzzs_train.parquet\n",
      "/kaggle/input/zzzs-lightweight-training-dataset-target/Zzzs_train_multi.parquet\n",
      "/kaggle/input/child-mind-institute-detect-sleep-states/train_series.parquet\n",
      "/kaggle/input/child-mind-institute-detect-sleep-states/sample_submission.csv\n",
      "/kaggle/input/child-mind-institute-detect-sleep-states/train_events.csv\n",
      "/kaggle/input/child-mind-institute-detect-sleep-states/test_series.parquet\n"
     ]
    }
   ],
   "source": [
    "# This Python 3 environment comes with many helpful analytics libraries installed\n",
    "# It is defined by the kaggle/python Docker image: https://github.com/kaggle/docker-python\n",
    "# For example, here's several helpful packages to load\n",
    "\n",
    "import numpy as np # linear algebra\n",
    "import pandas as pd # data processing, CSV file I/O (e.g. pd.read_csv)\n",
    "import polars as pl\n",
    "import gc\n",
    "from tqdm.auto import tqdm \n",
    "\n",
    "\n",
    "# Input data files are available in the read-only \"../input/\" directory\n",
    "# For example, running this (by clicking run or pressing Shift+Enter) will list all files under the input directory\n",
    "\n",
    "import os\n",
    "for dirname, _, filenames in os.walk('/kaggle/input'):\n",
    "    for filename in filenames:\n",
    "        print(os.path.join(dirname, filename))\n",
    "\n",
    "# You can write up to 20GB to the current directory (/kaggle/working/) that gets preserved as output when you create a version using \"Save & Run All\" \n",
    "# You can also write temporary files to /kaggle/temp/, but they won't be saved outside of the current session"
   ]
  },
  {
   "cell_type": "code",
   "execution_count": 2,
   "id": "96a32c3b",
   "metadata": {
    "execution": {
     "iopub.execute_input": "2023-11-09T10:06:37.895672Z",
     "iopub.status.busy": "2023-11-09T10:06:37.895129Z",
     "iopub.status.idle": "2023-11-09T10:06:39.973211Z",
     "shell.execute_reply": "2023-11-09T10:06:39.971510Z"
    },
    "papermill": {
     "duration": 2.091099,
     "end_time": "2023-11-09T10:06:39.975763",
     "exception": false,
     "start_time": "2023-11-09T10:06:37.884664",
     "status": "completed"
    },
    "tags": []
   },
   "outputs": [
    {
     "name": "stdout",
     "output_type": "stream",
     "text": [
      "CPU times: user 2.09 s, sys: 1.25 s, total: 3.34 s\n",
      "Wall time: 2.04 s\n"
     ]
    },
    {
     "data": {
      "text/html": [
       "<div><style>\n",
       ".dataframe > thead > tr > th,\n",
       ".dataframe > tbody > tr > td {\n",
       "  text-align: right;\n",
       "  white-space: pre-wrap;\n",
       "}\n",
       "</style>\n",
       "<small>shape: (5, 6)</small><table border=\"1\" class=\"dataframe\"><thead><tr><th>series_id</th><th>step</th><th>timestamp</th><th>anglez</th><th>enmo</th><th>awake</th></tr><tr><td>str</td><td>u32</td><td>str</td><td>f32</td><td>f32</td><td>i64</td></tr></thead><tbody><tr><td>&quot;08db4255286f&quot;</td><td>0</td><td>&quot;2018-11-05T10:…</td><td>-30.845301</td><td>0.0447</td><td>1</td></tr><tr><td>&quot;08db4255286f&quot;</td><td>1</td><td>&quot;2018-11-05T10:…</td><td>-34.181801</td><td>0.0443</td><td>1</td></tr><tr><td>&quot;08db4255286f&quot;</td><td>2</td><td>&quot;2018-11-05T10:…</td><td>-33.877102</td><td>0.0483</td><td>1</td></tr><tr><td>&quot;08db4255286f&quot;</td><td>3</td><td>&quot;2018-11-05T10:…</td><td>-34.282101</td><td>0.068</td><td>1</td></tr><tr><td>&quot;08db4255286f&quot;</td><td>4</td><td>&quot;2018-11-05T10:…</td><td>-34.385799</td><td>0.0768</td><td>1</td></tr></tbody></table></div>"
      ],
      "text/plain": [
       "shape: (5, 6)\n",
       "┌──────────────┬──────┬──────────────────────────┬────────────┬────────┬───────┐\n",
       "│ series_id    ┆ step ┆ timestamp                ┆ anglez     ┆ enmo   ┆ awake │\n",
       "│ ---          ┆ ---  ┆ ---                      ┆ ---        ┆ ---    ┆ ---   │\n",
       "│ str          ┆ u32  ┆ str                      ┆ f32        ┆ f32    ┆ i64   │\n",
       "╞══════════════╪══════╪══════════════════════════╪════════════╪════════╪═══════╡\n",
       "│ 08db4255286f ┆ 0    ┆ 2018-11-05T10:00:00-0400 ┆ -30.845301 ┆ 0.0447 ┆ 1     │\n",
       "│ 08db4255286f ┆ 1    ┆ 2018-11-05T10:00:05-0400 ┆ -34.181801 ┆ 0.0443 ┆ 1     │\n",
       "│ 08db4255286f ┆ 2    ┆ 2018-11-05T10:00:10-0400 ┆ -33.877102 ┆ 0.0483 ┆ 1     │\n",
       "│ 08db4255286f ┆ 3    ┆ 2018-11-05T10:00:15-0400 ┆ -34.282101 ┆ 0.068  ┆ 1     │\n",
       "│ 08db4255286f ┆ 4    ┆ 2018-11-05T10:00:20-0400 ┆ -34.385799 ┆ 0.0768 ┆ 1     │\n",
       "└──────────────┴──────┴──────────────────────────┴────────────┴────────┴───────┘"
      ]
     },
     "execution_count": 2,
     "metadata": {},
     "output_type": "execute_result"
    }
   ],
   "source": [
    "%%time\n",
    "train = pl.read_parquet('/kaggle/input/zzzs-lightweight-training-dataset-target/Zzzs_train.parquet')\n",
    "train.head()"
   ]
  },
  {
   "cell_type": "code",
   "execution_count": 3,
   "id": "c8352d87",
   "metadata": {
    "execution": {
     "iopub.execute_input": "2023-11-09T10:06:39.996906Z",
     "iopub.status.busy": "2023-11-09T10:06:39.996083Z",
     "iopub.status.idle": "2023-11-09T10:06:40.134169Z",
     "shell.execute_reply": "2023-11-09T10:06:40.132058Z"
    },
    "papermill": {
     "duration": 0.152492,
     "end_time": "2023-11-09T10:06:40.137635",
     "exception": false,
     "start_time": "2023-11-09T10:06:39.985143",
     "status": "completed"
    },
    "tags": []
   },
   "outputs": [
    {
     "name": "stderr",
     "output_type": "stream",
     "text": [
      "/tmp/ipykernel_21/2868793369.py:1: DeprecationWarning: `replace` is deprecated. DataFrame.replace is deprecated and will be removed in a future version. Please use\n",
      "    df = df.with_columns(new_column.alias(column_name))\n",
      "instead.\n",
      "  train.replace(\"awake\", train[\"awake\"].cast(pl.Int8))\n"
     ]
    },
    {
     "data": {
      "text/html": [
       "<div><style>\n",
       ".dataframe > thead > tr > th,\n",
       ".dataframe > tbody > tr > td {\n",
       "  text-align: right;\n",
       "  white-space: pre-wrap;\n",
       "}\n",
       "</style>\n",
       "<small>shape: (13_165_560, 6)</small><table border=\"1\" class=\"dataframe\"><thead><tr><th>series_id</th><th>step</th><th>timestamp</th><th>anglez</th><th>enmo</th><th>awake</th></tr><tr><td>str</td><td>u32</td><td>str</td><td>f32</td><td>f32</td><td>i8</td></tr></thead><tbody><tr><td>&quot;08db4255286f&quot;</td><td>0</td><td>&quot;2018-11-05T10:…</td><td>-30.845301</td><td>0.0447</td><td>1</td></tr><tr><td>&quot;08db4255286f&quot;</td><td>1</td><td>&quot;2018-11-05T10:…</td><td>-34.181801</td><td>0.0443</td><td>1</td></tr><tr><td>&quot;08db4255286f&quot;</td><td>2</td><td>&quot;2018-11-05T10:…</td><td>-33.877102</td><td>0.0483</td><td>1</td></tr><tr><td>&quot;08db4255286f&quot;</td><td>3</td><td>&quot;2018-11-05T10:…</td><td>-34.282101</td><td>0.068</td><td>1</td></tr><tr><td>&quot;08db4255286f&quot;</td><td>4</td><td>&quot;2018-11-05T10:…</td><td>-34.385799</td><td>0.0768</td><td>1</td></tr><tr><td>&quot;08db4255286f&quot;</td><td>5</td><td>&quot;2018-11-05T10:…</td><td>-34.925598</td><td>0.0511</td><td>1</td></tr><tr><td>&quot;08db4255286f&quot;</td><td>6</td><td>&quot;2018-11-05T10:…</td><td>-30.513399</td><td>0.1073</td><td>1</td></tr><tr><td>&quot;08db4255286f&quot;</td><td>7</td><td>&quot;2018-11-05T10:…</td><td>-30.509399</td><td>0.0649</td><td>1</td></tr><tr><td>&quot;08db4255286f&quot;</td><td>8</td><td>&quot;2018-11-05T10:…</td><td>-32.8806</td><td>0.0485</td><td>1</td></tr><tr><td>&quot;08db4255286f&quot;</td><td>9</td><td>&quot;2018-11-05T10:…</td><td>-34.674999</td><td>0.0462</td><td>1</td></tr><tr><td>&quot;08db4255286f&quot;</td><td>10</td><td>&quot;2018-11-05T10:…</td><td>-32.336498</td><td>0.0797</td><td>1</td></tr><tr><td>&quot;08db4255286f&quot;</td><td>11</td><td>&quot;2018-11-05T10:…</td><td>-31.3002</td><td>0.0719</td><td>1</td></tr><tr><td>&hellip;</td><td>&hellip;</td><td>&hellip;</td><td>&hellip;</td><td>&hellip;</td><td>&hellip;</td></tr><tr><td>&quot;d5e47b94477e&quot;</td><td>395808</td><td>&quot;2017-12-02T15:…</td><td>-13.6955</td><td>0.0709</td><td>1</td></tr><tr><td>&quot;d5e47b94477e&quot;</td><td>395809</td><td>&quot;2017-12-02T15:…</td><td>-18.6215</td><td>0.0954</td><td>1</td></tr><tr><td>&quot;d5e47b94477e&quot;</td><td>395810</td><td>&quot;2017-12-02T15:…</td><td>-19.273701</td><td>0.0577</td><td>1</td></tr><tr><td>&quot;d5e47b94477e&quot;</td><td>395811</td><td>&quot;2017-12-02T15:…</td><td>-14.9484</td><td>0.0663</td><td>1</td></tr><tr><td>&quot;d5e47b94477e&quot;</td><td>395812</td><td>&quot;2017-12-02T15:…</td><td>-19.6327</td><td>0.1142</td><td>1</td></tr><tr><td>&quot;d5e47b94477e&quot;</td><td>395813</td><td>&quot;2017-12-02T15:…</td><td>-18.3102</td><td>0.1139</td><td>1</td></tr><tr><td>&quot;d5e47b94477e&quot;</td><td>395814</td><td>&quot;2017-12-02T15:…</td><td>-8.6176</td><td>0.1573</td><td>1</td></tr><tr><td>&quot;d5e47b94477e&quot;</td><td>395815</td><td>&quot;2017-12-02T15:…</td><td>-10.0641</td><td>0.1552</td><td>1</td></tr><tr><td>&quot;d5e47b94477e&quot;</td><td>395816</td><td>&quot;2017-12-02T15:…</td><td>-10.0067</td><td>0.1139</td><td>1</td></tr><tr><td>&quot;d5e47b94477e&quot;</td><td>395817</td><td>&quot;2017-12-02T15:…</td><td>-3.3286</td><td>0.1245</td><td>1</td></tr><tr><td>&quot;d5e47b94477e&quot;</td><td>395818</td><td>&quot;2017-12-02T15:…</td><td>-5.9031</td><td>0.1363</td><td>1</td></tr><tr><td>&quot;d5e47b94477e&quot;</td><td>395819</td><td>&quot;2017-12-02T15:…</td><td>-11.6911</td><td>0.0995</td><td>1</td></tr></tbody></table></div>"
      ],
      "text/plain": [
       "shape: (13_165_560, 6)\n",
       "┌──────────────┬────────┬──────────────────────────┬────────────┬────────┬───────┐\n",
       "│ series_id    ┆ step   ┆ timestamp                ┆ anglez     ┆ enmo   ┆ awake │\n",
       "│ ---          ┆ ---    ┆ ---                      ┆ ---        ┆ ---    ┆ ---   │\n",
       "│ str          ┆ u32    ┆ str                      ┆ f32        ┆ f32    ┆ i8    │\n",
       "╞══════════════╪════════╪══════════════════════════╪════════════╪════════╪═══════╡\n",
       "│ 08db4255286f ┆ 0      ┆ 2018-11-05T10:00:00-0400 ┆ -30.845301 ┆ 0.0447 ┆ 1     │\n",
       "│ 08db4255286f ┆ 1      ┆ 2018-11-05T10:00:05-0400 ┆ -34.181801 ┆ 0.0443 ┆ 1     │\n",
       "│ 08db4255286f ┆ 2      ┆ 2018-11-05T10:00:10-0400 ┆ -33.877102 ┆ 0.0483 ┆ 1     │\n",
       "│ 08db4255286f ┆ 3      ┆ 2018-11-05T10:00:15-0400 ┆ -34.282101 ┆ 0.068  ┆ 1     │\n",
       "│ …            ┆ …      ┆ …                        ┆ …          ┆ …      ┆ …     │\n",
       "│ d5e47b94477e ┆ 395816 ┆ 2017-12-02T15:44:40-0500 ┆ -10.0067   ┆ 0.1139 ┆ 1     │\n",
       "│ d5e47b94477e ┆ 395817 ┆ 2017-12-02T15:44:45-0500 ┆ -3.3286    ┆ 0.1245 ┆ 1     │\n",
       "│ d5e47b94477e ┆ 395818 ┆ 2017-12-02T15:44:50-0500 ┆ -5.9031    ┆ 0.1363 ┆ 1     │\n",
       "│ d5e47b94477e ┆ 395819 ┆ 2017-12-02T15:44:55-0500 ┆ -11.6911   ┆ 0.0995 ┆ 1     │\n",
       "└──────────────┴────────┴──────────────────────────┴────────────┴────────┴───────┘"
      ]
     },
     "execution_count": 3,
     "metadata": {},
     "output_type": "execute_result"
    }
   ],
   "source": [
    "train.replace(\"awake\", train[\"awake\"].cast(pl.Int8))"
   ]
  },
  {
   "cell_type": "code",
   "execution_count": 4,
   "id": "b9983889",
   "metadata": {
    "execution": {
     "iopub.execute_input": "2023-11-09T10:06:40.161050Z",
     "iopub.status.busy": "2023-11-09T10:06:40.159847Z",
     "iopub.status.idle": "2023-11-09T10:06:40.292886Z",
     "shell.execute_reply": "2023-11-09T10:06:40.291295Z"
    },
    "papermill": {
     "duration": 0.148322,
     "end_time": "2023-11-09T10:06:40.295942",
     "exception": false,
     "start_time": "2023-11-09T10:06:40.147620",
     "status": "completed"
    },
    "tags": []
   },
   "outputs": [
    {
     "data": {
      "text/plain": [
       "True"
      ]
     },
     "execution_count": 4,
     "metadata": {},
     "output_type": "execute_result"
    }
   ],
   "source": [
    "(train[\"step\"][1:]-train[\"step\"][:-1]).ne(1).any()"
   ]
  },
  {
   "cell_type": "code",
   "execution_count": 5,
   "id": "82eb8470",
   "metadata": {
    "execution": {
     "iopub.execute_input": "2023-11-09T10:06:40.318518Z",
     "iopub.status.busy": "2023-11-09T10:06:40.318093Z",
     "iopub.status.idle": "2023-11-09T10:06:44.950522Z",
     "shell.execute_reply": "2023-11-09T10:06:44.948335Z"
    },
    "papermill": {
     "duration": 4.648232,
     "end_time": "2023-11-09T10:06:44.954684",
     "exception": false,
     "start_time": "2023-11-09T10:06:40.306452",
     "status": "completed"
    },
    "tags": []
   },
   "outputs": [
    {
     "name": "stdout",
     "output_type": "stream",
     "text": [
      "False\n",
      "False\n",
      "False\n",
      "False\n",
      "False\n",
      "False\n",
      "False\n",
      "False\n",
      "False\n",
      "False\n",
      "False\n",
      "False\n",
      "False\n",
      "False\n",
      "False\n",
      "False\n",
      "False\n",
      "False\n",
      "False\n",
      "False\n",
      "False\n",
      "False\n",
      "False\n",
      "False\n",
      "False\n",
      "False\n",
      "False\n",
      "False\n",
      "False\n",
      "False\n",
      "False\n",
      "False\n",
      "False\n",
      "False\n",
      "False\n"
     ]
    }
   ],
   "source": [
    "for series_id in train[\"series_id\"].unique():\n",
    "    temp = train.filter(pl.col(\"series_id\") == series_id)\n",
    "    print((temp[\"step\"][1:]-temp[\"step\"][:-1]).ne(1).any())"
   ]
  },
  {
   "cell_type": "code",
   "execution_count": 6,
   "id": "505712f2",
   "metadata": {
    "execution": {
     "iopub.execute_input": "2023-11-09T10:06:44.981003Z",
     "iopub.status.busy": "2023-11-09T10:06:44.980569Z",
     "iopub.status.idle": "2023-11-09T10:06:45.638941Z",
     "shell.execute_reply": "2023-11-09T10:06:45.637696Z"
    },
    "papermill": {
     "duration": 0.674492,
     "end_time": "2023-11-09T10:06:45.641739",
     "exception": false,
     "start_time": "2023-11-09T10:06:44.967247",
     "status": "completed"
    },
    "tags": []
   },
   "outputs": [
    {
     "data": {
      "text/html": [
       "<div><style>\n",
       ".dataframe > thead > tr > th,\n",
       ".dataframe > tbody > tr > td {\n",
       "  text-align: right;\n",
       "  white-space: pre-wrap;\n",
       "}\n",
       "</style>\n",
       "<small>shape: (35, 2)</small><table border=\"1\" class=\"dataframe\"><thead><tr><th>series_id</th><th>step</th></tr><tr><td>str</td><td>list[i64]</td></tr></thead><tbody><tr><td>&quot;d150801f3145&quot;</td><td>[null, 1, … 1]</td></tr><tr><td>&quot;0a96f4993bd7&quot;</td><td>[null, 1, … 1]</td></tr><tr><td>&quot;c6788e579967&quot;</td><td>[null, 1, … 1]</td></tr><tr><td>&quot;89bd631d1769&quot;</td><td>[null, 1, … 1]</td></tr><tr><td>&quot;3664fe9233f9&quot;</td><td>[null, 1, … 1]</td></tr><tr><td>&quot;8e32047cbc1f&quot;</td><td>[null, 1, … 1]</td></tr><tr><td>&quot;d515236bdeec&quot;</td><td>[null, 1, … 1]</td></tr><tr><td>&quot;1087d7b0ff2e&quot;</td><td>[null, 1, … 1]</td></tr><tr><td>&quot;7822ee8fe3ec&quot;</td><td>[null, 1, … 1]</td></tr><tr><td>&quot;b364205aba43&quot;</td><td>[null, 1, … 1]</td></tr><tr><td>&quot;5acc9d63b5fd&quot;</td><td>[null, 1, … 1]</td></tr><tr><td>&quot;655f19eabf1e&quot;</td><td>[null, 1, … 1]</td></tr><tr><td>&hellip;</td><td>&hellip;</td></tr><tr><td>&quot;483d6545417f&quot;</td><td>[null, 1, … 1]</td></tr><tr><td>&quot;10f8bc1f7b07&quot;</td><td>[null, 1, … 1]</td></tr><tr><td>&quot;a9a2f7fac455&quot;</td><td>[null, 1, … 1]</td></tr><tr><td>&quot;55a47ff9dc8a&quot;</td><td>[null, 1, … 1]</td></tr><tr><td>&quot;29c75c018220&quot;</td><td>[null, 1, … 1]</td></tr><tr><td>&quot;ca730dbf521d&quot;</td><td>[null, 1, … 1]</td></tr><tr><td>&quot;d5e47b94477e&quot;</td><td>[null, 1, … 1]</td></tr><tr><td>&quot;0cfc06c129cc&quot;</td><td>[null, 1, … 1]</td></tr><tr><td>&quot;9ee455e4770d&quot;</td><td>[null, 1, … 1]</td></tr><tr><td>&quot;72bbd1ac3edf&quot;</td><td>[null, 1, … 1]</td></tr><tr><td>&quot;939932f1822d&quot;</td><td>[null, 1, … 1]</td></tr><tr><td>&quot;5f94bb3e1bed&quot;</td><td>[null, 1, … 1]</td></tr></tbody></table></div>"
      ],
      "text/plain": [
       "shape: (35, 2)\n",
       "┌──────────────┬────────────────┐\n",
       "│ series_id    ┆ step           │\n",
       "│ ---          ┆ ---            │\n",
       "│ str          ┆ list[i64]      │\n",
       "╞══════════════╪════════════════╡\n",
       "│ d150801f3145 ┆ [null, 1, … 1] │\n",
       "│ 0a96f4993bd7 ┆ [null, 1, … 1] │\n",
       "│ c6788e579967 ┆ [null, 1, … 1] │\n",
       "│ 89bd631d1769 ┆ [null, 1, … 1] │\n",
       "│ …            ┆ …              │\n",
       "│ 9ee455e4770d ┆ [null, 1, … 1] │\n",
       "│ 72bbd1ac3edf ┆ [null, 1, … 1] │\n",
       "│ 939932f1822d ┆ [null, 1, … 1] │\n",
       "│ 5f94bb3e1bed ┆ [null, 1, … 1] │\n",
       "└──────────────┴────────────────┘"
      ]
     },
     "execution_count": 6,
     "metadata": {},
     "output_type": "execute_result"
    }
   ],
   "source": [
    "df = train.clone()\n",
    "grouped_df = df.group_by(\"series_id\").agg(pl.col(\"step\").diff())\n",
    "grouped_df"
   ]
  },
  {
   "cell_type": "code",
   "execution_count": 7,
   "id": "2b460bae",
   "metadata": {
    "execution": {
     "iopub.execute_input": "2023-11-09T10:06:45.668649Z",
     "iopub.status.busy": "2023-11-09T10:06:45.667635Z",
     "iopub.status.idle": "2023-11-09T10:06:48.719643Z",
     "shell.execute_reply": "2023-11-09T10:06:48.718341Z"
    },
    "papermill": {
     "duration": 3.068237,
     "end_time": "2023-11-09T10:06:48.722610",
     "exception": false,
     "start_time": "2023-11-09T10:06:45.654373",
     "status": "completed"
    },
    "tags": []
   },
   "outputs": [
    {
     "name": "stdout",
     "output_type": "stream",
     "text": [
      "['08db4255286f', '0a96f4993bd7', '0cfc06c129cc', '1087d7b0ff2e', '10f8bc1f7b07', '18b61dd5aae8', '29c75c018220', '3452b878e596', '349c5562ee2c', '3664fe9233f9', '483d6545417f', '55a47ff9dc8a', '5acc9d63b5fd', '5f94bb3e1bed', '655f19eabf1e', '67f5fc60e494', '72bbd1ac3edf', '76237b9406d5', '7822ee8fe3ec', '89bd631d1769', '8e32047cbc1f', '939932f1822d', '9ee455e4770d', 'a9a2f7fac455', 'a9e5f5314bcb', 'af91d9a50547', 'b364205aba43', 'c535634d7dcd', 'c6788e579967', 'c68260cc9e8f', 'ca730dbf521d', 'd150801f3145', 'd25e479ecbb7', 'd515236bdeec', 'd5e47b94477e']\n"
     ]
    },
    {
     "data": {
      "text/plain": [
       "35"
      ]
     },
     "execution_count": 7,
     "metadata": {},
     "output_type": "execute_result"
    }
   ],
   "source": [
    "def luan_unique(seq):\n",
    "    seen = set()\n",
    "    seen_add = seen.add\n",
    "    return [x for x in seq if not (x in seen or seen_add(x))]\n",
    "\n",
    "\n",
    "ids = luan_unique(train['series_id'])\n",
    "\n",
    "print(ids)\n",
    "\n",
    "len(ids)"
   ]
  },
  {
   "cell_type": "markdown",
   "id": "30075003",
   "metadata": {
    "papermill": {
     "duration": 0.012125,
     "end_time": "2023-11-09T10:06:48.746573",
     "exception": false,
     "start_time": "2023-11-09T10:06:48.734448",
     "status": "completed"
    },
    "tags": []
   },
   "source": [
    "smooth data"
   ]
  },
  {
   "cell_type": "code",
   "execution_count": 8,
   "id": "1b1215f7",
   "metadata": {
    "execution": {
     "iopub.execute_input": "2023-11-09T10:06:48.772855Z",
     "iopub.status.busy": "2023-11-09T10:06:48.772486Z",
     "iopub.status.idle": "2023-11-09T10:06:48.778200Z",
     "shell.execute_reply": "2023-11-09T10:06:48.776800Z"
    },
    "papermill": {
     "duration": 0.021825,
     "end_time": "2023-11-09T10:06:48.780753",
     "exception": false,
     "start_time": "2023-11-09T10:06:48.758928",
     "status": "completed"
    },
    "tags": []
   },
   "outputs": [],
   "source": [
    "# %%time\n",
    "\n",
    "# dict_ids2data = {}\n",
    "\n",
    "# for i in tqdm(range(len(ids))):\n",
    "# # for i in range(2):\n",
    "#     print (i,': ', ids[i])\n",
    "#     dict_ids2data[ids[i]] = train.filter(pl.col(\"series_id\") == ids[i])\n",
    "    \n",
    "#     dict_ids2data[ids[i]] = dict_ids2data[ids[i]].with_columns(\n",
    "#         anglez = pl.col(\"anglez\").rolling_mean(window_size=21, center = True),\n",
    "#         enmo = pl.col(\"enmo\").rolling_mean(window_size=21, center = True),\n",
    "#     )\n",
    "    \n",
    "#     dict_ids2data[ids[i]] = dict_ids2data[ids[i]].fill_null(strategy=\"forward\").fill_null(strategy=\"backward\")\n",
    "    \n",
    "\n",
    "\n",
    "# train_smooth = pl.concat([i for i in dict_ids2data.values()], rechunk=True)\n",
    "\n",
    "\n",
    "# del dict_ids2data\n",
    "# gc.collect()"
   ]
  },
  {
   "cell_type": "code",
   "execution_count": 9,
   "id": "6cb5761d",
   "metadata": {
    "execution": {
     "iopub.execute_input": "2023-11-09T10:06:48.807408Z",
     "iopub.status.busy": "2023-11-09T10:06:48.806557Z",
     "iopub.status.idle": "2023-11-09T10:06:48.811519Z",
     "shell.execute_reply": "2023-11-09T10:06:48.810511Z"
    },
    "papermill": {
     "duration": 0.02143,
     "end_time": "2023-11-09T10:06:48.814190",
     "exception": false,
     "start_time": "2023-11-09T10:06:48.792760",
     "status": "completed"
    },
    "tags": []
   },
   "outputs": [],
   "source": [
    "train_smooth = train\n"
   ]
  },
  {
   "cell_type": "code",
   "execution_count": 10,
   "id": "dbd3038d",
   "metadata": {
    "execution": {
     "iopub.execute_input": "2023-11-09T10:06:48.839828Z",
     "iopub.status.busy": "2023-11-09T10:06:48.839366Z",
     "iopub.status.idle": "2023-11-09T10:06:48.844492Z",
     "shell.execute_reply": "2023-11-09T10:06:48.843368Z"
    },
    "papermill": {
     "duration": 0.020871,
     "end_time": "2023-11-09T10:06:48.846955",
     "exception": false,
     "start_time": "2023-11-09T10:06:48.826084",
     "status": "completed"
    },
    "tags": []
   },
   "outputs": [],
   "source": [
    "# train_reduce = train_smooth.take_every(5)"
   ]
  },
  {
   "cell_type": "code",
   "execution_count": 11,
   "id": "d8836c44",
   "metadata": {
    "execution": {
     "iopub.execute_input": "2023-11-09T10:06:48.873665Z",
     "iopub.status.busy": "2023-11-09T10:06:48.872732Z",
     "iopub.status.idle": "2023-11-09T10:06:50.141541Z",
     "shell.execute_reply": "2023-11-09T10:06:50.140156Z"
    },
    "papermill": {
     "duration": 1.285463,
     "end_time": "2023-11-09T10:06:50.144508",
     "exception": false,
     "start_time": "2023-11-09T10:06:48.859045",
     "status": "completed"
    },
    "tags": []
   },
   "outputs": [
    {
     "data": {
      "text/html": [
       "<div><style>\n",
       ".dataframe > thead > tr > th,\n",
       ".dataframe > tbody > tr > td {\n",
       "  text-align: right;\n",
       "  white-space: pre-wrap;\n",
       "}\n",
       "</style>\n",
       "<small>shape: (2,)</small><table border=\"1\" class=\"dataframe\"><thead><tr><th>timestamp</th></tr><tr><td>str</td></tr></thead><tbody><tr><td>&quot;-0500&quot;</td></tr><tr><td>&quot;-0400&quot;</td></tr></tbody></table></div>"
      ],
      "text/plain": [
       "shape: (2,)\n",
       "Series: 'timestamp' [str]\n",
       "[\n",
       "\t\"-0500\"\n",
       "\t\"-0400\"\n",
       "]"
      ]
     },
     "execution_count": 11,
     "metadata": {},
     "output_type": "execute_result"
    }
   ],
   "source": [
    "train_smooth[\"timestamp\"].str.slice(-5,).unique()"
   ]
  },
  {
   "cell_type": "code",
   "execution_count": 12,
   "id": "10faa973",
   "metadata": {
    "execution": {
     "iopub.execute_input": "2023-11-09T10:06:50.172227Z",
     "iopub.status.busy": "2023-11-09T10:06:50.171786Z",
     "iopub.status.idle": "2023-11-09T10:06:50.182493Z",
     "shell.execute_reply": "2023-11-09T10:06:50.180806Z"
    },
    "papermill": {
     "duration": 0.02798,
     "end_time": "2023-11-09T10:06:50.185102",
     "exception": false,
     "start_time": "2023-11-09T10:06:50.157122",
     "status": "completed"
    },
    "tags": []
   },
   "outputs": [
    {
     "data": {
      "text/html": [
       "<div><style>\n",
       ".dataframe > thead > tr > th,\n",
       ".dataframe > tbody > tr > td {\n",
       "  text-align: right;\n",
       "  white-space: pre-wrap;\n",
       "}\n",
       "</style>\n",
       "<small>shape: (13_165_560,)</small><table border=\"1\" class=\"dataframe\"><thead><tr><th>timestamp</th></tr><tr><td>str</td></tr></thead><tbody><tr><td>&quot;2018-11-05T10:…</td></tr><tr><td>&quot;2018-11-05T10:…</td></tr><tr><td>&quot;2018-11-05T10:…</td></tr><tr><td>&quot;2018-11-05T10:…</td></tr><tr><td>&quot;2018-11-05T10:…</td></tr><tr><td>&quot;2018-11-05T10:…</td></tr><tr><td>&quot;2018-11-05T10:…</td></tr><tr><td>&quot;2018-11-05T10:…</td></tr><tr><td>&quot;2018-11-05T10:…</td></tr><tr><td>&quot;2018-11-05T10:…</td></tr><tr><td>&quot;2018-11-05T10:…</td></tr><tr><td>&quot;2018-11-05T10:…</td></tr><tr><td>&hellip;</td></tr><tr><td>&quot;2017-12-02T15:…</td></tr><tr><td>&quot;2017-12-02T15:…</td></tr><tr><td>&quot;2017-12-02T15:…</td></tr><tr><td>&quot;2017-12-02T15:…</td></tr><tr><td>&quot;2017-12-02T15:…</td></tr><tr><td>&quot;2017-12-02T15:…</td></tr><tr><td>&quot;2017-12-02T15:…</td></tr><tr><td>&quot;2017-12-02T15:…</td></tr><tr><td>&quot;2017-12-02T15:…</td></tr><tr><td>&quot;2017-12-02T15:…</td></tr><tr><td>&quot;2017-12-02T15:…</td></tr><tr><td>&quot;2017-12-02T15:…</td></tr></tbody></table></div>"
      ],
      "text/plain": [
       "shape: (13_165_560,)\n",
       "Series: 'timestamp' [str]\n",
       "[\n",
       "\t\"2018-11-05T10:…\n",
       "\t\"2018-11-05T10:…\n",
       "\t\"2018-11-05T10:…\n",
       "\t\"2018-11-05T10:…\n",
       "\t\"2018-11-05T10:…\n",
       "\t\"2018-11-05T10:…\n",
       "\t\"2018-11-05T10:…\n",
       "\t\"2018-11-05T10:…\n",
       "\t\"2018-11-05T10:…\n",
       "\t\"2018-11-05T10:…\n",
       "\t\"2018-11-05T10:…\n",
       "\t\"2018-11-05T10:…\n",
       "\t…\n",
       "\t\"2017-12-02T15:…\n",
       "\t\"2017-12-02T15:…\n",
       "\t\"2017-12-02T15:…\n",
       "\t\"2017-12-02T15:…\n",
       "\t\"2017-12-02T15:…\n",
       "\t\"2017-12-02T15:…\n",
       "\t\"2017-12-02T15:…\n",
       "\t\"2017-12-02T15:…\n",
       "\t\"2017-12-02T15:…\n",
       "\t\"2017-12-02T15:…\n",
       "\t\"2017-12-02T15:…\n",
       "\t\"2017-12-02T15:…\n",
       "\t\"2017-12-02T15:…\n",
       "]"
      ]
     },
     "execution_count": 12,
     "metadata": {},
     "output_type": "execute_result"
    }
   ],
   "source": [
    "train_smooth[\"timestamp\"]"
   ]
  },
  {
   "cell_type": "code",
   "execution_count": 13,
   "id": "2422c55e",
   "metadata": {
    "execution": {
     "iopub.execute_input": "2023-11-09T10:06:50.212338Z",
     "iopub.status.busy": "2023-11-09T10:06:50.211910Z",
     "iopub.status.idle": "2023-11-09T10:07:01.571734Z",
     "shell.execute_reply": "2023-11-09T10:07:01.570258Z"
    },
    "papermill": {
     "duration": 11.376669,
     "end_time": "2023-11-09T10:07:01.574501",
     "exception": false,
     "start_time": "2023-11-09T10:06:50.197832",
     "status": "completed"
    },
    "tags": []
   },
   "outputs": [
    {
     "name": "stdout",
     "output_type": "stream",
     "text": [
      "CPU times: user 11.2 s, sys: 282 ms, total: 11.5 s\n",
      "Wall time: 11.3 s\n"
     ]
    },
    {
     "data": {
      "text/html": [
       "<div><style>\n",
       ".dataframe > thead > tr > th,\n",
       ".dataframe > tbody > tr > td {\n",
       "  text-align: right;\n",
       "  white-space: pre-wrap;\n",
       "}\n",
       "</style>\n",
       "<small>shape: (13_165_560, 7)</small><table border=\"1\" class=\"dataframe\"><thead><tr><th>series_id</th><th>step</th><th>timestamp</th><th>anglez</th><th>enmo</th><th>awake</th><th>date_time</th></tr><tr><td>str</td><td>u32</td><td>str</td><td>f32</td><td>u16</td><td>i8</td><td>datetime[μs, UTC]</td></tr></thead><tbody><tr><td>&quot;08db4255286f&quot;</td><td>0</td><td>&quot;2018-11-05T10:…</td><td>-30.845301</td><td>44</td><td>1</td><td>2018-11-05 14:00:00 UTC</td></tr><tr><td>&quot;08db4255286f&quot;</td><td>1</td><td>&quot;2018-11-05T10:…</td><td>-34.181801</td><td>44</td><td>1</td><td>2018-11-05 14:00:05 UTC</td></tr><tr><td>&quot;08db4255286f&quot;</td><td>2</td><td>&quot;2018-11-05T10:…</td><td>-33.877102</td><td>48</td><td>1</td><td>2018-11-05 14:00:10 UTC</td></tr><tr><td>&quot;08db4255286f&quot;</td><td>3</td><td>&quot;2018-11-05T10:…</td><td>-34.282101</td><td>68</td><td>1</td><td>2018-11-05 14:00:15 UTC</td></tr><tr><td>&quot;08db4255286f&quot;</td><td>4</td><td>&quot;2018-11-05T10:…</td><td>-34.385799</td><td>76</td><td>1</td><td>2018-11-05 14:00:20 UTC</td></tr><tr><td>&quot;08db4255286f&quot;</td><td>5</td><td>&quot;2018-11-05T10:…</td><td>-34.925598</td><td>51</td><td>1</td><td>2018-11-05 14:00:25 UTC</td></tr><tr><td>&quot;08db4255286f&quot;</td><td>6</td><td>&quot;2018-11-05T10:…</td><td>-30.513399</td><td>107</td><td>1</td><td>2018-11-05 14:00:30 UTC</td></tr><tr><td>&quot;08db4255286f&quot;</td><td>7</td><td>&quot;2018-11-05T10:…</td><td>-30.509399</td><td>64</td><td>1</td><td>2018-11-05 14:00:35 UTC</td></tr><tr><td>&quot;08db4255286f&quot;</td><td>8</td><td>&quot;2018-11-05T10:…</td><td>-32.8806</td><td>48</td><td>1</td><td>2018-11-05 14:00:40 UTC</td></tr><tr><td>&quot;08db4255286f&quot;</td><td>9</td><td>&quot;2018-11-05T10:…</td><td>-34.674999</td><td>46</td><td>1</td><td>2018-11-05 14:00:45 UTC</td></tr><tr><td>&quot;08db4255286f&quot;</td><td>10</td><td>&quot;2018-11-05T10:…</td><td>-32.336498</td><td>79</td><td>1</td><td>2018-11-05 14:00:50 UTC</td></tr><tr><td>&quot;08db4255286f&quot;</td><td>11</td><td>&quot;2018-11-05T10:…</td><td>-31.3002</td><td>71</td><td>1</td><td>2018-11-05 14:00:55 UTC</td></tr><tr><td>&hellip;</td><td>&hellip;</td><td>&hellip;</td><td>&hellip;</td><td>&hellip;</td><td>&hellip;</td><td>&hellip;</td></tr><tr><td>&quot;d5e47b94477e&quot;</td><td>395808</td><td>&quot;2017-12-02T15:…</td><td>-13.6955</td><td>70</td><td>1</td><td>2017-12-02 20:44:00 UTC</td></tr><tr><td>&quot;d5e47b94477e&quot;</td><td>395809</td><td>&quot;2017-12-02T15:…</td><td>-18.6215</td><td>95</td><td>1</td><td>2017-12-02 20:44:05 UTC</td></tr><tr><td>&quot;d5e47b94477e&quot;</td><td>395810</td><td>&quot;2017-12-02T15:…</td><td>-19.273701</td><td>57</td><td>1</td><td>2017-12-02 20:44:10 UTC</td></tr><tr><td>&quot;d5e47b94477e&quot;</td><td>395811</td><td>&quot;2017-12-02T15:…</td><td>-14.9484</td><td>66</td><td>1</td><td>2017-12-02 20:44:15 UTC</td></tr><tr><td>&quot;d5e47b94477e&quot;</td><td>395812</td><td>&quot;2017-12-02T15:…</td><td>-19.6327</td><td>114</td><td>1</td><td>2017-12-02 20:44:20 UTC</td></tr><tr><td>&quot;d5e47b94477e&quot;</td><td>395813</td><td>&quot;2017-12-02T15:…</td><td>-18.3102</td><td>113</td><td>1</td><td>2017-12-02 20:44:25 UTC</td></tr><tr><td>&quot;d5e47b94477e&quot;</td><td>395814</td><td>&quot;2017-12-02T15:…</td><td>-8.6176</td><td>157</td><td>1</td><td>2017-12-02 20:44:30 UTC</td></tr><tr><td>&quot;d5e47b94477e&quot;</td><td>395815</td><td>&quot;2017-12-02T15:…</td><td>-10.0641</td><td>155</td><td>1</td><td>2017-12-02 20:44:35 UTC</td></tr><tr><td>&quot;d5e47b94477e&quot;</td><td>395816</td><td>&quot;2017-12-02T15:…</td><td>-10.0067</td><td>113</td><td>1</td><td>2017-12-02 20:44:40 UTC</td></tr><tr><td>&quot;d5e47b94477e&quot;</td><td>395817</td><td>&quot;2017-12-02T15:…</td><td>-3.3286</td><td>124</td><td>1</td><td>2017-12-02 20:44:45 UTC</td></tr><tr><td>&quot;d5e47b94477e&quot;</td><td>395818</td><td>&quot;2017-12-02T15:…</td><td>-5.9031</td><td>136</td><td>1</td><td>2017-12-02 20:44:50 UTC</td></tr><tr><td>&quot;d5e47b94477e&quot;</td><td>395819</td><td>&quot;2017-12-02T15:…</td><td>-11.6911</td><td>99</td><td>1</td><td>2017-12-02 20:44:55 UTC</td></tr></tbody></table></div>"
      ],
      "text/plain": [
       "shape: (13_165_560, 7)\n",
       "┌──────────────┬────────┬───────────────────────┬────────────┬──────┬───────┬──────────────────────┐\n",
       "│ series_id    ┆ step   ┆ timestamp             ┆ anglez     ┆ enmo ┆ awake ┆ date_time            │\n",
       "│ ---          ┆ ---    ┆ ---                   ┆ ---        ┆ ---  ┆ ---   ┆ ---                  │\n",
       "│ str          ┆ u32    ┆ str                   ┆ f32        ┆ u16  ┆ i8    ┆ datetime[μs, UTC]    │\n",
       "╞══════════════╪════════╪═══════════════════════╪════════════╪══════╪═══════╪══════════════════════╡\n",
       "│ 08db4255286f ┆ 0      ┆ 2018-11-05T10:00:00-0 ┆ -30.845301 ┆ 44   ┆ 1     ┆ 2018-11-05 14:00:00  │\n",
       "│              ┆        ┆ 400                   ┆            ┆      ┆       ┆ UTC                  │\n",
       "│ 08db4255286f ┆ 1      ┆ 2018-11-05T10:00:05-0 ┆ -34.181801 ┆ 44   ┆ 1     ┆ 2018-11-05 14:00:05  │\n",
       "│              ┆        ┆ 400                   ┆            ┆      ┆       ┆ UTC                  │\n",
       "│ 08db4255286f ┆ 2      ┆ 2018-11-05T10:00:10-0 ┆ -33.877102 ┆ 48   ┆ 1     ┆ 2018-11-05 14:00:10  │\n",
       "│              ┆        ┆ 400                   ┆            ┆      ┆       ┆ UTC                  │\n",
       "│ 08db4255286f ┆ 3      ┆ 2018-11-05T10:00:15-0 ┆ -34.282101 ┆ 68   ┆ 1     ┆ 2018-11-05 14:00:15  │\n",
       "│              ┆        ┆ 400                   ┆            ┆      ┆       ┆ UTC                  │\n",
       "│ …            ┆ …      ┆ …                     ┆ …          ┆ …    ┆ …     ┆ …                    │\n",
       "│ d5e47b94477e ┆ 395816 ┆ 2017-12-02T15:44:40-0 ┆ -10.0067   ┆ 113  ┆ 1     ┆ 2017-12-02 20:44:40  │\n",
       "│              ┆        ┆ 500                   ┆            ┆      ┆       ┆ UTC                  │\n",
       "│ d5e47b94477e ┆ 395817 ┆ 2017-12-02T15:44:45-0 ┆ -3.3286    ┆ 124  ┆ 1     ┆ 2017-12-02 20:44:45  │\n",
       "│              ┆        ┆ 500                   ┆            ┆      ┆       ┆ UTC                  │\n",
       "│ d5e47b94477e ┆ 395818 ┆ 2017-12-02T15:44:50-0 ┆ -5.9031    ┆ 136  ┆ 1     ┆ 2017-12-02 20:44:50  │\n",
       "│              ┆        ┆ 500                   ┆            ┆      ┆       ┆ UTC                  │\n",
       "│ d5e47b94477e ┆ 395819 ┆ 2017-12-02T15:44:55-0 ┆ -11.6911   ┆ 99   ┆ 1     ┆ 2017-12-02 20:44:55  │\n",
       "│              ┆        ┆ 500                   ┆            ┆      ┆       ┆ UTC                  │\n",
       "└──────────────┴────────┴───────────────────────┴────────────┴──────┴───────┴──────────────────────┘"
      ]
     },
     "execution_count": 13,
     "metadata": {},
     "output_type": "execute_result"
    }
   ],
   "source": [
    "%%time\n",
    "\n",
    "def process_timestamp(df):\n",
    "    df = df.with_columns(\n",
    "        #year = (df[\"timestamp\"].str.slice(0,4).cast(pl.Int16) - 2000).cast(pl.UInt8),\n",
    "        #month = df[\"timestamp\"].str.slice(5,2).cast(pl.Int8),\n",
    "        #day = df[\"timestamp\"].str.slice(8,2).cast(pl.Int8),\n",
    "        #hour = df[\"timestamp\"].str.slice(11,2).cast(pl.Int8),\n",
    "        #minute = df[\"timestamp\"].str.slice(14,2).cast(pl.Int8),\n",
    "        #second = df[\"timestamp\"].str.slice(17,2).cast(pl.Int8),\n",
    "        #time_zone = df[\"timestamp\"].str.slice(-5,3).cast(pl.Int32),\n",
    "        enmo =  (pl.col('enmo')*1000).cast(pl.UInt16),\n",
    "        date_time =pl.col('timestamp').str.strptime(pl.Datetime),\n",
    "    )\n",
    "    return df\n",
    "    \n",
    "    \n",
    "# print (process_timestamp(train_smooth))\n",
    "\n",
    "train_time_extract = process_timestamp(train_smooth)\n",
    "\n",
    "train_time_extract"
   ]
  },
  {
   "cell_type": "code",
   "execution_count": 14,
   "id": "bf25b016",
   "metadata": {
    "execution": {
     "iopub.execute_input": "2023-11-09T10:07:01.602772Z",
     "iopub.status.busy": "2023-11-09T10:07:01.602379Z",
     "iopub.status.idle": "2023-11-09T10:07:01.692847Z",
     "shell.execute_reply": "2023-11-09T10:07:01.691974Z"
    },
    "papermill": {
     "duration": 0.107434,
     "end_time": "2023-11-09T10:07:01.695476",
     "exception": false,
     "start_time": "2023-11-09T10:07:01.588042",
     "status": "completed"
    },
    "tags": []
   },
   "outputs": [
    {
     "data": {
      "text/html": [
       "<div><style>\n",
       ".dataframe > thead > tr > th,\n",
       ".dataframe > tbody > tr > td {\n",
       "  text-align: right;\n",
       "  white-space: pre-wrap;\n",
       "}\n",
       "</style>\n",
       "<small>shape: (13_165_559,)</small><table border=\"1\" class=\"dataframe\"><thead><tr><th>date_time</th></tr><tr><td>duration[μs]</td></tr></thead><tbody><tr><td>5s</td></tr><tr><td>5s</td></tr><tr><td>5s</td></tr><tr><td>5s</td></tr><tr><td>5s</td></tr><tr><td>5s</td></tr><tr><td>5s</td></tr><tr><td>5s</td></tr><tr><td>5s</td></tr><tr><td>5s</td></tr><tr><td>5s</td></tr><tr><td>5s</td></tr><tr><td>&hellip;</td></tr><tr><td>5s</td></tr><tr><td>5s</td></tr><tr><td>5s</td></tr><tr><td>5s</td></tr><tr><td>5s</td></tr><tr><td>5s</td></tr><tr><td>5s</td></tr><tr><td>5s</td></tr><tr><td>5s</td></tr><tr><td>5s</td></tr><tr><td>5s</td></tr><tr><td>5s</td></tr></tbody></table></div>"
      ],
      "text/plain": [
       "shape: (13_165_559,)\n",
       "Series: 'date_time' [duration[μs]]\n",
       "[\n",
       "\t5s\n",
       "\t5s\n",
       "\t5s\n",
       "\t5s\n",
       "\t5s\n",
       "\t5s\n",
       "\t5s\n",
       "\t5s\n",
       "\t5s\n",
       "\t5s\n",
       "\t5s\n",
       "\t5s\n",
       "\t…\n",
       "\t5s\n",
       "\t5s\n",
       "\t5s\n",
       "\t5s\n",
       "\t5s\n",
       "\t5s\n",
       "\t5s\n",
       "\t5s\n",
       "\t5s\n",
       "\t5s\n",
       "\t5s\n",
       "\t5s\n",
       "\t5s\n",
       "]"
      ]
     },
     "execution_count": 14,
     "metadata": {},
     "output_type": "execute_result"
    }
   ],
   "source": [
    "train_time_extract[\"date_time\"][1:]-train_time_extract[\"date_time\"][:-1]"
   ]
  },
  {
   "cell_type": "code",
   "execution_count": 15,
   "id": "dda68702",
   "metadata": {
    "execution": {
     "iopub.execute_input": "2023-11-09T10:07:01.724702Z",
     "iopub.status.busy": "2023-11-09T10:07:01.723743Z",
     "iopub.status.idle": "2023-11-09T10:07:36.425464Z",
     "shell.execute_reply": "2023-11-09T10:07:36.424528Z"
    },
    "papermill": {
     "duration": 34.733529,
     "end_time": "2023-11-09T10:07:36.442184",
     "exception": false,
     "start_time": "2023-11-09T10:07:01.708655",
     "status": "completed"
    },
    "tags": []
   },
   "outputs": [
    {
     "data": {
      "text/html": [
       "<div><style>\n",
       ".dataframe > thead > tr > th,\n",
       ".dataframe > tbody > tr > td {\n",
       "  text-align: right;\n",
       "  white-space: pre-wrap;\n",
       "}\n",
       "</style>\n",
       "<small>shape: (2,)</small><table border=\"1\" class=\"dataframe\"><thead><tr><th>date_time</th></tr><tr><td>bool</td></tr></thead><tbody><tr><td>false</td></tr><tr><td>true</td></tr></tbody></table></div>"
      ],
      "text/plain": [
       "shape: (2,)\n",
       "Series: 'date_time' [bool]\n",
       "[\n",
       "\tfalse\n",
       "\ttrue\n",
       "]"
      ]
     },
     "execution_count": 15,
     "metadata": {},
     "output_type": "execute_result"
    }
   ],
   "source": [
    "(train_time_extract[\"date_time\"][1:]-train_time_extract[\"date_time\"][:-1]).map_elements(lambda x: (x.seconds  / 60) > 1).unique()"
   ]
  },
  {
   "cell_type": "code",
   "execution_count": 16,
   "id": "b058ed9a",
   "metadata": {
    "execution": {
     "iopub.execute_input": "2023-11-09T10:07:36.472737Z",
     "iopub.status.busy": "2023-11-09T10:07:36.471638Z",
     "iopub.status.idle": "2023-11-09T10:08:11.378745Z",
     "shell.execute_reply": "2023-11-09T10:08:11.377131Z"
    },
    "papermill": {
     "duration": 34.925842,
     "end_time": "2023-11-09T10:08:11.381641",
     "exception": false,
     "start_time": "2023-11-09T10:07:36.455799",
     "status": "completed"
    },
    "tags": []
   },
   "outputs": [
    {
     "name": "stdout",
     "output_type": "stream",
     "text": [
      "shape: (0, 8)\n",
      "┌───────────┬──────┬───────────┬────────┬──────┬───────┬───────────────────┬────────────┐\n",
      "│ series_id ┆ step ┆ timestamp ┆ anglez ┆ enmo ┆ awake ┆ date_time         ┆ time_stamp │\n",
      "│ ---       ┆ ---  ┆ ---       ┆ ---    ┆ ---  ┆ ---   ┆ ---               ┆ ---        │\n",
      "│ str       ┆ u32  ┆ str       ┆ f32    ┆ u16  ┆ i8    ┆ datetime[μs, UTC] ┆ bool       │\n",
      "╞═══════════╪══════╪═══════════╪════════╪══════╪═══════╪═══════════════════╪════════════╡\n",
      "└───────────┴──────┴───────────┴────────┴──────┴───────┴───────────────────┴────────────┘\n",
      "shape: (0, 8)\n",
      "┌───────────┬──────┬───────────┬────────┬──────┬───────┬───────────────────┬────────────┐\n",
      "│ series_id ┆ step ┆ timestamp ┆ anglez ┆ enmo ┆ awake ┆ date_time         ┆ time_stamp │\n",
      "│ ---       ┆ ---  ┆ ---       ┆ ---    ┆ ---  ┆ ---   ┆ ---               ┆ ---        │\n",
      "│ str       ┆ u32  ┆ str       ┆ f32    ┆ u16  ┆ i8    ┆ datetime[μs, UTC] ┆ bool       │\n",
      "╞═══════════╪══════╪═══════════╪════════╪══════╪═══════╪═══════════════════╪════════════╡\n",
      "└───────────┴──────┴───────────┴────────┴──────┴───────┴───────────────────┴────────────┘\n",
      "shape: (0, 8)\n",
      "┌───────────┬──────┬───────────┬────────┬──────┬───────┬───────────────────┬────────────┐\n",
      "│ series_id ┆ step ┆ timestamp ┆ anglez ┆ enmo ┆ awake ┆ date_time         ┆ time_stamp │\n",
      "│ ---       ┆ ---  ┆ ---       ┆ ---    ┆ ---  ┆ ---   ┆ ---               ┆ ---        │\n",
      "│ str       ┆ u32  ┆ str       ┆ f32    ┆ u16  ┆ i8    ┆ datetime[μs, UTC] ┆ bool       │\n",
      "╞═══════════╪══════╪═══════════╪════════╪══════╪═══════╪═══════════════════╪════════════╡\n",
      "└───────────┴──────┴───────────┴────────┴──────┴───────┴───────────────────┴────────────┘\n",
      "shape: (0, 8)\n",
      "┌───────────┬──────┬───────────┬────────┬──────┬───────┬───────────────────┬────────────┐\n",
      "│ series_id ┆ step ┆ timestamp ┆ anglez ┆ enmo ┆ awake ┆ date_time         ┆ time_stamp │\n",
      "│ ---       ┆ ---  ┆ ---       ┆ ---    ┆ ---  ┆ ---   ┆ ---               ┆ ---        │\n",
      "│ str       ┆ u32  ┆ str       ┆ f32    ┆ u16  ┆ i8    ┆ datetime[μs, UTC] ┆ bool       │\n",
      "╞═══════════╪══════╪═══════════╪════════╪══════╪═══════╪═══════════════════╪════════════╡\n",
      "└───────────┴──────┴───────────┴────────┴──────┴───────┴───────────────────┴────────────┘\n",
      "shape: (0, 8)\n",
      "┌───────────┬──────┬───────────┬────────┬──────┬───────┬───────────────────┬────────────┐\n",
      "│ series_id ┆ step ┆ timestamp ┆ anglez ┆ enmo ┆ awake ┆ date_time         ┆ time_stamp │\n",
      "│ ---       ┆ ---  ┆ ---       ┆ ---    ┆ ---  ┆ ---   ┆ ---               ┆ ---        │\n",
      "│ str       ┆ u32  ┆ str       ┆ f32    ┆ u16  ┆ i8    ┆ datetime[μs, UTC] ┆ bool       │\n",
      "╞═══════════╪══════╪═══════════╪════════╪══════╪═══════╪═══════════════════╪════════════╡\n",
      "└───────────┴──────┴───────────┴────────┴──────┴───────┴───────────────────┴────────────┘\n",
      "shape: (0, 8)\n",
      "┌───────────┬──────┬───────────┬────────┬──────┬───────┬───────────────────┬────────────┐\n",
      "│ series_id ┆ step ┆ timestamp ┆ anglez ┆ enmo ┆ awake ┆ date_time         ┆ time_stamp │\n",
      "│ ---       ┆ ---  ┆ ---       ┆ ---    ┆ ---  ┆ ---   ┆ ---               ┆ ---        │\n",
      "│ str       ┆ u32  ┆ str       ┆ f32    ┆ u16  ┆ i8    ┆ datetime[μs, UTC] ┆ bool       │\n",
      "╞═══════════╪══════╪═══════════╪════════╪══════╪═══════╪═══════════════════╪════════════╡\n",
      "└───────────┴──────┴───────────┴────────┴──────┴───────┴───────────────────┴────────────┘\n",
      "shape: (0, 8)\n",
      "┌───────────┬──────┬───────────┬────────┬──────┬───────┬───────────────────┬────────────┐\n",
      "│ series_id ┆ step ┆ timestamp ┆ anglez ┆ enmo ┆ awake ┆ date_time         ┆ time_stamp │\n",
      "│ ---       ┆ ---  ┆ ---       ┆ ---    ┆ ---  ┆ ---   ┆ ---               ┆ ---        │\n",
      "│ str       ┆ u32  ┆ str       ┆ f32    ┆ u16  ┆ i8    ┆ datetime[μs, UTC] ┆ bool       │\n",
      "╞═══════════╪══════╪═══════════╪════════╪══════╪═══════╪═══════════════════╪════════════╡\n",
      "└───────────┴──────┴───────────┴────────┴──────┴───────┴───────────────────┴────────────┘\n",
      "shape: (0, 8)\n",
      "┌───────────┬──────┬───────────┬────────┬──────┬───────┬───────────────────┬────────────┐\n",
      "│ series_id ┆ step ┆ timestamp ┆ anglez ┆ enmo ┆ awake ┆ date_time         ┆ time_stamp │\n",
      "│ ---       ┆ ---  ┆ ---       ┆ ---    ┆ ---  ┆ ---   ┆ ---               ┆ ---        │\n",
      "│ str       ┆ u32  ┆ str       ┆ f32    ┆ u16  ┆ i8    ┆ datetime[μs, UTC] ┆ bool       │\n",
      "╞═══════════╪══════╪═══════════╪════════╪══════╪═══════╪═══════════════════╪════════════╡\n",
      "└───────────┴──────┴───────────┴────────┴──────┴───────┴───────────────────┴────────────┘\n",
      "shape: (0, 8)\n",
      "┌───────────┬──────┬───────────┬────────┬──────┬───────┬───────────────────┬────────────┐\n",
      "│ series_id ┆ step ┆ timestamp ┆ anglez ┆ enmo ┆ awake ┆ date_time         ┆ time_stamp │\n",
      "│ ---       ┆ ---  ┆ ---       ┆ ---    ┆ ---  ┆ ---   ┆ ---               ┆ ---        │\n",
      "│ str       ┆ u32  ┆ str       ┆ f32    ┆ u16  ┆ i8    ┆ datetime[μs, UTC] ┆ bool       │\n",
      "╞═══════════╪══════╪═══════════╪════════╪══════╪═══════╪═══════════════════╪════════════╡\n",
      "└───────────┴──────┴───────────┴────────┴──────┴───────┴───────────────────┴────────────┘\n",
      "shape: (0, 8)\n",
      "┌───────────┬──────┬───────────┬────────┬──────┬───────┬───────────────────┬────────────┐\n",
      "│ series_id ┆ step ┆ timestamp ┆ anglez ┆ enmo ┆ awake ┆ date_time         ┆ time_stamp │\n",
      "│ ---       ┆ ---  ┆ ---       ┆ ---    ┆ ---  ┆ ---   ┆ ---               ┆ ---        │\n",
      "│ str       ┆ u32  ┆ str       ┆ f32    ┆ u16  ┆ i8    ┆ datetime[μs, UTC] ┆ bool       │\n",
      "╞═══════════╪══════╪═══════════╪════════╪══════╪═══════╪═══════════════════╪════════════╡\n",
      "└───────────┴──────┴───────────┴────────┴──────┴───────┴───────────────────┴────────────┘\n",
      "shape: (0, 8)\n",
      "┌───────────┬──────┬───────────┬────────┬──────┬───────┬───────────────────┬────────────┐\n",
      "│ series_id ┆ step ┆ timestamp ┆ anglez ┆ enmo ┆ awake ┆ date_time         ┆ time_stamp │\n",
      "│ ---       ┆ ---  ┆ ---       ┆ ---    ┆ ---  ┆ ---   ┆ ---               ┆ ---        │\n",
      "│ str       ┆ u32  ┆ str       ┆ f32    ┆ u16  ┆ i8    ┆ datetime[μs, UTC] ┆ bool       │\n",
      "╞═══════════╪══════╪═══════════╪════════╪══════╪═══════╪═══════════════════╪════════════╡\n",
      "└───────────┴──────┴───────────┴────────┴──────┴───────┴───────────────────┴────────────┘\n",
      "shape: (0, 8)\n",
      "┌───────────┬──────┬───────────┬────────┬──────┬───────┬───────────────────┬────────────┐\n",
      "│ series_id ┆ step ┆ timestamp ┆ anglez ┆ enmo ┆ awake ┆ date_time         ┆ time_stamp │\n",
      "│ ---       ┆ ---  ┆ ---       ┆ ---    ┆ ---  ┆ ---   ┆ ---               ┆ ---        │\n",
      "│ str       ┆ u32  ┆ str       ┆ f32    ┆ u16  ┆ i8    ┆ datetime[μs, UTC] ┆ bool       │\n",
      "╞═══════════╪══════╪═══════════╪════════╪══════╪═══════╪═══════════════════╪════════════╡\n",
      "└───────────┴──────┴───────────┴────────┴──────┴───────┴───────────────────┴────────────┘\n",
      "shape: (0, 8)\n",
      "┌───────────┬──────┬───────────┬────────┬──────┬───────┬───────────────────┬────────────┐\n",
      "│ series_id ┆ step ┆ timestamp ┆ anglez ┆ enmo ┆ awake ┆ date_time         ┆ time_stamp │\n",
      "│ ---       ┆ ---  ┆ ---       ┆ ---    ┆ ---  ┆ ---   ┆ ---               ┆ ---        │\n",
      "│ str       ┆ u32  ┆ str       ┆ f32    ┆ u16  ┆ i8    ┆ datetime[μs, UTC] ┆ bool       │\n",
      "╞═══════════╪══════╪═══════════╪════════╪══════╪═══════╪═══════════════════╪════════════╡\n",
      "└───────────┴──────┴───────────┴────────┴──────┴───────┴───────────────────┴────────────┘\n",
      "shape: (0, 8)\n",
      "┌───────────┬──────┬───────────┬────────┬──────┬───────┬───────────────────┬────────────┐\n",
      "│ series_id ┆ step ┆ timestamp ┆ anglez ┆ enmo ┆ awake ┆ date_time         ┆ time_stamp │\n",
      "│ ---       ┆ ---  ┆ ---       ┆ ---    ┆ ---  ┆ ---   ┆ ---               ┆ ---        │\n",
      "│ str       ┆ u32  ┆ str       ┆ f32    ┆ u16  ┆ i8    ┆ datetime[μs, UTC] ┆ bool       │\n",
      "╞═══════════╪══════╪═══════════╪════════╪══════╪═══════╪═══════════════════╪════════════╡\n",
      "└───────────┴──────┴───────────┴────────┴──────┴───────┴───────────────────┴────────────┘\n",
      "shape: (0, 8)\n",
      "┌───────────┬──────┬───────────┬────────┬──────┬───────┬───────────────────┬────────────┐\n",
      "│ series_id ┆ step ┆ timestamp ┆ anglez ┆ enmo ┆ awake ┆ date_time         ┆ time_stamp │\n",
      "│ ---       ┆ ---  ┆ ---       ┆ ---    ┆ ---  ┆ ---   ┆ ---               ┆ ---        │\n",
      "│ str       ┆ u32  ┆ str       ┆ f32    ┆ u16  ┆ i8    ┆ datetime[μs, UTC] ┆ bool       │\n",
      "╞═══════════╪══════╪═══════════╪════════╪══════╪═══════╪═══════════════════╪════════════╡\n",
      "└───────────┴──────┴───────────┴────────┴──────┴───────┴───────────────────┴────────────┘\n",
      "shape: (0, 8)\n",
      "┌───────────┬──────┬───────────┬────────┬──────┬───────┬───────────────────┬────────────┐\n",
      "│ series_id ┆ step ┆ timestamp ┆ anglez ┆ enmo ┆ awake ┆ date_time         ┆ time_stamp │\n",
      "│ ---       ┆ ---  ┆ ---       ┆ ---    ┆ ---  ┆ ---   ┆ ---               ┆ ---        │\n",
      "│ str       ┆ u32  ┆ str       ┆ f32    ┆ u16  ┆ i8    ┆ datetime[μs, UTC] ┆ bool       │\n",
      "╞═══════════╪══════╪═══════════╪════════╪══════╪═══════╪═══════════════════╪════════════╡\n",
      "└───────────┴──────┴───────────┴────────┴──────┴───────┴───────────────────┴────────────┘\n",
      "shape: (0, 8)\n",
      "┌───────────┬──────┬───────────┬────────┬──────┬───────┬───────────────────┬────────────┐\n",
      "│ series_id ┆ step ┆ timestamp ┆ anglez ┆ enmo ┆ awake ┆ date_time         ┆ time_stamp │\n",
      "│ ---       ┆ ---  ┆ ---       ┆ ---    ┆ ---  ┆ ---   ┆ ---               ┆ ---        │\n",
      "│ str       ┆ u32  ┆ str       ┆ f32    ┆ u16  ┆ i8    ┆ datetime[μs, UTC] ┆ bool       │\n",
      "╞═══════════╪══════╪═══════════╪════════╪══════╪═══════╪═══════════════════╪════════════╡\n",
      "└───────────┴──────┴───────────┴────────┴──────┴───────┴───────────────────┴────────────┘\n",
      "shape: (0, 8)\n",
      "┌───────────┬──────┬───────────┬────────┬──────┬───────┬───────────────────┬────────────┐\n",
      "│ series_id ┆ step ┆ timestamp ┆ anglez ┆ enmo ┆ awake ┆ date_time         ┆ time_stamp │\n",
      "│ ---       ┆ ---  ┆ ---       ┆ ---    ┆ ---  ┆ ---   ┆ ---               ┆ ---        │\n",
      "│ str       ┆ u32  ┆ str       ┆ f32    ┆ u16  ┆ i8    ┆ datetime[μs, UTC] ┆ bool       │\n",
      "╞═══════════╪══════╪═══════════╪════════╪══════╪═══════╪═══════════════════╪════════════╡\n",
      "└───────────┴──────┴───────────┴────────┴──────┴───────┴───────────────────┴────────────┘\n",
      "shape: (0, 8)\n",
      "┌───────────┬──────┬───────────┬────────┬──────┬───────┬───────────────────┬────────────┐\n",
      "│ series_id ┆ step ┆ timestamp ┆ anglez ┆ enmo ┆ awake ┆ date_time         ┆ time_stamp │\n",
      "│ ---       ┆ ---  ┆ ---       ┆ ---    ┆ ---  ┆ ---   ┆ ---               ┆ ---        │\n",
      "│ str       ┆ u32  ┆ str       ┆ f32    ┆ u16  ┆ i8    ┆ datetime[μs, UTC] ┆ bool       │\n",
      "╞═══════════╪══════╪═══════════╪════════╪══════╪═══════╪═══════════════════╪════════════╡\n",
      "└───────────┴──────┴───────────┴────────┴──────┴───────┴───────────────────┴────────────┘\n",
      "shape: (0, 8)\n",
      "┌───────────┬──────┬───────────┬────────┬──────┬───────┬───────────────────┬────────────┐\n",
      "│ series_id ┆ step ┆ timestamp ┆ anglez ┆ enmo ┆ awake ┆ date_time         ┆ time_stamp │\n",
      "│ ---       ┆ ---  ┆ ---       ┆ ---    ┆ ---  ┆ ---   ┆ ---               ┆ ---        │\n",
      "│ str       ┆ u32  ┆ str       ┆ f32    ┆ u16  ┆ i8    ┆ datetime[μs, UTC] ┆ bool       │\n",
      "╞═══════════╪══════╪═══════════╪════════╪══════╪═══════╪═══════════════════╪════════════╡\n",
      "└───────────┴──────┴───────────┴────────┴──────┴───────┴───────────────────┴────────────┘\n",
      "shape: (0, 8)\n",
      "┌───────────┬──────┬───────────┬────────┬──────┬───────┬───────────────────┬────────────┐\n",
      "│ series_id ┆ step ┆ timestamp ┆ anglez ┆ enmo ┆ awake ┆ date_time         ┆ time_stamp │\n",
      "│ ---       ┆ ---  ┆ ---       ┆ ---    ┆ ---  ┆ ---   ┆ ---               ┆ ---        │\n",
      "│ str       ┆ u32  ┆ str       ┆ f32    ┆ u16  ┆ i8    ┆ datetime[μs, UTC] ┆ bool       │\n",
      "╞═══════════╪══════╪═══════════╪════════╪══════╪═══════╪═══════════════════╪════════════╡\n",
      "└───────────┴──────┴───────────┴────────┴──────┴───────┴───────────────────┴────────────┘\n",
      "shape: (0, 8)\n",
      "┌───────────┬──────┬───────────┬────────┬──────┬───────┬───────────────────┬────────────┐\n",
      "│ series_id ┆ step ┆ timestamp ┆ anglez ┆ enmo ┆ awake ┆ date_time         ┆ time_stamp │\n",
      "│ ---       ┆ ---  ┆ ---       ┆ ---    ┆ ---  ┆ ---   ┆ ---               ┆ ---        │\n",
      "│ str       ┆ u32  ┆ str       ┆ f32    ┆ u16  ┆ i8    ┆ datetime[μs, UTC] ┆ bool       │\n",
      "╞═══════════╪══════╪═══════════╪════════╪══════╪═══════╪═══════════════════╪════════════╡\n",
      "└───────────┴──────┴───────────┴────────┴──────┴───────┴───────────────────┴────────────┘\n",
      "shape: (0, 8)\n",
      "┌───────────┬──────┬───────────┬────────┬──────┬───────┬───────────────────┬────────────┐\n",
      "│ series_id ┆ step ┆ timestamp ┆ anglez ┆ enmo ┆ awake ┆ date_time         ┆ time_stamp │\n",
      "│ ---       ┆ ---  ┆ ---       ┆ ---    ┆ ---  ┆ ---   ┆ ---               ┆ ---        │\n",
      "│ str       ┆ u32  ┆ str       ┆ f32    ┆ u16  ┆ i8    ┆ datetime[μs, UTC] ┆ bool       │\n",
      "╞═══════════╪══════╪═══════════╪════════╪══════╪═══════╪═══════════════════╪════════════╡\n",
      "└───────────┴──────┴───────────┴────────┴──────┴───────┴───────────────────┴────────────┘\n",
      "shape: (0, 8)\n",
      "┌───────────┬──────┬───────────┬────────┬──────┬───────┬───────────────────┬────────────┐\n",
      "│ series_id ┆ step ┆ timestamp ┆ anglez ┆ enmo ┆ awake ┆ date_time         ┆ time_stamp │\n",
      "│ ---       ┆ ---  ┆ ---       ┆ ---    ┆ ---  ┆ ---   ┆ ---               ┆ ---        │\n",
      "│ str       ┆ u32  ┆ str       ┆ f32    ┆ u16  ┆ i8    ┆ datetime[μs, UTC] ┆ bool       │\n",
      "╞═══════════╪══════╪═══════════╪════════╪══════╪═══════╪═══════════════════╪════════════╡\n",
      "└───────────┴──────┴───────────┴────────┴──────┴───────┴───────────────────┴────────────┘\n",
      "shape: (0, 8)\n",
      "┌───────────┬──────┬───────────┬────────┬──────┬───────┬───────────────────┬────────────┐\n",
      "│ series_id ┆ step ┆ timestamp ┆ anglez ┆ enmo ┆ awake ┆ date_time         ┆ time_stamp │\n",
      "│ ---       ┆ ---  ┆ ---       ┆ ---    ┆ ---  ┆ ---   ┆ ---               ┆ ---        │\n",
      "│ str       ┆ u32  ┆ str       ┆ f32    ┆ u16  ┆ i8    ┆ datetime[μs, UTC] ┆ bool       │\n",
      "╞═══════════╪══════╪═══════════╪════════╪══════╪═══════╪═══════════════════╪════════════╡\n",
      "└───────────┴──────┴───────────┴────────┴──────┴───────┴───────────────────┴────────────┘\n",
      "shape: (0, 8)\n",
      "┌───────────┬──────┬───────────┬────────┬──────┬───────┬───────────────────┬────────────┐\n",
      "│ series_id ┆ step ┆ timestamp ┆ anglez ┆ enmo ┆ awake ┆ date_time         ┆ time_stamp │\n",
      "│ ---       ┆ ---  ┆ ---       ┆ ---    ┆ ---  ┆ ---   ┆ ---               ┆ ---        │\n",
      "│ str       ┆ u32  ┆ str       ┆ f32    ┆ u16  ┆ i8    ┆ datetime[μs, UTC] ┆ bool       │\n",
      "╞═══════════╪══════╪═══════════╪════════╪══════╪═══════╪═══════════════════╪════════════╡\n",
      "└───────────┴──────┴───────────┴────────┴──────┴───────┴───────────────────┴────────────┘\n",
      "shape: (0, 8)\n",
      "┌───────────┬──────┬───────────┬────────┬──────┬───────┬───────────────────┬────────────┐\n",
      "│ series_id ┆ step ┆ timestamp ┆ anglez ┆ enmo ┆ awake ┆ date_time         ┆ time_stamp │\n",
      "│ ---       ┆ ---  ┆ ---       ┆ ---    ┆ ---  ┆ ---   ┆ ---               ┆ ---        │\n",
      "│ str       ┆ u32  ┆ str       ┆ f32    ┆ u16  ┆ i8    ┆ datetime[μs, UTC] ┆ bool       │\n",
      "╞═══════════╪══════╪═══════════╪════════╪══════╪═══════╪═══════════════════╪════════════╡\n",
      "└───────────┴──────┴───────────┴────────┴──────┴───────┴───────────────────┴────────────┘\n",
      "shape: (0, 8)\n",
      "┌───────────┬──────┬───────────┬────────┬──────┬───────┬───────────────────┬────────────┐\n",
      "│ series_id ┆ step ┆ timestamp ┆ anglez ┆ enmo ┆ awake ┆ date_time         ┆ time_stamp │\n",
      "│ ---       ┆ ---  ┆ ---       ┆ ---    ┆ ---  ┆ ---   ┆ ---               ┆ ---        │\n",
      "│ str       ┆ u32  ┆ str       ┆ f32    ┆ u16  ┆ i8    ┆ datetime[μs, UTC] ┆ bool       │\n",
      "╞═══════════╪══════╪═══════════╪════════╪══════╪═══════╪═══════════════════╪════════════╡\n",
      "└───────────┴──────┴───────────┴────────┴──────┴───────┴───────────────────┴────────────┘\n",
      "shape: (0, 8)\n",
      "┌───────────┬──────┬───────────┬────────┬──────┬───────┬───────────────────┬────────────┐\n",
      "│ series_id ┆ step ┆ timestamp ┆ anglez ┆ enmo ┆ awake ┆ date_time         ┆ time_stamp │\n",
      "│ ---       ┆ ---  ┆ ---       ┆ ---    ┆ ---  ┆ ---   ┆ ---               ┆ ---        │\n",
      "│ str       ┆ u32  ┆ str       ┆ f32    ┆ u16  ┆ i8    ┆ datetime[μs, UTC] ┆ bool       │\n",
      "╞═══════════╪══════╪═══════════╪════════╪══════╪═══════╪═══════════════════╪════════════╡\n",
      "└───────────┴──────┴───────────┴────────┴──────┴───────┴───────────────────┴────────────┘\n",
      "shape: (0, 8)\n",
      "┌───────────┬──────┬───────────┬────────┬──────┬───────┬───────────────────┬────────────┐\n",
      "│ series_id ┆ step ┆ timestamp ┆ anglez ┆ enmo ┆ awake ┆ date_time         ┆ time_stamp │\n",
      "│ ---       ┆ ---  ┆ ---       ┆ ---    ┆ ---  ┆ ---   ┆ ---               ┆ ---        │\n",
      "│ str       ┆ u32  ┆ str       ┆ f32    ┆ u16  ┆ i8    ┆ datetime[μs, UTC] ┆ bool       │\n",
      "╞═══════════╪══════╪═══════════╪════════╪══════╪═══════╪═══════════════════╪════════════╡\n",
      "└───────────┴──────┴───────────┴────────┴──────┴───────┴───────────────────┴────────────┘\n",
      "shape: (0, 8)\n",
      "┌───────────┬──────┬───────────┬────────┬──────┬───────┬───────────────────┬────────────┐\n",
      "│ series_id ┆ step ┆ timestamp ┆ anglez ┆ enmo ┆ awake ┆ date_time         ┆ time_stamp │\n",
      "│ ---       ┆ ---  ┆ ---       ┆ ---    ┆ ---  ┆ ---   ┆ ---               ┆ ---        │\n",
      "│ str       ┆ u32  ┆ str       ┆ f32    ┆ u16  ┆ i8    ┆ datetime[μs, UTC] ┆ bool       │\n",
      "╞═══════════╪══════╪═══════════╪════════╪══════╪═══════╪═══════════════════╪════════════╡\n",
      "└───────────┴──────┴───────────┴────────┴──────┴───────┴───────────────────┴────────────┘\n",
      "shape: (0, 8)\n",
      "┌───────────┬──────┬───────────┬────────┬──────┬───────┬───────────────────┬────────────┐\n",
      "│ series_id ┆ step ┆ timestamp ┆ anglez ┆ enmo ┆ awake ┆ date_time         ┆ time_stamp │\n",
      "│ ---       ┆ ---  ┆ ---       ┆ ---    ┆ ---  ┆ ---   ┆ ---               ┆ ---        │\n",
      "│ str       ┆ u32  ┆ str       ┆ f32    ┆ u16  ┆ i8    ┆ datetime[μs, UTC] ┆ bool       │\n",
      "╞═══════════╪══════╪═══════════╪════════╪══════╪═══════╪═══════════════════╪════════════╡\n",
      "└───────────┴──────┴───────────┴────────┴──────┴───────┴───────────────────┴────────────┘\n",
      "shape: (0, 8)\n",
      "┌───────────┬──────┬───────────┬────────┬──────┬───────┬───────────────────┬────────────┐\n",
      "│ series_id ┆ step ┆ timestamp ┆ anglez ┆ enmo ┆ awake ┆ date_time         ┆ time_stamp │\n",
      "│ ---       ┆ ---  ┆ ---       ┆ ---    ┆ ---  ┆ ---   ┆ ---               ┆ ---        │\n",
      "│ str       ┆ u32  ┆ str       ┆ f32    ┆ u16  ┆ i8    ┆ datetime[μs, UTC] ┆ bool       │\n",
      "╞═══════════╪══════╪═══════════╪════════╪══════╪═══════╪═══════════════════╪════════════╡\n",
      "└───────────┴──────┴───────────┴────────┴──────┴───────┴───────────────────┴────────────┘\n",
      "shape: (0, 8)\n",
      "┌───────────┬──────┬───────────┬────────┬──────┬───────┬───────────────────┬────────────┐\n",
      "│ series_id ┆ step ┆ timestamp ┆ anglez ┆ enmo ┆ awake ┆ date_time         ┆ time_stamp │\n",
      "│ ---       ┆ ---  ┆ ---       ┆ ---    ┆ ---  ┆ ---   ┆ ---               ┆ ---        │\n",
      "│ str       ┆ u32  ┆ str       ┆ f32    ┆ u16  ┆ i8    ┆ datetime[μs, UTC] ┆ bool       │\n",
      "╞═══════════╪══════╪═══════════╪════════╪══════╪═══════╪═══════════════════╪════════════╡\n",
      "└───────────┴──────┴───────────┴────────┴──────┴───────┴───────────────────┴────────────┘\n",
      "shape: (0, 8)\n",
      "┌───────────┬──────┬───────────┬────────┬──────┬───────┬───────────────────┬────────────┐\n",
      "│ series_id ┆ step ┆ timestamp ┆ anglez ┆ enmo ┆ awake ┆ date_time         ┆ time_stamp │\n",
      "│ ---       ┆ ---  ┆ ---       ┆ ---    ┆ ---  ┆ ---   ┆ ---               ┆ ---        │\n",
      "│ str       ┆ u32  ┆ str       ┆ f32    ┆ u16  ┆ i8    ┆ datetime[μs, UTC] ┆ bool       │\n",
      "╞═══════════╪══════╪═══════════╪════════╪══════╪═══════╪═══════════════════╪════════════╡\n",
      "└───────────┴──────┴───────────┴────────┴──────┴───────┴───────────────────┴────────────┘\n"
     ]
    }
   ],
   "source": [
    "for series_id in train[\"series_id\"].unique():\n",
    "    temp = train_time_extract.filter(pl.col(\"series_id\") == series_id)\n",
    "    # print((temp[\"date_time\"][1:]-temp[\"date_time\"][:-1]).map_elements(lambda x: x.days > 1).any())\n",
    "    my_series = (temp[\"date_time\"][1:]-temp[\"date_time\"][:-1]).map_elements(lambda x: x.seconds < 5)\n",
    "    \"\"\"\n",
    "    seconds = (temp[\"date_time\"][1:]-temp[\"date_time\"][:-1]).map_elements(lambda x: x.seconds )\n",
    "    days = (temp[\"date_time\"][1:]-temp[\"date_time\"][:-1]).map_elements(lambda x: x.days )\n",
    "    print(seconds.unique())\n",
    "    print(days.unique())\n",
    "    continue\n",
    "    \"\"\"\n",
    "    b = pl.Series(\"b\", [False])\n",
    "    assign_series = my_series.extend(b) \n",
    "    temp = temp.with_columns(\n",
    "        time_stamp = assign_series,\n",
    "    )\n",
    "    #filtered_df = \n",
    "    print(temp.filter(pl.col(\"time_stamp\")))"
   ]
  },
  {
   "cell_type": "code",
   "execution_count": 17,
   "id": "ecb57c31",
   "metadata": {
    "execution": {
     "iopub.execute_input": "2023-11-09T10:08:11.419072Z",
     "iopub.status.busy": "2023-11-09T10:08:11.417399Z",
     "iopub.status.idle": "2023-11-09T10:08:11.426347Z",
     "shell.execute_reply": "2023-11-09T10:08:11.424968Z"
    },
    "papermill": {
     "duration": 0.030517,
     "end_time": "2023-11-09T10:08:11.429230",
     "exception": false,
     "start_time": "2023-11-09T10:08:11.398713",
     "status": "completed"
    },
    "tags": []
   },
   "outputs": [
    {
     "data": {
      "text/plain": [
       "polars.dataframe.frame.DataFrame"
      ]
     },
     "execution_count": 17,
     "metadata": {},
     "output_type": "execute_result"
    }
   ],
   "source": [
    "type(train_time_extract)"
   ]
  },
  {
   "cell_type": "code",
   "execution_count": 18,
   "id": "1b3b8dfd",
   "metadata": {
    "execution": {
     "iopub.execute_input": "2023-11-09T10:08:11.466175Z",
     "iopub.status.busy": "2023-11-09T10:08:11.465486Z",
     "iopub.status.idle": "2023-11-09T10:08:12.002145Z",
     "shell.execute_reply": "2023-11-09T10:08:12.000356Z"
    },
    "papermill": {
     "duration": 0.557354,
     "end_time": "2023-11-09T10:08:12.004552",
     "exception": true,
     "start_time": "2023-11-09T10:08:11.447198",
     "status": "failed"
    },
    "tags": []
   },
   "outputs": [
    {
     "ename": "TypeError",
     "evalue": "corr() missing 1 required positional argument: 'b'",
     "output_type": "error",
     "traceback": [
      "\u001b[0;31m---------------------------------------------------------------------------\u001b[0m",
      "\u001b[0;31mTypeError\u001b[0m                                 Traceback (most recent call last)",
      "Cell \u001b[0;32mIn[18], line 1\u001b[0m\n\u001b[0;32m----> 1\u001b[0m train_time_extract\u001b[38;5;241m.\u001b[39mselect(\u001b[43mpl\u001b[49m\u001b[38;5;241;43m.\u001b[39;49m\u001b[43mcorr\u001b[49m\u001b[43m(\u001b[49m\u001b[43m[\u001b[49m\u001b[38;5;124;43m\"\u001b[39;49m\u001b[38;5;124;43manglez\u001b[39;49m\u001b[38;5;124;43m\"\u001b[39;49m\u001b[43m,\u001b[49m\u001b[38;5;124;43m\"\u001b[39;49m\u001b[38;5;124;43menmo\u001b[39;49m\u001b[38;5;124;43m\"\u001b[39;49m\u001b[43m,\u001b[49m\u001b[38;5;124;43m\"\u001b[39;49m\u001b[38;5;124;43mhour\u001b[39;49m\u001b[38;5;124;43m\"\u001b[39;49m\u001b[43m]\u001b[49m\u001b[43m)\u001b[49m)\n",
      "\u001b[0;31mTypeError\u001b[0m: corr() missing 1 required positional argument: 'b'"
     ]
    }
   ],
   "source": [
    "train_time_extract.select(pl.corr([\"anglez\",\"enmo\",\"hour\"]))"
   ]
  },
  {
   "cell_type": "code",
   "execution_count": null,
   "id": "2d77ff8a",
   "metadata": {
    "execution": {
     "iopub.execute_input": "2023-11-05T21:33:22.643021Z",
     "iopub.status.busy": "2023-11-05T21:33:22.642709Z",
     "iopub.status.idle": "2023-11-05T21:33:22.741728Z",
     "shell.execute_reply": "2023-11-05T21:33:22.740910Z",
     "shell.execute_reply.started": "2023-11-05T21:33:22.642999Z"
    },
    "papermill": {
     "duration": null,
     "end_time": null,
     "exception": null,
     "start_time": null,
     "status": "pending"
    },
    "tags": []
   },
   "outputs": [],
   "source": [
    "%%time\n",
    "\n",
    "features, feature_cols = [], []\n",
    "\n",
    "\n",
    "for mins in [5, 30, 60*2, 60*8] :\n",
    "    for var in ['enmo', 'anglez'] :\n",
    "        features += [\n",
    "            pl.col(var).rolling_mean(12 * mins, center=True, min_periods=1).abs().cast(pl.UInt16).alias(f'{var}_{mins}m_mean'),\n",
    "            pl.col(var).rolling_max(12 * mins, center=True, min_periods=1).abs().cast(pl.UInt16).alias(f'{var}_{mins}m_max'),\n",
    "            pl.col(var).rolling_std(12 * mins, center=True, min_periods=1).abs().cast(pl.UInt16).alias(f'{var}_{mins}m_std')\n",
    "        ]\n",
    "\n",
    "        feature_cols += [ \n",
    "            f'{var}_{mins}m_mean', f'{var}_{mins}m_max', f'{var}_{mins}m_std'\n",
    "        ]\n",
    "\n",
    "        # Getting first variations\n",
    "        features += [\n",
    "            (pl.col(var).diff().abs().rolling_mean(12 * mins, center=True, min_periods=1)*10).abs().cast(pl.UInt32).alias(f'{var}_1v_{mins}m_mean'),\n",
    "            (pl.col(var).diff().abs().rolling_max(12 * mins, center=True, min_periods=1)*10).abs().cast(pl.UInt32).alias(f'{var}_1v_{mins}m_max'),\n",
    "            (pl.col(var).diff().abs().rolling_std(12 * mins, center=True, min_periods=1)*10).abs().cast(pl.UInt32).alias(f'{var}_1v_{mins}m_std')\n",
    "        ]\n",
    "\n",
    "        feature_cols += [ \n",
    "            f'{var}_1v_{mins}m_mean', f'{var}_1v_{mins}m_max', f'{var}_1v_{mins}m_std'\n",
    "        ]\n",
    "\n",
    "# id_cols = ['series_id', 'step', 'timestamp']\n",
    "\n",
    "\n",
    "dict_ids2data = {}\n",
    "\n",
    "for i in tqdm(range(len(ids))):\n",
    "# for i in range(2):\n",
    "    print (i,': ', ids[i])\n",
    "    dict_ids2data[ids[i]] = train_time_extract.filter(pl.col(\"series_id\") == ids[i])\n",
    "    \n",
    "    dict_ids2data[ids[i]] = dict_ids2data[ids[i]].with_columns(\n",
    "        features\n",
    "    )\n",
    "    \n",
    "    dict_ids2data[ids[i]] = dict_ids2data[ids[i]].fill_null(strategy=\"forward\").fill_null(strategy=\"backward\")\n",
    "    \n",
    "\n",
    "\n",
    "train_data = pl.concat([i for i in dict_ids2data.values()], rechunk=True)\n",
    "\n",
    "\n",
    "del dict_ids2data\n",
    "gc.collect()\n",
    "\n",
    "train_data"
   ]
  },
  {
   "cell_type": "code",
   "execution_count": null,
   "id": "b64f0ef8",
   "metadata": {
    "execution": {
     "iopub.execute_input": "2023-11-05T17:36:47.463611Z",
     "iopub.status.busy": "2023-11-05T17:36:47.463204Z",
     "iopub.status.idle": "2023-11-05T17:36:47.471304Z",
     "shell.execute_reply": "2023-11-05T17:36:47.469924Z",
     "shell.execute_reply.started": "2023-11-05T17:36:47.46358Z"
    },
    "papermill": {
     "duration": null,
     "end_time": null,
     "exception": null,
     "start_time": null,
     "status": "pending"
    },
    "tags": []
   },
   "outputs": [],
   "source": [
    "c_types = train_data.dtypes\n",
    "c_name = train_data.columns\n",
    "\n",
    "print(len(c_name))\n",
    "print('\\n'.join([\"{}\\t-\\t{}\".format(str(a_), str(b_)) for a_, b_ in zip(c_name, c_types)]))"
   ]
  },
  {
   "cell_type": "code",
   "execution_count": null,
   "id": "5ab8e20b",
   "metadata": {
    "papermill": {
     "duration": null,
     "end_time": null,
     "exception": null,
     "start_time": null,
     "status": "pending"
    },
    "tags": []
   },
   "outputs": [],
   "source": []
  },
  {
   "cell_type": "code",
   "execution_count": null,
   "id": "1e3dfd19",
   "metadata": {
    "execution": {
     "iopub.execute_input": "2023-11-05T16:59:25.21873Z",
     "iopub.status.busy": "2023-11-05T16:59:25.218368Z",
     "iopub.status.idle": "2023-11-05T16:59:31.65304Z",
     "shell.execute_reply": "2023-11-05T16:59:31.652203Z",
     "shell.execute_reply.started": "2023-11-05T16:59:25.218688Z"
    },
    "papermill": {
     "duration": null,
     "end_time": null,
     "exception": null,
     "start_time": null,
     "status": "pending"
    },
    "tags": []
   },
   "outputs": [],
   "source": [
    "import joblib\n",
    "joblib.dump(train_data, 'train_luan_fe.pkl')\n"
   ]
  },
  {
   "cell_type": "code",
   "execution_count": null,
   "id": "49a56706",
   "metadata": {
    "execution": {
     "iopub.execute_input": "2023-11-05T17:40:11.275937Z",
     "iopub.status.busy": "2023-11-05T17:40:11.275393Z",
     "iopub.status.idle": "2023-11-05T17:41:21.647435Z",
     "shell.execute_reply": "2023-11-05T17:41:21.646552Z",
     "shell.execute_reply.started": "2023-11-05T17:40:11.275898Z"
    },
    "papermill": {
     "duration": null,
     "end_time": null,
     "exception": null,
     "start_time": null,
     "status": "pending"
    },
    "tags": []
   },
   "outputs": [],
   "source": [
    "%%time\n",
    "train_data.write_csv('train_luan.csv')\n",
    "train_data.write_parquet('train_luan.parquet')"
   ]
  },
  {
   "cell_type": "code",
   "execution_count": null,
   "id": "62d11ffa",
   "metadata": {
    "papermill": {
     "duration": null,
     "end_time": null,
     "exception": null,
     "start_time": null,
     "status": "pending"
    },
    "tags": []
   },
   "outputs": [],
   "source": []
  },
  {
   "cell_type": "code",
   "execution_count": null,
   "id": "b32a3caf",
   "metadata": {
    "execution": {
     "iopub.status.busy": "2023-11-05T16:59:50.543073Z",
     "iopub.status.idle": "2023-11-05T16:59:50.543729Z",
     "shell.execute_reply": "2023-11-05T16:59:50.543534Z",
     "shell.execute_reply.started": "2023-11-05T16:59:50.543513Z"
    },
    "papermill": {
     "duration": null,
     "end_time": null,
     "exception": null,
     "start_time": null,
     "status": "pending"
    },
    "tags": []
   },
   "outputs": [],
   "source": [
    "# data_dtype = {\n",
    "#         \"series_id\": \"category\",\n",
    "#         \"step\": \"uint32\",\n",
    "#         \"timestamp\": \"str\",\n",
    "#         \"anglez\": \"float32\",\n",
    "#         \"enmo\": \"float32\",\n",
    "#     }\n",
    "# data = pd.read_parquet('/kaggle/input/child-mind-institute-detect-sleep-states/test_series.parquet').astype(data_dtype, copy=False)"
   ]
  }
 ],
 "metadata": {
  "kaggle": {
   "accelerator": "none",
   "dataSources": [
    {
     "databundleVersionId": 6589269,
     "sourceId": 53666,
     "sourceType": "competition"
    },
    {
     "datasetId": 3706667,
     "sourceId": 6507308,
     "sourceType": "datasetVersion"
    }
   ],
   "dockerImageVersionId": 30558,
   "isGpuEnabled": false,
   "isInternetEnabled": true,
   "language": "python",
   "sourceType": "notebook"
  },
  "kernelspec": {
   "display_name": "Python 3",
   "language": "python",
   "name": "python3"
  },
  "language_info": {
   "codemirror_mode": {
    "name": "ipython",
    "version": 3
   },
   "file_extension": ".py",
   "mimetype": "text/x-python",
   "name": "python",
   "nbconvert_exporter": "python",
   "pygments_lexer": "ipython3",
   "version": "3.10.12"
  },
  "papermill": {
   "default_parameters": {},
   "duration": 100.002233,
   "end_time": "2023-11-09T10:08:12.846046",
   "environment_variables": {},
   "exception": true,
   "input_path": "__notebook__.ipynb",
   "output_path": "__notebook__.ipynb",
   "parameters": {},
   "start_time": "2023-11-09T10:06:32.843813",
   "version": "2.4.0"
  }
 },
 "nbformat": 4,
 "nbformat_minor": 5
}
